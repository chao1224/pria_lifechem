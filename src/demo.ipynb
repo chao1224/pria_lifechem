{
 "cells": [
  {
   "cell_type": "code",
   "execution_count": 1,
   "metadata": {
    "collapsed": false
   },
   "outputs": [],
   "source": [
    "from function import *\n",
    "from data_preparation import *\n",
    "from evaluation import *\n",
    "\n",
    "from openpyxl import Workbook\n",
    "import pandas as pd\n",
    "import numpy as np"
   ]
  },
  {
   "cell_type": "code",
   "execution_count": 15,
   "metadata": {
    "collapsed": false
   },
   "outputs": [],
   "source": [
    "import pandas as pd\n",
    "import numpy as np\n",
    "from rdkit.Chem import AllChem\n",
    "from rdkit import Chem\n",
    "\n",
    "\n",
    "def transform_data(input_file_name, output_file_name, updated_binary_label):\n",
    "    suppl = Chem.SDMolSupplier(input_file_name)\n",
    "    output_file = open(output_file_name, 'w')\n",
    "    good = 0\n",
    "    bad = 0\n",
    "    i = 0\n",
    "    unique = set()\n",
    "    print >> output_file, \"molecule ID(RegID),library,existing SMILES,generated SMILES,1024_fingerprint,Pria_SSB_%INH,true_label\"\n",
    "    for mol in suppl:\n",
    "        i += 1\n",
    "        if mol is None:\n",
    "            bad += 1\n",
    "            continue\n",
    "        name = mol.GetProp(\"RegID\")\n",
    "        if name in unique:\n",
    "            continue\n",
    "        unique.add(name)\n",
    "        good += 1\n",
    "        library = mol.GetProp(\"Library\")\n",
    "        existing_smiles = mol.GetProp(\"SMILES\")\n",
    "        generated_smiles = Chem.CanonSmiles(Chem.MolToSmiles(mol))\n",
    "        generated_mol = Chem.MolFromSmiles(existing_smiles)\n",
    "        fingerprints = AllChem.GetMorganFingerprintAsBitVect(mol, radius=2, nBits=1024)\n",
    "\n",
    "        pria = mol.GetProp(\"Pria_SSB_%INH\")\n",
    "        pria = float(pria)\n",
    "\n",
    "        true_label = updated_binary_label[updated_binary_label['Molecule'] == name]['Keck_Pria_AS_Retest']\n",
    "        true_label = true_label.tolist()[0]\n",
    "        output_line = \"{},{},{},{},{},{},{}\".format(name,\n",
    "                                                    library,\n",
    "                                                    existing_smiles,\n",
    "                                                    generated_smiles,\n",
    "                                                    fingerprints.ToBitString(),\n",
    "                                                    pria,\n",
    "                                                    true_label)\n",
    "        print >> output_file, output_line\n",
    "    print(\"{} items in all, {} are good, {} are bad\".format(i, good, bad))\n",
    "    return\n",
    "\n",
    "\n",
    "if __name__ == '__main__':\n",
    "    discrete_file = pd.ExcelFile('../dataset/data_preprocessing/screening_smsf_actives_2017_03_10.xlsx')\n",
    "    Keck_Pria_Retest = discrete_file.parse('Keck_Pria_Retest')\n",
    "    Keck_Pria_FP = discrete_file.parse('Keck_Pria_FP')\n",
    "    Keck_RMI = discrete_file.parse('Keck_RMI')\n",
    "    Xing_MTDH_Retest = discrete_file.parse('Xing_MTDH_Retest')\n",
    "    Xing_MTDH_DR = discrete_file.parse('Xing_MTDH_DR')\n",
    "    \n",
    "    continuous_file = pd.ExcelFile('../dataset/data_preprocessing/screening_smsf_continuous_2017_03_10.xlsx')\n",
    "    Keck_Pria_Primary = continuous_file.parse('Keck_Pria_Primary')\n",
    "    Keck_RMI_cdd = continuous_file.parse('Keck_RMI_cdd')\n",
    "    Xing_MTDH_cdd = continuous_file.parse('Xing_MTDH_cdd')\n",
    "    \n",
    "#     transform_data('../dataset/lc123_keckdata.sdf', '../dataset/keck_complete.csv', updated_binary_label)"
   ]
  },
  {
   "cell_type": "code",
   "execution_count": 16,
   "metadata": {
    "collapsed": false
   },
   "outputs": [
    {
     "name": "stdout",
     "output_type": "stream",
     "text": [
      "Molecule               object\n",
      "Keck_Pria_AS_Retest     int64\n",
      "dtype: object\n",
      "\n",
      "Molecule             object\n",
      "Keck_Pria_FP_data     int64\n",
      "dtype: object\n",
      "\n",
      "Molecule        object\n",
      "Keck_RMI_cdd     int64\n",
      "dtype: object\n",
      "\n",
      "Molecule                 object\n",
      "Xing_MTDH-SND1_retest     int64\n",
      "dtype: object\n",
      "\n",
      "Molecule             object\n",
      "Xing_MTDH-SND1_DR     int64\n",
      "dtype: object\n"
     ]
    }
   ],
   "source": [
    "print Keck_Pria_Retest.dtypes\n",
    "print\n",
    "print Keck_Pria_FP.dtypes\n",
    "print\n",
    "print Keck_RMI.dtypes\n",
    "print\n",
    "print Xing_MTDH_Retest.dtypes\n",
    "print\n",
    "print Xing_MTDH_DR.dtypes"
   ]
  },
  {
   "cell_type": "code",
   "execution_count": 18,
   "metadata": {
    "collapsed": false
   },
   "outputs": [
    {
     "name": "stdout",
     "output_type": "stream",
     "text": [
      "Molecule                 object\n",
      "Keck_Pria_Continuous    float64\n",
      "dtype: object\n",
      "\n",
      "Molecule                  object\n",
      "FP counts % inhibition     int64\n",
      "dtype: object\n",
      "\n",
      "Molecule                      object\n",
      "MTDH-SND1: FRET_decrease     float64\n",
      "MTDH-SND1: CFP_increase      float64\n",
      "MTDH-SND1: RATIO_decrease    float64\n",
      "dtype: object\n"
     ]
    }
   ],
   "source": [
    "print Keck_Pria_Primary.dtypes\n",
    "print\n",
    "print Keck_RMI_cdd.dtypes\n",
    "print\n",
    "print Xing_MTDH_cdd.dtypes"
   ]
  },
  {
   "cell_type": "code",
   "execution_count": 79,
   "metadata": {
    "collapsed": false
   },
   "outputs": [],
   "source": [
    "f = open('../dataset/data_preprocessing/lifechem123_cleaned_2017_03_10.smi', 'r')\n",
    "mol_smile_dict = {}\n",
    "for line in f:\n",
    "    line = line.strip()\n",
    "    row = line.split(' ')\n",
    "    smiles = row[0]\n",
    "    mol = row[1]\n",
    "    mol_smile_dict[mol] = smiles"
   ]
  },
  {
   "cell_type": "code",
   "execution_count": null,
   "metadata": {
    "collapsed": true
   },
   "outputs": [],
   "source": []
  },
  {
   "cell_type": "code",
   "execution_count": null,
   "metadata": {
    "collapsed": true
   },
   "outputs": [],
   "source": []
  },
  {
   "cell_type": "code",
   "execution_count": null,
   "metadata": {
    "collapsed": true
   },
   "outputs": [],
   "source": []
  },
  {
   "cell_type": "code",
   "execution_count": null,
   "metadata": {
    "collapsed": true
   },
   "outputs": [],
   "source": []
  },
  {
   "cell_type": "code",
   "execution_count": null,
   "metadata": {
    "collapsed": true
   },
   "outputs": [],
   "source": []
  },
  {
   "cell_type": "code",
   "execution_count": null,
   "metadata": {
    "collapsed": true
   },
   "outputs": [],
   "source": []
  },
  {
   "cell_type": "markdown",
   "metadata": {
    "collapsed": true
   },
   "source": [
    "# Transform data"
   ]
  },
  {
   "cell_type": "code",
   "execution_count": 26,
   "metadata": {
    "collapsed": false
   },
   "outputs": [
    {
     "name": "stdout",
     "output_type": "stream",
     "text": [
      "84075 items in all, 62608 are good, 1736 are bad\n"
     ]
    }
   ],
   "source": [
    "discrete_file = pd.ExcelFile('../dataset/screening_smsf_actives_2017_03_10.xlsx')\n",
    "updated_binary_label = discrete_file.parse('Keck_Pria_Retest')\n",
    "transform_data('../dataset/lc123_keckdata.sdf', '../dataset/keck_updated_complete.csv', updated_binary_label)"
   ]
  },
  {
   "cell_type": "markdown",
   "metadata": {},
   "source": [
    "# Split Unique Data and Complement Data"
   ]
  },
  {
   "cell_type": "code",
   "execution_count": 27,
   "metadata": {
    "collapsed": false
   },
   "outputs": [
    {
     "name": "stdout",
     "output_type": "stream",
     "text": [
      "72423\n",
      "62608\n",
      "9815\n"
     ]
    }
   ],
   "source": [
    "mol_whole = updated_binary_label['Molecule'].tolist()\n",
    "print len(mol_whole)\n",
    "\n",
    "temp = pd.read_csv('../dataset/keck_updated_complete.csv')\n",
    "smaller = set(temp['molecule ID(RegID)'].tolist())\n",
    "print len(smaller)\n",
    "\n",
    "output_file = open('../dataset/complement_data.csv', 'w')\n",
    "i = 0\n",
    "for m in mol_whole:\n",
    "    if m not in smaller:\n",
    "        i += 1\n",
    "        print >> output_file, m\n",
    "print i"
   ]
  },
  {
   "cell_type": "code",
   "execution_count": 28,
   "metadata": {
    "collapsed": false
   },
   "outputs": [
    {
     "name": "stdout",
     "output_type": "stream",
     "text": [
      "72423\n"
     ]
    }
   ],
   "source": [
    "print len(mol_whole)"
   ]
  },
  {
   "cell_type": "code",
   "execution_count": 29,
   "metadata": {
    "collapsed": false
   },
   "outputs": [
    {
     "name": "stdout",
     "output_type": "stream",
     "text": [
      "24992\n",
      "24850\n",
      "24952\n",
      "72466\n"
     ]
    }
   ],
   "source": [
    "file_name_list = ['../dataset/LC1_CDD_SD_20160818.sdf',\n",
    "                  '../dataset/LC2_CDD_SD_20160818.sdf',\n",
    "                  '../dataset/LC3_CDD_SD_20160818.sdf']\n",
    "\n",
    "whole_set = set()\n",
    "for file_name in file_name_list:\n",
    "    suppl = Chem.SDMolSupplier(file_name)\n",
    "    unique = set()\n",
    "    for mol in suppl:\n",
    "        if mol is None:\n",
    "            continue\n",
    "        name = mol.GetProp(\"Molecule Name\")\n",
    "        unique.add(name)\n",
    "#         whole_set.add(name)\n",
    "    whole_set = whole_set | unique\n",
    "    print(len(unique))\n",
    "print len(whole_set)"
   ]
  },
  {
   "cell_type": "code",
   "execution_count": 30,
   "metadata": {
    "collapsed": false
   },
   "outputs": [
    {
     "name": "stdout",
     "output_type": "stream",
     "text": [
      "72423\n"
     ]
    }
   ],
   "source": [
    "print len(mol_whole)"
   ]
  },
  {
   "cell_type": "code",
   "execution_count": 31,
   "metadata": {
    "collapsed": false
   },
   "outputs": [
    {
     "name": "stdout",
     "output_type": "stream",
     "text": [
      "SMSSF-0058605\n",
      "SMSSF-0548341\n",
      "SMSSF-0059064\n",
      "SMSSF-0060689\n",
      "SMSSF-0061157\n",
      "SMSSF-0053410\n",
      "SMSSF-0054699\n",
      "SMSSF-0061407\n",
      "SMSSF-0058779\n",
      "SMSSF-0061613\n",
      "SMSSF-0058823\n",
      "SMSSF-0041248\n",
      "SMSSF-0058518\n",
      "SMSSF-0042146\n",
      "SMSSF-0059972\n",
      "SMSSF-0063027\n",
      "SMSSF-0062983\n",
      "SMSSF-0548201\n",
      "SMSSF-0548381\n",
      "SMSSF-0060733\n",
      "SMSSF-0548369\n",
      "SMSSF-0046450\n",
      "SMSSF-0059947\n",
      "SMSSF-0548255\n",
      "SMSSF-0063888\n",
      "SMSSF-0060022\n",
      "SMSSF-0548358\n",
      "SMSSF-0041136\n",
      "SMSSF-0058735\n",
      "SMSSF-0060882\n",
      "SMSSF-0053366\n",
      "SMSSF-0053364\n",
      "SMSSF-0059682\n",
      "SMSSF-0058649\n",
      "SMSSF-0061113\n",
      "SMSSF-0058561\n",
      "SMSSF-0058693\n",
      "SMSSF-0054655\n",
      "SMSSF-0050446\n",
      "SMSSF-0062870\n",
      "SMSSF-0063836\n",
      "SMSSF-0053408\n",
      "SMSSF-0548326\n",
      "SMSSF-0053539\n",
      "SMSSF-0064392\n",
      "SMSSF-0548238\n",
      "SMSSF-0548216\n",
      "SMSSF-0046494\n",
      "SMSSF-0060388\n",
      "SMSSF-0548229\n",
      "SMSSF-0040590\n",
      "51\n"
     ]
    }
   ],
   "source": [
    "i = 0\n",
    "for m in whole_set:\n",
    "    if m not in mol_whole:\n",
    "        i += 1\n",
    "        print m\n",
    "print i"
   ]
  },
  {
   "cell_type": "markdown",
   "metadata": {},
   "source": [
    "# Split data into k-fold"
   ]
  },
  {
   "cell_type": "code",
   "execution_count": 4,
   "metadata": {
    "collapsed": false
   },
   "outputs": [],
   "source": [
    "k = 5\n",
    "output_file_list = ['../dataset/{}_fold_split_data/fold_1_data.csv.gz'.format(k),\n",
    "                    '../dataset/{}_fold_split_data/fold_2_data.csv.gz'.format(k),\n",
    "                    '../dataset/{}_fold_split_data/fold_3_data.csv.gz'.format(k),\n",
    "                    '../dataset/{}_fold_split_data/fold_4_data.csv.gz'.format(k),\n",
    "                    '../dataset/{}_fold_split_data/fold_5_data.csv.gz'.format(k)]\n",
    "split_data('../dataset/keck_updated_complete.csv', output_file_list, k)"
   ]
  },
  {
   "cell_type": "code",
   "execution_count": 5,
   "metadata": {
    "collapsed": true
   },
   "outputs": [],
   "source": [
    "k = 10\n",
    "output_file_list = ['../dataset/{}_fold_split_data/fold_1_data.csv.gz'.format(k),\n",
    "                    '../dataset/{}_fold_split_data/fold_2_data.csv.gz'.format(k),\n",
    "                    '../dataset/{}_fold_split_data/fold_3_data.csv.gz'.format(k),\n",
    "                    '../dataset/{}_fold_split_data/fold_4_data.csv.gz'.format(k),\n",
    "                    '../dataset/{}_fold_split_data/fold_5_data.csv.gz'.format(k),\n",
    "                    '../dataset/{}_fold_split_data/fold_6_data.csv.gz'.format(k),\n",
    "                    '../dataset/{}_fold_split_data/fold_7_data.csv.gz'.format(k),\n",
    "                    '../dataset/{}_fold_split_data/fold_8_data.csv.gz'.format(k),\n",
    "                    '../dataset/{}_fold_split_data/fold_9_data.csv.gz'.format(k),\n",
    "                    '../dataset/{}_fold_split_data/fold_10_data.csv.gz'.format(k)]\n",
    "split_data('../dataset/keck_updated_complete.csv', output_file_list, k)"
   ]
  },
  {
   "cell_type": "markdown",
   "metadata": {},
   "source": [
    "# Merge data from splitting folds to form training and testing"
   ]
  },
  {
   "cell_type": "code",
   "execution_count": 6,
   "metadata": {
    "collapsed": false
   },
   "outputs": [],
   "source": [
    "train_pd = read_merged_data(output_file_list[:9])\n",
    "test_pd = read_merged_data([output_file_list[9]])"
   ]
  },
  {
   "cell_type": "markdown",
   "metadata": {},
   "source": [
    "# Test feature- and label- extraction"
   ]
  },
  {
   "cell_type": "code",
   "execution_count": 7,
   "metadata": {
    "collapsed": false
   },
   "outputs": [
    {
     "name": "stdout",
     "output_type": "stream",
     "text": [
      "Unnamed: 0            object\n",
      "molecule ID(RegID)    object\n",
      "library               object\n",
      "existing SMILES       object\n",
      "generated SMILES      object\n",
      "1024_fingerprint      object\n",
      "Pria_SSB_%INH         object\n",
      "true_label            object\n",
      "dtype: object\n"
     ]
    }
   ],
   "source": [
    "print train_pd.dtypes\n",
    "\n",
    "X_train, y_train = extract_feature_and_label(train_pd)\n",
    "X_test, y_test = extract_feature_and_label(test_pd)"
   ]
  },
  {
   "cell_type": "markdown",
   "metadata": {},
   "source": [
    "# Test evaluation metrics"
   ]
  },
  {
   "cell_type": "code",
   "execution_count": 8,
   "metadata": {
    "collapsed": false
   },
   "outputs": [
    {
     "name": "stdout",
     "output_type": "stream",
     "text": [
      "1.0\n",
      "1.0\n",
      "[[1.0, 2.0], [1.0, 2.0], [1.0, 2.0], [1.0, 2.0]]\n",
      "\n",
      "1.0\n",
      "1.0\n",
      "[[1.0, 2.0], [1.0, 2.0], [1.0, 2.0], [1.0, 2.0]]\n",
      "\n",
      "0.833333333333\n",
      "0.833333333333\n",
      "[[1.0, 2.0], [1.0, 2.0], [1.0, 2.0], [1.0, 2.0]]\n",
      "\n",
      "0.333333333333\n",
      "0.333333333333\n",
      "[[1.0, 2.0], [1.0, 2.0], [1.0, 2.0], [1.0, 2.0]]\n",
      "\n"
     ]
    }
   ],
   "source": [
    "y_actual = np.eye(4)\n",
    "y_pred = np.eye(4)\n",
    "y_pred[2] = np.array([0, 0, 1, 1])\n",
    "y_pred[3] = np.array([0, 0, 1, 0])\n",
    "\n",
    "for i in range(4):\n",
    "    print roc_auc_multi(y_actual, y_pred, [i], np.mean)\n",
    "    print roc_auc_multi(y_actual, y_pred, [i], np.median)\n",
    "    print enrichment_factor_multi(y_actual, y_pred, 0.5)\n",
    "    print"
   ]
  },
  {
   "cell_type": "markdown",
   "metadata": {},
   "source": [
    "# Get updated data, and give some analysis"
   ]
  },
  {
   "cell_type": "code",
   "execution_count": 9,
   "metadata": {
    "collapsed": false
   },
   "outputs": [
    {
     "name": "stdout",
     "output_type": "stream",
     "text": [
      "[u'Keck_Pria_Retest', u'Keck_Pria_FP', u'Keck_RMI', u'Xing_MTDH_Retest', u'Xing_MTDH_DR']\n",
      "[u'Keck_Pria_Primary', u'Keck_RMI_cdd', u'Xing_MTDH_cdd']\n"
     ]
    }
   ],
   "source": [
    "discrete_file = pd.ExcelFile('../dataset/screening_smsf_actives.xlsx')\n",
    "continuous_file = pd.ExcelFile('../dataset/screening_smsf_continuous.xlsx')\n",
    "\n",
    "print discrete_file.sheet_names\n",
    "print continuous_file.sheet_names"
   ]
  },
  {
   "cell_type": "code",
   "execution_count": 10,
   "metadata": {
    "collapsed": false
   },
   "outputs": [
    {
     "name": "stdout",
     "output_type": "stream",
     "text": [
      "reset binary labels:\n",
      "Molecule               object\n",
      "Keck_Pria_AS_Retest     int64\n",
      "dtype: object\n",
      "\n",
      "cts labels:\n",
      "Molecule                 object\n",
      "Keck_Pria_Continuous    float64\n",
      "dtype: object\n"
     ]
    }
   ],
   "source": [
    "binary_data = discrete_file.parse('Keck_Pria_Retest')\n",
    "print 'reset binary labels:'\n",
    "print binary_data.dtypes\n",
    "\n",
    "print\n",
    "\n",
    "continuous_data = continuous_file.parse('Keck_Pria_Primary')\n",
    "print 'cts labels:'\n",
    "print continuous_data.dtypes"
   ]
  },
  {
   "cell_type": "markdown",
   "metadata": {},
   "source": [
    "# List all active compounds (updated version)"
   ]
  },
  {
   "cell_type": "code",
   "execution_count": 11,
   "metadata": {
    "collapsed": false
   },
   "outputs": [
    {
     "name": "stdout",
     "output_type": "stream",
     "text": [
      "            Molecule  Keck_Pria_AS_Retest\n",
      "576    SMSSF-0015261                    1\n",
      "7315   SMSSF-0021761                    1\n",
      "13763  SMSSF-0027944                    1\n",
      "16138  SMSSF-0030209                    1\n",
      "16803  SMSSF-0030826                    1\n",
      "16837  SMSSF-0030860                    1\n",
      "16901  SMSSF-0030922                    1\n",
      "16907  SMSSF-0030928                    1\n",
      "19073  SMSSF-0032984                    1\n",
      "25686  SMSSF-0039184                    1\n",
      "26232  SMSSF-0039974                    1\n",
      "26511  SMSSF-0040244                    1\n",
      "29310  SMSSF-0042907                    1\n",
      "29965  SMSSF-0043541                    1\n",
      "30010  SMSSF-0043585                    1\n",
      "30569  SMSSF-0044122                    1\n",
      "30603  SMSSF-0044155                    1\n",
      "30614  SMSSF-0044166                    1\n",
      "30661  SMSSF-0044210                    1\n",
      "30755  SMSSF-0044297                    1\n",
      "30756  SMSSF-0044297                    1\n",
      "30888  SMSSF-0044424                    1\n",
      "31008  SMSSF-0044540                    1\n",
      "31240  SMSSF-0044760                    1\n",
      "32405  SMSSF-0045880                    1\n",
      "32587  SMSSF-0046054                    1\n",
      "32597  SMSSF-0046063                    1\n",
      "32676  SMSSF-0046142                    1\n",
      "32996  SMSSF-0046450                    1\n",
      "33375  SMSSF-0046810                    1\n",
      "...              ...                  ...\n",
      "51012  SMSSF-0063701                    1\n",
      "51056  SMSSF-0063745                    1\n",
      "51057  SMSSF-0063745                    1\n",
      "51083  SMSSF-0063771                    1\n",
      "51131  SMSSF-0063815                    1\n",
      "51400  SMSSF-0064076                    1\n",
      "52036  SMSSF-0064685                    1\n",
      "52099  SMSSF-0064745                    1\n",
      "52124  SMSSF-0064769                    1\n",
      "52621  SMSSF-0307453                    1\n",
      "52714  SMSSF-0350967                    1\n",
      "52972  SMSSF-0517978                    1\n",
      "53690  SMSSF-0531732                    1\n",
      "54895  SMSSF-0532937                    1\n",
      "54931  SMSSF-0532973                    1\n",
      "54932  SMSSF-0532974                    1\n",
      "56055  SMSSF-0534097                    1\n",
      "56137  SMSSF-0534179                    1\n",
      "56688  SMSSF-0534730                    1\n",
      "60292  SMSSF-0538334                    1\n",
      "60301  SMSSF-0538343                    1\n",
      "62889  SMSSF-0540931                    1\n",
      "70020  SMSSF-0548062                    1\n",
      "70023  SMSSF-0548065                    1\n",
      "70025  SMSSF-0548067                    1\n",
      "70026  SMSSF-0548068                    1\n",
      "70031  SMSSF-0548073                    1\n",
      "70035  SMSSF-0548077                    1\n",
      "70037  SMSSF-0548079                    1\n",
      "70038  SMSSF-0548080                    1\n",
      "\n",
      "[83 rows x 2 columns]\n"
     ]
    }
   ],
   "source": [
    "print binary_data[binary_data['Keck_Pria_AS_Retest']>0]"
   ]
  }
 ],
 "metadata": {
  "kernelspec": {
   "display_name": "Python 2",
   "language": "python",
   "name": "python2"
  },
  "language_info": {
   "codemirror_mode": {
    "name": "ipython",
    "version": 2
   },
   "file_extension": ".py",
   "mimetype": "text/x-python",
   "name": "python",
   "nbconvert_exporter": "python",
   "pygments_lexer": "ipython2",
   "version": "2.7.13"
  }
 },
 "nbformat": 4,
 "nbformat_minor": 0
}

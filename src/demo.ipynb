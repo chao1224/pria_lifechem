{
 "cells": [
  {
   "cell_type": "code",
   "execution_count": 1,
   "metadata": {
    "collapsed": false
   },
   "outputs": [],
   "source": [
    "from function import *\n",
    "from data_preparation import *\n",
    "from evaluation import *\n",
    "\n",
    "from openpyxl import Workbook\n",
    "import pandas as pd\n",
    "import numpy as np\n",
    "import operator\n",
    "\n",
    "from rdkit import Chem\n",
    "from rdkit.Chem import AllChem"
   ]
  },
  {
   "cell_type": "markdown",
   "metadata": {},
   "source": [
    "# Pre-prepare Data (Data Transformation)"
   ]
  },
  {
   "cell_type": "code",
   "execution_count": 2,
   "metadata": {
    "collapsed": false
   },
   "outputs": [],
   "source": [
    "transform_data(output_file_name='../dataset/keck_complete.csv')"
   ]
  },
  {
   "cell_type": "markdown",
   "metadata": {},
   "source": [
    "# Analysis"
   ]
  },
  {
   "cell_type": "code",
   "execution_count": 48,
   "metadata": {
    "collapsed": false
   },
   "outputs": [
    {
     "name": "stdout",
     "output_type": "stream",
     "text": [
      "Molecule                   object\n",
      "SMILES                     object\n",
      "Fingerprints               object\n",
      "Keck_Pria_AS_Retest         int64\n",
      "Keck_Pria_FP_data           int64\n",
      "Keck_Pria_Continuous      float64\n",
      "Keck_RMI_cdd              float64\n",
      "FP counts % inhibition    float64\n",
      "dtype: object\n"
     ]
    }
   ],
   "source": [
    "complete_df = pd.read_csv('../dataset/keck_complete.csv')\n",
    "\n",
    "print complete_df.dtypes"
   ]
  },
  {
   "cell_type": "code",
   "execution_count": 3,
   "metadata": {
    "collapsed": false
   },
   "outputs": [
    {
     "name": "stdout",
     "output_type": "stream",
     "text": [
      "pria retest active: 79\tpria fp active: 24\trmi cdd active: 230\n",
      "{0: 72094, 1: 325, 2: 4}\n",
      "\n",
      "retest: 0, fp: 0, rmi: 0 \t--- 49489\n",
      "retest: 0, fp: 0, rmi: nan \t--- 22605\n",
      "retest: 0, fp: 1, rmi: 0 \t--- 19\n",
      "retest: 0, fp: 1, rmi: 1 \t--- 3\n",
      "retest: 1, fp: 0, rmi: 0 \t--- 58\n",
      "retest: 1, fp: 0, rmi: nan \t--- 20\n",
      "retest: 0, fp: 1, rmi: nan \t--- 1\n",
      "retest: 0, fp: 0, rmi: 1 \t--- 227\n",
      "retest: 1, fp: 1, rmi: nan \t--- 1\n"
     ]
    }
   ],
   "source": [
    "cnt_pria_retest = 0\n",
    "cnt_pria_fp = 0\n",
    "cnt_rmi_cdd = 0\n",
    "\n",
    "cnt_dict = {}\n",
    "for ix, row in complete_df.iterrows():\n",
    "    cnt = 0\n",
    "    if row['Keck_Pria_AS_Retest'] == 1:\n",
    "        cnt_pria_retest += 1\n",
    "        cnt += 1\n",
    "    if row['Keck_Pria_FP_data'] == 1:\n",
    "        cnt_pria_fp += 1\n",
    "        cnt += 1\n",
    "    if row['Keck_RMI_cdd'] == 1:\n",
    "        cnt_rmi_cdd += 1\n",
    "        cnt += 1\n",
    "    if cnt not in cnt_dict.keys():\n",
    "        cnt_dict[cnt] = 0\n",
    "    cnt_dict[cnt] += 1\n",
    "\n",
    "print 'pria retest active: {}\\tpria fp active: {}\\trmi cdd active: {}'.format(cnt_pria_retest, cnt_pria_fp, cnt_rmi_cdd)\n",
    "print cnt_dict\n",
    "\n",
    "\n",
    "print\n",
    "analysis(complete_df)"
   ]
  },
  {
   "cell_type": "markdown",
   "metadata": {},
   "source": [
    "# Split data into k-fold"
   ]
  },
  {
   "cell_type": "code",
   "execution_count": 6,
   "metadata": {
    "collapsed": false
   },
   "outputs": [
    {
     "name": "stdout",
     "output_type": "stream",
     "text": [
      "9\n",
      "(24141, 8)\n",
      "(24142, 8)\n",
      "(24140, 8)\n"
     ]
    }
   ],
   "source": [
    "k = 3\n",
    "directory = '../dataset/fixed_dataset/fold_{}/'.format(k)\n",
    "file_list = []\n",
    "for i in range(k):\n",
    "    file_list.append('file_{}.csv'.format(i))\n",
    "greedy_multi_splitting(complete_df, k, directory=directory, file_list=file_list)"
   ]
  },
  {
   "cell_type": "code",
   "execution_count": 7,
   "metadata": {
    "collapsed": false
   },
   "outputs": [
    {
     "name": "stdout",
     "output_type": "stream",
     "text": [
      "9\n",
      "(18104, 8)\n",
      "(18107, 8)\n",
      "(18107, 8)\n",
      "(18105, 8)\n"
     ]
    }
   ],
   "source": [
    "k = 4\n",
    "directory = '../dataset/fixed_dataset/fold_{}/'.format(k)\n",
    "file_list = []\n",
    "for i in range(k):\n",
    "    file_list.append('file_{}.csv'.format(i))\n",
    "greedy_multi_splitting(complete_df, k, directory=directory, file_list=file_list)"
   ]
  },
  {
   "cell_type": "markdown",
   "metadata": {},
   "source": [
    "# Merge data from splitting folds to form training and testing"
   ]
  },
  {
   "cell_type": "code",
   "execution_count": 60,
   "metadata": {
    "collapsed": false
   },
   "outputs": [
    {
     "name": "stdout",
     "output_type": "stream",
     "text": [
      "['../dataset/fixed_dataset/fold_4/file_0.csv', '../dataset/fixed_dataset/fold_4/file_1.csv', '../dataset/fixed_dataset/fold_4/file_2.csv']\n",
      "../dataset/fixed_dataset/fold_4/file_3.csv\n"
     ]
    }
   ],
   "source": [
    "dtype_list = {'Molecule': np.str,\n",
    "              'SMILES':np.str,\n",
    "              'Fingerprints': np.str,\n",
    "              'Keck_Pria_AS_Retest': np.int64,\n",
    "              'Keck_Pria_FP_data': np.int64,\n",
    "              'Keck_Pria_Continuous': np.float64,\n",
    "              'Keck_RMI_cdd': np.float64}\n",
    "output_file_list = [directory + f_ for f_ in file_list]\n",
    "print output_file_list[:3]\n",
    "train_pd = read_merged_data(output_file_list[:3])\n",
    "print output_file_list[3]\n",
    "test_pd = read_merged_data([output_file_list[3]])"
   ]
  },
  {
   "cell_type": "code",
   "execution_count": 57,
   "metadata": {
    "collapsed": false
   },
   "outputs": [
    {
     "name": "stdout",
     "output_type": "stream",
     "text": [
      "This is training set\n",
      "retest: 0, fp: 0, rmi: 0 \t--- 37117\n",
      "retest: 0, fp: 0, rmi: nan \t--- 16954\n",
      "retest: 1, fp: 0, rmi: 0 \t--- 44\n",
      "retest: 0, fp: 1, rmi: 1 \t--- 2\n",
      "retest: 0, fp: 0, rmi: 1 \t--- 170\n",
      "retest: 0, fp: 1, rmi: 0 \t--- 14\n",
      "retest: 0, fp: 1, rmi: nan \t--- 1\n",
      "retest: 1, fp: 0, rmi: nan \t--- 15\n",
      "retest: 1, fp: 1, rmi: nan \t--- 1\n",
      "\n",
      "This is test set\n",
      "retest: 0, fp: 0, rmi: 0 \t--- 12372\n",
      "retest: 0, fp: 0, rmi: nan \t--- 5651\n",
      "retest: 1, fp: 0, rmi: nan \t--- 5\n",
      "retest: 0, fp: 1, rmi: 1 \t--- 1\n",
      "retest: 1, fp: 0, rmi: 0 \t--- 14\n",
      "retest: 0, fp: 0, rmi: 1 \t--- 57\n",
      "retest: 0, fp: 1, rmi: 0 \t--- 5\n"
     ]
    }
   ],
   "source": [
    "print 'This is training set'\n",
    "analysis(train_pd)\n",
    "print\n",
    "print 'This is test set'\n",
    "analysis(test_pd)"
   ]
  },
  {
   "cell_type": "markdown",
   "metadata": {},
   "source": [
    "# Test feature- and label- extraction"
   ]
  },
  {
   "cell_type": "code",
   "execution_count": 70,
   "metadata": {
    "collapsed": false
   },
   "outputs": [],
   "source": [
    "def extract_feature_and_label(data_pd,\n",
    "                              feature_name,\n",
    "                              label_name_list):\n",
    "    X_data = np.zeros(shape=(data_pd.shape[0], 1024))\n",
    "    y_data = np.zeros(shape=(data_pd.shape[0], len(label_name_list)))\n",
    "    for index, row in data_pd.iterrows():\n",
    "        feature = list(row[feature_name])\n",
    "        labels = row[label_name_list]\n",
    "        X_data[index] = np.array(feature)\n",
    "        y_data[index] = np.array(labels)\n",
    "    X_data = X_data.astype(float)\n",
    "    y_data = y_data.astype(float)\n",
    "\n",
    "    # In case we just train on one target\n",
    "    # y would be (n,) vector\n",
    "    # then we should change it to (n,1) 1D matrix\n",
    "    # to keep consistency\n",
    "    print y_data.shape\n",
    "    if y_data.ndim == 1:\n",
    "        n = y_data.shape[0]\n",
    "        y_data = y_data.reshape(n, 1)\n",
    "\n",
    "    return X_data, y_data\n"
   ]
  },
  {
   "cell_type": "code",
   "execution_count": null,
   "metadata": {
    "collapsed": false
   },
   "outputs": [
    {
     "name": "stdout",
     "output_type": "stream",
     "text": [
      "Molecule                   object\n",
      "SMILES                     object\n",
      "Fingerprints               object\n",
      "Keck_Pria_AS_Retest         int64\n",
      "Keck_Pria_FP_data           int64\n",
      "Keck_Pria_Continuous      float64\n",
      "Keck_RMI_cdd              float64\n",
      "FP counts % inhibition    float64\n",
      "dtype: object\n"
     ]
    }
   ],
   "source": [
    "print train_pd.dtypes\n",
    "\n",
    "X_train, y_train = extract_feature_and_label(train_pd,\n",
    "                                             feature_name='Fingerprints',\n",
    "                                             label_name_list=['Keck_Pria_AS_Retest', 'Keck_Pria_FP_data'])\n",
    "X_test, y_test = extract_feature_and_label(test_pd,\n",
    "                                           feature_name='Fingerprints',\n",
    "                                           label_name_list=['Keck_Pria_AS_Retest', 'Keck_Pria_FP_data'])"
   ]
  },
  {
   "cell_type": "markdown",
   "metadata": {},
   "source": [
    "# Test evaluation metrics"
   ]
  },
  {
   "cell_type": "code",
   "execution_count": 8,
   "metadata": {
    "collapsed": false
   },
   "outputs": [
    {
     "name": "stdout",
     "output_type": "stream",
     "text": [
      "1.0\n",
      "1.0\n",
      "[[1.0, 2.0], [1.0, 2.0], [1.0, 2.0], [1.0, 2.0]]\n",
      "\n",
      "1.0\n",
      "1.0\n",
      "[[1.0, 2.0], [1.0, 2.0], [1.0, 2.0], [1.0, 2.0]]\n",
      "\n",
      "0.833333333333\n",
      "0.833333333333\n",
      "[[1.0, 2.0], [1.0, 2.0], [1.0, 2.0], [1.0, 2.0]]\n",
      "\n",
      "0.333333333333\n",
      "0.333333333333\n",
      "[[1.0, 2.0], [1.0, 2.0], [1.0, 2.0], [1.0, 2.0]]\n",
      "\n"
     ]
    }
   ],
   "source": [
    "y_actual = np.eye(4)\n",
    "y_pred = np.eye(4)\n",
    "y_pred[2] = np.array([0, 0, 1, 1])\n",
    "y_pred[3] = np.array([0, 0, 1, 0])\n",
    "\n",
    "for i in range(4):\n",
    "    print roc_auc_multi(y_actual, y_pred, [i], np.mean)\n",
    "    print roc_auc_multi(y_actual, y_pred, [i], np.median)\n",
    "    print enrichment_factor_multi(y_actual, y_pred, 0.5)\n",
    "    print"
   ]
  },
  {
   "cell_type": "markdown",
   "metadata": {},
   "source": [
    "# Get updated data, and give some analysis"
   ]
  },
  {
   "cell_type": "code",
   "execution_count": 9,
   "metadata": {
    "collapsed": false
   },
   "outputs": [
    {
     "name": "stdout",
     "output_type": "stream",
     "text": [
      "[u'Keck_Pria_Retest', u'Keck_Pria_FP', u'Keck_RMI', u'Xing_MTDH_Retest', u'Xing_MTDH_DR']\n",
      "[u'Keck_Pria_Primary', u'Keck_RMI_cdd', u'Xing_MTDH_cdd']\n"
     ]
    }
   ],
   "source": [
    "discrete_file = pd.ExcelFile('../dataset/screening_smsf_actives.xlsx')\n",
    "continuous_file = pd.ExcelFile('../dataset/screening_smsf_continuous.xlsx')\n",
    "\n",
    "print discrete_file.sheet_names\n",
    "print continuous_file.sheet_names"
   ]
  },
  {
   "cell_type": "code",
   "execution_count": 10,
   "metadata": {
    "collapsed": false
   },
   "outputs": [
    {
     "name": "stdout",
     "output_type": "stream",
     "text": [
      "reset binary labels:\n",
      "Molecule               object\n",
      "Keck_Pria_AS_Retest     int64\n",
      "dtype: object\n",
      "\n",
      "cts labels:\n",
      "Molecule                 object\n",
      "Keck_Pria_Continuous    float64\n",
      "dtype: object\n"
     ]
    }
   ],
   "source": [
    "binary_data = discrete_file.parse('Keck_Pria_Retest')\n",
    "print 'reset binary labels:'\n",
    "print binary_data.dtypes\n",
    "\n",
    "print\n",
    "\n",
    "continuous_data = continuous_file.parse('Keck_Pria_Primary')\n",
    "print 'cts labels:'\n",
    "print continuous_data.dtypes"
   ]
  },
  {
   "cell_type": "markdown",
   "metadata": {},
   "source": [
    "# List all active compounds (updated version)"
   ]
  },
  {
   "cell_type": "code",
   "execution_count": 11,
   "metadata": {
    "collapsed": false
   },
   "outputs": [
    {
     "name": "stdout",
     "output_type": "stream",
     "text": [
      "            Molecule  Keck_Pria_AS_Retest\n",
      "576    SMSSF-0015261                    1\n",
      "7315   SMSSF-0021761                    1\n",
      "13763  SMSSF-0027944                    1\n",
      "16138  SMSSF-0030209                    1\n",
      "16803  SMSSF-0030826                    1\n",
      "16837  SMSSF-0030860                    1\n",
      "16901  SMSSF-0030922                    1\n",
      "16907  SMSSF-0030928                    1\n",
      "19073  SMSSF-0032984                    1\n",
      "25686  SMSSF-0039184                    1\n",
      "26232  SMSSF-0039974                    1\n",
      "26511  SMSSF-0040244                    1\n",
      "29310  SMSSF-0042907                    1\n",
      "29965  SMSSF-0043541                    1\n",
      "30010  SMSSF-0043585                    1\n",
      "30569  SMSSF-0044122                    1\n",
      "30603  SMSSF-0044155                    1\n",
      "30614  SMSSF-0044166                    1\n",
      "30661  SMSSF-0044210                    1\n",
      "30755  SMSSF-0044297                    1\n",
      "30756  SMSSF-0044297                    1\n",
      "30888  SMSSF-0044424                    1\n",
      "31008  SMSSF-0044540                    1\n",
      "31240  SMSSF-0044760                    1\n",
      "32405  SMSSF-0045880                    1\n",
      "32587  SMSSF-0046054                    1\n",
      "32597  SMSSF-0046063                    1\n",
      "32676  SMSSF-0046142                    1\n",
      "32996  SMSSF-0046450                    1\n",
      "33375  SMSSF-0046810                    1\n",
      "...              ...                  ...\n",
      "51012  SMSSF-0063701                    1\n",
      "51056  SMSSF-0063745                    1\n",
      "51057  SMSSF-0063745                    1\n",
      "51083  SMSSF-0063771                    1\n",
      "51131  SMSSF-0063815                    1\n",
      "51400  SMSSF-0064076                    1\n",
      "52036  SMSSF-0064685                    1\n",
      "52099  SMSSF-0064745                    1\n",
      "52124  SMSSF-0064769                    1\n",
      "52621  SMSSF-0307453                    1\n",
      "52714  SMSSF-0350967                    1\n",
      "52972  SMSSF-0517978                    1\n",
      "53690  SMSSF-0531732                    1\n",
      "54895  SMSSF-0532937                    1\n",
      "54931  SMSSF-0532973                    1\n",
      "54932  SMSSF-0532974                    1\n",
      "56055  SMSSF-0534097                    1\n",
      "56137  SMSSF-0534179                    1\n",
      "56688  SMSSF-0534730                    1\n",
      "60292  SMSSF-0538334                    1\n",
      "60301  SMSSF-0538343                    1\n",
      "62889  SMSSF-0540931                    1\n",
      "70020  SMSSF-0548062                    1\n",
      "70023  SMSSF-0548065                    1\n",
      "70025  SMSSF-0548067                    1\n",
      "70026  SMSSF-0548068                    1\n",
      "70031  SMSSF-0548073                    1\n",
      "70035  SMSSF-0548077                    1\n",
      "70037  SMSSF-0548079                    1\n",
      "70038  SMSSF-0548080                    1\n",
      "\n",
      "[83 rows x 2 columns]\n"
     ]
    }
   ],
   "source": [
    "print binary_data[binary_data['Keck_Pria_AS_Retest']>0]"
   ]
  }
 ],
 "metadata": {
  "kernelspec": {
   "display_name": "Python 2",
   "language": "python",
   "name": "python2"
  },
  "language_info": {
   "codemirror_mode": {
    "name": "ipython",
    "version": 2
   },
   "file_extension": ".py",
   "mimetype": "text/x-python",
   "name": "python",
   "nbconvert_exporter": "python",
   "pygments_lexer": "ipython2",
   "version": "2.7.13"
  }
 },
 "nbformat": 4,
 "nbformat_minor": 0
}

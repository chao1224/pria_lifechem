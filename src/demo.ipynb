{
 "cells": [
  {
   "cell_type": "code",
   "execution_count": 1,
   "metadata": {
    "collapsed": false
   },
   "outputs": [],
   "source": [
    "from function import *\n",
    "from data_preparation import *\n",
    "from evaluation import *\n",
    "\n",
    "from openpyxl import Workbook\n",
    "import pandas as pd\n",
    "import numpy as np\n",
    "import operator\n",
    "\n",
    "from rdkit import Chem\n",
    "from rdkit.Chem import AllChem"
   ]
  },
  {
   "cell_type": "markdown",
   "metadata": {},
   "source": [
    "# Pre-prepare Data (Data Transformation)"
   ]
  },
  {
   "cell_type": "code",
   "execution_count": 2,
   "metadata": {
    "collapsed": false
   },
   "outputs": [],
   "source": [
    "transform_data(output_file_name='../dataset/keck_complete.csv')"
   ]
  },
  {
   "cell_type": "markdown",
   "metadata": {},
   "source": [
    "# Analysis"
   ]
  },
  {
   "cell_type": "code",
   "execution_count": 3,
   "metadata": {
    "collapsed": false
   },
   "outputs": [
    {
     "name": "stdout",
     "output_type": "stream",
     "text": [
      "Molecule                   object\n",
      "SMILES                     object\n",
      "Fingerprints               object\n",
      "Keck_Pria_AS_Retest         int64\n",
      "Keck_Pria_FP_data           int64\n",
      "Keck_Pria_Continuous      float64\n",
      "Keck_RMI_cdd              float64\n",
      "FP counts % inhibition    float64\n",
      "dtype: object\n"
     ]
    }
   ],
   "source": [
    "complete_df = pd.read_csv('../dataset/keck_complete.csv')\n",
    "\n",
    "print complete_df.dtypes"
   ]
  },
  {
   "cell_type": "code",
   "execution_count": 4,
   "metadata": {
    "collapsed": false
   },
   "outputs": [
    {
     "name": "stdout",
     "output_type": "stream",
     "text": [
      "pria retest active: 79\tpria fp active: 24\trmi cdd active: 230\n",
      "{0: 72094, 1: 325, 2: 4}\n",
      "\n",
      "retest: 0, fp: 0, rmi: 0 \t--- 49489\n",
      "retest: 0, fp: 0, rmi: nan \t--- 22605\n",
      "retest: 0, fp: 1, rmi: 0 \t--- 19\n",
      "retest: 0, fp: 1, rmi: 1 \t--- 3\n",
      "retest: 1, fp: 0, rmi: 0 \t--- 58\n",
      "retest: 1, fp: 0, rmi: nan \t--- 20\n",
      "retest: 0, fp: 1, rmi: nan \t--- 1\n",
      "retest: 0, fp: 0, rmi: 1 \t--- 227\n",
      "retest: 1, fp: 1, rmi: nan \t--- 1\n"
     ]
    }
   ],
   "source": [
    "cnt_pria_retest = 0\n",
    "cnt_pria_fp = 0\n",
    "cnt_rmi_cdd = 0\n",
    "\n",
    "cnt_dict = {}\n",
    "for ix, row in complete_df.iterrows():\n",
    "    cnt = 0\n",
    "    if row['Keck_Pria_AS_Retest'] == 1:\n",
    "        cnt_pria_retest += 1\n",
    "        cnt += 1\n",
    "    if row['Keck_Pria_FP_data'] == 1:\n",
    "        cnt_pria_fp += 1\n",
    "        cnt += 1\n",
    "    if row['Keck_RMI_cdd'] == 1:\n",
    "        cnt_rmi_cdd += 1\n",
    "        cnt += 1\n",
    "    if cnt not in cnt_dict.keys():\n",
    "        cnt_dict[cnt] = 0\n",
    "    cnt_dict[cnt] += 1\n",
    "\n",
    "print 'pria retest active: {}\\tpria fp active: {}\\trmi cdd active: {}'.format(cnt_pria_retest, cnt_pria_fp, cnt_rmi_cdd)\n",
    "print cnt_dict\n",
    "\n",
    "\n",
    "print\n",
    "analysis(complete_df)"
   ]
  },
  {
   "cell_type": "markdown",
   "metadata": {},
   "source": [
    "# Split data into k-fold"
   ]
  },
  {
   "cell_type": "code",
   "execution_count": 5,
   "metadata": {
    "collapsed": false
   },
   "outputs": [
    {
     "name": "stdout",
     "output_type": "stream",
     "text": [
      "9\n",
      "(24144, 8)\n",
      "(24140, 8)\n",
      "(24139, 8)\n"
     ]
    }
   ],
   "source": [
    "k = 3\n",
    "directory = '../dataset/fixed_dataset/fold_{}/'.format(k)\n",
    "file_list = []\n",
    "for i in range(k):\n",
    "    file_list.append('file_{}.csv'.format(i))\n",
    "greedy_multi_splitting(complete_df, k, directory=directory, file_list=file_list)"
   ]
  },
  {
   "cell_type": "code",
   "execution_count": 6,
   "metadata": {
    "collapsed": false
   },
   "outputs": [
    {
     "name": "stdout",
     "output_type": "stream",
     "text": [
      "9\n",
      "(18105, 8)\n",
      "(18106, 8)\n",
      "(18106, 8)\n",
      "(18106, 8)\n"
     ]
    }
   ],
   "source": [
    "k = 4\n",
    "directory = '../dataset/fixed_dataset/fold_{}/'.format(k)\n",
    "file_list = []\n",
    "for i in range(k):\n",
    "    file_list.append('file_{}.csv'.format(i))\n",
    "greedy_multi_splitting(complete_df, k, directory=directory, file_list=file_list)"
   ]
  },
  {
   "cell_type": "markdown",
   "metadata": {},
   "source": [
    "# Merge data from splitting folds to form training and testing"
   ]
  },
  {
   "cell_type": "code",
   "execution_count": 7,
   "metadata": {
    "collapsed": false
   },
   "outputs": [
    {
     "name": "stdout",
     "output_type": "stream",
     "text": [
      "['../dataset/fixed_dataset/fold_4/file_0.csv', '../dataset/fixed_dataset/fold_4/file_1.csv', '../dataset/fixed_dataset/fold_4/file_2.csv']\n",
      "../dataset/fixed_dataset/fold_4/file_3.csv\n"
     ]
    }
   ],
   "source": [
    "dtype_list = {'Molecule': np.str,\n",
    "              'SMILES':np.str,\n",
    "              'Fingerprints': np.str,\n",
    "              'Keck_Pria_AS_Retest': np.int64,\n",
    "              'Keck_Pria_FP_data': np.int64,\n",
    "              'Keck_Pria_Continuous': np.float64,\n",
    "              'Keck_RMI_cdd': np.float64}\n",
    "output_file_list = [directory + f_ for f_ in file_list]\n",
    "print output_file_list[:3]\n",
    "train_pd = read_merged_data(output_file_list[:3])\n",
    "print output_file_list[3]\n",
    "test_pd = read_merged_data([output_file_list[3]])"
   ]
  },
  {
   "cell_type": "code",
   "execution_count": null,
   "metadata": {
    "collapsed": false
   },
   "outputs": [
    {
     "name": "stdout",
     "output_type": "stream",
     "text": [
      "This is training set\n",
      "retest: 0, fp: 0, rmi: 0 \t--- 37117\n",
      "retest: 0, fp: 0, rmi: nan \t--- 16954\n",
      "retest: 1, fp: 0, rmi: 0 \t--- 43\n",
      "retest: 0, fp: 1, rmi: 1 \t--- 2\n",
      "retest: 0, fp: 0, rmi: 1 \t--- 170\n",
      "retest: 0, fp: 1, rmi: 0 \t--- 14\n",
      "retest: 0, fp: 1, rmi: nan \t--- 1\n",
      "retest: 1, fp: 0, rmi: nan \t--- 15\n",
      "retest: 1, fp: 1, rmi: nan \t--- 1\n",
      "\n",
      "This is test set\n",
      "retest: 0, fp: 0, rmi: 0 \t--- 12372\n",
      "retest: 0, fp: 0, rmi: nan \t--- 5651\n",
      "retest: 1, fp: 0, rmi: nan \t--- 5\n",
      "retest: 0, fp: 1, rmi: 1 \t--- 1\n",
      "retest: 1, fp: 0, rmi: 0 \t--- 15\n",
      "retest: 0, fp: 0, rmi: 1 \t--- 57\n",
      "retest: 0, fp: 1, rmi: 0 \t--- 5\n"
     ]
    }
   ],
   "source": [
    "print 'This is training set'\n",
    "analysis(train_pd)\n",
    "print\n",
    "print 'This is test set'\n",
    "analysis(test_pd)"
   ]
  },
  {
   "cell_type": "markdown",
   "metadata": {},
   "source": [
    "# Test feature- and label- extraction"
   ]
  },
  {
   "cell_type": "code",
   "execution_count": null,
   "metadata": {
    "collapsed": false
   },
   "outputs": [
    {
     "name": "stdout",
     "output_type": "stream",
     "text": [
      "Molecule                   object\n",
      "SMILES                     object\n",
      "Fingerprints               object\n",
      "Keck_Pria_AS_Retest         int64\n",
      "Keck_Pria_FP_data           int64\n",
      "Keck_Pria_Continuous      float64\n",
      "Keck_RMI_cdd              float64\n",
      "FP counts % inhibition    float64\n",
      "dtype: object\n"
     ]
    }
   ],
   "source": [
    "print train_pd.dtypes\n",
    "\n",
    "X_train, y_train = extract_feature_and_label(train_pd,\n",
    "                                             feature_name='Fingerprints',\n",
    "                                             label_name_list=['Keck_Pria_AS_Retest', 'Keck_Pria_FP_data'])\n",
    "X_test, y_test = extract_feature_and_label(test_pd,\n",
    "                                           feature_name='Fingerprints',\n",
    "                                           label_name_list=['Keck_Pria_AS_Retest', 'Keck_Pria_FP_data'])"
   ]
  },
  {
   "cell_type": "markdown",
   "metadata": {},
   "source": [
    "# Test evaluation metrics"
   ]
  },
  {
   "cell_type": "code",
   "execution_count": null,
   "metadata": {
    "collapsed": false
   },
   "outputs": [],
   "source": [
    "y_actual = np.eye(4)\n",
    "y_pred = np.eye(4)\n",
    "y_pred[2] = np.array([0, 0, 1, 1])\n",
    "y_pred[3] = np.array([0, 0, 1, 0])\n",
    "\n",
    "for i in range(4):\n",
    "    print roc_auc_multi(y_actual, y_pred, [i], np.mean)\n",
    "    print roc_auc_multi(y_actual, y_pred, [i], np.median)\n",
    "    print enrichment_factor_multi(y_actual, y_pred, 0.5)\n",
    "    print"
   ]
  }
 ],
 "metadata": {
  "kernelspec": {
   "display_name": "Python 2",
   "language": "python",
   "name": "python2"
  },
  "language_info": {
   "codemirror_mode": {
    "name": "ipython",
    "version": 2
   },
   "file_extension": ".py",
   "mimetype": "text/x-python",
   "name": "python",
   "nbconvert_exporter": "python",
   "pygments_lexer": "ipython2",
   "version": "2.7.13"
  }
 },
 "nbformat": 4,
 "nbformat_minor": 0
}

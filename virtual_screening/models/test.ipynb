{
 "cells": [
  {
   "cell_type": "code",
   "execution_count": 1,
   "metadata": {
    "collapsed": false,
    "deletable": true,
    "editable": true
   },
   "outputs": [
    {
     "name": "stdout",
     "output_type": "stream",
     "text": [
      "done\n"
     ]
    }
   ],
   "source": [
    "import argparse\n",
    "import pandas as pd\n",
    "import csv\n",
    "import numpy as np\n",
    "import json\n",
    "import sys\n",
    "sys.path.insert(0, '..')  # Add path from parent folder\n",
    "sys.path.insert(0, '.')  # Add path from current folder\n",
    "from evaluation import *\n",
    "from function import *\n",
    "from sklearn.ensemble import RandomForestClassifier, RandomForestRegressor\n",
    "from sklearn.externals import joblib\n",
    "from sklearn.grid_search import ParameterGrid\n",
    "import copy\n",
    "\n",
    "rnd_state=1337\n",
    "np.random.seed(seed=rnd_state)\n",
    "\n",
    "class SKLearn_RandomForest:\n",
    "    def __init__(self, conf):\n",
    "        self.conf = conf\n",
    "        self.input_layer_dimension = 1024\n",
    "        self.label_names = conf['label_names']\n",
    "        self.EF_ratio_list = conf['enrichment_factor']['ratio_list']\n",
    "        \n",
    "        if os.environ.get('process') == None:\n",
    "            self.process_id = 0\n",
    "        else:\n",
    "            self.process_id = int(os.environ.get('process'))        \n",
    "        if self.process_id == None:\n",
    "            print('Error: No environemnt variable process exists.')\n",
    "            return \n",
    "        else:\n",
    "            print('process id:', self.process_id)\n",
    "        \n",
    "        cnt = 0\n",
    "        for param in ParameterGrid(conf['params']):\n",
    "            if cnt != self.process_id:\n",
    "                cnt += 1\n",
    "                continue\n",
    "            \n",
    "            self.param = param\n",
    "            param['n_estimators'] = 4000\n",
    "            param['n_estimators'] = 100\n",
    "            param['max_features'] = 'log2'\n",
    "            param['min_samples_leaf'] = 1\n",
    "            param['class_weight'] = 'balanced'\n",
    "            \n",
    "            self.n_estimators = param['n_estimators']\n",
    "            self.max_features = param['max_features']\n",
    "            self.min_samples_leaf = param['min_samples_leaf']\n",
    "            self.class_weight = param['class_weight']\n",
    "        \n",
    "            print('Testing set:', param)            \n",
    "            break\n",
    "        \n",
    "        if self.max_features == \"None\":\n",
    "            self.max_features = None\n",
    "        if self.class_weight == \"None\":\n",
    "            self.class_weight = None\n",
    "        \n",
    "        self.model_dict = {}\n",
    "        self.useVal = bool(conf['useVal'])\n",
    "        return\n",
    "    \n",
    "    @property    \n",
    "    def useVal(self):\n",
    "        return self.useVal\n",
    "        \n",
    "    \n",
    "    def get_prediction_info(self, X, y_true):\n",
    "        y_pred = np.zeros(shape=y_true.shape)\n",
    "        \n",
    "        \n",
    "        for i, label in zip(range(len(self.label_names)), self.label_names):     \n",
    "            model = self.model_dict[label]\n",
    "            \n",
    "            y_true[np.where(np.isnan(y_true[:,i]))[0],i] = -1\n",
    "            if i in [0,1,2]:                \n",
    "                y_pred[:,i] =  model.predict_proba(X)[:,1]\n",
    "        \n",
    "        return y_true, y_pred\n",
    "        \n",
    "    def setup_model(self):\n",
    "        for i in [0,1,2]:\n",
    "            self.model_dict[self.label_names[i]] = RandomForestClassifier(n_estimators=self.n_estimators, \n",
    "                                           max_features=self.max_features, \n",
    "                                           min_samples_leaf=self.min_samples_leaf, \n",
    "                                           n_jobs=3, \n",
    "                                           class_weight=self.class_weight,\n",
    "                                           random_state=rnd_state,\n",
    "                                           oob_score=False, \n",
    "                                           verbose=1)\n",
    "        return\n",
    "        \n",
    "        \n",
    "    def train_and_predict(self,\n",
    "                          X_train, y_train,\n",
    "                          X_val, y_val,\n",
    "                          X_test, y_test,\n",
    "                          model_file):\n",
    "                              \n",
    "        self.setup_model()\n",
    "        \n",
    "        if not self.useVal:\n",
    "            X_train = np.concatenate((X_train, X_val))\n",
    "            y_train = np.concatenate((y_train, y_val))\n",
    "        \n",
    "        p = np.random.permutation(len(X_train))\n",
    "        X_train = X_train[p,:]\n",
    "        y_train = y_train[p,:]\n",
    "        \n",
    "        for i, label in zip(range(len(self.label_names)), self.label_names):\n",
    "            print 'testing {}, {}'.format(i, label)\n",
    "            y = y_train[:,i]\n",
    "            indexes = np.where(np.isnan(y))[0]\n",
    "                \n",
    "            y = np.delete(y, indexes, axis=0)\n",
    "            X = np.delete(X_train, indexes, axis=0)\n",
    "            self.model_dict[label].fit(X, y)\n",
    "            \n",
    "            #joblib.dump(self.model_dict[label], model_file+'_'+label+'.pkl', compress = 1)\n",
    "        return\n",
    "\n",
    "    def predict_with_existing(self,\n",
    "                              X_train, y_train,\n",
    "                              X_val, y_val,\n",
    "                              X_test, y_test):  \n",
    "        if self.useVal:\n",
    "            y_val, y_pred_on_val = self.get_prediction_info(X_val, y_val)\n",
    "        else:                          \n",
    "            X_train = np.concatenate((X_train, X_val))\n",
    "            y_train = np.concatenate((y_train, y_val))\n",
    "        \n",
    "        y_train, y_pred_on_train = self.get_prediction_info(X_train, y_train)        \n",
    "        y_test, y_pred_on_test = self.get_prediction_info(X_test, y_test)\n",
    "        print y_train.shape\n",
    "        print y_pred_on_train.shape\n",
    "        print y_test.shape\n",
    "        print y_pred_on_test.shape\n",
    "        \n",
    "        print\n",
    "        print('train precision: {}'.format(precision_auc_multi(y_train, y_pred_on_train, range(y_train.shape[1]), np.mean)))\n",
    "        print('train roc: {}'.format(roc_auc_multi(y_train, y_pred_on_train, range(y_train.shape[1]), np.mean)))\n",
    "        print('train bedroc: {}'.format(bedroc_auc_multi(y_train, y_pred_on_train, range(y_train.shape[1]), np.mean)))\n",
    "        print\n",
    "      \n",
    "        if self.useVal:\n",
    "            print('val precision: {}'.format(precision_auc_multi(y_val, y_pred_on_val, range(y_val.shape[1]), np.mean)))\n",
    "            print('val roc: {}'.format(roc_auc_multi(y_val, y_pred_on_val, range(y_val.shape[1]), np.mean)))\n",
    "            print('val bedroc: {}'.format(bedroc_auc_multi(y_val, y_pred_on_val, range(y_val.shape[1]), np.mean)))\n",
    "            print\n",
    "        print('test precision: {}'.format(precision_auc_multi(y_test, y_pred_on_test, range(y_test.shape[1]), np.mean)))\n",
    "        print('test roc: {}'.format(roc_auc_multi(y_test, y_pred_on_test, range(y_test.shape[1]), np.mean)))\n",
    "        print('test bedroc: {}'.format(bedroc_auc_multi(y_test, y_pred_on_test, range(y_test.shape[1]), np.mean)))\n",
    "        print\n",
    "        \n",
    "        print 'Below is for Keck_Pria_AS_Retest'\n",
    "        print\n",
    "        print('train precision: {}'.format(precision_auc_multi(y_train, y_pred_on_train, range(1), np.mean)))\n",
    "        print('train roc: {}'.format(roc_auc_multi(y_train, y_pred_on_train, range(1), np.mean)))\n",
    "        print('train bedroc: {}'.format(bedroc_auc_multi(y_train, y_pred_on_train, range(1), np.mean)))\n",
    "        print\n",
    "        print('test precision: {}'.format(precision_auc_multi(y_test, y_pred_on_test, range(1), np.mean)))\n",
    "        print('test roc: {}'.format(roc_auc_multi(y_test, y_pred_on_test, range(1), np.mean)))\n",
    "        print('test bedroc: {}'.format(bedroc_auc_multi(y_test, y_pred_on_test, range(1), np.mean)))\n",
    "        print\n",
    "        \n",
    "        '''\n",
    "        label_list = ['Keck_Pria_AS_Retest', 'Keck_Pria_FP_data', \n",
    "                      'Keck_Pria_Continuous_AS_Retest', 'Keck_Pria_Continuous_FP_data',\n",
    "                      'Keck_RMI_cdd', 'FP counts % inhibition']\n",
    "        label_list = ['Keck_Pria_AS_Retest', 'Keck_Pria_FP_data', \n",
    "                      'Keck_Pria_Continuous_AS_Retest', 'Keck_Pria_Continuous_FP_data',\n",
    "                      'Keck_RMI_cdd', 'FP counts % inhibition']\n",
    "        nef_auc_mean = np.mean(np.array(nef_auc(y_train, y_pred_on_train, self.EF_ratio_list, label_list))) \n",
    "        print('train nef auc: {}'.format(nef_auc_mean))\n",
    "        if self.useVal:\n",
    "            nef_auc_mean = np.mean(np.array(nef_auc(y_val, y_pred_on_val, self.EF_ratio_list, label_list))) \n",
    "            print('val nef auc: {}'.format(nef_auc_mean))\n",
    "        nef_auc_mean = np.mean(np.array(nef_auc(y_test, y_pred_on_test, self.EF_ratio_list, label_list))) \n",
    "        print('test nef auc: {}'.format(nef_auc_mean))\n",
    "        '''\n",
    "        return\n",
    "\n",
    "   \n",
    "    def save_model_params(self, config_csv_file):      \n",
    "        data = str(self.param)\n",
    "        with open(config_csv_file, 'w') as csvfile:\n",
    "            csvfile.write(data)\n",
    "        return\n",
    "print 'done'        "
   ]
  },
  {
   "cell_type": "markdown",
   "metadata": {
    "deletable": true,
    "editable": true
   },
   "source": [
    "# Test 1"
   ]
  },
  {
   "cell_type": "code",
   "execution_count": 2,
   "metadata": {
    "collapsed": false,
    "deletable": true,
    "editable": true
   },
   "outputs": [
    {
     "name": "stdout",
     "output_type": "stream",
     "text": [
      "label_name_list  [u'Keck_Pria_AS_Retest', u'Keck_Pria_FP_data', u'Keck_RMI_cdd']\n",
      "(43452, 3)\n",
      "(14485, 3)\n",
      "(14486, 3)\n",
      "done\n"
     ]
    }
   ],
   "source": [
    "config_json_file = '../../json/sklearn_randomforest_keck_pria_only.json'\n",
    "with open(config_json_file, 'r') as f:\n",
    "    conf = json.load(f)\n",
    "        \n",
    "label_name_list = conf['label_names']\n",
    "print 'label_name_list ', label_name_list\n",
    "\n",
    "# specify dataset\n",
    "k = 5\n",
    "directory = '../../dataset/fixed_dataset/fold_{}/'.format(k)\n",
    "file_list = []\n",
    "for i in range(k):\n",
    "    file_list.append('file_{}.csv'.format(i))\n",
    "\n",
    "labels = label_name_list\n",
    "\n",
    "output_file_list = [directory + f_ for f_ in file_list]\n",
    "train_pd = read_merged_data(output_file_list[0:3])\n",
    "val_pd = read_merged_data([output_file_list[3]])\n",
    "test_pd = read_merged_data([output_file_list[4]])\n",
    "\n",
    "X_train, y_train = extract_feature_and_label(train_pd,\n",
    "                                             feature_name='Fingerprints',\n",
    "                                             label_name_list=labels)\n",
    "        \n",
    "X_val, y_val = extract_feature_and_label(val_pd,\n",
    "                                         feature_name='Fingerprints',\n",
    "                                         label_name_list=labels)\n",
    "                                                   \n",
    "X_test, y_test = extract_feature_and_label(test_pd,\n",
    "                                           feature_name='Fingerprints',\n",
    "                                           label_name_list=labels)\n",
    "\n",
    "print 'done'"
   ]
  },
  {
   "cell_type": "code",
   "execution_count": 3,
   "metadata": {
    "collapsed": false,
    "deletable": true,
    "editable": true
   },
   "outputs": [
    {
     "name": "stdout",
     "output_type": "stream",
     "text": [
      "('process id:', 0)\n",
      "('Testing set:', {u'max_features': 'log2', u'n_estimators': 100, u'min_samples_leaf': 1, u'class_weight': 'balanced'})\n"
     ]
    }
   ],
   "source": [
    "task = SKLearn_RandomForest(conf=conf)"
   ]
  },
  {
   "cell_type": "code",
   "execution_count": 4,
   "metadata": {
    "collapsed": false,
    "deletable": true,
    "editable": true
   },
   "outputs": [
    {
     "name": "stdout",
     "output_type": "stream",
     "text": [
      "testing 0, Keck_Pria_AS_Retest\n"
     ]
    },
    {
     "name": "stderr",
     "output_type": "stream",
     "text": [
      "[Parallel(n_jobs=3)]: Done  44 tasks      | elapsed:    1.3s\n",
      "[Parallel(n_jobs=3)]: Done 100 out of 100 | elapsed:    2.8s finished\n"
     ]
    },
    {
     "name": "stdout",
     "output_type": "stream",
     "text": [
      "testing 1, Keck_Pria_FP_data\n"
     ]
    },
    {
     "name": "stderr",
     "output_type": "stream",
     "text": [
      "[Parallel(n_jobs=3)]: Done  44 tasks      | elapsed:    1.0s\n",
      "[Parallel(n_jobs=3)]: Done 100 out of 100 | elapsed:    2.2s finished\n"
     ]
    },
    {
     "name": "stdout",
     "output_type": "stream",
     "text": [
      "testing 2, Keck_RMI_cdd\n"
     ]
    },
    {
     "name": "stderr",
     "output_type": "stream",
     "text": [
      "[Parallel(n_jobs=3)]: Done  44 tasks      | elapsed:    1.2s\n"
     ]
    },
    {
     "name": "stdout",
     "output_type": "stream",
     "text": [
      "done\n"
     ]
    },
    {
     "name": "stderr",
     "output_type": "stream",
     "text": [
      "[Parallel(n_jobs=3)]: Done 100 out of 100 | elapsed:    2.7s finished\n"
     ]
    }
   ],
   "source": [
    "task.train_and_predict(X_train, y_train, X_val, y_val, X_test, y_test, 'model_file')\n",
    "print 'done'"
   ]
  },
  {
   "cell_type": "code",
   "execution_count": 5,
   "metadata": {
    "collapsed": false,
    "deletable": true,
    "editable": true
   },
   "outputs": [
    {
     "name": "stderr",
     "output_type": "stream",
     "text": [
      "[Parallel(n_jobs=3)]: Done  44 tasks      | elapsed:    0.2s\n",
      "[Parallel(n_jobs=3)]: Done 100 out of 100 | elapsed:    0.5s finished\n",
      "[Parallel(n_jobs=3)]: Done  44 tasks      | elapsed:    0.3s\n",
      "[Parallel(n_jobs=3)]: Done 100 out of 100 | elapsed:    0.6s finished\n",
      "[Parallel(n_jobs=3)]: Done  44 tasks      | elapsed:    0.3s\n",
      "[Parallel(n_jobs=3)]: Done 100 out of 100 | elapsed:    0.6s finished\n",
      "[Parallel(n_jobs=3)]: Done  44 tasks      | elapsed:    0.1s\n",
      "[Parallel(n_jobs=3)]: Done 100 out of 100 | elapsed:    0.1s finished\n",
      "[Parallel(n_jobs=3)]: Done  44 tasks      | elapsed:    0.1s\n",
      "[Parallel(n_jobs=3)]: Done 100 out of 100 | elapsed:    0.2s finished\n",
      "[Parallel(n_jobs=3)]: Done  44 tasks      | elapsed:    0.1s\n",
      "[Parallel(n_jobs=3)]: Done 100 out of 100 | elapsed:    0.2s finished\n"
     ]
    },
    {
     "name": "stdout",
     "output_type": "stream",
     "text": [
      "(57937, 3)\n",
      "(57937, 3)\n",
      "(14486, 3)\n",
      "(14486, 3)\n",
      "\n",
      "train precision: 1.0\n",
      "train roc: 1.0\n",
      "train bedroc: 0.990234270073\n",
      "\n",
      "test precision: 0.085280718087\n",
      "test roc: 0.735687139602\n",
      "test bedroc: 0.478756107257\n",
      "\n",
      "Below is for Keck_Pria_AS_Retest\n",
      "\n",
      "train precision: 1.0\n",
      "train roc: 1.0\n",
      "train bedroc: 0.99466830683\n",
      "\n",
      "test precision: 0.0815249940382\n",
      "test roc: 0.733316776088\n",
      "test bedroc: 0.502638413819\n",
      "\n",
      "done\n"
     ]
    }
   ],
   "source": [
    "task.predict_with_existing(X_train, y_train, X_val, y_val, X_test, y_test)\n",
    "print 'done'"
   ]
  },
  {
   "cell_type": "markdown",
   "metadata": {
    "deletable": true,
    "editable": true
   },
   "source": [
    "# Test 2"
   ]
  },
  {
   "cell_type": "code",
   "execution_count": 6,
   "metadata": {
    "collapsed": false,
    "deletable": true,
    "editable": true
   },
   "outputs": [
    {
     "name": "stdout",
     "output_type": "stream",
     "text": [
      "label_name_list  [u'Keck_Pria_AS_Retest', u'Keck_Pria_FP_data', u'Keck_RMI_cdd']\n",
      "(43455, 3)\n",
      "(14482, 3)\n",
      "(14486, 3)\n",
      "done\n"
     ]
    }
   ],
   "source": [
    "config_json_file = '../../json/sklearn_randomforest_keck_pria_only.json'\n",
    "with open(config_json_file, 'r') as f:\n",
    "    conf = json.load(f)\n",
    "        \n",
    "label_name_list = conf['label_names']\n",
    "print 'label_name_list ', label_name_list\n",
    "\n",
    "# specify dataset\n",
    "k = 5\n",
    "directory = '../../dataset/fixed_dataset/fold_{}/'.format(k)\n",
    "file_list = []\n",
    "for i in range(k):\n",
    "    file_list.append('file_{}.csv'.format(i))\n",
    "\n",
    "labels = label_name_list\n",
    "\n",
    "output_file_list = [directory + f_ for f_ in file_list]\n",
    "train_pd = read_merged_data(output_file_list[2:5])\n",
    "val_pd = read_merged_data([output_file_list[1]])\n",
    "test_pd = read_merged_data([output_file_list[0]])\n",
    "\n",
    "X_train, y_train = extract_feature_and_label(train_pd,\n",
    "                                             feature_name='Fingerprints',\n",
    "                                             label_name_list=labels)\n",
    "        \n",
    "X_val, y_val = extract_feature_and_label(val_pd,\n",
    "                                         feature_name='Fingerprints',\n",
    "                                         label_name_list=labels)\n",
    "                                                   \n",
    "X_test, y_test = extract_feature_and_label(test_pd,\n",
    "                                           feature_name='Fingerprints',\n",
    "                                           label_name_list=labels)\n",
    "\n",
    "print 'done'"
   ]
  },
  {
   "cell_type": "code",
   "execution_count": 7,
   "metadata": {
    "collapsed": false,
    "deletable": true,
    "editable": true
   },
   "outputs": [
    {
     "name": "stdout",
     "output_type": "stream",
     "text": [
      "('process id:', 0)\n",
      "('Testing set:', {u'max_features': 'log2', u'n_estimators': 100, u'min_samples_leaf': 1, u'class_weight': 'balanced'})\n"
     ]
    }
   ],
   "source": [
    "task = SKLearn_RandomForest(conf=conf)"
   ]
  },
  {
   "cell_type": "code",
   "execution_count": 8,
   "metadata": {
    "collapsed": false,
    "deletable": true,
    "editable": true
   },
   "outputs": [
    {
     "name": "stdout",
     "output_type": "stream",
     "text": [
      "testing 0, Keck_Pria_AS_Retest\n"
     ]
    },
    {
     "name": "stderr",
     "output_type": "stream",
     "text": [
      "[Parallel(n_jobs=3)]: Done  44 tasks      | elapsed:    1.4s\n",
      "[Parallel(n_jobs=3)]: Done 100 out of 100 | elapsed:    3.0s finished\n"
     ]
    },
    {
     "name": "stdout",
     "output_type": "stream",
     "text": [
      "testing 1, Keck_Pria_FP_data\n"
     ]
    },
    {
     "name": "stderr",
     "output_type": "stream",
     "text": [
      "[Parallel(n_jobs=3)]: Done  44 tasks      | elapsed:    0.9s\n",
      "[Parallel(n_jobs=3)]: Done 100 out of 100 | elapsed:    2.0s finished\n"
     ]
    },
    {
     "name": "stdout",
     "output_type": "stream",
     "text": [
      "testing 2, Keck_RMI_cdd\n"
     ]
    },
    {
     "name": "stderr",
     "output_type": "stream",
     "text": [
      "[Parallel(n_jobs=3)]: Done  44 tasks      | elapsed:    1.1s\n"
     ]
    },
    {
     "name": "stdout",
     "output_type": "stream",
     "text": [
      "done\n"
     ]
    },
    {
     "name": "stderr",
     "output_type": "stream",
     "text": [
      "[Parallel(n_jobs=3)]: Done 100 out of 100 | elapsed:    2.6s finished\n"
     ]
    }
   ],
   "source": [
    "task.train_and_predict(X_train, y_train, X_val, y_val, X_test, y_test, 'model_file')\n",
    "print 'done'"
   ]
  },
  {
   "cell_type": "code",
   "execution_count": 9,
   "metadata": {
    "collapsed": false,
    "deletable": true,
    "editable": true
   },
   "outputs": [
    {
     "name": "stderr",
     "output_type": "stream",
     "text": [
      "[Parallel(n_jobs=3)]: Done  44 tasks      | elapsed:    0.2s\n",
      "[Parallel(n_jobs=3)]: Done 100 out of 100 | elapsed:    0.5s finished\n",
      "[Parallel(n_jobs=3)]: Done  44 tasks      | elapsed:    0.2s\n",
      "[Parallel(n_jobs=3)]: Done 100 out of 100 | elapsed:    0.4s finished\n",
      "[Parallel(n_jobs=3)]: Done  44 tasks      | elapsed:    0.3s\n",
      "[Parallel(n_jobs=3)]: Done 100 out of 100 | elapsed:    0.6s finished\n",
      "[Parallel(n_jobs=3)]: Done  44 tasks      | elapsed:    0.1s\n",
      "[Parallel(n_jobs=3)]: Done 100 out of 100 | elapsed:    0.1s finished\n",
      "[Parallel(n_jobs=3)]: Done  44 tasks      | elapsed:    0.0s\n",
      "[Parallel(n_jobs=3)]: Done 100 out of 100 | elapsed:    0.1s finished\n",
      "[Parallel(n_jobs=3)]: Done  44 tasks      | elapsed:    0.1s\n",
      "[Parallel(n_jobs=3)]: Done 100 out of 100 | elapsed:    0.1s finished\n"
     ]
    },
    {
     "name": "stdout",
     "output_type": "stream",
     "text": [
      "(57937, 3)\n",
      "(57937, 3)\n",
      "(14486, 3)\n",
      "(14486, 3)\n",
      "\n",
      "train precision: 1.0\n",
      "train roc: 1.0\n",
      "train bedroc: 0.990205375155\n",
      "\n",
      "test precision: 0.0707712372813\n",
      "test roc: 0.676025687288\n",
      "test bedroc: 0.39818311044\n",
      "\n",
      "Below is for Keck_Pria_AS_Retest\n",
      "\n",
      "train precision: 1.0\n",
      "train roc: 1.0\n",
      "train bedroc: 0.99466830683\n",
      "\n",
      "test precision: 0.13760671283\n",
      "test roc: 0.799790514858\n",
      "test bedroc: 0.623657645847\n",
      "\n",
      "done\n"
     ]
    }
   ],
   "source": [
    "task.predict_with_existing(X_train, y_train, X_val, y_val, X_test, y_test)\n",
    "print 'done'"
   ]
  }
 ],
 "metadata": {
  "kernelspec": {
   "display_name": "Python 2",
   "language": "python",
   "name": "python2"
  },
  "language_info": {
   "codemirror_mode": {
    "name": "ipython",
    "version": 2
   },
   "file_extension": ".py",
   "mimetype": "text/x-python",
   "name": "python",
   "nbconvert_exporter": "python",
   "pygments_lexer": "ipython2",
   "version": "2.7.13"
  }
 },
 "nbformat": 4,
 "nbformat_minor": 0
}

{
 "cells": [
  {
   "cell_type": "code",
   "execution_count": null,
   "metadata": {
    "collapsed": false,
    "deletable": true,
    "editable": true
   },
   "outputs": [
    {
     "name": "stderr",
     "output_type": "stream",
     "text": [
      "Using Theano backend.\n"
     ]
    }
   ],
   "source": [
    "from IPython.display import Markdown\n",
    "from virtual_screening.models.grid_search_optimization import get_hyperparameter_sets_in_markdown\n",
    "%load_ext autoreload\n",
    "%autoreload 2"
   ]
  },
  {
   "cell_type": "code",
   "execution_count": null,
   "metadata": {
    "collapsed": false,
    "deletable": true,
    "editable": true,
    "scrolled": false
   },
   "outputs": [],
   "source": [
    "model = 'single_classification'\n",
    "content = get_hyperparameter_sets_in_markdown(model)\n",
    "title = '# Hyperparameter Set: {}'.format(model)\n",
    "content = '{}\\n{}'.format(title, content)\n",
    "Markdown(content)"
   ]
  },
  {
   "cell_type": "code",
   "execution_count": null,
   "metadata": {
    "collapsed": false,
    "deletable": true,
    "editable": true
   },
   "outputs": [],
   "source": [
    "model = 'single_regression'\n",
    "content = get_hyperparameter_sets_in_markdown(model)\n",
    "title = '# Hyperparameter Set: {}'.format(model)\n",
    "content = '{}\\n{}'.format(title, content)\n",
    "Markdown(content)"
   ]
  },
  {
   "cell_type": "code",
   "execution_count": null,
   "metadata": {
    "collapsed": false,
    "deletable": true,
    "editable": true
   },
   "outputs": [],
   "source": [
    "model = 'vanilla_lstm'\n",
    "content = get_hyperparameter_sets_in_markdown(model)\n",
    "title = '# Hyperparameter Set: {}'.format(model)\n",
    "content = '{}\\n{}'.format(title, content)\n",
    "Markdown(content)"
   ]
  },
  {
   "cell_type": "code",
   "execution_count": null,
   "metadata": {
    "collapsed": false,
    "deletable": true,
    "editable": true
   },
   "outputs": [],
   "source": [
    "model = 'multi_classification'\n",
    "content = get_hyperparameter_sets_in_markdown(model)\n",
    "title = '# Hyperparameter Set: {}'.format(model)\n",
    "content = '{}\\n{}'.format(title, content)\n",
    "Markdown(content)"
   ]
  }
 ],
 "metadata": {
  "kernelspec": {
   "display_name": "Python 2",
   "language": "python",
   "name": "python2"
  },
  "language_info": {
   "codemirror_mode": {
    "name": "ipython",
    "version": 2
   },
   "file_extension": ".py",
   "mimetype": "text/x-python",
   "name": "python",
   "nbconvert_exporter": "python",
   "pygments_lexer": "ipython2",
   "version": "2.7.13"
  }
 },
 "nbformat": 4,
 "nbformat_minor": 0
}

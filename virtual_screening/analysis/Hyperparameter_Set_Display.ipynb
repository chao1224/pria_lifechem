{
 "cells": [
  {
   "cell_type": "code",
   "execution_count": 1,
   "metadata": {
    "collapsed": false,
    "deletable": true,
    "editable": true
   },
   "outputs": [
    {
     "name": "stderr",
     "output_type": "stream",
     "text": [
      "Using Theano backend.\n",
      "Using gpu device 1: Tesla K40m (CNMeM is disabled, CuDNN 4004)\n"
     ]
    }
   ],
   "source": [
    "from IPython.display import Markdown\n",
    "from virtual_screening.models.grid_search_optimization import get_hyperparameter_sets_in_markdown\n",
    "%load_ext autoreload\n",
    "%autoreload 2"
   ]
  },
  {
   "cell_type": "code",
   "execution_count": 2,
   "metadata": {
    "collapsed": false,
    "deletable": true,
    "editable": true,
    "scrolled": false
   },
   "outputs": [
    {
     "data": {
      "text/markdown": [
       "# Hyperparameter Set: single_classification\n",
       "| count | weighted schema | optimizer | learning rate | early stopping | epoch patience | activations |\n",
       "| --- | --- | --- | --- | --- | --- | --- |\n",
       "| 0 | no_weight | adam | 3e-05 | auc | {'patience': 50, 'epoch_size': 200} | {0: 'relu', 1: 'sigmoid', 2: 'sigmoid'} |\n",
       "| 1 | weighted_sample | adam | 3e-05 | auc | {'patience': 50, 'epoch_size': 200} | {0: 'relu', 1: 'sigmoid', 2: 'sigmoid'} |\n",
       "| 2 | no_weight | adam | 0.0001 | auc | {'patience': 50, 'epoch_size': 200} | {0: 'relu', 1: 'sigmoid', 2: 'sigmoid'} |\n",
       "| 3 | weighted_sample | adam | 0.0001 | auc | {'patience': 50, 'epoch_size': 200} | {0: 'relu', 1: 'sigmoid', 2: 'sigmoid'} |\n",
       "| 4 | no_weight | adam | 0.003 | auc | {'patience': 50, 'epoch_size': 200} | {0: 'relu', 1: 'sigmoid', 2: 'sigmoid'} |\n",
       "| 5 | weighted_sample | adam | 0.003 | auc | {'patience': 50, 'epoch_size': 200} | {0: 'relu', 1: 'sigmoid', 2: 'sigmoid'} |\n",
       "| 6 | no_weight | adam | 3e-05 | auc | {'patience': 200, 'epoch_size': 1000} | {0: 'relu', 1: 'sigmoid', 2: 'sigmoid'} |\n",
       "| 7 | weighted_sample | adam | 3e-05 | auc | {'patience': 200, 'epoch_size': 1000} | {0: 'relu', 1: 'sigmoid', 2: 'sigmoid'} |\n",
       "| 8 | no_weight | adam | 0.0001 | auc | {'patience': 200, 'epoch_size': 1000} | {0: 'relu', 1: 'sigmoid', 2: 'sigmoid'} |\n",
       "| 9 | weighted_sample | adam | 0.0001 | auc | {'patience': 200, 'epoch_size': 1000} | {0: 'relu', 1: 'sigmoid', 2: 'sigmoid'} |\n",
       "| 10 | no_weight | adam | 0.003 | auc | {'patience': 200, 'epoch_size': 1000} | {0: 'relu', 1: 'sigmoid', 2: 'sigmoid'} |\n",
       "| 11 | weighted_sample | adam | 0.003 | auc | {'patience': 200, 'epoch_size': 1000} | {0: 'relu', 1: 'sigmoid', 2: 'sigmoid'} |\n",
       "| 12 | no_weight | adam | 3e-05 | precision | {'patience': 50, 'epoch_size': 200} | {0: 'relu', 1: 'sigmoid', 2: 'sigmoid'} |\n",
       "| 13 | weighted_sample | adam | 3e-05 | precision | {'patience': 50, 'epoch_size': 200} | {0: 'relu', 1: 'sigmoid', 2: 'sigmoid'} |\n",
       "| 14 | no_weight | adam | 0.0001 | precision | {'patience': 50, 'epoch_size': 200} | {0: 'relu', 1: 'sigmoid', 2: 'sigmoid'} |\n",
       "| 15 | weighted_sample | adam | 0.0001 | precision | {'patience': 50, 'epoch_size': 200} | {0: 'relu', 1: 'sigmoid', 2: 'sigmoid'} |\n",
       "| 16 | no_weight | adam | 0.003 | precision | {'patience': 50, 'epoch_size': 200} | {0: 'relu', 1: 'sigmoid', 2: 'sigmoid'} |\n",
       "| 17 | weighted_sample | adam | 0.003 | precision | {'patience': 50, 'epoch_size': 200} | {0: 'relu', 1: 'sigmoid', 2: 'sigmoid'} |\n",
       "| 18 | no_weight | adam | 3e-05 | precision | {'patience': 200, 'epoch_size': 1000} | {0: 'relu', 1: 'sigmoid', 2: 'sigmoid'} |\n",
       "| 19 | weighted_sample | adam | 3e-05 | precision | {'patience': 200, 'epoch_size': 1000} | {0: 'relu', 1: 'sigmoid', 2: 'sigmoid'} |\n",
       "| 20 | no_weight | adam | 0.0001 | precision | {'patience': 200, 'epoch_size': 1000} | {0: 'relu', 1: 'sigmoid', 2: 'sigmoid'} |\n",
       "| 21 | weighted_sample | adam | 0.0001 | precision | {'patience': 200, 'epoch_size': 1000} | {0: 'relu', 1: 'sigmoid', 2: 'sigmoid'} |\n",
       "| 22 | no_weight | adam | 0.003 | precision | {'patience': 200, 'epoch_size': 1000} | {0: 'relu', 1: 'sigmoid', 2: 'sigmoid'} |\n",
       "| 23 | weighted_sample | adam | 0.003 | precision | {'patience': 200, 'epoch_size': 1000} | {0: 'relu', 1: 'sigmoid', 2: 'sigmoid'} |\n",
       "| 24 | no_weight | adam | 3e-05 | auc | {'patience': 50, 'epoch_size': 200} | {0: 'relu', 1: 'relu', 2: 'sigmoid'} |\n",
       "| 25 | weighted_sample | adam | 3e-05 | auc | {'patience': 50, 'epoch_size': 200} | {0: 'relu', 1: 'relu', 2: 'sigmoid'} |\n",
       "| 26 | no_weight | adam | 0.0001 | auc | {'patience': 50, 'epoch_size': 200} | {0: 'relu', 1: 'relu', 2: 'sigmoid'} |\n",
       "| 27 | weighted_sample | adam | 0.0001 | auc | {'patience': 50, 'epoch_size': 200} | {0: 'relu', 1: 'relu', 2: 'sigmoid'} |\n",
       "| 28 | no_weight | adam | 0.003 | auc | {'patience': 50, 'epoch_size': 200} | {0: 'relu', 1: 'relu', 2: 'sigmoid'} |\n",
       "| 29 | weighted_sample | adam | 0.003 | auc | {'patience': 50, 'epoch_size': 200} | {0: 'relu', 1: 'relu', 2: 'sigmoid'} |\n",
       "| 30 | no_weight | adam | 3e-05 | auc | {'patience': 200, 'epoch_size': 1000} | {0: 'relu', 1: 'relu', 2: 'sigmoid'} |\n",
       "| 31 | weighted_sample | adam | 3e-05 | auc | {'patience': 200, 'epoch_size': 1000} | {0: 'relu', 1: 'relu', 2: 'sigmoid'} |\n",
       "| 32 | no_weight | adam | 0.0001 | auc | {'patience': 200, 'epoch_size': 1000} | {0: 'relu', 1: 'relu', 2: 'sigmoid'} |\n",
       "| 33 | weighted_sample | adam | 0.0001 | auc | {'patience': 200, 'epoch_size': 1000} | {0: 'relu', 1: 'relu', 2: 'sigmoid'} |\n",
       "| 34 | no_weight | adam | 0.003 | auc | {'patience': 200, 'epoch_size': 1000} | {0: 'relu', 1: 'relu', 2: 'sigmoid'} |\n",
       "| 35 | weighted_sample | adam | 0.003 | auc | {'patience': 200, 'epoch_size': 1000} | {0: 'relu', 1: 'relu', 2: 'sigmoid'} |\n",
       "| 36 | no_weight | adam | 3e-05 | precision | {'patience': 50, 'epoch_size': 200} | {0: 'relu', 1: 'relu', 2: 'sigmoid'} |\n",
       "| 37 | weighted_sample | adam | 3e-05 | precision | {'patience': 50, 'epoch_size': 200} | {0: 'relu', 1: 'relu', 2: 'sigmoid'} |\n",
       "| 38 | no_weight | adam | 0.0001 | precision | {'patience': 50, 'epoch_size': 200} | {0: 'relu', 1: 'relu', 2: 'sigmoid'} |\n",
       "| 39 | weighted_sample | adam | 0.0001 | precision | {'patience': 50, 'epoch_size': 200} | {0: 'relu', 1: 'relu', 2: 'sigmoid'} |\n",
       "| 40 | no_weight | adam | 0.003 | precision | {'patience': 50, 'epoch_size': 200} | {0: 'relu', 1: 'relu', 2: 'sigmoid'} |\n",
       "| 41 | weighted_sample | adam | 0.003 | precision | {'patience': 50, 'epoch_size': 200} | {0: 'relu', 1: 'relu', 2: 'sigmoid'} |\n",
       "| 42 | no_weight | adam | 3e-05 | precision | {'patience': 200, 'epoch_size': 1000} | {0: 'relu', 1: 'relu', 2: 'sigmoid'} |\n",
       "| 43 | weighted_sample | adam | 3e-05 | precision | {'patience': 200, 'epoch_size': 1000} | {0: 'relu', 1: 'relu', 2: 'sigmoid'} |\n",
       "| 44 | no_weight | adam | 0.0001 | precision | {'patience': 200, 'epoch_size': 1000} | {0: 'relu', 1: 'relu', 2: 'sigmoid'} |\n",
       "| 45 | weighted_sample | adam | 0.0001 | precision | {'patience': 200, 'epoch_size': 1000} | {0: 'relu', 1: 'relu', 2: 'sigmoid'} |\n",
       "| 46 | no_weight | adam | 0.003 | precision | {'patience': 200, 'epoch_size': 1000} | {0: 'relu', 1: 'relu', 2: 'sigmoid'} |\n",
       "| 47 | weighted_sample | adam | 0.003 | precision | {'patience': 200, 'epoch_size': 1000} | {0: 'relu', 1: 'relu', 2: 'sigmoid'} |"
      ],
      "text/plain": [
       "<IPython.core.display.Markdown object>"
      ]
     },
     "execution_count": 2,
     "metadata": {},
     "output_type": "execute_result"
    }
   ],
   "source": [
    "model = 'single_classification'\n",
    "content = get_hyperparameter_sets_in_markdown(model)\n",
    "title = '# Hyperparameter Set: {}'.format(model)\n",
    "content = '{}\\n{}'.format(title, content)\n",
    "Markdown(content)"
   ]
  },
  {
   "cell_type": "code",
   "execution_count": 3,
   "metadata": {
    "collapsed": false,
    "deletable": true,
    "editable": true
   },
   "outputs": [
    {
     "data": {
      "text/markdown": [
       "# Hyperparameter Set: single_regression\n",
       "| count | weighted schema | optimizer | learning rate | early stopping | epoch patience | activations |\n",
       "| --- | --- | --- | --- | --- | --- | --- |\n",
       "| 0 | no_weight | adam | 3e-05 | auc | {'patience': 50, 'epoch_size': 200} | {0: 'sigmoid', 1: 'sigmoid', 2: 'linear'} |\n",
       "| 1 | no_weight | adam | 0.0001 | auc | {'patience': 50, 'epoch_size': 200} | {0: 'sigmoid', 1: 'sigmoid', 2: 'linear'} |\n",
       "| 2 | no_weight | adam | 0.003 | auc | {'patience': 50, 'epoch_size': 200} | {0: 'sigmoid', 1: 'sigmoid', 2: 'linear'} |\n",
       "| 3 | no_weight | adam | 3e-05 | auc | {'patience': 200, 'epoch_size': 1000} | {0: 'sigmoid', 1: 'sigmoid', 2: 'linear'} |\n",
       "| 4 | no_weight | adam | 0.0001 | auc | {'patience': 200, 'epoch_size': 1000} | {0: 'sigmoid', 1: 'sigmoid', 2: 'linear'} |\n",
       "| 5 | no_weight | adam | 0.003 | auc | {'patience': 200, 'epoch_size': 1000} | {0: 'sigmoid', 1: 'sigmoid', 2: 'linear'} |\n",
       "| 6 | no_weight | adam | 3e-05 | precision | {'patience': 50, 'epoch_size': 200} | {0: 'sigmoid', 1: 'sigmoid', 2: 'linear'} |\n",
       "| 7 | no_weight | adam | 0.0001 | precision | {'patience': 50, 'epoch_size': 200} | {0: 'sigmoid', 1: 'sigmoid', 2: 'linear'} |\n",
       "| 8 | no_weight | adam | 0.003 | precision | {'patience': 50, 'epoch_size': 200} | {0: 'sigmoid', 1: 'sigmoid', 2: 'linear'} |\n",
       "| 9 | no_weight | adam | 3e-05 | precision | {'patience': 200, 'epoch_size': 1000} | {0: 'sigmoid', 1: 'sigmoid', 2: 'linear'} |\n",
       "| 10 | no_weight | adam | 0.0001 | precision | {'patience': 200, 'epoch_size': 1000} | {0: 'sigmoid', 1: 'sigmoid', 2: 'linear'} |\n",
       "| 11 | no_weight | adam | 0.003 | precision | {'patience': 200, 'epoch_size': 1000} | {0: 'sigmoid', 1: 'sigmoid', 2: 'linear'} |\n",
       "| 12 | no_weight | adam | 3e-05 | auc | {'patience': 50, 'epoch_size': 200} | {0: 'relu', 1: 'sigmoid', 2: 'sigmoid'} |\n",
       "| 13 | no_weight | adam | 0.0001 | auc | {'patience': 50, 'epoch_size': 200} | {0: 'relu', 1: 'sigmoid', 2: 'sigmoid'} |\n",
       "| 14 | no_weight | adam | 0.003 | auc | {'patience': 50, 'epoch_size': 200} | {0: 'relu', 1: 'sigmoid', 2: 'sigmoid'} |\n",
       "| 15 | no_weight | adam | 3e-05 | auc | {'patience': 200, 'epoch_size': 1000} | {0: 'relu', 1: 'sigmoid', 2: 'sigmoid'} |\n",
       "| 16 | no_weight | adam | 0.0001 | auc | {'patience': 200, 'epoch_size': 1000} | {0: 'relu', 1: 'sigmoid', 2: 'sigmoid'} |\n",
       "| 17 | no_weight | adam | 0.003 | auc | {'patience': 200, 'epoch_size': 1000} | {0: 'relu', 1: 'sigmoid', 2: 'sigmoid'} |\n",
       "| 18 | no_weight | adam | 3e-05 | precision | {'patience': 50, 'epoch_size': 200} | {0: 'relu', 1: 'sigmoid', 2: 'sigmoid'} |\n",
       "| 19 | no_weight | adam | 0.0001 | precision | {'patience': 50, 'epoch_size': 200} | {0: 'relu', 1: 'sigmoid', 2: 'sigmoid'} |\n",
       "| 20 | no_weight | adam | 0.003 | precision | {'patience': 50, 'epoch_size': 200} | {0: 'relu', 1: 'sigmoid', 2: 'sigmoid'} |\n",
       "| 21 | no_weight | adam | 3e-05 | precision | {'patience': 200, 'epoch_size': 1000} | {0: 'relu', 1: 'sigmoid', 2: 'sigmoid'} |\n",
       "| 22 | no_weight | adam | 0.0001 | precision | {'patience': 200, 'epoch_size': 1000} | {0: 'relu', 1: 'sigmoid', 2: 'sigmoid'} |\n",
       "| 23 | no_weight | adam | 0.003 | precision | {'patience': 200, 'epoch_size': 1000} | {0: 'relu', 1: 'sigmoid', 2: 'sigmoid'} |"
      ],
      "text/plain": [
       "<IPython.core.display.Markdown object>"
      ]
     },
     "execution_count": 3,
     "metadata": {},
     "output_type": "execute_result"
    }
   ],
   "source": [
    "model = 'single_regression'\n",
    "content = get_hyperparameter_sets_in_markdown(model)\n",
    "title = '# Hyperparameter Set: {}'.format(model)\n",
    "content = '{}\\n{}'.format(title, content)\n",
    "Markdown(content)"
   ]
  },
  {
   "cell_type": "code",
   "execution_count": 4,
   "metadata": {
    "collapsed": false,
    "deletable": true,
    "editable": true
   },
   "outputs": [
    {
     "data": {
      "text/markdown": [
       "# Hyperparameter Set: vanilla_lstm\n",
       "| count | embedding_size | optimizer | dropout | early stopping | epoch patience | hidden_size |\n",
       "| --- | --- | --- | --- | --- | --- | --- |\n",
       "| 0 | 30 | rmsprop | 0.2 | auc | {'patience': 50, 'epoch_size': 200} | [50] |\n",
       "| 1 | 30 | rmsprop | 0.2 | auc | {'patience': 50, 'epoch_size': 200} | [100] |\n",
       "| 2 | 30 | rmsprop | 0.2 | auc | {'patience': 50, 'epoch_size': 200} | [100, 10] |\n",
       "| 3 | 30 | rmsprop | 0.2 | auc | {'patience': 50, 'epoch_size': 200} | [100, 50] |\n",
       "| 4 | 30 | rmsprop | 0.2 | auc | {'patience': 50, 'epoch_size': 200} | [50, 10] |\n",
       "| 5 | 50 | rmsprop | 0.2 | auc | {'patience': 50, 'epoch_size': 200} | [50] |\n",
       "| 6 | 50 | rmsprop | 0.2 | auc | {'patience': 50, 'epoch_size': 200} | [100] |\n",
       "| 7 | 50 | rmsprop | 0.2 | auc | {'patience': 50, 'epoch_size': 200} | [100, 10] |\n",
       "| 8 | 50 | rmsprop | 0.2 | auc | {'patience': 50, 'epoch_size': 200} | [100, 50] |\n",
       "| 9 | 50 | rmsprop | 0.2 | auc | {'patience': 50, 'epoch_size': 200} | [50, 10] |\n",
       "| 10 | 100 | rmsprop | 0.2 | auc | {'patience': 50, 'epoch_size': 200} | [50] |\n",
       "| 11 | 100 | rmsprop | 0.2 | auc | {'patience': 50, 'epoch_size': 200} | [100] |\n",
       "| 12 | 100 | rmsprop | 0.2 | auc | {'patience': 50, 'epoch_size': 200} | [100, 10] |\n",
       "| 13 | 100 | rmsprop | 0.2 | auc | {'patience': 50, 'epoch_size': 200} | [100, 50] |\n",
       "| 14 | 100 | rmsprop | 0.2 | auc | {'patience': 50, 'epoch_size': 200} | [50, 10] |\n",
       "| 15 | 30 | rmsprop | 0.5 | auc | {'patience': 50, 'epoch_size': 200} | [50] |\n",
       "| 16 | 30 | rmsprop | 0.5 | auc | {'patience': 50, 'epoch_size': 200} | [100] |\n",
       "| 17 | 30 | rmsprop | 0.5 | auc | {'patience': 50, 'epoch_size': 200} | [100, 10] |\n",
       "| 18 | 30 | rmsprop | 0.5 | auc | {'patience': 50, 'epoch_size': 200} | [100, 50] |\n",
       "| 19 | 30 | rmsprop | 0.5 | auc | {'patience': 50, 'epoch_size': 200} | [50, 10] |\n",
       "| 20 | 50 | rmsprop | 0.5 | auc | {'patience': 50, 'epoch_size': 200} | [50] |\n",
       "| 21 | 50 | rmsprop | 0.5 | auc | {'patience': 50, 'epoch_size': 200} | [100] |\n",
       "| 22 | 50 | rmsprop | 0.5 | auc | {'patience': 50, 'epoch_size': 200} | [100, 10] |\n",
       "| 23 | 50 | rmsprop | 0.5 | auc | {'patience': 50, 'epoch_size': 200} | [100, 50] |\n",
       "| 24 | 50 | rmsprop | 0.5 | auc | {'patience': 50, 'epoch_size': 200} | [50, 10] |\n",
       "| 25 | 100 | rmsprop | 0.5 | auc | {'patience': 50, 'epoch_size': 200} | [50] |\n",
       "| 26 | 100 | rmsprop | 0.5 | auc | {'patience': 50, 'epoch_size': 200} | [100] |\n",
       "| 27 | 100 | rmsprop | 0.5 | auc | {'patience': 50, 'epoch_size': 200} | [100, 10] |\n",
       "| 28 | 100 | rmsprop | 0.5 | auc | {'patience': 50, 'epoch_size': 200} | [100, 50] |\n",
       "| 29 | 100 | rmsprop | 0.5 | auc | {'patience': 50, 'epoch_size': 200} | [50, 10] |"
      ],
      "text/plain": [
       "<IPython.core.display.Markdown object>"
      ]
     },
     "execution_count": 4,
     "metadata": {},
     "output_type": "execute_result"
    }
   ],
   "source": [
    "model = 'vanilla_lstm'\n",
    "content = get_hyperparameter_sets_in_markdown(model)\n",
    "title = '# Hyperparameter Set: {}'.format(model)\n",
    "content = '{}\\n{}'.format(title, content)\n",
    "Markdown(content)"
   ]
  },
  {
   "cell_type": "code",
   "execution_count": 5,
   "metadata": {
    "collapsed": false,
    "deletable": true,
    "editable": true
   },
   "outputs": [
    {
     "data": {
      "text/markdown": [
       "# Hyperparameter Set: multi_classification\n",
       "| count | weighted schema | optimizer | learning rate | early stopping | epoch patience | activations |\n",
       "| --- | --- | --- | --- | --- | --- | --- |\n",
       "| 0 | no_weight | adam | 3e-05 | precision | {'patience': 50, 'epoch_size': 200} | {0: 'relu', 1: 'sigmoid', 2: 'sigmoid'} |\n",
       "| 1 | weighted_sample | adam | 3e-05 | precision | {'patience': 50, 'epoch_size': 200} | {0: 'relu', 1: 'sigmoid', 2: 'sigmoid'} |\n",
       "| 2 | no_weight | adam | 0.0001 | precision | {'patience': 50, 'epoch_size': 200} | {0: 'relu', 1: 'sigmoid', 2: 'sigmoid'} |\n",
       "| 3 | weighted_sample | adam | 0.0001 | precision | {'patience': 50, 'epoch_size': 200} | {0: 'relu', 1: 'sigmoid', 2: 'sigmoid'} |\n",
       "| 4 | no_weight | adam | 0.003 | precision | {'patience': 50, 'epoch_size': 200} | {0: 'relu', 1: 'sigmoid', 2: 'sigmoid'} |\n",
       "| 5 | weighted_sample | adam | 0.003 | precision | {'patience': 50, 'epoch_size': 200} | {0: 'relu', 1: 'sigmoid', 2: 'sigmoid'} |\n",
       "| 6 | no_weight | adam | 3e-05 | precision | {'patience': 200, 'epoch_size': 1000} | {0: 'relu', 1: 'sigmoid', 2: 'sigmoid'} |\n",
       "| 7 | weighted_sample | adam | 3e-05 | precision | {'patience': 200, 'epoch_size': 1000} | {0: 'relu', 1: 'sigmoid', 2: 'sigmoid'} |\n",
       "| 8 | no_weight | adam | 0.0001 | precision | {'patience': 200, 'epoch_size': 1000} | {0: 'relu', 1: 'sigmoid', 2: 'sigmoid'} |\n",
       "| 9 | weighted_sample | adam | 0.0001 | precision | {'patience': 200, 'epoch_size': 1000} | {0: 'relu', 1: 'sigmoid', 2: 'sigmoid'} |\n",
       "| 10 | no_weight | adam | 0.003 | precision | {'patience': 200, 'epoch_size': 1000} | {0: 'relu', 1: 'sigmoid', 2: 'sigmoid'} |\n",
       "| 11 | weighted_sample | adam | 0.003 | precision | {'patience': 200, 'epoch_size': 1000} | {0: 'relu', 1: 'sigmoid', 2: 'sigmoid'} |\n",
       "| 12 | no_weight | adam | 3e-05 | precision | {'patience': 50, 'epoch_size': 200} | {0: 'relu', 1: 'relu', 2: 'sigmoid'} |\n",
       "| 13 | weighted_sample | adam | 3e-05 | precision | {'patience': 50, 'epoch_size': 200} | {0: 'relu', 1: 'relu', 2: 'sigmoid'} |\n",
       "| 14 | no_weight | adam | 0.0001 | precision | {'patience': 50, 'epoch_size': 200} | {0: 'relu', 1: 'relu', 2: 'sigmoid'} |\n",
       "| 15 | weighted_sample | adam | 0.0001 | precision | {'patience': 50, 'epoch_size': 200} | {0: 'relu', 1: 'relu', 2: 'sigmoid'} |\n",
       "| 16 | no_weight | adam | 0.003 | precision | {'patience': 50, 'epoch_size': 200} | {0: 'relu', 1: 'relu', 2: 'sigmoid'} |\n",
       "| 17 | weighted_sample | adam | 0.003 | precision | {'patience': 50, 'epoch_size': 200} | {0: 'relu', 1: 'relu', 2: 'sigmoid'} |\n",
       "| 18 | no_weight | adam | 3e-05 | precision | {'patience': 200, 'epoch_size': 1000} | {0: 'relu', 1: 'relu', 2: 'sigmoid'} |\n",
       "| 19 | weighted_sample | adam | 3e-05 | precision | {'patience': 200, 'epoch_size': 1000} | {0: 'relu', 1: 'relu', 2: 'sigmoid'} |\n",
       "| 20 | no_weight | adam | 0.0001 | precision | {'patience': 200, 'epoch_size': 1000} | {0: 'relu', 1: 'relu', 2: 'sigmoid'} |\n",
       "| 21 | weighted_sample | adam | 0.0001 | precision | {'patience': 200, 'epoch_size': 1000} | {0: 'relu', 1: 'relu', 2: 'sigmoid'} |\n",
       "| 22 | no_weight | adam | 0.003 | precision | {'patience': 200, 'epoch_size': 1000} | {0: 'relu', 1: 'relu', 2: 'sigmoid'} |\n",
       "| 23 | weighted_sample | adam | 0.003 | precision | {'patience': 200, 'epoch_size': 1000} | {0: 'relu', 1: 'relu', 2: 'sigmoid'} |"
      ],
      "text/plain": [
       "<IPython.core.display.Markdown object>"
      ]
     },
     "execution_count": 5,
     "metadata": {},
     "output_type": "execute_result"
    }
   ],
   "source": [
    "model = 'multi_classification'\n",
    "content = get_hyperparameter_sets_in_markdown(model)\n",
    "title = '# Hyperparameter Set: {}'.format(model)\n",
    "content = '{}\\n{}'.format(title, content)\n",
    "Markdown(content)"
   ]
  }
 ],
 "metadata": {
  "kernelspec": {
   "display_name": "Python 2",
   "language": "python",
   "name": "python2"
  },
  "language_info": {
   "codemirror_mode": {
    "name": "ipython",
    "version": 2
   },
   "file_extension": ".py",
   "mimetype": "text/x-python",
   "name": "python",
   "nbconvert_exporter": "python",
   "pygments_lexer": "ipython2",
   "version": "2.7.13"
  }
 },
 "nbformat": 4,
 "nbformat_minor": 0
}

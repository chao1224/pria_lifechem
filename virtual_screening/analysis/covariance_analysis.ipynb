{
 "cells": [
  {
   "cell_type": "code",
   "execution_count": 1,
   "metadata": {
    "collapsed": false,
    "deletable": true,
    "editable": true
   },
   "outputs": [
    {
     "name": "stderr",
     "output_type": "stream",
     "text": [
      "Using Theano backend.\n",
      "Using gpu device 1: Tesla K40m (CNMeM is disabled, CuDNN 4004)\n"
     ]
    }
   ],
   "source": [
    "from covariance_analysis import *\n",
    "from IPython.display import Markdown\n",
    "\n",
    "from virtual_screening.function import *\n",
    "from virtual_screening.evaluation import *\n",
    "from virtual_screening.models.deep_classification import *"
   ]
  },
  {
   "cell_type": "code",
   "execution_count": 2,
   "metadata": {
    "collapsed": true,
    "deletable": true,
    "editable": true
   },
   "outputs": [],
   "source": [
    "running_index = 1\n",
    "k = 5"
   ]
  },
  {
   "cell_type": "markdown",
   "metadata": {
    "deletable": true,
    "editable": true
   },
   "source": [
    "# Get Input Feature"
   ]
  },
  {
   "cell_type": "code",
   "execution_count": 3,
   "metadata": {
    "collapsed": false,
    "deletable": true,
    "editable": true
   },
   "outputs": [],
   "source": [
    "directory = '../../dataset/fixed_dataset/fold_{}/'.format(k)\n",
    "file_list = []\n",
    "for i in range(k):\n",
    "    file_list.append('{}file_{}.csv'.format(directory, i))\n",
    "file_list = np.array(file_list)\n",
    "\n",
    "# read data\n",
    "test_index = running_index / 4\n",
    "val_index = running_index % 4 + (running_index % 4 >= test_index)\n",
    "complete_index = np.arange(k)\n",
    "train_index = np.where((complete_index != test_index) & (complete_index != val_index))[0]\n",
    "\n",
    "train_file_list = file_list[train_index]\n",
    "val_file_list = file_list[val_index:val_index+1]\n",
    "test_file_list = file_list[test_index:test_index+1]"
   ]
  },
  {
   "cell_type": "code",
   "execution_count": 4,
   "metadata": {
    "collapsed": false,
    "deletable": true,
    "editable": true
   },
   "outputs": [
    {
     "name": "stdout",
     "output_type": "stream",
     "text": [
      "(43453, 1)\n",
      "(14484, 1)\n",
      "(14486, 1)\n"
     ]
    }
   ],
   "source": [
    "label_name_list = ['Keck_Pria_AS_Retest']\n",
    "\n",
    "train_pd = filter_out_missing_values(read_merged_data(train_file_list), label_list=label_name_list)\n",
    "val_pd = filter_out_missing_values(read_merged_data(val_file_list), label_list=label_name_list)\n",
    "test_pd = filter_out_missing_values(read_merged_data(test_file_list), label_list=label_name_list)\n",
    "\n",
    "# extract data, and split training data into training and val\n",
    "X_train, y_train = extract_feature_and_label(train_pd,\n",
    "                                             feature_name='Fingerprints',\n",
    "                                             label_name_list=label_name_list)\n",
    "X_val, y_val = extract_feature_and_label(val_pd,\n",
    "                                         feature_name='Fingerprints',\n",
    "                                         label_name_list=label_name_list)\n",
    "X_test, y_test = extract_feature_and_label(test_pd,\n",
    "                                           feature_name='Fingerprints',\n",
    "                                           label_name_list=label_name_list)"
   ]
  },
  {
   "cell_type": "code",
   "execution_count": 5,
   "metadata": {
    "collapsed": false,
    "deletable": true,
    "editable": true
   },
   "outputs": [
    {
     "name": "stdout",
     "output_type": "stream",
     "text": [
      "Extract 47 pos\t200 neg\n"
     ]
    }
   ],
   "source": [
    "pos_num = 50\n",
    "neg_num = 200\n",
    "pos_index_list = sample_index(y_train, 1, pos_num)\n",
    "neg_index_list = sample_index(y_train, 0, neg_num)\n",
    "pos_num = pos_index_list.shape[0]\n",
    "neg_num = neg_index_list.shape[0]\n",
    "N = pos_num + neg_num\n",
    "print 'Extract {} pos\\t{} neg'.format(pos_num, neg_num)"
   ]
  },
  {
   "cell_type": "code",
   "execution_count": 6,
   "metadata": {
    "collapsed": false,
    "deletable": true,
    "editable": true
   },
   "outputs": [
    {
     "name": "stdout",
     "output_type": "stream",
     "text": [
      "(247, 1024)\n"
     ]
    }
   ],
   "source": [
    "sample_pos_X = X_train[pos_index_list]\n",
    "sample_neg_X = X_train[neg_index_list]\n",
    "feature_X = np.vstack((sample_pos_X, sample_neg_X))\n",
    "print feature_X.shape"
   ]
  },
  {
   "cell_type": "markdown",
   "metadata": {
    "deletable": true,
    "editable": true
   },
   "source": [
    "# Test Single-task Covariance Matrix"
   ]
  },
  {
   "cell_type": "code",
   "execution_count": 7,
   "metadata": {
    "collapsed": false,
    "deletable": true,
    "editable": true
   },
   "outputs": [],
   "source": [
    "with open('../../output/cross_validation/single_classification_22.json', 'r') as f:\n",
    "        conf = json.load(f)\n",
    "single_task = SingleClassification(conf=conf)"
   ]
  },
  {
   "cell_type": "code",
   "execution_count": 8,
   "metadata": {
    "collapsed": false,
    "deletable": true,
    "editable": true
   },
   "outputs": [
    {
     "name": "stdout",
     "output_type": "stream",
     "text": [
      "../../output/cross_validation/single_classification_22/45540945/1.weight\n"
     ]
    }
   ],
   "source": [
    "PMTNN_weight_file = '../../output/cross_validation/single_classification_22/45540945/{}.weight'.format(running_index)\n",
    "print PMTNN_weight_file\n",
    "# single_task.predict_with_existing(X_train, y_train, X_val, y_val, X_test, y_test,\n",
    "#                            PMTNN_weight_file=PMTNN_weight_file)"
   ]
  },
  {
   "cell_type": "code",
   "execution_count": 9,
   "metadata": {
    "collapsed": false,
    "deletable": true,
    "editable": true
   },
   "outputs": [],
   "source": [
    "single_model = single_task.setup_model()\n",
    "single_model.load_weights(PMTNN_weight_file)"
   ]
  },
  {
   "cell_type": "code",
   "execution_count": 10,
   "metadata": {
    "collapsed": false,
    "deletable": true,
    "editable": true
   },
   "outputs": [
    {
     "name": "stdout",
     "output_type": "stream",
     "text": [
      "[<keras.layers.core.Dense object at 0x7fe5d8132990>, <keras.layers.core.Dropout object at 0x7fe5d799c910>, <keras.layers.core.Dense object at 0x7fe5d7715790>]\n"
     ]
    }
   ],
   "source": [
    "output_layer = single_model.layers.pop()\n",
    "dropout_2nd = single_model.layers.pop()\n",
    "dense_2nd = single_model.layers.pop()\n",
    "single_model.outputs = [single_model.layers[-1].output]\n",
    "single_model.layers[-1].outbound_nodes = []\n",
    "print single_model.layers"
   ]
  },
  {
   "cell_type": "markdown",
   "metadata": {
    "deletable": true,
    "editable": true
   },
   "source": [
    "## Save Single-task Matrix"
   ]
  },
  {
   "cell_type": "code",
   "execution_count": 11,
   "metadata": {
    "collapsed": false,
    "deletable": true,
    "editable": true
   },
   "outputs": [
    {
     "name": "stdout",
     "output_type": "stream",
     "text": [
      "(247, 2000)\n"
     ]
    }
   ],
   "source": [
    "hidden_pos_X = single_model.predict(sample_pos_X)\n",
    "hidden_neg_X = single_model.predict(sample_neg_X)\n",
    "hidden_X = np.vstack((hidden_pos_X, hidden_neg_X))\n",
    "print hidden_X.shape"
   ]
  },
  {
   "cell_type": "code",
   "execution_count": 12,
   "metadata": {
    "collapsed": false,
    "deletable": true,
    "editable": true
   },
   "outputs": [],
   "source": [
    "hidden_covariance_matrix = np.cov(hidden_X)\n",
    "hidden_cosine_matrix = get_distance_metrics(hidden_X)\n",
    "\n",
    "feature_covariance_matrix = np.cov(feature_X)\n",
    "feature_cosine_matrix = get_distance_metrics(feature_X)"
   ]
  },
  {
   "cell_type": "code",
   "execution_count": 13,
   "metadata": {
    "collapsed": false,
    "deletable": true,
    "editable": true
   },
   "outputs": [],
   "source": [
    "book = Workbook(style_compression=2)\n",
    "book_set_custom_colour(book)\n",
    "\n",
    "sheet = book.add_sheet('Covariance_Matrix_Hidden_Layer')\n",
    "sheet_write_matrix(sheet, hidden_covariance_matrix, pos_num)\n",
    "\n",
    "sheet = book.add_sheet('Covariance_Matrix_Input_feature')\n",
    "sheet_write_matrix(sheet, feature_covariance_matrix, pos_num)\n",
    "\n",
    "sheet = book.add_sheet('Cosine_Matrix_Hidden_Layer')\n",
    "sheet_write_matrix(sheet, hidden_cosine_matrix, pos_num)\n",
    "\n",
    "sheet = book.add_sheet('Cosine_Matrix_Input_feature')\n",
    "sheet_write_matrix(sheet, feature_cosine_matrix, pos_num)\n",
    "\n",
    "book.save('plottings/single_task_running_{}.xls'.format(running_index))"
   ]
  },
  {
   "cell_type": "markdown",
   "metadata": {
    "deletable": true,
    "editable": true
   },
   "source": [
    "## Color Mapping for Covariance/Cosine Similarity Matrix\n",
    "\n",
    "<table>\n",
    "    <caption>Output Format</caption>\n",
    "    <tr>\n",
    "        <td></td><td>pos</td><td>neg</td>\n",
    "    </tr>\n",
    "    <tr>\n",
    "        <td>pos</td><td bgcolor=#66ff66 /></td><td bgcolor=#ffff99 />\n",
    "    </tr>\n",
    "    <tr>\n",
    "        <td>neg</td><td bgcolor=#ffff99 /></td><td bgcolor=#66ffff />\n",
    "    </tr>\n",
    "</table>"
   ]
  },
  {
   "cell_type": "code",
   "execution_count": 14,
   "metadata": {
    "collapsed": false,
    "deletable": true,
    "editable": true
   },
   "outputs": [],
   "source": [
    "# Markdown(get_highlighted_markdown_table(hidden_covariance_matrix, pos_num))"
   ]
  },
  {
   "cell_type": "markdown",
   "metadata": {
    "deletable": true,
    "editable": true
   },
   "source": [
    "# Test Multi-task Covariance Matrix"
   ]
  },
  {
   "cell_type": "code",
   "execution_count": 15,
   "metadata": {
    "collapsed": true,
    "deletable": true,
    "editable": true
   },
   "outputs": [],
   "source": [
    "# directory = '../../dataset/keck_pcba/fold_{}/'.format(k)\n",
    "# file_list = []\n",
    "# for i in range(k):\n",
    "#     file_list.append('{}file_{}.csv'.format(directory, i))\n",
    "# file_list = np.array(file_list)\n",
    "\n",
    "# # read data\n",
    "# test_index = running_index / 4\n",
    "# val_index = running_index % 4 + (running_index % 4 >= test_index)\n",
    "# complete_index = np.arange(k)\n",
    "# train_index = np.where((complete_index != test_index) & (complete_index != val_index))[0]\n",
    "\n",
    "# train_file_list = file_list[train_index]\n",
    "# val_file_list = file_list[val_index:val_index+1]\n",
    "# test_file_list = file_list[test_index:test_index+1]"
   ]
  },
  {
   "cell_type": "code",
   "execution_count": 16,
   "metadata": {
    "collapsed": false,
    "deletable": true,
    "editable": true
   },
   "outputs": [],
   "source": [
    "# train_pd = read_merged_data(train_file_list)\n",
    "# train_pd.fillna(0, inplace=True)\n",
    "# val_pd = read_merged_data(val_file_list)\n",
    "# val_pd.fillna(0, inplace=True)\n",
    "# test_pd = read_merged_data(test_file_list)\n",
    "# test_pd.fillna(0, inplace=True)\n",
    "\n",
    "# multi_name_list = train_pd.columns[-128:].tolist()\n",
    "# multi_name_list.extend(label_name_list)\n",
    "# print 'multi_name_list ', multi_name_list\n",
    "\n",
    "# X_train, y_train = extract_feature_and_label(train_pd,\n",
    "#                                              feature_name='Fingerprints',\n",
    "#                                              label_name_list=multi_name_list)\n",
    "# X_val, y_val = extract_feature_and_label(val_pd,\n",
    "#                                          feature_name='Fingerprints',\n",
    "#                                          label_name_list=multi_name_list)\n",
    "# X_test, y_test = extract_feature_and_label(test_pd,\n",
    "#                                            feature_name='Fingerprints',\n",
    "#                                            label_name_list=multi_name_list)"
   ]
  },
  {
   "cell_type": "code",
   "execution_count": 17,
   "metadata": {
    "collapsed": true,
    "deletable": true,
    "editable": true
   },
   "outputs": [],
   "source": [
    "with open('../../output/cross_validation/multi_classification_15.json', 'r') as f:\n",
    "        conf = json.load(f)\n",
    "multi_task = MultiClassification(conf=conf)"
   ]
  },
  {
   "cell_type": "code",
   "execution_count": 18,
   "metadata": {
    "collapsed": false,
    "deletable": true,
    "editable": true
   },
   "outputs": [
    {
     "name": "stdout",
     "output_type": "stream",
     "text": [
      "../../output/cross_validation/multi_classification_15/45983730/1.weight\n"
     ]
    }
   ],
   "source": [
    "PMTNN_weight_file = '../../output/cross_validation/multi_classification_15/45983730/{}.weight'.format(running_index)\n",
    "print PMTNN_weight_file\n",
    "# multi_task.predict_with_existing(X_train, y_train, X_val, y_val, X_test, y_test,\n",
    "#                                  PMTNN_weight_file=PMTNN_weight_file,\n",
    "#                                  score_file='plottings/score.csv')"
   ]
  },
  {
   "cell_type": "code",
   "execution_count": 19,
   "metadata": {
    "collapsed": true,
    "deletable": true,
    "editable": true
   },
   "outputs": [],
   "source": [
    "multi_model = multi_task.setup_model()\n",
    "multi_model.load_weights(PMTNN_weight_file)"
   ]
  },
  {
   "cell_type": "code",
   "execution_count": 20,
   "metadata": {
    "collapsed": false,
    "deletable": true,
    "editable": true
   },
   "outputs": [
    {
     "name": "stdout",
     "output_type": "stream",
     "text": [
      "[<keras.layers.core.Dense object at 0x7fe5d7627850>, <keras.layers.core.Dropout object at 0x7fe57fd8a8d0>, <keras.layers.core.Dense object at 0x7fe57fd8a150>]\n"
     ]
    }
   ],
   "source": [
    "output_layer = multi_model.layers.pop()\n",
    "dropout_2nd = multi_model.layers.pop()\n",
    "dense_2nd = multi_model.layers.pop()\n",
    "multi_model.outputs = [multi_model.layers[-1].output]\n",
    "multi_model.layers[-1].outbound_nodes = []\n",
    "print multi_model.layers"
   ]
  },
  {
   "cell_type": "markdown",
   "metadata": {
    "deletable": true,
    "editable": true
   },
   "source": [
    "## Save Multi-task Matrix"
   ]
  },
  {
   "cell_type": "code",
   "execution_count": 21,
   "metadata": {
    "collapsed": false,
    "deletable": true,
    "editable": true
   },
   "outputs": [
    {
     "name": "stdout",
     "output_type": "stream",
     "text": [
      "(247, 2000)\n"
     ]
    }
   ],
   "source": [
    "hidden_pos_X = multi_model.predict(sample_pos_X)\n",
    "hidden_neg_X = multi_model.predict(sample_neg_X)\n",
    "hidden_X = np.vstack((hidden_pos_X, hidden_neg_X))\n",
    "print hidden_X.shape"
   ]
  },
  {
   "cell_type": "code",
   "execution_count": 22,
   "metadata": {
    "collapsed": true,
    "deletable": true,
    "editable": true
   },
   "outputs": [],
   "source": [
    "hidden_covariance_matrix = np.cov(hidden_X)\n",
    "hidden_cosine_matrix = get_distance_metrics(hidden_X)"
   ]
  },
  {
   "cell_type": "code",
   "execution_count": 23,
   "metadata": {
    "collapsed": true,
    "deletable": true,
    "editable": true
   },
   "outputs": [],
   "source": [
    "book = Workbook(style_compression=2)\n",
    "book_set_custom_colour(book)\n",
    "\n",
    "sheet = book.add_sheet('Covariance_Matrix_Hidden_Layer')\n",
    "sheet_write_matrix(sheet, hidden_covariance_matrix, pos_num)\n",
    "\n",
    "sheet = book.add_sheet('Covariance_Matrix_Input_feature')\n",
    "sheet_write_matrix(sheet, feature_covariance_matrix, pos_num)\n",
    "\n",
    "sheet = book.add_sheet('Cosine_Matrix_Hidden_Layer')\n",
    "sheet_write_matrix(sheet, hidden_cosine_matrix, pos_num)\n",
    "\n",
    "sheet = book.add_sheet('Cosine_Matrix_Input_feature')\n",
    "sheet_write_matrix(sheet, feature_cosine_matrix, pos_num)\n",
    "\n",
    "book.save('plottings/multi_task_running_{}.xls'.format(running_index))"
   ]
  }
 ],
 "metadata": {
  "kernelspec": {
   "display_name": "Python 2",
   "language": "python",
   "name": "python2"
  },
  "language_info": {
   "codemirror_mode": {
    "name": "ipython",
    "version": 2
   },
   "file_extension": ".py",
   "mimetype": "text/x-python",
   "name": "python",
   "nbconvert_exporter": "python",
   "pygments_lexer": "ipython2",
   "version": "2.7.13"
  }
 },
 "nbformat": 4,
 "nbformat_minor": 0
}

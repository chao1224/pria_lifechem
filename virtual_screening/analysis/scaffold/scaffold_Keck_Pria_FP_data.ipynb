{
 "cells": [
  {
   "cell_type": "code",
   "execution_count": 1,
   "metadata": {
    "collapsed": false,
    "deletable": true,
    "editable": true
   },
   "outputs": [
    {
     "name": "stderr",
     "output_type": "stream",
     "text": [
      "/home/sliu426/.local/lib/python2.7/site-packages/sklearn/cross_validation.py:41: DeprecationWarning: This module was deprecated in version 0.18 in favor of the model_selection module into which all the refactored classes and functions are moved. Also note that the interface of the new CV iterators are different from that of this module. This module will be removed in 0.20.\n",
      "  \"This module will be removed in 0.20.\", DeprecationWarning)\n"
     ]
    }
   ],
   "source": [
    "import os\n",
    "from virtual_screening.function import read_merged_data\n",
    "from rdkit.Chem.Scaffolds import MurckoScaffold\n",
    "from rdkit import Chem"
   ]
  },
  {
   "cell_type": "code",
   "execution_count": 2,
   "metadata": {
    "collapsed": false,
    "deletable": true,
    "editable": true
   },
   "outputs": [],
   "source": [
    "data_path = '../../../dataset/fixed_dataset/fold_5/file_{}.csv'\n",
    "k = 5\n",
    "\n",
    "output_file_list = [data_path.format(i) for i in range(k)]"
   ]
  },
  {
   "cell_type": "code",
   "execution_count": 3,
   "metadata": {
    "collapsed": false,
    "deletable": true,
    "editable": true
   },
   "outputs": [
    {
     "name": "stdout",
     "output_type": "stream",
     "text": [
      "(14486, 8)\n",
      "(14482, 8)\n",
      "(14484, 8)\n",
      "(14485, 8)\n",
      "(14486, 8)\n"
     ]
    }
   ],
   "source": [
    "data_pd_list = []\n",
    "for i in range(k):\n",
    "    temp_pd = read_merged_data(output_file_list[i:i+1])\n",
    "    print temp_pd.shape\n",
    "    data_pd_list.append(temp_pd)"
   ]
  },
  {
   "cell_type": "markdown",
   "metadata": {
    "deletable": true,
    "editable": true
   },
   "source": [
    "# Scaffolds of Keck_Pria_FP_data"
   ]
  },
  {
   "cell_type": "code",
   "execution_count": 4,
   "metadata": {
    "collapsed": true,
    "deletable": true,
    "editable": true
   },
   "outputs": [],
   "source": [
    "Target_name = 'Keck_Pria_FP_data'"
   ]
  },
  {
   "cell_type": "code",
   "execution_count": 5,
   "metadata": {
    "collapsed": false,
    "deletable": true,
    "editable": true,
    "scrolled": false
   },
   "outputs": [
    {
     "name": "stdout",
     "output_type": "stream",
     "text": [
      "Original SMILES is \tc1cc(cc2c1CCCN2CCOC)NS(=O)(=O)c3c(c(c(c(c3C)C)C)C)C\n",
      "The Scaffold is \tO=S(=O)(Nc1ccc2c(c1)NCCC2)c1ccccc1\n",
      "\n",
      "Original SMILES is \tc1cc(ccc1CC)NC(=O)CSc2ncc(c(=O)[nH]2)S(=O)(=O)c3ccc(cc3C)C\n",
      "The Scaffold is \tO=C(CSc1ncc(S(=O)(=O)c2ccccc2)c(=O)[nH]1)Nc1ccccc1\n",
      "\n",
      "Original SMILES is \tc1ccc2c(c1)c(c[nH]2)CCNC(=O)Cc3csc(n3)Nc4cccc(c4)Cl\n",
      "The Scaffold is \tO=C(Cc1csc(Nc2ccccc2)n1)NCCc1c[nH]c2ccccc12\n",
      "\n",
      "Original SMILES is \tc1cc(ccc1c2nnc3n2CC(=C)S3)Br\n",
      "The Scaffold is \tC=C1Cn2c(nnc2-c2ccccc2)S1\n",
      "\n",
      "Original SMILES is \tc1cc(cc2c1CCCN2CCOC)N\n",
      "The Scaffold is \tc1ccc2c(c1)CCCN2\n",
      "\n",
      "Original SMILES is \tc1cc(cc(c1)Cl)Nc2nc(cs2)CC(=O)Nc3ccc4c(c3)OCCO4\n",
      "The Scaffold is \tO=C(Cc1csc(Nc2ccccc2)n1)Nc1ccc2c(c1)OCCO2\n",
      "\n",
      "Original SMILES is \tc1cc(cc(c1NC(=O)c2c(nns2)C)[N+](=O)[O-])OCC\n",
      "The Scaffold is \tO=C(Nc1ccccc1)c1cnns1\n",
      "\n",
      "Original SMILES is \tc1ccc2c(c1)ccn2CCNC(=S)NCCc3cc4ccc(cc4[nH]c3=O)C\n",
      "The Scaffold is \tO=c1[nH]c2ccccc2cc1CCNC(=S)NCCn1ccc2ccccc21\n",
      "\n",
      "Original SMILES is \tc1ccc(cc1)OCC(=O)Nc2nc-3c(s2)-c4cccc5c4c3ccc5\n",
      "The Scaffold is \tO=C(COc1ccccc1)Nc1nc2c(s1)-c1cccc3cccc-2c13\n",
      "\n",
      "Original SMILES is \tc1ccc(c(c1)C(=O)Nc2nnc(o2)Cc3cccs3)SCC\n",
      "The Scaffold is \tO=C(Nc1nnc(Cc2cccs2)o1)c1ccccc1\n",
      "\n",
      "Original SMILES is \tc1cc(ccc1n2ccnc2SCC(=O)Nc3ccc(cc3)Br)F\n",
      "The Scaffold is \tO=C(CSc1nccn1-c1ccccc1)Nc1ccccc1\n",
      "\n",
      "Original SMILES is \tc1cc2c(cc1C(=O)NCc3ccc4c(c3)cc(n4C)C)OCO2\n",
      "The Scaffold is \tO=C(NCc1ccc2[nH]ccc2c1)c1ccc2c(c1)OCO2\n",
      "\n",
      "Original SMILES is \tc1ccc2c(c1)ccc(c2C=Nc3c(cccn3)O)O\n",
      "The Scaffold is \tC(=Nc1ccccn1)c1cccc2ccccc12\n",
      "\n",
      "Original SMILES is \tc1cc(oc1)C(=O)Nc2ccc(cc2)Nc3ccc(nn3)n4cccn4\n",
      "The Scaffold is \tO=C(Nc1ccc(Nc2ccc(-n3cccn3)nn2)cc1)c1ccco1\n",
      "\n",
      "Original SMILES is \tc1ccc(c(c1)C(=O)Nc2nc(cs2)c3ccccn3)Br\n",
      "The Scaffold is \tO=C(Nc1nc(-c2ccccn2)cs1)c1ccccc1\n",
      "\n",
      "Original SMILES is \tc1ccc(cc1)C2=NN(C(C2)c3ccc4c(c3)nccn4)C(=O)c5cccs5\n",
      "The Scaffold is \tO=C(c1cccs1)N1N=C(c2ccccc2)CC1c1ccc2nccnc2c1\n",
      "\n",
      "Original SMILES is \tc1cc(cc(c1)CS(=O)(=O)Nc2ccc3c(c2)N(CCC3)CCOC)C\n",
      "The Scaffold is \tO=S(=O)(Cc1ccccc1)Nc1ccc2c(c1)NCCC2\n",
      "\n",
      "Original SMILES is \tc1c(onc1NC(=O)Cn2cccc(c2=O)c3nc(no3)C4CC4)C\n",
      "The Scaffold is \tO=C(Cn1cccc(-c2nc(C3CC3)no2)c1=O)Nc1ccon1\n",
      "\n",
      "Original SMILES is \tc1cc(sc1)Cc2nnc(o2)NC(=O)c3ccc(cc3)S(=O)(=O)N(C)CCCC\n",
      "The Scaffold is \tO=C(Nc1nnc(Cc2cccs2)o1)c1ccccc1\n",
      "\n",
      "Original SMILES is \tc1cc2cccnc2c(c1)SCC(=O)NCCc3ccc(cc3)Cl\n",
      "The Scaffold is \tO=C(CSc1cccc2cccnc12)NCCc1ccccc1\n",
      "\n",
      "Original SMILES is \tc1cc(cc(c1)F)NC(=O)Nc2ccc(cc2)Nc3ccc(nn3)n4cccn4\n",
      "The Scaffold is \tO=C(Nc1ccccc1)Nc1ccc(Nc2ccc(-n3cccn3)nn2)cc1\n",
      "\n",
      "Original SMILES is \tc1cc2cccc3c2c(c1)C(=O)N(C3=O)CCN4CCN(CC4)CC(=O)c5ccc(cc5)OC\n",
      "The Scaffold is \tO=C(CN1CCN(CCN2C(=O)c3cccc4cccc(c34)C2=O)CC1)c1ccccc1\n",
      "\n",
      "Original SMILES is \tc1ccnc(c1)CN2Cc3c(ccc4c3OC(=Cc5cccc(c5)F)C4=O)OC2\n",
      "The Scaffold is \tO=C1C(=Cc2ccccc2)Oc2c1ccc1c2CN(Cc2ccccn2)CO1\n",
      "\n",
      "Original SMILES is \tc1ccc(c(c1)c2c(c(on2)C)C(=O)NCCn3c4c(cn3)c(nc(n4)SCC)NCCC)Cl\n",
      "The Scaffold is \tO=C(NCCn1ncc2cncnc21)c1conc1-c1ccccc1\n",
      "\n",
      "24 total smiles\n",
      "23 different scaffolds\n"
     ]
    }
   ],
   "source": [
    "smiles_list = []\n",
    "for i in range(k):\n",
    "    smiles_list.extend(data_pd_list[i][data_pd_list[i][Target_name]==1]['SMILES'].tolist())\n",
    "\n",
    "scaffold_set = set()\n",
    "for smiles in smiles_list:\n",
    "    mol = Chem.MolFromSmiles(smiles)\n",
    "    core = MurckoScaffold.GetScaffoldForMol(mol)\n",
    "    scaffold = Chem.MolToSmiles(core)\n",
    "    scaffold_set.add(scaffold)\n",
    "    print 'Original SMILES is \\t{}'.format(smiles)\n",
    "    print 'The Scaffold is \\t{}'.format(scaffold)\n",
    "    print\n",
    "\n",
    "print '{} total smiles'.format(len(smiles_list))\n",
    "print '{} different scaffolds'.format(len(scaffold_set))"
   ]
  },
  {
   "cell_type": "markdown",
   "metadata": {
    "deletable": true,
    "editable": true
   },
   "source": [
    "# Below is scaffold for each fold"
   ]
  },
  {
   "cell_type": "markdown",
   "metadata": {
    "deletable": true,
    "editable": true
   },
   "source": [
    "# Scaffold for fold 0"
   ]
  },
  {
   "cell_type": "code",
   "execution_count": 6,
   "metadata": {
    "collapsed": false,
    "deletable": true,
    "editable": true
   },
   "outputs": [
    {
     "name": "stdout",
     "output_type": "stream",
     "text": [
      "Original SMILES is \tc1cc(cc2c1CCCN2CCOC)NS(=O)(=O)c3c(c(c(c(c3C)C)C)C)C\n",
      "The Scaffold is \tO=S(=O)(Nc1ccc2c(c1)NCCC2)c1ccccc1\n",
      "\n",
      "Original SMILES is \tc1cc(ccc1CC)NC(=O)CSc2ncc(c(=O)[nH]2)S(=O)(=O)c3ccc(cc3C)C\n",
      "The Scaffold is \tO=C(CSc1ncc(S(=O)(=O)c2ccccc2)c(=O)[nH]1)Nc1ccccc1\n",
      "\n",
      "Original SMILES is \tc1ccc2c(c1)c(c[nH]2)CCNC(=O)Cc3csc(n3)Nc4cccc(c4)Cl\n",
      "The Scaffold is \tO=C(Cc1csc(Nc2ccccc2)n1)NCCc1c[nH]c2ccccc12\n",
      "\n",
      "Original SMILES is \tc1cc(ccc1c2nnc3n2CC(=C)S3)Br\n",
      "The Scaffold is \tC=C1Cn2c(nnc2-c2ccccc2)S1\n",
      "\n",
      "Original SMILES is \tc1cc(cc2c1CCCN2CCOC)N\n",
      "The Scaffold is \tc1ccc2c(c1)CCCN2\n",
      "\n",
      "5 total smiles\n",
      "5 different scaffolds\n"
     ]
    }
   ],
   "source": [
    "i = 0\n",
    "\n",
    "smiles_list = data_pd_list[i][data_pd_list[i][Target_name]==1]['SMILES'].tolist()\n",
    "scaffold_set = set()\n",
    "for smiles in smiles_list:\n",
    "    mol = Chem.MolFromSmiles(smiles)\n",
    "    core = MurckoScaffold.GetScaffoldForMol(mol)\n",
    "    scaffold = Chem.MolToSmiles(core)\n",
    "    scaffold_set.add(scaffold)\n",
    "    print 'Original SMILES is \\t{}'.format(smiles)\n",
    "    print 'The Scaffold is \\t{}'.format(scaffold)\n",
    "    print\n",
    "\n",
    "print '{} total smiles'.format(len(smiles_list))\n",
    "print '{} different scaffolds'.format(len(scaffold_set))"
   ]
  },
  {
   "cell_type": "markdown",
   "metadata": {
    "deletable": true,
    "editable": true
   },
   "source": [
    "# Scaffold for fold 1"
   ]
  },
  {
   "cell_type": "code",
   "execution_count": 7,
   "metadata": {
    "collapsed": false,
    "deletable": true,
    "editable": true
   },
   "outputs": [
    {
     "name": "stdout",
     "output_type": "stream",
     "text": [
      "Original SMILES is \tc1cc(cc(c1)Cl)Nc2nc(cs2)CC(=O)Nc3ccc4c(c3)OCCO4\n",
      "The Scaffold is \tO=C(Cc1csc(Nc2ccccc2)n1)Nc1ccc2c(c1)OCCO2\n",
      "\n",
      "Original SMILES is \tc1cc(cc(c1NC(=O)c2c(nns2)C)[N+](=O)[O-])OCC\n",
      "The Scaffold is \tO=C(Nc1ccccc1)c1cnns1\n",
      "\n",
      "Original SMILES is \tc1ccc2c(c1)ccn2CCNC(=S)NCCc3cc4ccc(cc4[nH]c3=O)C\n",
      "The Scaffold is \tO=c1[nH]c2ccccc2cc1CCNC(=S)NCCn1ccc2ccccc21\n",
      "\n",
      "Original SMILES is \tc1ccc(cc1)OCC(=O)Nc2nc-3c(s2)-c4cccc5c4c3ccc5\n",
      "The Scaffold is \tO=C(COc1ccccc1)Nc1nc2c(s1)-c1cccc3cccc-2c13\n",
      "\n",
      "4 total smiles\n",
      "4 different scaffolds\n"
     ]
    }
   ],
   "source": [
    "i = 1\n",
    "\n",
    "smiles_list = data_pd_list[i][data_pd_list[i][Target_name]==1]['SMILES'].tolist()\n",
    "scaffold_set = set()\n",
    "for smiles in smiles_list:\n",
    "    mol = Chem.MolFromSmiles(smiles)\n",
    "    core = MurckoScaffold.GetScaffoldForMol(mol)\n",
    "    scaffold = Chem.MolToSmiles(core)\n",
    "    scaffold_set.add(scaffold)\n",
    "    print 'Original SMILES is \\t{}'.format(smiles)\n",
    "    print 'The Scaffold is \\t{}'.format(scaffold)\n",
    "    print\n",
    "\n",
    "print '{} total smiles'.format(len(smiles_list))\n",
    "print '{} different scaffolds'.format(len(scaffold_set))"
   ]
  },
  {
   "cell_type": "markdown",
   "metadata": {
    "deletable": true,
    "editable": true
   },
   "source": [
    "# Scaffold for fold 2"
   ]
  },
  {
   "cell_type": "code",
   "execution_count": 8,
   "metadata": {
    "collapsed": false,
    "deletable": true,
    "editable": true
   },
   "outputs": [
    {
     "name": "stdout",
     "output_type": "stream",
     "text": [
      "Original SMILES is \tc1ccc(c(c1)C(=O)Nc2nnc(o2)Cc3cccs3)SCC\n",
      "The Scaffold is \tO=C(Nc1nnc(Cc2cccs2)o1)c1ccccc1\n",
      "\n",
      "Original SMILES is \tc1cc(ccc1n2ccnc2SCC(=O)Nc3ccc(cc3)Br)F\n",
      "The Scaffold is \tO=C(CSc1nccn1-c1ccccc1)Nc1ccccc1\n",
      "\n",
      "Original SMILES is \tc1cc2c(cc1C(=O)NCc3ccc4c(c3)cc(n4C)C)OCO2\n",
      "The Scaffold is \tO=C(NCc1ccc2[nH]ccc2c1)c1ccc2c(c1)OCO2\n",
      "\n",
      "Original SMILES is \tc1ccc2c(c1)ccc(c2C=Nc3c(cccn3)O)O\n",
      "The Scaffold is \tC(=Nc1ccccn1)c1cccc2ccccc12\n",
      "\n",
      "4 total smiles\n",
      "4 different scaffolds\n"
     ]
    }
   ],
   "source": [
    "i = 2\n",
    "\n",
    "smiles_list = data_pd_list[i][data_pd_list[i][Target_name]==1]['SMILES'].tolist()\n",
    "scaffold_set = set()\n",
    "for smiles in smiles_list:\n",
    "    mol = Chem.MolFromSmiles(smiles)\n",
    "    core = MurckoScaffold.GetScaffoldForMol(mol)\n",
    "    scaffold = Chem.MolToSmiles(core)\n",
    "    scaffold_set.add(scaffold)\n",
    "    print 'Original SMILES is \\t{}'.format(smiles)\n",
    "    print 'The Scaffold is \\t{}'.format(scaffold)\n",
    "    print\n",
    "\n",
    "print '{} total smiles'.format(len(smiles_list))\n",
    "print '{} different scaffolds'.format(len(scaffold_set))"
   ]
  },
  {
   "cell_type": "markdown",
   "metadata": {
    "deletable": true,
    "editable": true
   },
   "source": [
    "# Scaffold for fold 3"
   ]
  },
  {
   "cell_type": "code",
   "execution_count": 9,
   "metadata": {
    "collapsed": false,
    "deletable": true,
    "editable": true
   },
   "outputs": [
    {
     "name": "stdout",
     "output_type": "stream",
     "text": [
      "Original SMILES is \tc1cc(oc1)C(=O)Nc2ccc(cc2)Nc3ccc(nn3)n4cccn4\n",
      "The Scaffold is \tO=C(Nc1ccc(Nc2ccc(-n3cccn3)nn2)cc1)c1ccco1\n",
      "\n",
      "Original SMILES is \tc1ccc(c(c1)C(=O)Nc2nc(cs2)c3ccccn3)Br\n",
      "The Scaffold is \tO=C(Nc1nc(-c2ccccn2)cs1)c1ccccc1\n",
      "\n",
      "Original SMILES is \tc1ccc(cc1)C2=NN(C(C2)c3ccc4c(c3)nccn4)C(=O)c5cccs5\n",
      "The Scaffold is \tO=C(c1cccs1)N1N=C(c2ccccc2)CC1c1ccc2nccnc2c1\n",
      "\n",
      "Original SMILES is \tc1cc(cc(c1)CS(=O)(=O)Nc2ccc3c(c2)N(CCC3)CCOC)C\n",
      "The Scaffold is \tO=S(=O)(Cc1ccccc1)Nc1ccc2c(c1)NCCC2\n",
      "\n",
      "Original SMILES is \tc1c(onc1NC(=O)Cn2cccc(c2=O)c3nc(no3)C4CC4)C\n",
      "The Scaffold is \tO=C(Cn1cccc(-c2nc(C3CC3)no2)c1=O)Nc1ccon1\n",
      "\n",
      "5 total smiles\n",
      "5 different scaffolds\n"
     ]
    }
   ],
   "source": [
    "i = 3\n",
    "\n",
    "smiles_list = data_pd_list[i][data_pd_list[i][Target_name]==1]['SMILES'].tolist()\n",
    "scaffold_set = set()\n",
    "for smiles in smiles_list:\n",
    "    mol = Chem.MolFromSmiles(smiles)\n",
    "    core = MurckoScaffold.GetScaffoldForMol(mol)\n",
    "    scaffold = Chem.MolToSmiles(core)\n",
    "    scaffold_set.add(scaffold)\n",
    "    print 'Original SMILES is \\t{}'.format(smiles)\n",
    "    print 'The Scaffold is \\t{}'.format(scaffold)\n",
    "    print\n",
    "\n",
    "print '{} total smiles'.format(len(smiles_list))\n",
    "print '{} different scaffolds'.format(len(scaffold_set))"
   ]
  },
  {
   "cell_type": "markdown",
   "metadata": {
    "deletable": true,
    "editable": true
   },
   "source": [
    "# Scaffold for fold 4"
   ]
  },
  {
   "cell_type": "code",
   "execution_count": 10,
   "metadata": {
    "collapsed": false,
    "deletable": true,
    "editable": true
   },
   "outputs": [
    {
     "name": "stdout",
     "output_type": "stream",
     "text": [
      "Original SMILES is \tc1cc(sc1)Cc2nnc(o2)NC(=O)c3ccc(cc3)S(=O)(=O)N(C)CCCC\n",
      "The Scaffold is \tO=C(Nc1nnc(Cc2cccs2)o1)c1ccccc1\n",
      "\n",
      "Original SMILES is \tc1cc2cccnc2c(c1)SCC(=O)NCCc3ccc(cc3)Cl\n",
      "The Scaffold is \tO=C(CSc1cccc2cccnc12)NCCc1ccccc1\n",
      "\n",
      "Original SMILES is \tc1cc(cc(c1)F)NC(=O)Nc2ccc(cc2)Nc3ccc(nn3)n4cccn4\n",
      "The Scaffold is \tO=C(Nc1ccccc1)Nc1ccc(Nc2ccc(-n3cccn3)nn2)cc1\n",
      "\n",
      "Original SMILES is \tc1cc2cccc3c2c(c1)C(=O)N(C3=O)CCN4CCN(CC4)CC(=O)c5ccc(cc5)OC\n",
      "The Scaffold is \tO=C(CN1CCN(CCN2C(=O)c3cccc4cccc(c34)C2=O)CC1)c1ccccc1\n",
      "\n",
      "Original SMILES is \tc1ccnc(c1)CN2Cc3c(ccc4c3OC(=Cc5cccc(c5)F)C4=O)OC2\n",
      "The Scaffold is \tO=C1C(=Cc2ccccc2)Oc2c1ccc1c2CN(Cc2ccccn2)CO1\n",
      "\n",
      "Original SMILES is \tc1ccc(c(c1)c2c(c(on2)C)C(=O)NCCn3c4c(cn3)c(nc(n4)SCC)NCCC)Cl\n",
      "The Scaffold is \tO=C(NCCn1ncc2cncnc21)c1conc1-c1ccccc1\n",
      "\n",
      "6 total smiles\n",
      "6 different scaffolds\n"
     ]
    }
   ],
   "source": [
    "i = 4\n",
    "\n",
    "smiles_list = data_pd_list[i][data_pd_list[i][Target_name]==1]['SMILES'].tolist()\n",
    "scaffold_set = set()\n",
    "for smiles in smiles_list:\n",
    "    mol = Chem.MolFromSmiles(smiles)\n",
    "    core = MurckoScaffold.GetScaffoldForMol(mol)\n",
    "    scaffold = Chem.MolToSmiles(core)\n",
    "    scaffold_set.add(scaffold)\n",
    "    print 'Original SMILES is \\t{}'.format(smiles)\n",
    "    print 'The Scaffold is \\t{}'.format(scaffold)\n",
    "    print\n",
    "\n",
    "print '{} total smiles'.format(len(smiles_list))\n",
    "print '{} different scaffolds'.format(len(scaffold_set))"
   ]
  }
 ],
 "metadata": {
  "kernelspec": {
   "display_name": "Python 2",
   "language": "python",
   "name": "python2"
  },
  "language_info": {
   "codemirror_mode": {
    "name": "ipython",
    "version": 2
   },
   "file_extension": ".py",
   "mimetype": "text/x-python",
   "name": "python",
   "nbconvert_exporter": "python",
   "pygments_lexer": "ipython2",
   "version": "2.7.13"
  }
 },
 "nbformat": 4,
 "nbformat_minor": 0
}

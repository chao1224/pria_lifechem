{
 "cells": [
  {
   "cell_type": "code",
   "execution_count": 15,
   "metadata": {
    "collapsed": false,
    "deletable": true,
    "editable": true
   },
   "outputs": [
    {
     "ename": "SyntaxError",
     "evalue": "Missing parentheses in call to 'print' (grid_search_optimization.py, line 84)",
     "output_type": "error",
     "traceback": [
      "\u001b[1;36m  File \u001b[1;32m\"..\\models\\grid_search_optimization.py\"\u001b[1;36m, line \u001b[1;32m84\u001b[0m\n\u001b[1;33m    print 'label_name_list ', label_name_list\u001b[0m\n\u001b[1;37m                           ^\u001b[0m\n\u001b[1;31mSyntaxError\u001b[0m\u001b[1;31m:\u001b[0m Missing parentheses in call to 'print'\n"
     ]
    }
   ],
   "source": [
    "from IPython.display import Markdown\n",
    "import sys\n",
    "sys.path.insert(0, '../')\n",
    "from models.grid_search_optimization import get_hyperparameter_sets_in_markdown\n",
    "%load_ext autoreload\n",
    "%autoreload 2"
   ]
  },
  {
   "cell_type": "code",
   "execution_count": null,
   "metadata": {
    "collapsed": false,
    "deletable": true,
    "editable": true,
    "scrolled": false
   },
   "outputs": [],
   "source": [
    "model = 'single_classification'\n",
    "content = get_hyperparameter_sets_in_markdown(model)\n",
    "title = '# Hyperparameter Set: {}'.format(model)\n",
    "content = '{}\\n{}'.format(title, content)\n",
    "Markdown(content)"
   ]
  },
  {
   "cell_type": "code",
   "execution_count": null,
   "metadata": {
    "collapsed": false,
    "deletable": true,
    "editable": true
   },
   "outputs": [],
   "source": [
    "model = 'single_regression'\n",
    "content = get_hyperparameter_sets_in_markdown(model)\n",
    "title = '# Hyperparameter Set: {}'.format(model)\n",
    "content = '{}\\n{}'.format(title, content)\n",
    "Markdown(content)"
   ]
  },
  {
   "cell_type": "code",
   "execution_count": null,
   "metadata": {
    "collapsed": false,
    "deletable": true,
    "editable": true
   },
   "outputs": [],
   "source": [
    "model = 'vanilla_lstm'\n",
    "content = get_hyperparameter_sets_in_markdown(model)\n",
    "title = '# Hyperparameter Set: {}'.format(model)\n",
    "content = '{}\\n{}'.format(title, content)\n",
    "Markdown(content)"
   ]
  },
  {
   "cell_type": "code",
   "execution_count": null,
   "metadata": {
    "collapsed": false,
    "deletable": true,
    "editable": true
   },
   "outputs": [],
   "source": [
    "model = 'multi_classification'\n",
    "content = get_hyperparameter_sets_in_markdown(model)\n",
    "title = '# Hyperparameter Set: {}'.format(model)\n",
    "content = '{}\\n{}'.format(title, content)\n",
    "Markdown(content)"
   ]
  },
  {
   "cell_type": "code",
   "execution_count": null,
   "metadata": {
    "collapsed": false,
    "deletable": true,
    "editable": true
   },
   "outputs": [],
   "source": [
    "model = 'random_forest'\n",
    "content = get_hyperparameter_sets_in_markdown(model)\n",
    "title = '# Hyperparameter Set: {}'.format(model)\n",
    "content = '{}\\n{}'.format(title, content)\n",
    "Markdown(content)"
   ]
  }
 ],
 "metadata": {
  "kernelspec": {
   "display_name": "Python 3",
   "language": "python",
   "name": "python3"
  },
  "language_info": {
   "codemirror_mode": {
    "name": "ipython",
    "version": 3
   },
   "file_extension": ".py",
   "mimetype": "text/x-python",
   "name": "python",
   "nbconvert_exporter": "python",
   "pygments_lexer": "ipython3",
   "version": "3.5.1"
  }
 },
 "nbformat": 4,
 "nbformat_minor": 0
}

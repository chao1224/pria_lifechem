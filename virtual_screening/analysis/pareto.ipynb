{
 "cells": [
  {
   "cell_type": "code",
   "execution_count": 1,
   "metadata": {
    "collapsed": true,
    "deletable": true,
    "editable": true
   },
   "outputs": [],
   "source": [
    "from scipy.stats import pareto\n",
    "import numpy as np\n",
    "import matplotlib.pyplot as plt"
   ]
  },
  {
   "cell_type": "code",
   "execution_count": 2,
   "metadata": {
    "collapsed": true,
    "deletable": true,
    "editable": true
   },
   "outputs": [],
   "source": [
    "%matplotlib inline\n",
    "import matplotlib\n",
    "matplotlib.rcParams['figure.figsize'] = (4.0, 3.0)"
   ]
  },
  {
   "cell_type": "code",
   "execution_count": 3,
   "metadata": {
    "collapsed": false,
    "deletable": true,
    "editable": true
   },
   "outputs": [
    {
     "data": {
      "image/png": "[encoded data removed]",
      "text/plain": [
       "<matplotlib.figure.Figure at 0x7fb1c9e2f0d0>"
      ]
     },
     "metadata": {},
     "output_type": "display_data"
    }
   ],
   "source": [
    "from scipy.stats import pareto\n",
    "import matplotlib.pyplot as plt\n",
    "\n",
    "#fig = plt.figure()\n",
    "#ax = plt.Axes(fig, [0., 0., 1., 1.])\n",
    "\n",
    "fig, ax = plt.subplots(1, 1)\n",
    "# TODO: this can adjust subplot position\n",
    "# plt.subplots_adjust()\n",
    "\n",
    "x = np.arange(0.1, 1.0, 0.01)\n",
    "y = np.array([1.0/v for v in x])\n",
    "\n",
    "x -= 0.1\n",
    "y -= 1\n",
    "\n",
    "ax.plot(x, y, '-', lw=5, alpha=0.6)\n",
    "ax.spines['top'].set_visible(False)\n",
    "ax.spines['right'].set_visible(False)\n",
    "\n",
    "ax.yaxis.set_ticks_position('left')\n",
    "ax.xaxis.set_ticks_position('bottom')\n",
    "\n",
    "ax.set_xlabel('Feature Representation Level')\n",
    "ax.set_ylabel('Understanding Complexity')\n",
    "\n",
    "fig.add_axes(ax)\n",
    "x_axis_label = ['' for _ in x]\n",
    "\n",
    "\n",
    "n = int(0.7 / 0.01)\n",
    "plt.xticks([x[n*1/4], x[n*2/4], x[n*3/4]], ['Manal', 'ECFP', 'SMILES'])\n",
    "plt.yticks([])\n",
    "\n",
    "plt.xlim(0, 0.7)\n",
    "plt.ylim(0, 7)\n",
    "plt.grid()\n",
    "\n",
    "plt.savefig('plottings/pareto.png', dpi=500)\n",
    "plt.show()"
   ]
  }
 ],
 "metadata": {
  "kernelspec": {
   "display_name": "Python 2",
   "language": "python",
   "name": "python2"
  },
  "language_info": {
   "codemirror_mode": {
    "name": "ipython",
    "version": 2
   },
   "file_extension": ".py",
   "mimetype": "text/x-python",
   "name": "python",
   "nbconvert_exporter": "python",
   "pygments_lexer": "ipython2",
   "version": "2.7.13"
  }
 },
 "nbformat": 4,
 "nbformat_minor": 0
}

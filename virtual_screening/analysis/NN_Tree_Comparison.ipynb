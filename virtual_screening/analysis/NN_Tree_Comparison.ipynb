{
 "cells": [
  {
   "cell_type": "code",
   "execution_count": 1,
   "metadata": {
    "collapsed": false,
    "deletable": true,
    "editable": true
   },
   "outputs": [
    {
     "name": "stderr",
     "output_type": "stream",
     "text": [
      "Using Theano backend.\n",
      "Using gpu device 1: Tesla K40m (CNMeM is disabled, CuDNN 4004)\n"
     ]
    }
   ],
   "source": [
    "from NN_Tree_Comparison import *\n",
    "\n",
    "%load_ext autoreload\n",
    "%autoreload 2\n",
    "from virtual_screening.function import *\n",
    "from virtual_screening.evaluation import *\n",
    "from virtual_screening.models.deep_classification import *"
   ]
  },
  {
   "cell_type": "code",
   "execution_count": 2,
   "metadata": {
    "collapsed": true,
    "deletable": true,
    "editable": true
   },
   "outputs": [],
   "source": [
    "running_index = 1\n",
    "k = 5\n",
    "pos_num = 50\n",
    "neg_num = 200"
   ]
  },
  {
   "cell_type": "markdown",
   "metadata": {
    "deletable": true,
    "editable": true
   },
   "source": [
    "# Summary\n",
    "\n",
    "| model-model comparison | val or test set | prediction summary | bad on NN, better on tree-like | good on both |\n",
    "| --- | --- | --- | --- | --- |\n",
    "| NN - XGBoost | validation set | cell: [#15](#15) | cell: [#16](#16) | cell: [#17](#17) |\n",
    "| NN - XGBoost | test set | cell: [#18](#18)| cell: [#19](#19) | cell: [#20](#20) |\n",
    "| NN - RF | validation set | cell: [#26](#26) | cell: [#27](#27) | cell: [#28](#28) |\n",
    "| NN -RF | test set| cell: [#29](#29) | cell: [#30](#30)| cell: [#31](#31) |"
   ]
  },
  {
   "cell_type": "markdown",
   "metadata": {
    "deletable": true,
    "editable": true
   },
   "source": [
    "# Get Input Feature"
   ]
  },
  {
   "cell_type": "code",
   "execution_count": 3,
   "metadata": {
    "collapsed": false,
    "deletable": true,
    "editable": true
   },
   "outputs": [],
   "source": [
    "directory = '../../dataset/fixed_dataset/fold_{}/'.format(k)\n",
    "file_list = []\n",
    "for i in range(k):\n",
    "    file_list.append('{}file_{}.csv'.format(directory, i))\n",
    "file_list = np.array(file_list)\n",
    "\n",
    "# read data\n",
    "test_index = running_index / 4\n",
    "val_index = running_index % 4 + (running_index % 4 >= test_index)\n",
    "complete_index = np.arange(k)\n",
    "train_index = np.where((complete_index != test_index) & (complete_index != val_index))[0]\n",
    "\n",
    "train_file_list = file_list[train_index]\n",
    "val_file_list = file_list[val_index:val_index+1]\n",
    "test_file_list = file_list[test_index:test_index+1]"
   ]
  },
  {
   "cell_type": "code",
   "execution_count": 4,
   "metadata": {
    "collapsed": false,
    "deletable": true,
    "editable": true
   },
   "outputs": [
    {
     "name": "stdout",
     "output_type": "stream",
     "text": [
      "(43453, 1)\n",
      "(14484, 1)\n",
      "(14486, 1)\n"
     ]
    }
   ],
   "source": [
    "label_name_list = ['Keck_Pria_AS_Retest']\n",
    "\n",
    "train_pd = filter_out_missing_values(read_merged_data(train_file_list), label_list=label_name_list)\n",
    "val_pd = filter_out_missing_values(read_merged_data(val_file_list), label_list=label_name_list)\n",
    "test_pd = filter_out_missing_values(read_merged_data(test_file_list), label_list=label_name_list)\n",
    "\n",
    "# extract data, and split training data into training and val\n",
    "X_train, y_train = extract_feature_and_label(train_pd,\n",
    "                                             feature_name='Fingerprints',\n",
    "                                             label_name_list=label_name_list)\n",
    "X_val, y_val = extract_feature_and_label(val_pd,\n",
    "                                         feature_name='Fingerprints',\n",
    "                                         label_name_list=label_name_list)\n",
    "X_test, y_test = extract_feature_and_label(test_pd,\n",
    "                                           feature_name='Fingerprints',\n",
    "                                           label_name_list=label_name_list)"
   ]
  },
  {
   "cell_type": "markdown",
   "metadata": {
    "deletable": true,
    "editable": true
   },
   "source": [
    "# Test Single-task"
   ]
  },
  {
   "cell_type": "code",
   "execution_count": 5,
   "metadata": {
    "collapsed": false,
    "deletable": true,
    "editable": true
   },
   "outputs": [],
   "source": [
    "with open('../../output/cross_validation/single_classification_22.json', 'r') as f:\n",
    "    conf = json.load(f)\n",
    "single_task = SingleClassification(conf=conf)"
   ]
  },
  {
   "cell_type": "code",
   "execution_count": 6,
   "metadata": {
    "collapsed": false,
    "deletable": true,
    "editable": true
   },
   "outputs": [
    {
     "name": "stdout",
     "output_type": "stream",
     "text": [
      "../../output/cross_validation/single_classification_22/45540945/1.weight\n",
      "\n",
      "train precision: 0.998314670017\n",
      "train roc: 0.999998039294\n",
      "train bedroc: 0.994706144082\n",
      "\n",
      "validation precision: 0.307938220156\n",
      "validation roc: 0.783930484518\n",
      "validation bedroc: 0.612508723339\n",
      "\n",
      "test precision: 0.0959068095274\n",
      "test roc: 0.837264599171\n",
      "test bedroc: 0.628970145806\n",
      "\n",
      "ratio: 0.02, EF: 25.0,\tactive: 16.0\n",
      "ratio: 0.01, EF: 43.75,\tactive: 16.0\n",
      "ratio: 0.0015, EF: 208.333333333,\tactive: 16.0\n",
      "ratio: 0.001, EF: 312.5,\tactive: 16.0\n"
     ]
    }
   ],
   "source": [
    "PMTNN_weight_file = '../../output/cross_validation/single_classification_22/45540945/{}.weight'.format(running_index)\n",
    "print PMTNN_weight_file\n",
    "single_task.predict_with_existing(X_train, y_train, X_val, y_val, X_test, y_test,\n",
    "                           PMTNN_weight_file=PMTNN_weight_file)"
   ]
  },
  {
   "cell_type": "code",
   "execution_count": 7,
   "metadata": {
    "collapsed": false,
    "deletable": true,
    "editable": true
   },
   "outputs": [],
   "source": [
    "single_model = single_task.setup_model()\n",
    "single_model.load_weights(PMTNN_weight_file)"
   ]
  },
  {
   "cell_type": "markdown",
   "metadata": {
    "deletable": true,
    "editable": true
   },
   "source": [
    "## Show val and test rank on single NN"
   ]
  },
  {
   "cell_type": "code",
   "execution_count": 8,
   "metadata": {
    "collapsed": true,
    "deletable": true,
    "editable": true
   },
   "outputs": [],
   "source": [
    "y_pred_on_val_single_NN = single_model.predict(X_val)\n",
    "y_pred_on_test_single_NN = single_model.predict(X_test)"
   ]
  },
  {
   "cell_type": "code",
   "execution_count": 9,
   "metadata": {
    "collapsed": false,
    "deletable": true,
    "editable": true
   },
   "outputs": [
    {
     "name": "stdout",
     "output_type": "stream",
     "text": [
      "For validation\n",
      "0.999667\t     1/ 14484\t\tRank: 0.000069\n",
      "0.000004\t 13523/ 14484\t\tRank: 0.933651\n",
      "0.007614\t    26/ 14484\t\tRank: 0.001795\n",
      "0.000007\t 11032/ 14484\t\tRank: 0.761668\n",
      "0.003222\t    34/ 14484\t\tRank: 0.002347\n",
      "0.012485\t    23/ 14484\t\tRank: 0.001588\n",
      "0.992665\t     4/ 14484\t\tRank: 0.000276\n",
      "0.000008\t 10578/ 14484\t\tRank: 0.730323\n",
      "0.997849\t     3/ 14484\t\tRank: 0.000207\n",
      "0.000013\t  5067/ 14484\t\tRank: 0.349834\n",
      "0.000012\t  6246/ 14484\t\tRank: 0.431234\n",
      "0.000013\t  5766/ 14484\t\tRank: 0.398094\n",
      "0.164386\t     9/ 14484\t\tRank: 0.000621\n",
      "0.149422\t    10/ 14484\t\tRank: 0.000690\n",
      "0.000069\t   306/ 14484\t\tRank: 0.021127\n",
      "0.809995\t     6/ 14484\t\tRank: 0.000414\n",
      "\n",
      "For test\n",
      "0.000033\t   769/ 14486\t\tRank: 0.053086\n",
      "0.000002\t 14220/ 14486\t\tRank: 0.981637\n",
      "0.000029\t   999/ 14486\t\tRank: 0.068963\n",
      "0.160746\t     9/ 14486\t\tRank: 0.000621\n",
      "0.000026\t  1262/ 14486\t\tRank: 0.087119\n",
      "0.708671\t     6/ 14486\t\tRank: 0.000414\n",
      "0.000322\t    94/ 14486\t\tRank: 0.006489\n",
      "0.000028\t  1089/ 14486\t\tRank: 0.075176\n",
      "0.000078\t   254/ 14486\t\tRank: 0.017534\n",
      "0.000026\t  1308/ 14486\t\tRank: 0.090294\n",
      "0.000009\t  8551/ 14486\t\tRank: 0.590294\n",
      "0.000008\t  9950/ 14486\t\tRank: 0.686870\n",
      "0.920472\t     5/ 14486\t\tRank: 0.000345\n",
      "0.069630\t    11/ 14486\t\tRank: 0.000759\n",
      "0.000193\t   117/ 14486\t\tRank: 0.008077\n",
      "0.040926\t    14/ 14486\t\tRank: 0.000966\n"
     ]
    }
   ],
   "source": [
    "print 'For validation'\n",
    "get_rank(y_val, y_pred_on_val_single_NN)\n",
    "print\n",
    "print 'For test'\n",
    "get_rank(y_test, y_pred_on_test_single_NN)"
   ]
  },
  {
   "cell_type": "markdown",
   "metadata": {
    "deletable": true,
    "editable": true
   },
   "source": [
    "# XGBoost"
   ]
  },
  {
   "cell_type": "code",
   "execution_count": 10,
   "metadata": {
    "collapsed": false,
    "deletable": true,
    "editable": true
   },
   "outputs": [],
   "source": [
    "import xgboost as xgb\n",
    "from xgboost import DMatrix"
   ]
  },
  {
   "cell_type": "code",
   "execution_count": 11,
   "metadata": {
    "collapsed": false,
    "deletable": true,
    "editable": true,
    "scrolled": false
   },
   "outputs": [
    {
     "name": "stderr",
     "output_type": "stream",
     "text": [
      "/usr/local/anaconda/lib/python2.7/site-packages/sklearn/preprocessing/label.py:108: DataConversionWarning: A column-vector y was passed when a 1d array was expected. Please change the shape of y to (n_samples, ), for example using ravel().\n",
      "  y = column_or_1d(y, warn=True)\n"
     ]
    },
    {
     "data": {
      "text/plain": [
       "XGBClassifier(base_score=0.5, colsample_bylevel=1, colsample_bytree=1,\n",
       "       gamma=0, learning_rate=0.1, max_delta_step=0, max_depth=10,\n",
       "       min_child_weight=1, missing=None, n_estimators=100, nthread=-1,\n",
       "       objective='binary:logistic', reg_alpha=0, reg_lambda=1,\n",
       "       scale_pos_weight=1, seed=0, silent=True, subsample=1)"
      ]
     },
     "execution_count": 11,
     "metadata": {},
     "output_type": "execute_result"
    }
   ],
   "source": [
    "xgb_clf = xgb.XGBClassifier(max_depth=10, n_estimators=100, silent=True, objective='binary:logistic')\n",
    "xgb_clf.fit(X_train, y_train, eval_set=[(X_train, y_train), (X_val, y_val)], eval_metric='auc', verbose=False)"
   ]
  },
  {
   "cell_type": "code",
   "execution_count": 12,
   "metadata": {
    "collapsed": false,
    "deletable": true,
    "editable": true
   },
   "outputs": [
    {
     "name": "stdout",
     "output_type": "stream",
     "text": [
      "train precision: 0.930939315435\n",
      "train roc: 0.999898288402\n",
      "train bedroc: 0.993722514348\n",
      "\n",
      "validation precision: 0.289237329326\n",
      "validation roc: 0.89217151645\n",
      "validation bedroc: 0.7628689951\n",
      "\n",
      "test precision: 0.149050688356\n",
      "test roc: 0.880422857636\n",
      "test bedroc: 0.78269282675\n",
      "\n",
      "ratio: 0.02, EF: 37.5,\tactive: 16.0\n",
      "ratio: 0.01, EF: 68.75,\tactive: 16.0\n",
      "ratio: 0.0015, EF: 208.333333333,\tactive: 16.0\n",
      "ratio: 0.001, EF: 250.0,\tactive: 16.0\n"
     ]
    }
   ],
   "source": [
    "predict_with_existing(xgb_clf, X_train, y_train, X_val, y_val, X_test, y_test)"
   ]
  },
  {
   "cell_type": "code",
   "execution_count": 13,
   "metadata": {
    "collapsed": false,
    "deletable": true,
    "editable": true
   },
   "outputs": [
    {
     "name": "stdout",
     "output_type": "stream",
     "text": [
      "XGBoost consider 266 features as important\n"
     ]
    }
   ],
   "source": [
    "fscore = xgb_clf.booster().get_fscore()\n",
    "important_feature_number = len(fscore)\n",
    "print 'XGBoost consider {} features as important'.format(important_feature_number)\n",
    "feature_importances_ = np.zeros(1024)\n",
    "for k,v in fscore.iteritems():\n",
    "    feature_importances_[int(k[1:])] = v\n",
    "importance_index = np.argsort(feature_importances_)[::-1]\n",
    "\n",
    "y_pred_on_val_xgboost = reshape_data_into_2_dim(xgb_clf.predict_proba(X_val)[:, 1])\n",
    "y_pred_on_test_xgboost = reshape_data_into_2_dim(xgb_clf.predict_proba(X_test)[:, 1])"
   ]
  },
  {
   "cell_type": "markdown",
   "metadata": {
    "deletable": true,
    "editable": true
   },
   "source": [
    "## Show val and test rank on XGBoost"
   ]
  },
  {
   "cell_type": "code",
   "execution_count": 14,
   "metadata": {
    "collapsed": false,
    "deletable": true,
    "editable": true
   },
   "outputs": [
    {
     "name": "stdout",
     "output_type": "stream",
     "text": [
      "For validation\n",
      "0.255025\t     8/ 14484\t\tRank: 0.000552\n",
      "0.006654\t    98/ 14484\t\tRank: 0.006766\n",
      "0.000973\t   902/ 14484\t\tRank: 0.062276\n",
      "0.004228\t   138/ 14484\t\tRank: 0.009528\n",
      "0.128536\t    13/ 14484\t\tRank: 0.000898\n",
      "0.034595\t    29/ 14484\t\tRank: 0.002002\n",
      "0.482657\t     2/ 14484\t\tRank: 0.000138\n",
      "0.001720\t   450/ 14484\t\tRank: 0.031069\n",
      "0.302829\t     7/ 14484\t\tRank: 0.000483\n",
      "0.000115\t  9162/ 14484\t\tRank: 0.632560\n",
      "0.000396\t  2706/ 14484\t\tRank: 0.186827\n",
      "0.000083\t 11536/ 14484\t\tRank: 0.796465\n",
      "0.303580\t     6/ 14484\t\tRank: 0.000414\n",
      "0.397426\t     4/ 14484\t\tRank: 0.000276\n",
      "0.032834\t    31/ 14484\t\tRank: 0.002140\n",
      "0.315210\t     5/ 14484\t\tRank: 0.000345\n",
      "\n",
      "For test\n",
      "0.011174\t    58/ 14486\t\tRank: 0.004004\n",
      "0.000630\t  1526/ 14486\t\tRank: 0.105343\n",
      "0.004896\t   131/ 14486\t\tRank: 0.009043\n",
      "0.604062\t     2/ 14486\t\tRank: 0.000138\n",
      "0.001474\t   522/ 14486\t\tRank: 0.036035\n",
      "0.188084\t    11/ 14486\t\tRank: 0.000759\n",
      "0.018850\t    44/ 14486\t\tRank: 0.003037\n",
      "0.002573\t   264/ 14486\t\tRank: 0.018224\n",
      "0.004952\t   128/ 14486\t\tRank: 0.008836\n",
      "0.005711\t   115/ 14486\t\tRank: 0.007939\n",
      "0.000092\t 10853/ 14486\t\tRank: 0.749206\n",
      "0.000053\t 14108/ 14486\t\tRank: 0.973906\n",
      "0.393397\t     5/ 14486\t\tRank: 0.000345\n",
      "0.035639\t    28/ 14486\t\tRank: 0.001933\n",
      "0.059066\t    19/ 14486\t\tRank: 0.001312\n",
      "0.298602\t     7/ 14486\t\tRank: 0.000483\n"
     ]
    }
   ],
   "source": [
    "print 'For validation'\n",
    "get_rank(y_val, y_pred_on_val_xgboost)\n",
    "print\n",
    "print 'For test'\n",
    "get_rank(y_test, y_pred_on_test_xgboost)"
   ]
  },
  {
   "cell_type": "markdown",
   "metadata": {
    "deletable": true,
    "editable": true
   },
   "source": [
    "## Compare Rank"
   ]
  },
  {
   "cell_type": "markdown",
   "metadata": {
    "deletable": true,
    "editable": true
   },
   "source": [
    "### Compare Rank on Val\n",
    "<a id=15></a>"
   ]
  },
  {
   "cell_type": "code",
   "execution_count": 15,
   "metadata": {
    "collapsed": false,
    "deletable": true,
    "editable": true
   },
   "outputs": [
    {
     "name": "stdout",
     "output_type": "stream",
     "text": [
      "14423 \t|\t0.999667\t1\tRank: 0.0001\t|\t0.255025\t8\tRank: 0.0006\n",
      "14424 \t|\t0.000004\t13523\tRank: 0.9337\t|\t0.006654\t98\tRank: 0.0068\n",
      "14425 \t|\t0.007614\t26\tRank: 0.0018\t|\t0.000973\t902\tRank: 0.0623\n",
      "14426 \t|\t0.000007\t11032\tRank: 0.7617\t|\t0.004228\t138\tRank: 0.0095\n",
      "14427 \t|\t0.003222\t34\tRank: 0.0023\t|\t0.128536\t13\tRank: 0.0009\n",
      "14428 \t|\t0.012485\t23\tRank: 0.0016\t|\t0.034595\t29\tRank: 0.0020\n",
      "14429 \t|\t0.992665\t4\tRank: 0.0003\t|\t0.482657\t2\tRank: 0.0001\n",
      "14430 \t|\t0.000008\t10578\tRank: 0.7303\t|\t0.001720\t450\tRank: 0.0311\n",
      "14431 \t|\t0.997849\t3\tRank: 0.0002\t|\t0.302829\t7\tRank: 0.0005\n",
      "14432 \t|\t0.000013\t5067\tRank: 0.3498\t|\t0.000115\t9162\tRank: 0.6326\n",
      "14433 \t|\t0.000012\t6246\tRank: 0.4312\t|\t0.000396\t2706\tRank: 0.1868\n",
      "14434 \t|\t0.000013\t5766\tRank: 0.3981\t|\t0.000083\t11536\tRank: 0.7965\n",
      "14435 \t|\t0.164386\t9\tRank: 0.0006\t|\t0.303580\t6\tRank: 0.0004\n",
      "14436 \t|\t0.149422\t10\tRank: 0.0007\t|\t0.397426\t4\tRank: 0.0003\n",
      "14437 \t|\t0.000069\t306\tRank: 0.0211\t|\t0.032834\t31\tRank: 0.0021\n",
      "14438 \t|\t0.809995\t6\tRank: 0.0004\t|\t0.315210\t5\tRank: 0.0003\n"
     ]
    }
   ],
   "source": [
    "compare_rank(y_val, y_pred_on_val_single_NN, y_pred_on_val_xgboost)"
   ]
  },
  {
   "cell_type": "markdown",
   "metadata": {
    "deletable": true,
    "editable": true
   },
   "source": [
    "#### Bad predicted on NN but Better on XGBoost\n",
    "<a id=16></a>"
   ]
  },
  {
   "cell_type": "code",
   "execution_count": 16,
   "metadata": {
    "collapsed": false,
    "deletable": true,
    "editable": true,
    "scrolled": false
   },
   "outputs": [
    {
     "name": "stdout",
     "output_type": "stream",
     "text": [
      "testing Molecule:  14424\n",
      "  22955 |  sim: 0.854409\tsim(only important): 0.91644\t\ttrue label: 0\n",
      "  40475 |  sim: 0.832050\tsim(only important): 0.920751\t\ttrue label: 0\n",
      "  35534 |  sim: 0.784465\tsim(only important): 0.800445\t\ttrue label: 0\n",
      "  35424 |  sim: 0.768658\tsim(only important): 0.774917\t\ttrue label: 0\n",
      "  32188 |  sim: 0.752618\tsim(only important): 0.833797\t\ttrue label: 0\n",
      "   3197 |  sim: 0.750092\tsim(only important): 0.843221\t\ttrue label: 0\n",
      "  17711 |  sim: 0.748931\tsim(only important): 0.833797\t\ttrue label: 0\n",
      "   3226 |  sim: 0.745241\tsim(only important): 0.833797\t\ttrue label: 0\n",
      "  11511 |  sim: 0.736075\tsim(only important): 0.711556\t\ttrue label: 0\n",
      "   6299 |  sim: 0.734718\tsim(only important): 0.750366\t\ttrue label: 0\n",
      "   3255 |  sim: 0.732997\tsim(only important): 0.833797\t\ttrue label: 0\n",
      "  32150 |  sim: 0.732997\tsim(only important): 0.833797\t\ttrue label: 0\n",
      "   3263 |  sim: 0.723536\tsim(only important): 0.819782\t\ttrue label: 0\n",
      "  32157 |  sim: 0.715628\tsim(only important): 0.806452\t\ttrue label: 0\n",
      "  18263 |  sim: 0.706018\tsim(only important): 0.825501\t\ttrue label: 0\n",
      "   3223 |  sim: 0.695182\tsim(only important): 0.829561\t\ttrue label: 0\n",
      "  17741 |  sim: 0.693375\tsim(only important): 0.793751\t\ttrue label: 0\n",
      "  17679 |  sim: 0.693037\tsim(only important): 0.666283\t\ttrue label: 0\n",
      "  32170 |  sim: 0.692308\tsim(only important): 0.728396\t\ttrue label: 0\n",
      "  17759 |  sim: 0.691861\tsim(only important): 0.800853\t\ttrue label: 0\n",
      "  17720 |  sim: 0.689900\tsim(only important): 0.767093\t\ttrue label: 0\n",
      "  37627 |  sim: 0.688379\tsim(only important): 0.627089\t\ttrue label: 0\n",
      "  32164 |  sim: 0.685656\tsim(only important): 0.78933\t\ttrue label: 0\n",
      "\u001b[31m  28909 |  sim: 0.680545\tsim(only important): 0.61096\t\ttrue label: 1  *\u001b[0m\n",
      "   3237 |  sim: 0.680545\tsim(only important): 0.730251\t\ttrue label: 0\n",
      "  32189 |  sim: 0.680309\tsim(only important): 0.766748\t\ttrue label: 0\n",
      "   3217 |  sim: 0.679644\tsim(only important): 0.758971\t\ttrue label: 0\n",
      "  32191 |  sim: 0.679614\tsim(only important): 0.747757\t\ttrue label: 0\n",
      "   3202 |  sim: 0.676728\tsim(only important): 0.81014\t\ttrue label: 0\n",
      "   3201 |  sim: 0.674710\tsim(only important): 0.776516\t\ttrue label: 0\n",
      "\n",
      "testing Molecule:  14426\n",
      "  20089 |  sim: 0.849662\tsim(only important): 0.947514\t\ttrue label: 0\n",
      "   8245 |  sim: 0.769373\tsim(only important): 0.82244\t\ttrue label: 0\n",
      "  22574 |  sim: 0.694456\tsim(only important): 0.732941\t\ttrue label: 0\n",
      "   8265 |  sim: 0.681318\tsim(only important): 0.64254\t\ttrue label: 0\n",
      "   9797 |  sim: 0.640622\tsim(only important): 0.741249\t\ttrue label: 0\n",
      "  20047 |  sim: 0.612756\tsim(only important): 0.691023\t\ttrue label: 0\n",
      "  34455 |  sim: 0.605350\tsim(only important): 0.725241\t\ttrue label: 0\n",
      "  36728 |  sim: 0.594089\tsim(only important): 0.618284\t\ttrue label: 0\n",
      "   7727 |  sim: 0.590523\tsim(only important): 0.615794\t\ttrue label: 0\n",
      "  38066 |  sim: 0.578445\tsim(only important): 0.654654\t\ttrue label: 0\n",
      "   9638 |  sim: 0.577030\tsim(only important): 0.634745\t\ttrue label: 0\n",
      "  36557 |  sim: 0.560561\tsim(only important): 0.604367\t\ttrue label: 0\n",
      "  22746 |  sim: 0.533211\tsim(only important): 0.61096\t\ttrue label: 0\n",
      "  11926 |  sim: 0.531055\tsim(only important): 0.655562\t\ttrue label: 0\n",
      "  12744 |  sim: 0.528678\tsim(only important): 0.615794\t\ttrue label: 0\n",
      "  35641 |  sim: 0.528673\tsim(only important): 0.606933\t\ttrue label: 0\n",
      "  40226 |  sim: 0.527750\tsim(only important): 0.64254\t\ttrue label: 0\n",
      "  11927 |  sim: 0.516150\tsim(only important): 0.621059\t\ttrue label: 0\n",
      "  43003 |  sim: 0.509797\tsim(only important): 0.644902\t\ttrue label: 0\n",
      "   2170 |  sim: 0.509229\tsim(only important): 0.62361\t\ttrue label: 0\n",
      "  40888 |  sim: 0.506640\tsim(only important): 0.618284\t\ttrue label: 0\n",
      "  28468 |  sim: 0.505283\tsim(only important): 0.618284\t\ttrue label: 0\n",
      "   8533 |  sim: 0.505283\tsim(only important): 0.604743\t\ttrue label: 0\n",
      "  19663 |  sim: 0.502995\tsim(only important): 0.614192\t\ttrue label: 0\n",
      "  27568 |  sim: 0.495504\tsim(only important): 0.604743\t\ttrue label: 0\n",
      "  28064 |  sim: 0.495440\tsim(only important): 0.621059\t\ttrue label: 0\n",
      "  14040 |  sim: 0.495440\tsim(only important): 0.621059\t\ttrue label: 0\n",
      "  20340 |  sim: 0.494048\tsim(only important): 0.634335\t\ttrue label: 0\n",
      "   6860 |  sim: 0.486513\tsim(only important): 0.630488\t\ttrue label: 0\n",
      "  19648 |  sim: 0.485530\tsim(only important): 0.617213\t\ttrue label: 0\n",
      "\n",
      "testing Molecule:  14430\n",
      "  39070 |  sim: 0.708646\tsim(only important): 0.753778\t\ttrue label: 0\n",
      "  27355 |  sim: 0.656571\tsim(only important): 0.727273\t\ttrue label: 0\n",
      "  20894 |  sim: 0.622760\tsim(only important): 0.710669\t\ttrue label: 0\n",
      "  37058 |  sim: 0.616041\tsim(only important): 0.660578\t\ttrue label: 0\n",
      "  30163 |  sim: 0.609701\tsim(only important): 0.767523\t\ttrue label: 0\n",
      "  26733 |  sim: 0.603957\tsim(only important): 0.724882\t\ttrue label: 0\n",
      "  36697 |  sim: 0.602570\tsim(only important): 0.684712\t\ttrue label: 0\n",
      "\u001b[31m  43393 |  sim: 0.602557\tsim(only important): 0.6742\t\ttrue label: 1  *\u001b[0m\n",
      "  26849 |  sim: 0.598684\tsim(only important): 0.682242\t\ttrue label: 0\n",
      "  37036 |  sim: 0.598684\tsim(only important): 0.603023\t\ttrue label: 0\n",
      "  42353 |  sim: 0.596360\tsim(only important): 0.696311\t\ttrue label: 0\n",
      "  28902 |  sim: 0.596360\tsim(only important): 0.700649\t\ttrue label: 0\n",
      "  27281 |  sim: 0.590539\tsim(only important): 0.682242\t\ttrue label: 0\n",
      "  23127 |  sim: 0.589028\tsim(only important): 0.658145\t\ttrue label: 0\n",
      "  24785 |  sim: 0.582717\tsim(only important): 0.696311\t\ttrue label: 0\n",
      "  33297 |  sim: 0.582717\tsim(only important): 0.710806\t\ttrue label: 0\n",
      "  13717 |  sim: 0.581988\tsim(only important): 0.68495\t\ttrue label: 0\n",
      "  26851 |  sim: 0.575197\tsim(only important): 0.682242\t\ttrue label: 0\n",
      "  12248 |  sim: 0.575197\tsim(only important): 0.668994\t\ttrue label: 0\n",
      "  27629 |  sim: 0.575197\tsim(only important): 0.727273\t\ttrue label: 0\n",
      "  32932 |  sim: 0.575181\tsim(only important): 0.724882\t\ttrue label: 0\n",
      "  42990 |  sim: 0.575181\tsim(only important): 0.710806\t\ttrue label: 0\n",
      "  17772 |  sim: 0.575181\tsim(only important): 0.658145\t\ttrue label: 0\n",
      "\u001b[31m  43398 |  sim: 0.568607\tsim(only important): 0.668043\t\ttrue label: 1  *\u001b[0m\n",
      "   4413 |  sim: 0.560993\tsim(only important): 0.710806\t\ttrue label: 0\n",
      "  27898 |  sim: 0.560993\tsim(only important): 0.668994\t\ttrue label: 0\n",
      "  32898 |  sim: 0.558801\tsim(only important): 0.678401\t\ttrue label: 0\n",
      "  25333 |  sim: 0.556108\tsim(only important): 0.6309\t\ttrue label: 0\n",
      "  22071 |  sim: 0.554437\tsim(only important): 0.651339\t\ttrue label: 0\n",
      "  12601 |  sim: 0.554274\tsim(only important): 0.644658\t\ttrue label: 0\n",
      "\n",
      "testing Molecule:  14437\n",
      "  27966 |  sim: 0.733674\tsim(only important): 0.823532\t\ttrue label: 0\n",
      "  42377 |  sim: 0.725669\tsim(only important): 0.678064\t\ttrue label: 0\n",
      "  27967 |  sim: 0.717741\tsim(only important): 0.814092\t\ttrue label: 0\n",
      "  28679 |  sim: 0.704545\tsim(only important): 0.7\t\ttrue label: 0\n",
      "  19085 |  sim: 0.697863\tsim(only important): 0.644503\t\ttrue label: 0\n",
      "  14177 |  sim: 0.681689\tsim(only important): 0.730988\t\ttrue label: 0\n",
      "  13489 |  sim: 0.674200\tsim(only important): 0.793575\t\ttrue label: 0\n",
      "  19332 |  sim: 0.653275\tsim(only important): 0.586395\t\ttrue label: 0\n",
      "   4050 |  sim: 0.651339\tsim(only important): 0.547723\t\ttrue label: 0\n",
      "  42394 |  sim: 0.643721\tsim(only important): 0.740656\t\ttrue label: 0\n",
      "  13490 |  sim: 0.636364\tsim(only important): 0.76277\t\ttrue label: 0\n",
      "  28680 |  sim: 0.631032\tsim(only important): 0.677772\t\ttrue label: 0\n",
      "   4822 |  sim: 0.627646\tsim(only important): 0.557773\t\ttrue label: 0\n",
      "  11458 |  sim: 0.622376\tsim(only important): 0.608698\t\ttrue label: 0\n",
      "  33907 |  sim: 0.621237\tsim(only important): 0.597319\t\ttrue label: 0\n",
      "  43158 |  sim: 0.615719\tsim(only important): 0.666667\t\ttrue label: 0\n",
      "\u001b[31m  43404 |  sim: 0.613636\tsim(only important): 0.710047\t\ttrue label: 1  *\u001b[0m\n",
      "  18564 |  sim: 0.613636\tsim(only important): 0.50128\t\ttrue label: 0\n",
      "  26719 |  sim: 0.611395\tsim(only important): 0.530723\t\ttrue label: 0\n",
      "  19333 |  sim: 0.611395\tsim(only important): 0.530723\t\ttrue label: 0\n",
      "  41448 |  sim: 0.609837\tsim(only important): 0.586556\t\ttrue label: 0\n",
      "\u001b[31m  43405 |  sim: 0.606780\tsim(only important): 0.7542\t\ttrue label: 1  *\u001b[0m\n",
      "  42395 |  sim: 0.604815\tsim(only important): 0.699206\t\ttrue label: 0\n",
      "  41650 |  sim: 0.603023\tsim(only important): 0.596285\t\ttrue label: 0\n",
      "  32496 |  sim: 0.603023\tsim(only important): 0.584237\t\ttrue label: 0\n",
      "  40724 |  sim: 0.603023\tsim(only important): 0.633333\t\ttrue label: 0\n",
      "  13487 |  sim: 0.600148\tsim(only important): 0.720158\t\ttrue label: 0\n",
      "  13488 |  sim: 0.581486\tsim(only important): 0.742322\t\ttrue label: 0\n",
      "  42393 |  sim: 0.574751\tsim(only important): 0.688847\t\ttrue label: 0\n",
      "  43147 |  sim: 0.569181\tsim(only important): 0.645497\t\ttrue label: 0\n",
      "\n"
     ]
    }
   ],
   "source": [
    "test_list = [14424, 14426, 14430, 14437]\n",
    "print_list(test_list, X_val, X_train, y_train, top=30,\n",
    "           importance_index=importance_index, important_fetcher=important_feature_number)"
   ]
  },
  {
   "cell_type": "markdown",
   "metadata": {
    "deletable": true,
    "editable": true
   },
   "source": [
    "#### Good predictions onboth NN and XGBoost\n",
    "<a id=17></a>"
   ]
  },
  {
   "cell_type": "code",
   "execution_count": 17,
   "metadata": {
    "collapsed": false,
    "deletable": true,
    "editable": true,
    "scrolled": false
   },
   "outputs": [
    {
     "name": "stdout",
     "output_type": "stream",
     "text": [
      "testing Molecule:  14423\n",
      "\u001b[31m  14427 |  sim: 0.840168\tsim(only important): 0.861111\t\ttrue label: 1  *\u001b[0m\n",
      "   3286 |  sim: 0.755732\tsim(only important): 0.760726\t\ttrue label: 0\n",
      "  35467 |  sim: 0.749613\tsim(only important): 0.7298\t\ttrue label: 0\n",
      "  17790 |  sim: 0.740148\tsim(only important): 0.714577\t\ttrue label: 0\n",
      "  17828 |  sim: 0.732709\tsim(only important): 0.760726\t\ttrue label: 0\n",
      "   3320 |  sim: 0.732709\tsim(only important): 0.754337\t\ttrue label: 0\n",
      "  25942 |  sim: 0.729204\tsim(only important): 0.833333\t\ttrue label: 0\n",
      "  32200 |  sim: 0.722610\tsim(only important): 0.724432\t\ttrue label: 0\n",
      "   3346 |  sim: 0.717741\tsim(only important): 0.70565\t\ttrue label: 0\n",
      "  17802 |  sim: 0.711057\tsim(only important): 0.729996\t\ttrue label: 0\n",
      "   3338 |  sim: 0.701964\tsim(only important): 0.711832\t\ttrue label: 0\n",
      "  32225 |  sim: 0.693103\tsim(only important): 0.677644\t\ttrue label: 0\n",
      "  17778 |  sim: 0.692436\tsim(only important): 0.714577\t\ttrue label: 0\n",
      "  40715 |  sim: 0.686352\tsim(only important): 0.714435\t\ttrue label: 0\n",
      "  22981 |  sim: 0.677930\tsim(only important): 0.660296\t\ttrue label: 0\n",
      "  32260 |  sim: 0.677930\tsim(only important): 0.7\t\ttrue label: 0\n",
      "  17791 |  sim: 0.666973\tsim(only important): 0.724432\t\ttrue label: 0\n",
      "   3304 |  sim: 0.661976\tsim(only important): 0.6415\t\ttrue label: 0\n",
      "  29616 |  sim: 0.660225\tsim(only important): 0.724432\t\ttrue label: 0\n",
      "  37474 |  sim: 0.660132\tsim(only important): 0.638285\t\ttrue label: 0\n",
      "\n",
      "testing Molecule:  14429\n",
      "\u001b[31m  28917 |  sim: 0.808138\tsim(only important): 0.927105\t\ttrue label: 1  *\u001b[0m\n",
      "  27466 |  sim: 0.701793\tsim(only important): 0.789352\t\ttrue label: 0\n",
      "  20334 |  sim: 0.697518\tsim(only important): 0.80829\t\ttrue label: 0\n",
      "  12965 |  sim: 0.691280\tsim(only important): 0.730297\t\ttrue label: 0\n",
      "\u001b[31m  28907 |  sim: 0.682187\tsim(only important): 0.759257\t\ttrue label: 1  *\u001b[0m\n",
      "\u001b[31m  28908 |  sim: 0.682187\tsim(only important): 0.83666\t\ttrue label: 1  *\u001b[0m\n",
      "  24881 |  sim: 0.666667\tsim(only important): 0.67082\t\ttrue label: 0\n",
      "  30869 |  sim: 0.656488\tsim(only important): 0.597614\t\ttrue label: 0\n",
      "  34811 |  sim: 0.641624\tsim(only important): 0.718185\t\ttrue label: 0\n",
      "  12966 |  sim: 0.611111\tsim(only important): 0.734847\t\ttrue label: 0\n",
      "  12967 |  sim: 0.608581\tsim(only important): 0.715542\t\ttrue label: 0\n",
      "  27468 |  sim: 0.595880\tsim(only important): 0.718381\t\ttrue label: 0\n",
      "  41876 |  sim: 0.593171\tsim(only important): 0.684653\t\ttrue label: 0\n",
      "  10626 |  sim: 0.589256\tsim(only important): 0.650791\t\ttrue label: 0\n",
      "  41788 |  sim: 0.571057\tsim(only important): 0.667424\t\ttrue label: 0\n",
      "  14973 |  sim: 0.566139\tsim(only important): 0.67082\t\ttrue label: 0\n",
      "  27469 |  sim: 0.557619\tsim(only important): 0.67082\t\ttrue label: 0\n",
      "  26287 |  sim: 0.547723\tsim(only important): 0.634335\t\ttrue label: 0\n",
      "  25495 |  sim: 0.545949\tsim(only important): 0.645497\t\ttrue label: 0\n",
      "  24895 |  sim: 0.545545\tsim(only important): 0.615587\t\ttrue label: 0\n",
      "\n",
      "testing Molecule:  14431\n",
      "   3304 |  sim: 0.827641\tsim(only important): 0.794996\t\ttrue label: 0\n",
      "  11556 |  sim: 0.822425\tsim(only important): 0.762001\t\ttrue label: 0\n",
      "\u001b[31m  14427 |  sim: 0.818388\tsim(only important): 0.838158\t\ttrue label: 1  *\u001b[0m\n",
      "  10645 |  sim: 0.800198\tsim(only important): 0.826184\t\ttrue label: 0\n",
      "  36185 |  sim: 0.776955\tsim(only important): 0.733236\t\ttrue label: 0\n",
      "  17778 |  sim: 0.745484\tsim(only important): 0.708447\t\ttrue label: 0\n",
      "  37467 |  sim: 0.710705\tsim(only important): 0.725866\t\ttrue label: 0\n",
      "  32260 |  sim: 0.706322\tsim(only important): 0.718421\t\ttrue label: 0\n",
      "   8517 |  sim: 0.691260\tsim(only important): 0.696574\t\ttrue label: 0\n",
      "   8483 |  sim: 0.689169\tsim(only important): 0.774917\t\ttrue label: 0\n",
      "  37453 |  sim: 0.683360\tsim(only important): 0.688487\t\ttrue label: 0\n",
      "  21739 |  sim: 0.677003\tsim(only important): 0.635001\t\ttrue label: 0\n",
      "  40488 |  sim: 0.674601\tsim(only important): 0.656736\t\ttrue label: 0\n",
      "  15179 |  sim: 0.674200\tsim(only important): 0.6825\t\ttrue label: 0\n",
      "  15125 |  sim: 0.667632\tsim(only important): 0.786456\t\ttrue label: 0\n",
      "  11516 |  sim: 0.666711\tsim(only important): 0.633685\t\ttrue label: 0\n",
      "  11513 |  sim: 0.662652\tsim(only important): 0.667894\t\ttrue label: 0\n",
      "   3347 |  sim: 0.660922\tsim(only important): 0.656571\t\ttrue label: 0\n",
      "   3320 |  sim: 0.660922\tsim(only important): 0.656571\t\ttrue label: 0\n",
      "   3292 |  sim: 0.659699\tsim(only important): 0.612903\t\ttrue label: 0\n",
      "\n",
      "testing Molecule:  14435\n",
      "  20412 |  sim: 0.833514\tsim(only important): 0.845826\t\ttrue label: 0\n",
      "  38950 |  sim: 0.800044\tsim(only important): 0.864865\t\ttrue label: 0\n",
      "  21229 |  sim: 0.779681\tsim(only important): 0.800071\t\ttrue label: 0\n",
      "\u001b[31m  43396 |  sim: 0.742746\tsim(only important): 0.845826\t\ttrue label: 1  *\u001b[0m\n",
      "   9979 |  sim: 0.735307\tsim(only important): 0.737097\t\ttrue label: 0\n",
      "  18396 |  sim: 0.728202\tsim(only important): 0.7677\t\ttrue label: 0\n",
      "\u001b[31m  14423 |  sim: 0.725669\tsim(only important): 0.821995\t\ttrue label: 1  *\u001b[0m\n",
      "  20404 |  sim: 0.714881\tsim(only important): 0.842397\t\ttrue label: 0\n",
      "   7167 |  sim: 0.714590\tsim(only important): 0.817632\t\ttrue label: 0\n",
      "  20427 |  sim: 0.714590\tsim(only important): 0.746733\t\ttrue label: 0\n",
      "\u001b[31m  28919 |  sim: 0.702128\tsim(only important): 0.789747\t\ttrue label: 1  *\u001b[0m\n",
      "  25769 |  sim: 0.694775\tsim(only important): 0.772691\t\ttrue label: 0\n",
      "  20374 |  sim: 0.694456\tsim(only important): 0.72973\t\ttrue label: 0\n",
      "   5889 |  sim: 0.687746\tsim(only important): 0.794595\t\ttrue label: 0\n",
      "   5512 |  sim: 0.686555\tsim(only important): 0.615125\t\ttrue label: 0\n",
      "  23394 |  sim: 0.681689\tsim(only important): 0.677067\t\ttrue label: 0\n",
      "  10874 |  sim: 0.670355\tsim(only important): 0.693954\t\ttrue label: 0\n",
      "  30363 |  sim: 0.668727\tsim(only important): 0.779813\t\ttrue label: 0\n",
      "  10442 |  sim: 0.666811\tsim(only important): 0.75029\t\ttrue label: 0\n",
      "   3848 |  sim: 0.666705\tsim(only important): 0.697486\t\ttrue label: 0\n",
      "\n",
      "testing Molecule:  14436\n",
      "  41876 |  sim: 0.783218\tsim(only important): 0.801784\t\ttrue label: 0\n",
      "  27469 |  sim: 0.736275\tsim(only important): 0.785584\t\ttrue label: 0\n",
      "\u001b[31m  28917 |  sim: 0.711967\tsim(only important): 0.809524\t\ttrue label: 1  *\u001b[0m\n",
      "  24895 |  sim: 0.701862\tsim(only important): 0.750939\t\ttrue label: 0\n",
      "  12968 |  sim: 0.684482\tsim(only important): 0.727533\t\ttrue label: 0\n",
      "  20334 |  sim: 0.673036\tsim(only important): 0.788811\t\ttrue label: 0\n",
      "\u001b[31m  28908 |  sim: 0.658243\tsim(only important): 0.816497\t\ttrue label: 1  *\u001b[0m\n",
      "\u001b[31m  28907 |  sim: 0.658243\tsim(only important): 0.740959\t\ttrue label: 1  *\u001b[0m\n",
      "  34811 |  sim: 0.619103\tsim(only important): 0.700877\t\ttrue label: 0\n",
      "  10626 |  sim: 0.568574\tsim(only important): 0.635107\t\ttrue label: 0\n",
      "  24892 |  sim: 0.549532\tsim(only important): 0.600751\t\ttrue label: 0\n",
      "  14973 |  sim: 0.546268\tsim(only important): 0.654654\t\ttrue label: 0\n",
      "  27466 |  sim: 0.541729\tsim(only important): 0.684737\t\ttrue label: 0\n",
      "  12966 |  sim: 0.536056\tsim(only important): 0.637455\t\ttrue label: 0\n",
      "  12967 |  sim: 0.528498\tsim(only important): 0.61101\t\ttrue label: 0\n",
      "  25495 |  sim: 0.526787\tsim(only important): 0.629941\t\ttrue label: 0\n",
      "  26080 |  sim: 0.525955\tsim(only important): 0.61101\t\ttrue label: 0\n",
      "  12965 |  sim: 0.522013\tsim(only important): 0.62361\t\ttrue label: 0\n",
      "  27468 |  sim: 0.520206\tsim(only important): 0.61859\t\ttrue label: 0\n",
      "  27742 |  sim: 0.509729\tsim(only important): 0.619048\t\ttrue label: 0\n",
      "\n",
      "testing Molecule:  14438\n",
      "\u001b[31m  43405 |  sim: 0.831513\tsim(only important): 0.935484\t\ttrue label: 1  *\u001b[0m\n",
      "  13488 |  sim: 0.753778\tsim(only important): 0.889001\t\ttrue label: 0\n",
      "  13490 |  sim: 0.727273\tsim(only important): 0.844162\t\ttrue label: 0\n",
      "  42395 |  sim: 0.697863\tsim(only important): 0.812897\t\ttrue label: 0\n",
      "  42394 |  sim: 0.689701\tsim(only important): 0.78933\t\ttrue label: 0\n",
      "  42389 |  sim: 0.689701\tsim(only important): 0.705476\t\ttrue label: 0\n",
      "  13487 |  sim: 0.689059\tsim(only important): 0.831655\t\ttrue label: 0\n",
      "  28678 |  sim: 0.689059\tsim(only important): 0.728612\t\ttrue label: 0\n",
      "\u001b[31m  43404 |  sim: 0.681818\tsim(only important): 0.825501\t\ttrue label: 1  *\u001b[0m\n",
      "  14176 |  sim: 0.674551\tsim(only important): 0.750366\t\ttrue label: 0\n",
      "  42393 |  sim: 0.666711\tsim(only important): 0.800853\t\ttrue label: 0\n",
      "  27967 |  sim: 0.654411\tsim(only important): 0.800853\t\ttrue label: 0\n",
      "  19228 |  sim: 0.653275\tsim(only important): 0.592667\t\ttrue label: 0\n",
      "\u001b[31m  14436 |  sim: 0.646096\tsim(only important): 0.77829\t\ttrue label: 1  *\u001b[0m\n",
      "\u001b[31m  14435 |  sim: 0.639602\tsim(only important): 0.77829\t\ttrue label: 1  *\u001b[0m\n",
      "  40438 |  sim: 0.636364\tsim(only important): 0.599205\t\ttrue label: 0\n",
      "  27966 |  sim: 0.635851\tsim(only important): 0.774917\t\ttrue label: 0\n",
      "  26836 |  sim: 0.628077\tsim(only important): 0.587896\t\ttrue label: 0\n",
      "  32810 |  sim: 0.627646\tsim(only important): 0.562254\t\ttrue label: 0\n",
      "  28679 |  sim: 0.613636\tsim(only important): 0.655826\t\ttrue label: 0\n",
      "\n"
     ]
    }
   ],
   "source": [
    "test_list = [14423, 14429, 14431, 14435, 14436, 14438] # NN is less confident on 14435, 14436\n",
    "print_list(test_list, X_val, X_train, y_train,\n",
    "           importance_index=importance_index, important_fetcher=important_feature_number)"
   ]
  },
  {
   "cell_type": "markdown",
   "metadata": {
    "deletable": true,
    "editable": true
   },
   "source": [
    "### Compare Rank on Test\n",
    "<a id=18></a>"
   ]
  },
  {
   "cell_type": "code",
   "execution_count": 18,
   "metadata": {
    "collapsed": false,
    "deletable": true,
    "editable": true
   },
   "outputs": [
    {
     "name": "stdout",
     "output_type": "stream",
     "text": [
      "14424 \t|\t0.000033\t769\tRank: 0.0531\t|\t0.011174\t58\tRank: 0.0040\n",
      "14425 \t|\t0.000002\t14220\tRank: 0.9816\t|\t0.000630\t1526\tRank: 0.1053\n",
      "14426 \t|\t0.000029\t999\tRank: 0.0690\t|\t0.004896\t131\tRank: 0.0090\n",
      "14427 \t|\t0.160746\t9\tRank: 0.0006\t|\t0.604062\t2\tRank: 0.0001\n",
      "14428 \t|\t0.000026\t1262\tRank: 0.0871\t|\t0.001474\t522\tRank: 0.0360\n",
      "14429 \t|\t0.708671\t6\tRank: 0.0004\t|\t0.188084\t11\tRank: 0.0008\n",
      "14430 \t|\t0.000322\t94\tRank: 0.0065\t|\t0.018850\t44\tRank: 0.0030\n",
      "14431 \t|\t0.000028\t1089\tRank: 0.0752\t|\t0.002573\t264\tRank: 0.0182\n",
      "14432 \t|\t0.000078\t254\tRank: 0.0175\t|\t0.004952\t128\tRank: 0.0088\n",
      "14433 \t|\t0.000026\t1308\tRank: 0.0903\t|\t0.005711\t115\tRank: 0.0079\n",
      "14434 \t|\t0.000009\t8551\tRank: 0.5903\t|\t0.000092\t10853\tRank: 0.7492\n",
      "14435 \t|\t0.000008\t9950\tRank: 0.6869\t|\t0.000053\t14108\tRank: 0.9739\n",
      "14436 \t|\t0.920472\t5\tRank: 0.0003\t|\t0.393397\t5\tRank: 0.0003\n",
      "14437 \t|\t0.069630\t11\tRank: 0.0008\t|\t0.035639\t28\tRank: 0.0019\n",
      "14438 \t|\t0.000193\t117\tRank: 0.0081\t|\t0.059066\t19\tRank: 0.0013\n",
      "14439 \t|\t0.040926\t14\tRank: 0.0010\t|\t0.298602\t7\tRank: 0.0005\n"
     ]
    }
   ],
   "source": [
    "compare_rank(y_test, y_pred_on_test_single_NN, y_pred_on_test_xgboost)"
   ]
  },
  {
   "cell_type": "markdown",
   "metadata": {
    "deletable": true,
    "editable": true
   },
   "source": [
    "#### Bad predicted on NN but Better on XGBoost\n",
    "<a id=19></a>"
   ]
  },
  {
   "cell_type": "code",
   "execution_count": 19,
   "metadata": {
    "collapsed": false,
    "deletable": true,
    "editable": true,
    "scrolled": false
   },
   "outputs": [
    {
     "name": "stdout",
     "output_type": "stream",
     "text": [
      "testing Molecule:  14425\n",
      "  33815 |  sim: 0.953313\tsim(only important): 0.963624\t\ttrue label: 0\n",
      "  33834 |  sim: 0.880771\tsim(only important): 0.928571\t\ttrue label: 0\n",
      "  33792 |  sim: 0.872872\tsim(only important): 0.872872\t\ttrue label: 0\n",
      "  19401 |  sim: 0.866025\tsim(only important): 0.872872\t\ttrue label: 0\n",
      "    925 |  sim: 0.827535\tsim(only important): 0.852437\t\ttrue label: 0\n",
      "  33820 |  sim: 0.819382\tsim(only important): 0.831522\t\ttrue label: 0\n",
      "  33825 |  sim: 0.813838\tsim(only important): 0.866921\t\ttrue label: 0\n",
      "  33833 |  sim: 0.811107\tsim(only important): 0.872872\t\ttrue label: 0\n",
      "  19423 |  sim: 0.811107\tsim(only important): 0.857143\t\ttrue label: 0\n",
      "   4912 |  sim: 0.808290\tsim(only important): 0.831522\t\ttrue label: 0\n",
      "  19388 |  sim: 0.807373\tsim(only important): 0.836502\t\ttrue label: 0\n",
      "  19398 |  sim: 0.805316\tsim(only important): 0.848555\t\ttrue label: 0\n",
      "   4858 |  sim: 0.789024\tsim(only important): 0.793575\t\ttrue label: 0\n",
      "  15347 |  sim: 0.781271\tsim(only important): 0.907115\t\ttrue label: 0\n",
      "   6270 |  sim: 0.779525\tsim(only important): 0.855337\t\ttrue label: 0\n",
      "  15664 |  sim: 0.777616\tsim(only important): 0.810093\t\ttrue label: 0\n",
      "  29836 |  sim: 0.775058\tsim(only important): 0.789542\t\ttrue label: 0\n",
      "  33817 |  sim: 0.774139\tsim(only important): 0.846114\t\ttrue label: 0\n",
      "    898 |  sim: 0.773723\tsim(only important): 0.907115\t\ttrue label: 0\n",
      "    906 |  sim: 0.768347\tsim(only important): 0.789542\t\ttrue label: 0\n",
      "  33850 |  sim: 0.766032\tsim(only important): 0.824786\t\ttrue label: 0\n",
      "  33799 |  sim: 0.763763\tsim(only important): 0.831522\t\ttrue label: 0\n",
      "    933 |  sim: 0.762216\tsim(only important): 0.785714\t\ttrue label: 0\n",
      "    936 |  sim: 0.750555\tsim(only important): 0.772049\t\ttrue label: 0\n",
      "  20814 |  sim: 0.745578\tsim(only important): 0.734708\t\ttrue label: 0\n",
      "  29889 |  sim: 0.739009\tsim(only important): 0.734708\t\ttrue label: 0\n",
      "  29875 |  sim: 0.737865\tsim(only important): 0.777844\t\ttrue label: 0\n",
      "  19414 |  sim: 0.735980\tsim(only important): 0.755929\t\ttrue label: 0\n",
      "   4892 |  sim: 0.735980\tsim(only important): 0.793725\t\ttrue label: 0\n",
      "  29829 |  sim: 0.732610\tsim(only important): 0.724432\t\ttrue label: 0\n",
      "\n",
      "testing Molecule:  14428\n",
      "   7242 |  sim: 0.719510\tsim(only important): 0.750479\t\ttrue label: 0\n",
      "  21769 |  sim: 0.681994\tsim(only important): 0.703704\t\ttrue label: 0\n",
      "  30528 |  sim: 0.679639\tsim(only important): 0.721688\t\ttrue label: 0\n",
      "   7276 |  sim: 0.674541\tsim(only important): 0.679005\t\ttrue label: 0\n",
      "  36084 |  sim: 0.667326\tsim(only important): 0.727393\t\ttrue label: 0\n",
      "  17492 |  sim: 0.658869\tsim(only important): 0.697518\t\ttrue label: 0\n",
      "  10966 |  sim: 0.653565\tsim(only important): 0.667592\t\ttrue label: 0\n",
      "  21995 |  sim: 0.646997\tsim(only important): 0.717109\t\ttrue label: 0\n",
      "  22881 |  sim: 0.646997\tsim(only important): 0.727393\t\ttrue label: 0\n",
      "  26569 |  sim: 0.643039\tsim(only important): 0.762444\t\ttrue label: 0\n",
      "   7415 |  sim: 0.637118\tsim(only important): 0.645497\t\ttrue label: 0\n",
      "  12325 |  sim: 0.636528\tsim(only important): 0.703526\t\ttrue label: 0\n",
      "  20823 |  sim: 0.635338\tsim(only important): 0.703704\t\ttrue label: 0\n",
      "  26300 |  sim: 0.635338\tsim(only important): 0.69282\t\ttrue label: 0\n",
      "  22865 |  sim: 0.631780\tsim(only important): 0.656736\t\ttrue label: 0\n",
      "  36582 |  sim: 0.631780\tsim(only important): 0.691301\t\ttrue label: 0\n",
      "  12122 |  sim: 0.629571\tsim(only important): 0.667592\t\ttrue label: 0\n",
      "  26171 |  sim: 0.628419\tsim(only important): 0.680414\t\ttrue label: 0\n",
      "  13664 |  sim: 0.619268\tsim(only important): 0.6506\t\ttrue label: 0\n",
      "  21791 |  sim: 0.619223\tsim(only important): 0.628539\t\ttrue label: 0\n",
      "  41183 |  sim: 0.619223\tsim(only important): 0.642058\t\ttrue label: 0\n",
      "  26152 |  sim: 0.618463\tsim(only important): 0.69282\t\ttrue label: 0\n",
      "  41031 |  sim: 0.616887\tsim(only important): 0.714435\t\ttrue label: 0\n",
      "  12850 |  sim: 0.616316\tsim(only important): 0.656736\t\ttrue label: 0\n",
      "   4141 |  sim: 0.616316\tsim(only important): 0.594089\t\ttrue label: 0\n",
      "  17504 |  sim: 0.616316\tsim(only important): 0.622171\t\ttrue label: 0\n",
      "  34826 |  sim: 0.615462\tsim(only important): 0.714435\t\ttrue label: 0\n",
      "  23758 |  sim: 0.613795\tsim(only important): 0.603881\t\ttrue label: 0\n",
      "  24439 |  sim: 0.613285\tsim(only important): 0.667592\t\ttrue label: 0\n",
      "   7366 |  sim: 0.611354\tsim(only important): 0.646393\t\ttrue label: 0\n",
      "\n",
      "testing Molecule:  14431\n",
      "  24099 |  sim: 0.622752\tsim(only important): 0.651695\t\ttrue label: 0\n",
      "   8299 |  sim: 0.615457\tsim(only important): 0.73994\t\ttrue label: 0\n",
      "  40889 |  sim: 0.594942\tsim(only important): 0.668776\t\ttrue label: 0\n",
      "   5015 |  sim: 0.586588\tsim(only important): 0.629512\t\ttrue label: 0\n",
      "   9652 |  sim: 0.569614\tsim(only important): 0.646843\t\ttrue label: 0\n",
      "  22572 |  sim: 0.552566\tsim(only important): 0.639039\t\ttrue label: 0\n",
      "  36080 |  sim: 0.545545\tsim(only important): 0.727607\t\ttrue label: 0\n",
      "   9637 |  sim: 0.539563\tsim(only important): 0.607919\t\ttrue label: 0\n",
      "   9975 |  sim: 0.527360\tsim(only important): 0.626224\t\ttrue label: 0\n",
      "  13758 |  sim: 0.524951\tsim(only important): 0.627093\t\ttrue label: 0\n",
      "  23096 |  sim: 0.522713\tsim(only important): 0.626936\t\ttrue label: 0\n",
      "  37509 |  sim: 0.522713\tsim(only important): 0.688847\t\ttrue label: 0\n",
      "  21199 |  sim: 0.514496\tsim(only important): 0.65679\t\ttrue label: 0\n",
      "  17243 |  sim: 0.513783\tsim(only important): 0.657536\t\ttrue label: 0\n",
      "  38907 |  sim: 0.513778\tsim(only important): 0.666973\t\ttrue label: 0\n",
      "  30753 |  sim: 0.509525\tsim(only important): 0.600245\t\ttrue label: 0\n",
      "  27568 |  sim: 0.501608\tsim(only important): 0.617395\t\ttrue label: 0\n",
      "  39794 |  sim: 0.500370\tsim(only important): 0.616041\t\ttrue label: 0\n",
      "  21181 |  sim: 0.500370\tsim(only important): 0.646843\t\ttrue label: 0\n",
      "   3094 |  sim: 0.500319\tsim(only important): 0.600245\t\ttrue label: 0\n",
      "  29123 |  sim: 0.496243\tsim(only important): 0.616041\t\ttrue label: 0\n",
      "  37324 |  sim: 0.495434\tsim(only important): 0.648204\t\ttrue label: 0\n",
      "   7023 |  sim: 0.491046\tsim(only important): 0.606339\t\ttrue label: 0\n",
      "   6181 |  sim: 0.490653\tsim(only important): 0.615794\t\ttrue label: 0\n",
      "  39381 |  sim: 0.487861\tsim(only important): 0.616041\t\ttrue label: 0\n",
      "  39123 |  sim: 0.481543\tsim(only important): 0.605083\t\ttrue label: 0\n",
      "  20089 |  sim: 0.477084\tsim(only important): 0.605083\t\ttrue label: 0\n",
      "  30656 |  sim: 0.476290\tsim(only important): 0.63162\t\ttrue label: 0\n",
      "  22489 |  sim: 0.474342\tsim(only important): 0.600245\t\ttrue label: 0\n",
      "  14455 |  sim: 0.472805\tsim(only important): 0.680614\t\ttrue label: 0\n",
      "\n",
      "testing Molecule:  14438\n",
      "  40539 |  sim: 0.811899\tsim(only important): 0.803507\t\ttrue label: 0\n",
      "  27937 |  sim: 0.708214\tsim(only important): 0.75734\t\ttrue label: 0\n",
      "  12612 |  sim: 0.698611\tsim(only important): 0.690197\t\ttrue label: 0\n",
      "  40456 |  sim: 0.691055\tsim(only important): 0.707317\t\ttrue label: 0\n",
      "  11494 |  sim: 0.679729\tsim(only important): 0.673191\t\ttrue label: 0\n",
      "   4931 |  sim: 0.673315\tsim(only important): 0.706845\t\ttrue label: 0\n",
      "  41171 |  sim: 0.673162\tsim(only important): 0.749634\t\ttrue label: 0\n",
      "  20384 |  sim: 0.673162\tsim(only important): 0.776724\t\ttrue label: 0\n",
      "  27278 |  sim: 0.673162\tsim(only important): 0.673191\t\ttrue label: 0\n",
      "  12748 |  sim: 0.666694\tsim(only important): 0.679659\t\ttrue label: 0\n",
      "  12697 |  sim: 0.661495\tsim(only important): 0.701241\t\ttrue label: 0\n",
      "  26294 |  sim: 0.660820\tsim(only important): 0.679659\t\ttrue label: 0\n",
      "  27950 |  sim: 0.655098\tsim(only important): 0.673191\t\ttrue label: 0\n",
      "  42395 |  sim: 0.644994\tsim(only important): 0.734032\t\ttrue label: 0\n",
      "  42394 |  sim: 0.637450\tsim(only important): 0.712751\t\ttrue label: 0\n",
      "  42393 |  sim: 0.637450\tsim(only important): 0.74994\t\ttrue label: 0\n",
      "  34909 |  sim: 0.636364\tsim(only important): 0.718895\t\ttrue label: 0\n",
      "  27931 |  sim: 0.635544\tsim(only important): 0.625195\t\ttrue label: 0\n",
      "  42632 |  sim: 0.631968\tsim(only important): 0.64187\t\ttrue label: 0\n",
      "\u001b[31m  14435 |  sim: 0.629285\tsim(only important): 0.75484\t\ttrue label: 1  *\u001b[0m\n",
      "  41740 |  sim: 0.625100\tsim(only important): 0.667545\t\ttrue label: 0\n",
      "  32191 |  sim: 0.625100\tsim(only important): 0.600188\t\ttrue label: 0\n",
      "  12348 |  sim: 0.618182\tsim(only important): 0.631169\t\ttrue label: 0\n",
      "  25280 |  sim: 0.616887\tsim(only important): 0.667017\t\ttrue label: 0\n",
      "  21093 |  sim: 0.616411\tsim(only important): 0.659955\t\ttrue label: 0\n",
      "  13487 |  sim: 0.616313\tsim(only important): 0.723157\t\ttrue label: 0\n",
      "  18598 |  sim: 0.611216\tsim(only important): 0.562455\t\ttrue label: 0\n",
      "  21161 |  sim: 0.610216\tsim(only important): 0.650724\t\ttrue label: 0\n",
      "\u001b[31m  43404 |  sim: 0.609837\tsim(only important): 0.717805\t\ttrue label: 1  *\u001b[0m\n",
      "  41558 |  sim: 0.609837\tsim(only important): 0.598779\t\ttrue label: 0\n",
      "\n"
     ]
    }
   ],
   "source": [
    "test_list = [14425, 14428, 14431, 14438]\n",
    "print_list(test_list, X_test, X_train, y_train, top=30,\n",
    "           importance_index=importance_index, important_fetcher=important_feature_number)"
   ]
  },
  {
   "cell_type": "markdown",
   "metadata": {
    "deletable": true,
    "editable": true
   },
   "source": [
    "#### Good predictions onboth NN and XGBoost\n",
    "<a id=20></a>"
   ]
  },
  {
   "cell_type": "code",
   "execution_count": 20,
   "metadata": {
    "collapsed": false,
    "deletable": true,
    "editable": true,
    "scrolled": false
   },
   "outputs": [
    {
     "name": "stdout",
     "output_type": "stream",
     "text": [
      "testing Molecule:  14427\n",
      "  20334 |  sim: 0.755742\tsim(only important): 0.966092\t\ttrue label: 0\n",
      "\u001b[31m  28908 |  sim: 0.739130\tsim(only important): 1.0\t\ttrue label: 1  *\u001b[0m\n",
      "\u001b[31m  28907 |  sim: 0.739130\tsim(only important): 0.907485\t\ttrue label: 1  *\u001b[0m\n",
      "  34811 |  sim: 0.695182\tsim(only important): 0.858395\t\ttrue label: 0\n",
      "\u001b[31m  28917 |  sim: 0.647179\tsim(only important): 0.816497\t\ttrue label: 1  *\u001b[0m\n",
      "  10626 |  sim: 0.595880\tsim(only important): 0.713024\t\ttrue label: 0\n",
      "  25495 |  sim: 0.591520\tsim(only important): 0.771517\t\ttrue label: 0\n",
      "\u001b[31m  14433 |  sim: 0.546019\tsim(only important): 0.601338\t\ttrue label: 1  *\u001b[0m\n",
      "  37261 |  sim: 0.542137\tsim(only important): 0.785714\t\ttrue label: 0\n",
      "  28939 |  sim: 0.512272\tsim(only important): 0.667124\t\ttrue label: 0\n",
      "  38906 |  sim: 0.510754\tsim(only important): 0.601338\t\ttrue label: 0\n",
      "  41876 |  sim: 0.473557\tsim(only important): 0.600099\t\ttrue label: 0\n",
      "  39570 |  sim: 0.466252\tsim(only important): 0.617213\t\ttrue label: 0\n",
      "  27466 |  sim: 0.456224\tsim(only important): 0.628971\t\ttrue label: 0\n",
      "  22587 |  sim: 0.435572\tsim(only important): 0.629941\t\ttrue label: 0\n",
      "\n",
      "testing Molecule:  14429\n",
      "\u001b[31m  28915 |  sim: 0.737865\tsim(only important): 0.733049\t\ttrue label: 1  *\u001b[0m\n",
      "  40486 |  sim: 0.703562\tsim(only important): 0.733049\t\ttrue label: 0\n",
      "\u001b[31m  14429 |  sim: 0.693103\tsim(only important): 0.712396\t\ttrue label: 1  *\u001b[0m\n",
      "  11519 |  sim: 0.692820\tsim(only important): 0.75029\t\ttrue label: 0\n",
      "  11518 |  sim: 0.686904\tsim(only important): 0.784672\t\ttrue label: 0\n",
      "  23068 |  sim: 0.679366\tsim(only important): 0.756235\t\ttrue label: 0\n",
      "  40488 |  sim: 0.676475\tsim(only important): 0.696049\t\ttrue label: 0\n",
      "  35352 |  sim: 0.673610\tsim(only important): 0.709308\t\ttrue label: 0\n",
      "\u001b[31m  14430 |  sim: 0.673610\tsim(only important): 0.722501\t\ttrue label: 1  *\u001b[0m\n",
      "  28330 |  sim: 0.666701\tsim(only important): 0.696049\t\ttrue label: 0\n",
      "  22929 |  sim: 0.653497\tsim(only important): 0.66033\t\ttrue label: 0\n",
      "  11899 |  sim: 0.642364\tsim(only important): 0.6309\t\ttrue label: 0\n",
      "  15995 |  sim: 0.640000\tsim(only important): 0.630315\t\ttrue label: 0\n",
      "  39928 |  sim: 0.639010\tsim(only important): 0.686837\t\ttrue label: 0\n",
      "  11657 |  sim: 0.636878\tsim(only important): 0.648466\t\ttrue label: 0\n",
      "  26037 |  sim: 0.632785\tsim(only important): 0.630315\t\ttrue label: 0\n",
      "  18959 |  sim: 0.632785\tsim(only important): 0.630315\t\ttrue label: 0\n",
      "  35367 |  sim: 0.632785\tsim(only important): 0.677067\t\ttrue label: 0\n",
      "  26334 |  sim: 0.632785\tsim(only important): 0.664411\t\ttrue label: 0\n",
      "  12906 |  sim: 0.626295\tsim(only important): 0.6296\t\ttrue label: 0\n",
      "\n",
      "testing Molecule:  14436\n",
      "   5839 |  sim: 0.842152\tsim(only important): 0.864099\t\ttrue label: 0\n",
      "   9964 |  sim: 0.804522\tsim(only important): 0.792825\t\ttrue label: 0\n",
      "  32816 |  sim: 0.787234\tsim(only important): 0.758971\t\ttrue label: 0\n",
      "   6100 |  sim: 0.778991\tsim(only important): 0.747018\t\ttrue label: 0\n",
      "  32563 |  sim: 0.776157\tsim(only important): 0.765037\t\ttrue label: 0\n",
      "  20403 |  sim: 0.757937\tsim(only important): 0.758971\t\ttrue label: 0\n",
      "  25385 |  sim: 0.750163\tsim(only important): 0.758971\t\ttrue label: 0\n",
      "  24008 |  sim: 0.729325\tsim(only important): 0.736788\t\ttrue label: 0\n",
      "   3866 |  sim: 0.727732\tsim(only important): 0.704295\t\ttrue label: 0\n",
      "  32775 |  sim: 0.727732\tsim(only important): 0.747018\t\ttrue label: 0\n",
      "  18163 |  sim: 0.715829\tsim(only important): 0.709795\t\ttrue label: 0\n",
      "   8899 |  sim: 0.714881\tsim(only important): 0.676763\t\ttrue label: 0\n",
      "\u001b[31m  14423 |  sim: 0.703679\tsim(only important): 0.816982\t\ttrue label: 1  *\u001b[0m\n",
      "  24019 |  sim: 0.700713\tsim(only important): 0.634417\t\ttrue label: 0\n",
      "  24429 |  sim: 0.695817\tsim(only important): 0.6506\t\ttrue label: 0\n",
      "   8956 |  sim: 0.695817\tsim(only important): 0.676123\t\ttrue label: 0\n",
      "  18138 |  sim: 0.694775\tsim(only important): 0.678935\t\ttrue label: 0\n",
      "\u001b[31m  43396 |  sim: 0.675224\tsim(only important): 0.782691\t\ttrue label: 1  *\u001b[0m\n",
      "  18361 |  sim: 0.674031\tsim(only important): 0.667894\t\ttrue label: 0\n",
      "  32596 |  sim: 0.668727\tsim(only important): 0.666737\t\ttrue label: 0\n",
      "\n",
      "testing Molecule:  14437\n",
      "  25963 |  sim: 0.760152\tsim(only important): 0.869657\t\ttrue label: 0\n",
      "  40487 |  sim: 0.758175\tsim(only important): 0.835914\t\ttrue label: 0\n",
      "  37234 |  sim: 0.722806\tsim(only important): 0.70014\t\ttrue label: 0\n",
      "\u001b[31m  14429 |  sim: 0.700140\tsim(only important): 0.714577\t\ttrue label: 1  *\u001b[0m\n",
      "\u001b[31m  28915 |  sim: 0.681468\tsim(only important): 0.676471\t\ttrue label: 1  *\u001b[0m\n",
      "   8527 |  sim: 0.674020\tsim(only important): 0.677645\t\ttrue label: 0\n",
      "  40492 |  sim: 0.666701\tsim(only important): 0.723339\t\ttrue label: 0\n",
      "\u001b[31m  14434 |  sim: 0.662266\tsim(only important): 0.723923\t\ttrue label: 1  *\u001b[0m\n",
      "   2464 |  sim: 0.659829\tsim(only important): 0.720158\t\ttrue label: 0\n",
      "  40491 |  sim: 0.647557\tsim(only important): 0.753702\t\ttrue label: 0\n",
      "  17808 |  sim: 0.624559\tsim(only important): 0.561084\t\ttrue label: 0\n",
      "  22808 |  sim: 0.617213\tsim(only important): 0.630126\t\ttrue label: 0\n",
      "   6766 |  sim: 0.612245\tsim(only important): 0.63693\t\ttrue label: 0\n",
      "  16602 |  sim: 0.604298\tsim(only important): 0.627093\t\ttrue label: 0\n",
      "  40486 |  sim: 0.603023\tsim(only important): 0.647059\t\ttrue label: 0\n",
      "  32891 |  sim: 0.602652\tsim(only important): 0.647059\t\ttrue label: 0\n",
      "  11519 |  sim: 0.602652\tsim(only important): 0.666737\t\ttrue label: 0\n",
      "\u001b[31m  14430 |  sim: 0.597970\tsim(only important): 0.666737\t\ttrue label: 1  *\u001b[0m\n",
      "  40488 |  sim: 0.595170\tsim(only important): 0.627093\t\ttrue label: 0\n",
      "  23068 |  sim: 0.594762\tsim(only important): 0.685994\t\ttrue label: 0\n",
      "\n",
      "testing Molecule:  14439\n",
      "  41266 |  sim: 0.761372\tsim(only important): 0.811679\t\ttrue label: 0\n",
      "  42395 |  sim: 0.742746\tsim(only important): 0.865768\t\ttrue label: 0\n",
      "  42394 |  sim: 0.711814\tsim(only important): 0.782691\t\ttrue label: 0\n",
      "  43146 |  sim: 0.707974\tsim(only important): 0.786373\t\ttrue label: 0\n",
      "  13490 |  sim: 0.703679\tsim(only important): 0.80606\t\ttrue label: 0\n",
      "  33410 |  sim: 0.695817\tsim(only important): 0.646843\t\ttrue label: 0\n",
      "\u001b[31m  43405 |  sim: 0.695817\tsim(only important): 0.831655\t\ttrue label: 1  *\u001b[0m\n",
      "\u001b[31m  43404 |  sim: 0.681689\tsim(only important): 0.818558\t\ttrue label: 1  *\u001b[0m\n",
      "  42393 |  sim: 0.667326\tsim(only important): 0.794118\t\ttrue label: 0\n",
      "  19008 |  sim: 0.659574\tsim(only important): 0.666973\t\ttrue label: 0\n",
      "  14176 |  sim: 0.652668\tsim(only important): 0.746352\t\ttrue label: 0\n",
      "  17636 |  sim: 0.647291\tsim(only important): 0.626224\t\ttrue label: 0\n",
      "\u001b[31m  14436 |  sim: 0.645974\tsim(only important): 0.771744\t\ttrue label: 1  *\u001b[0m\n",
      "  28684 |  sim: 0.645199\tsim(only important): 0.657536\t\ttrue label: 0\n",
      "  13487 |  sim: 0.645199\tsim(only important): 0.764706\t\ttrue label: 0\n",
      "\u001b[31m  14435 |  sim: 0.639481\tsim(only important): 0.771744\t\ttrue label: 1  *\u001b[0m\n",
      "  41519 |  sim: 0.639481\tsim(only important): 0.617647\t\ttrue label: 0\n",
      "  27966 |  sim: 0.638886\tsim(only important): 0.773574\t\ttrue label: 0\n",
      "  27188 |  sim: 0.637848\tsim(only important): 0.773574\t\ttrue label: 0\n",
      "  27967 |  sim: 0.633181\tsim(only important): 0.794118\t\ttrue label: 0\n",
      "\n"
     ]
    }
   ],
   "source": [
    "test_list = [14427, 14429, 14436, 14437, 14439]\n",
    "print_list(test_list, X_test, X_train, y_train,\n",
    "           importance_index=importance_index, important_fetcher=important_feature_number)"
   ]
  },
  {
   "cell_type": "markdown",
   "metadata": {
    "deletable": true,
    "editable": true
   },
   "source": [
    "# Random Forest"
   ]
  },
  {
   "cell_type": "code",
   "execution_count": 21,
   "metadata": {
    "collapsed": true,
    "deletable": true,
    "editable": true
   },
   "outputs": [],
   "source": [
    "from sklearn.ensemble import RandomForestClassifier"
   ]
  },
  {
   "cell_type": "code",
   "execution_count": 22,
   "metadata": {
    "collapsed": false,
    "deletable": true,
    "editable": true
   },
   "outputs": [
    {
     "name": "stderr",
     "output_type": "stream",
     "text": [
      "/usr/local/anaconda/lib/python2.7/site-packages/ipykernel/__main__.py:10: DataConversionWarning: A column-vector y was passed when a 1d array was expected. Please change the shape of y to (n_samples,), for example using ravel().\n"
     ]
    },
    {
     "data": {
      "text/plain": [
       "RandomForestClassifier(bootstrap=True, class_weight='balanced',\n",
       "            criterion='gini', max_depth=None, max_features='log2',\n",
       "            max_leaf_nodes=None, min_samples_leaf=1, min_samples_split=2,\n",
       "            min_weight_fraction_leaf=0.0, n_estimators=4000, n_jobs=3,\n",
       "            oob_score=False, random_state=1337, verbose=0,\n",
       "            warm_start=False)"
      ]
     },
     "execution_count": 22,
     "metadata": {},
     "output_type": "execute_result"
    }
   ],
   "source": [
    "rnd_state = 1337\n",
    "rf_clf = RandomForestClassifier(n_estimators=4000,\n",
    "                                max_features='log2',\n",
    "                                min_samples_leaf=1, \n",
    "                                n_jobs=3, \n",
    "                                class_weight='balanced',\n",
    "                                random_state=rnd_state,\n",
    "                                oob_score=False, \n",
    "                                verbose=0)\n",
    "rf_clf.fit(X_train, y_train)"
   ]
  },
  {
   "cell_type": "code",
   "execution_count": 23,
   "metadata": {
    "collapsed": false,
    "deletable": true,
    "editable": true
   },
   "outputs": [
    {
     "name": "stdout",
     "output_type": "stream",
     "text": [
      "train precision: 1.0\n",
      "train roc: 1.0\n",
      "train bedroc: 0.994725515647\n",
      "\n",
      "validation precision: 0.351985010494\n",
      "validation roc: 0.961587641692\n",
      "validation bedroc: 0.829019613984\n",
      "\n",
      "test precision: 0.130721818647\n",
      "test roc: 0.872224861783\n",
      "test bedroc: 0.689646653184\n",
      "\n",
      "ratio: 0.02, EF: 31.25,\tactive: 16.0\n",
      "ratio: 0.01, EF: 62.5,\tactive: 16.0\n",
      "ratio: 0.0015, EF: 208.333333333,\tactive: 16.0\n",
      "ratio: 0.001, EF: 187.5,\tactive: 16.0\n"
     ]
    }
   ],
   "source": [
    "predict_with_existing(rf_clf, X_train, y_train, X_val, y_val, X_test, y_test)"
   ]
  },
  {
   "cell_type": "markdown",
   "metadata": {
    "deletable": true,
    "editable": true
   },
   "source": [
    "## Show val and test rank on RF"
   ]
  },
  {
   "cell_type": "code",
   "execution_count": 24,
   "metadata": {
    "collapsed": false,
    "deletable": true,
    "editable": true
   },
   "outputs": [],
   "source": [
    "importance_index = np.argsort(rf_clf.feature_importances_)[::-1]\n",
    "y_pred_on_val_rf = reshape_data_into_2_dim(rf_clf.predict_proba(X_val)[:, 1])\n",
    "y_pred_on_test_rf = reshape_data_into_2_dim(rf_clf.predict_proba(X_test)[:, 1])"
   ]
  },
  {
   "cell_type": "code",
   "execution_count": 25,
   "metadata": {
    "collapsed": false,
    "deletable": true,
    "editable": true
   },
   "outputs": [
    {
     "name": "stdout",
     "output_type": "stream",
     "text": [
      "For validation\n",
      "0.175000\t     8/ 14484\t\tRank: 0.000552\n",
      "0.010500\t   173/ 14484\t\tRank: 0.011944\n",
      "0.033250\t    46/ 14484\t\tRank: 0.003176\n",
      "0.000500\t  4584/ 14484\t\tRank: 0.316487\n",
      "0.133250\t    15/ 14484\t\tRank: 0.001036\n",
      "0.083750\t    21/ 14484\t\tRank: 0.001450\n",
      "0.307500\t     1/ 14484\t\tRank: 0.000069\n",
      "0.054500\t    30/ 14484\t\tRank: 0.002071\n",
      "0.198250\t     5/ 14484\t\tRank: 0.000345\n",
      "0.001750\t  1086/ 14484\t\tRank: 0.074979\n",
      "0.008500\t   208/ 14484\t\tRank: 0.014361\n",
      "0.000750\t  3469/ 14484\t\tRank: 0.239506\n",
      "0.121250\t    16/ 14484\t\tRank: 0.001105\n",
      "0.170750\t     9/ 14484\t\tRank: 0.000621\n",
      "0.044750\t    38/ 14484\t\tRank: 0.002624\n",
      "0.295500\t     2/ 14484\t\tRank: 0.000138\n",
      "\n",
      "For test\n",
      "0.021250\t    93/ 14486\t\tRank: 0.006420\n",
      "0.000000\t  8667/ 14486\t\tRank: 0.598302\n",
      "0.000750\t  3383/ 14486\t\tRank: 0.233536\n",
      "0.251750\t     2/ 14486\t\tRank: 0.000138\n",
      "0.001500\t  1441/ 14486\t\tRank: 0.099475\n",
      "0.147250\t     8/ 14486\t\tRank: 0.000552\n",
      "0.063000\t    33/ 14486\t\tRank: 0.002278\n",
      "0.004000\t   443/ 14486\t\tRank: 0.030581\n",
      "0.019500\t    97/ 14486\t\tRank: 0.006696\n",
      "0.017750\t   103/ 14486\t\tRank: 0.007110\n",
      "0.000250\t  6975/ 14486\t\tRank: 0.481499\n",
      "0.000250\t  7019/ 14486\t\tRank: 0.484537\n",
      "0.169500\t     6/ 14486\t\tRank: 0.000414\n",
      "0.122250\t    15/ 14486\t\tRank: 0.001035\n",
      "0.089500\t    21/ 14486\t\tRank: 0.001450\n",
      "0.082250\t    26/ 14486\t\tRank: 0.001795\n"
     ]
    }
   ],
   "source": [
    "print 'For validation'\n",
    "get_rank(y_val, y_pred_on_val_rf)\n",
    "print\n",
    "print 'For test'\n",
    "get_rank(y_test, y_pred_on_test_rf)"
   ]
  },
  {
   "cell_type": "markdown",
   "metadata": {
    "deletable": true,
    "editable": true
   },
   "source": [
    "## Compare Rank"
   ]
  },
  {
   "cell_type": "markdown",
   "metadata": {
    "deletable": true,
    "editable": true
   },
   "source": [
    "### Compare Rank on Val\n",
    "<a id=26></a>"
   ]
  },
  {
   "cell_type": "code",
   "execution_count": 26,
   "metadata": {
    "collapsed": false,
    "deletable": true,
    "editable": true
   },
   "outputs": [
    {
     "name": "stdout",
     "output_type": "stream",
     "text": [
      "14423 \t|\t0.999667\t1\tRank: 0.0001\t|\t0.175000\t8\tRank: 0.0006\n",
      "14424 \t|\t0.000004\t13523\tRank: 0.9337\t|\t0.010500\t173\tRank: 0.0119\n",
      "14425 \t|\t0.007614\t26\tRank: 0.0018\t|\t0.033250\t46\tRank: 0.0032\n",
      "14426 \t|\t0.000007\t11032\tRank: 0.7617\t|\t0.000500\t4584\tRank: 0.3165\n",
      "14427 \t|\t0.003222\t34\tRank: 0.0023\t|\t0.133250\t15\tRank: 0.0010\n",
      "14428 \t|\t0.012485\t23\tRank: 0.0016\t|\t0.083750\t21\tRank: 0.0014\n",
      "14429 \t|\t0.992665\t4\tRank: 0.0003\t|\t0.307500\t1\tRank: 0.0001\n",
      "14430 \t|\t0.000008\t10578\tRank: 0.7303\t|\t0.054500\t30\tRank: 0.0021\n",
      "14431 \t|\t0.997849\t3\tRank: 0.0002\t|\t0.198250\t5\tRank: 0.0003\n",
      "14432 \t|\t0.000013\t5067\tRank: 0.3498\t|\t0.001750\t1086\tRank: 0.0750\n",
      "14433 \t|\t0.000012\t6246\tRank: 0.4312\t|\t0.008500\t208\tRank: 0.0144\n",
      "14434 \t|\t0.000013\t5766\tRank: 0.3981\t|\t0.000750\t3469\tRank: 0.2395\n",
      "14435 \t|\t0.164386\t9\tRank: 0.0006\t|\t0.121250\t16\tRank: 0.0011\n",
      "14436 \t|\t0.149422\t10\tRank: 0.0007\t|\t0.170750\t9\tRank: 0.0006\n",
      "14437 \t|\t0.000069\t306\tRank: 0.0211\t|\t0.044750\t38\tRank: 0.0026\n",
      "14438 \t|\t0.809995\t6\tRank: 0.0004\t|\t0.295500\t2\tRank: 0.0001\n"
     ]
    }
   ],
   "source": [
    "compare_rank(y_val, y_pred_on_val_single_NN, y_pred_on_val_rf)"
   ]
  },
  {
   "cell_type": "markdown",
   "metadata": {
    "deletable": true,
    "editable": true
   },
   "source": [
    "#### Bad predicted on NN but Better on RF\n",
    "<a id=27></a>"
   ]
  },
  {
   "cell_type": "code",
   "execution_count": 27,
   "metadata": {
    "collapsed": false,
    "deletable": true,
    "editable": true,
    "scrolled": false
   },
   "outputs": [
    {
     "name": "stdout",
     "output_type": "stream",
     "text": [
      "testing Molecule:  14424\n",
      "  22955 |  sim: 0.854409\tsim(only important): 0.970143\t\ttrue label: 0\n",
      "  40475 |  sim: 0.832050\tsim(only important): 0.968246\t\ttrue label: 0\n",
      "  35534 |  sim: 0.784465\tsim(only important): 0.935414\t\ttrue label: 0\n",
      "  35424 |  sim: 0.768658\tsim(only important): 0.801784\t\ttrue label: 0\n",
      "  32188 |  sim: 0.752618\tsim(only important): 0.903696\t\ttrue label: 0\n",
      "   3197 |  sim: 0.750092\tsim(only important): 0.866025\t\ttrue label: 0\n",
      "  17711 |  sim: 0.748931\tsim(only important): 0.848875\t\ttrue label: 0\n",
      "   3226 |  sim: 0.745241\tsim(only important): 0.868599\t\ttrue label: 0\n",
      "  11511 |  sim: 0.736075\tsim(only important): 0.866025\t\ttrue label: 0\n",
      "   6299 |  sim: 0.734718\tsim(only important): 0.802955\t\ttrue label: 0\n",
      "   3255 |  sim: 0.732997\tsim(only important): 0.839146\t\ttrue label: 0\n",
      "  32150 |  sim: 0.732997\tsim(only important): 0.839146\t\ttrue label: 0\n",
      "   3263 |  sim: 0.723536\tsim(only important): 0.903696\t\ttrue label: 0\n",
      "  32157 |  sim: 0.715628\tsim(only important): 0.848875\t\ttrue label: 0\n",
      "  18263 |  sim: 0.706018\tsim(only important): 0.848875\t\ttrue label: 0\n",
      "   3223 |  sim: 0.695182\tsim(only important): 0.839146\t\ttrue label: 0\n",
      "  17741 |  sim: 0.693375\tsim(only important): 0.848875\t\ttrue label: 0\n",
      "  17679 |  sim: 0.693037\tsim(only important): 0.793857\t\ttrue label: 0\n",
      "  32170 |  sim: 0.692308\tsim(only important): 0.782624\t\ttrue label: 0\n",
      "  17759 |  sim: 0.691861\tsim(only important): 0.824958\t\ttrue label: 0\n",
      "  17720 |  sim: 0.689900\tsim(only important): 0.707107\t\ttrue label: 0\n",
      "  37627 |  sim: 0.688379\tsim(only important): 0.753778\t\ttrue label: 0\n",
      "  32164 |  sim: 0.685656\tsim(only important): 0.848875\t\ttrue label: 0\n",
      "\u001b[31m  28909 |  sim: 0.680545\tsim(only important): 0.6875\t\ttrue label: 1  *\u001b[0m\n",
      "   3237 |  sim: 0.680545\tsim(only important): 0.727607\t\ttrue label: 0\n",
      "  32189 |  sim: 0.680309\tsim(only important): 0.838525\t\ttrue label: 0\n",
      "   3217 |  sim: 0.679644\tsim(only important): 0.802955\t\ttrue label: 0\n",
      "  32191 |  sim: 0.679614\tsim(only important): 0.903696\t\ttrue label: 0\n",
      "   3202 |  sim: 0.676728\tsim(only important): 0.83205\t\ttrue label: 0\n",
      "   3201 |  sim: 0.674710\tsim(only important): 0.838525\t\ttrue label: 0\n",
      "\n",
      "testing Molecule:  14426\n",
      "  20089 |  sim: 0.849662\tsim(only important): 1.0\t\ttrue label: 0\n",
      "   8245 |  sim: 0.769373\tsim(only important): 0.933333\t\ttrue label: 0\n",
      "  22574 |  sim: 0.694456\tsim(only important): 0.759072\t\ttrue label: 0\n",
      "   8265 |  sim: 0.681318\tsim(only important): 0.563602\t\ttrue label: 0\n",
      "   9797 |  sim: 0.640622\tsim(only important): 0.778499\t\ttrue label: 0\n",
      "  20047 |  sim: 0.612756\tsim(only important): 0.8\t\ttrue label: 0\n",
      "  34455 |  sim: 0.605350\tsim(only important): 0.733333\t\ttrue label: 0\n",
      "  36728 |  sim: 0.594089\tsim(only important): 0.666667\t\ttrue label: 0\n",
      "   7727 |  sim: 0.590523\tsim(only important): 0.690066\t\ttrue label: 0\n",
      "   9638 |  sim: 0.577030\tsim(only important): 0.710047\t\ttrue label: 0\n",
      "  36557 |  sim: 0.560561\tsim(only important): 0.68853\t\ttrue label: 0\n",
      "   9531 |  sim: 0.552491\tsim(only important): 0.632456\t\ttrue label: 0\n",
      "  33082 |  sim: 0.547560\tsim(only important): 0.688847\t\ttrue label: 0\n",
      "  22625 |  sim: 0.533551\tsim(only important): 0.690066\t\ttrue label: 0\n",
      "   6222 |  sim: 0.533551\tsim(only important): 0.669439\t\ttrue label: 0\n",
      "  22746 |  sim: 0.533211\tsim(only important): 0.651584\t\ttrue label: 0\n",
      "  11926 |  sim: 0.531055\tsim(only important): 0.710047\t\ttrue label: 0\n",
      "  12744 |  sim: 0.528678\tsim(only important): 0.732467\t\ttrue label: 0\n",
      "  35641 |  sim: 0.528673\tsim(only important): 0.688847\t\ttrue label: 0\n",
      "  40226 |  sim: 0.527750\tsim(only important): 0.710047\t\ttrue label: 0\n",
      "  19243 |  sim: 0.525494\tsim(only important): 0.67082\t\ttrue label: 0\n",
      "   4007 |  sim: 0.524297\tsim(only important): 0.645497\t\ttrue label: 0\n",
      "  34193 |  sim: 0.519321\tsim(only important): 0.666667\t\ttrue label: 0\n",
      "  11927 |  sim: 0.516150\tsim(only important): 0.644503\t\ttrue label: 0\n",
      "  22220 |  sim: 0.516150\tsim(only important): 0.6\t\ttrue label: 0\n",
      "  35474 |  sim: 0.514496\tsim(only important): 0.67082\t\ttrue label: 0\n",
      "  43003 |  sim: 0.509797\tsim(only important): 0.770054\t\ttrue label: 0\n",
      "   2170 |  sim: 0.509229\tsim(only important): 0.745356\t\ttrue label: 0\n",
      "  40888 |  sim: 0.506640\tsim(only important): 0.644503\t\ttrue label: 0\n",
      "  40889 |  sim: 0.506640\tsim(only important): 0.67082\t\ttrue label: 0\n",
      "\n",
      "testing Molecule:  14430\n",
      "  39070 |  sim: 0.708646\tsim(only important): 0.807207\t\ttrue label: 0\n",
      "  27355 |  sim: 0.656571\tsim(only important): 0.762713\t\ttrue label: 0\n",
      "  20894 |  sim: 0.622760\tsim(only important): 0.726273\t\ttrue label: 0\n",
      "  37058 |  sim: 0.616041\tsim(only important): 0.628971\t\ttrue label: 0\n",
      "  30163 |  sim: 0.609701\tsim(only important): 0.807207\t\ttrue label: 0\n",
      "  26733 |  sim: 0.603957\tsim(only important): 0.846154\t\ttrue label: 0\n",
      "  36697 |  sim: 0.602570\tsim(only important): 0.73994\t\ttrue label: 0\n",
      "\u001b[31m  43393 |  sim: 0.602557\tsim(only important): 0.726273\t\ttrue label: 1  *\u001b[0m\n",
      "  37036 |  sim: 0.598684\tsim(only important): 0.628971\t\ttrue label: 0\n",
      "  26849 |  sim: 0.598684\tsim(only important): 0.787726\t\ttrue label: 0\n",
      "  42353 |  sim: 0.596360\tsim(only important): 0.787726\t\ttrue label: 0\n",
      "  28902 |  sim: 0.596360\tsim(only important): 0.762713\t\ttrue label: 0\n",
      "  27281 |  sim: 0.590539\tsim(only important): 0.769231\t\ttrue label: 0\n",
      "  23127 |  sim: 0.589028\tsim(only important): 0.719092\t\ttrue label: 0\n",
      "  33297 |  sim: 0.582717\tsim(only important): 0.692308\t\ttrue label: 0\n",
      "  24785 |  sim: 0.582717\tsim(only important): 0.787726\t\ttrue label: 0\n",
      "  13717 |  sim: 0.581988\tsim(only important): 0.73994\t\ttrue label: 0\n",
      "  27629 |  sim: 0.575197\tsim(only important): 0.846154\t\ttrue label: 0\n",
      "  12248 |  sim: 0.575197\tsim(only important): 0.800641\t\ttrue label: 0\n",
      "  26851 |  sim: 0.575197\tsim(only important): 0.787726\t\ttrue label: 0\n",
      "  42990 |  sim: 0.575181\tsim(only important): 0.73994\t\ttrue label: 0\n",
      "  17772 |  sim: 0.575181\tsim(only important): 0.682191\t\ttrue label: 0\n",
      "  32932 |  sim: 0.575181\tsim(only important): 0.807207\t\ttrue label: 0\n",
      "\u001b[31m  43398 |  sim: 0.568607\tsim(only important): 0.762713\t\ttrue label: 1  *\u001b[0m\n",
      "   4413 |  sim: 0.560993\tsim(only important): 0.720577\t\ttrue label: 0\n",
      "  27898 |  sim: 0.560993\tsim(only important): 0.719092\t\ttrue label: 0\n",
      "  32898 |  sim: 0.558801\tsim(only important): 0.744208\t\ttrue label: 0\n",
      "  25333 |  sim: 0.556108\tsim(only important): 0.699913\t\ttrue label: 0\n",
      "  22071 |  sim: 0.554437\tsim(only important): 0.701646\t\ttrue label: 0\n",
      "  18844 |  sim: 0.554274\tsim(only important): 0.815374\t\ttrue label: 0\n",
      "\n",
      "testing Molecule:  14432\n",
      "   6744 |  sim: 0.520573\tsim(only important): 0.668153\t\ttrue label: 0\n",
      "  34077 |  sim: 0.518696\tsim(only important): 0.707107\t\ttrue label: 0\n",
      "  19632 |  sim: 0.503581\tsim(only important): 0.67082\t\ttrue label: 0\n",
      "  31491 |  sim: 0.497978\tsim(only important): 0.730297\t\ttrue label: 0\n",
      "  39788 |  sim: 0.495164\tsim(only important): 0.612372\t\ttrue label: 0\n",
      "  39068 |  sim: 0.489608\tsim(only important): 0.816497\t\ttrue label: 0\n",
      "  17237 |  sim: 0.485579\tsim(only important): 0.707107\t\ttrue label: 0\n",
      "  36239 |  sim: 0.483779\tsim(only important): 0.612372\t\ttrue label: 0\n",
      "  17111 |  sim: 0.481647\tsim(only important): 0.686406\t\ttrue label: 0\n",
      "   2534 |  sim: 0.477809\tsim(only important): 0.648886\t\ttrue label: 0\n",
      "   9779 |  sim: 0.474750\tsim(only important): 0.666667\t\ttrue label: 0\n",
      "  21833 |  sim: 0.474454\tsim(only important): 0.67082\t\ttrue label: 0\n",
      "   2608 |  sim: 0.466902\tsim(only important): 0.685994\t\ttrue label: 0\n",
      "  36307 |  sim: 0.463687\tsim(only important): 0.707107\t\ttrue label: 0\n",
      "   2564 |  sim: 0.460950\tsim(only important): 0.63901\t\ttrue label: 0\n",
      "  36691 |  sim: 0.460830\tsim(only important): 0.686406\t\ttrue label: 0\n",
      "  11565 |  sim: 0.460830\tsim(only important): 0.755929\t\ttrue label: 0\n",
      "  10060 |  sim: 0.460830\tsim(only important): 0.707107\t\ttrue label: 0\n",
      "   7292 |  sim: 0.458433\tsim(only important): 0.746203\t\ttrue label: 0\n",
      "  31432 |  sim: 0.456562\tsim(only important): 0.685994\t\ttrue label: 0\n",
      "   8070 |  sim: 0.452374\tsim(only important): 0.639602\t\ttrue label: 0\n",
      "  31505 |  sim: 0.451946\tsim(only important): 0.63901\t\ttrue label: 0\n",
      "   2614 |  sim: 0.451946\tsim(only important): 0.685994\t\ttrue label: 0\n",
      "  29217 |  sim: 0.449586\tsim(only important): 0.816497\t\ttrue label: 0\n",
      "  36542 |  sim: 0.449586\tsim(only important): 0.714435\t\ttrue label: 0\n",
      "  17311 |  sim: 0.449354\tsim(only important): 0.730297\t\ttrue label: 0\n",
      "  31741 |  sim: 0.449354\tsim(only important): 0.755929\t\ttrue label: 0\n",
      "  20606 |  sim: 0.445368\tsim(only important): 0.668153\t\ttrue label: 0\n",
      "  31771 |  sim: 0.445012\tsim(only important): 0.784465\t\ttrue label: 0\n",
      "  17066 |  sim: 0.444367\tsim(only important): 0.63901\t\ttrue label: 0\n",
      "\n",
      "testing Molecule:  14433\n",
      "  19828 |  sim: 0.673191\tsim(only important): 0.816497\t\ttrue label: 0\n",
      "  19537 |  sim: 0.575197\tsim(only important): 0.774597\t\ttrue label: 0\n",
      "  36544 |  sim: 0.553581\tsim(only important): 0.771517\t\ttrue label: 0\n",
      "  19663 |  sim: 0.548387\tsim(only important): 0.721688\t\ttrue label: 0\n",
      "   9150 |  sim: 0.539564\tsim(only important): 0.615457\t\ttrue label: 0\n",
      "  34253 |  sim: 0.533401\tsim(only important): 0.680414\t\ttrue label: 0\n",
      "  38868 |  sim: 0.532943\tsim(only important): 0.774597\t\ttrue label: 0\n",
      "  23619 |  sim: 0.529627\tsim(only important): 0.645497\t\ttrue label: 0\n",
      "  24409 |  sim: 0.528352\tsim(only important): 0.833333\t\ttrue label: 0\n",
      "   7526 |  sim: 0.526560\tsim(only important): 0.738549\t\ttrue label: 0\n",
      "   8214 |  sim: 0.523635\tsim(only important): 0.721688\t\ttrue label: 0\n",
      "   7566 |  sim: 0.520401\tsim(only important): 0.774597\t\ttrue label: 0\n",
      "  23751 |  sim: 0.520401\tsim(only important): 0.721688\t\ttrue label: 0\n",
      "   9162 |  sim: 0.514454\tsim(only important): 0.615457\t\ttrue label: 0\n",
      "  38160 |  sim: 0.511166\tsim(only important): 0.645497\t\ttrue label: 0\n",
      "  38240 |  sim: 0.504893\tsim(only important): 0.774597\t\ttrue label: 0\n",
      "  34091 |  sim: 0.503146\tsim(only important): 0.615457\t\ttrue label: 0\n",
      "   9005 |  sim: 0.503146\tsim(only important): 0.679366\t\ttrue label: 0\n",
      "  20375 |  sim: 0.502895\tsim(only important): 0.833333\t\ttrue label: 0\n",
      "  19657 |  sim: 0.501958\tsim(only important): 0.645497\t\ttrue label: 0\n",
      "  39567 |  sim: 0.497796\tsim(only important): 0.721688\t\ttrue label: 0\n",
      "  23689 |  sim: 0.493012\tsim(only important): 0.679366\t\ttrue label: 0\n",
      "   6456 |  sim: 0.487500\tsim(only important): 0.738549\t\ttrue label: 0\n",
      "  19648 |  sim: 0.487377\tsim(only important): 0.615457\t\ttrue label: 0\n",
      "  23952 |  sim: 0.483911\tsim(only important): 0.666667\t\ttrue label: 0\n",
      "   5015 |  sim: 0.483871\tsim(only important): 0.866025\t\ttrue label: 0\n",
      "  37199 |  sim: 0.482768\tsim(only important): 0.738549\t\ttrue label: 0\n",
      "   8326 |  sim: 0.482768\tsim(only important): 0.645497\t\ttrue label: 0\n",
      "  19550 |  sim: 0.482768\tsim(only important): 0.721688\t\ttrue label: 0\n",
      "  20110 |  sim: 0.481932\tsim(only important): 0.707107\t\ttrue label: 0\n",
      "\n",
      "testing Molecule:  14434\n",
      "  25347 |  sim: 0.366338\tsim(only important): 0.801784\t\ttrue label: 0\n",
      "  24754 |  sim: 0.366338\tsim(only important): 0.857143\t\ttrue label: 0\n",
      "  36792 |  sim: 0.361251\tsim(only important): 0.717137\t\ttrue label: 0\n",
      "   3720 |  sim: 0.346977\tsim(only important): 0.733799\t\ttrue label: 0\n",
      "   1538 |  sim: 0.342224\tsim(only important): 0.881917\t\ttrue label: 0\n",
      "  11122 |  sim: 0.333773\tsim(only important): 0.83666\t\ttrue label: 0\n",
      "  24419 |  sim: 0.328798\tsim(only important): 0.857143\t\ttrue label: 0\n",
      "   8580 |  sim: 0.325493\tsim(only important): 0.628971\t\ttrue label: 0\n",
      "  21474 |  sim: 0.324796\tsim(only important): 0.714286\t\ttrue label: 0\n",
      "  11955 |  sim: 0.324324\tsim(only important): 0.668153\t\ttrue label: 0\n",
      "  38730 |  sim: 0.322286\tsim(only important): 0.733799\t\ttrue label: 0\n",
      "  31279 |  sim: 0.322286\tsim(only important): 0.83666\t\ttrue label: 0\n",
      "   6706 |  sim: 0.322193\tsim(only important): 0.717137\t\ttrue label: 0\n",
      "   5176 |  sim: 0.322193\tsim(only important): 0.801784\t\ttrue label: 0\n",
      "  17177 |  sim: 0.321044\tsim(only important): 0.654654\t\ttrue label: 0\n",
      "  22622 |  sim: 0.320028\tsim(only important): 0.763763\t\ttrue label: 0\n",
      "   7615 |  sim: 0.316386\tsim(only important): 0.668153\t\ttrue label: 0\n",
      "  10259 |  sim: 0.316147\tsim(only important): 0.797724\t\ttrue label: 0\n",
      "   1323 |  sim: 0.315899\tsim(only important): 0.755929\t\ttrue label: 0\n",
      "  22250 |  sim: 0.311925\tsim(only important): 0.629941\t\ttrue label: 0\n",
      "  23223 |  sim: 0.310685\tsim(only important): 0.654654\t\ttrue label: 0\n",
      "  10539 |  sim: 0.310685\tsim(only important): 0.857143\t\ttrue label: 0\n",
      "   9767 |  sim: 0.310136\tsim(only important): 0.801784\t\ttrue label: 0\n",
      "  22273 |  sim: 0.310136\tsim(only important): 0.668153\t\ttrue label: 0\n",
      "  14649 |  sim: 0.308248\tsim(only important): 0.654654\t\ttrue label: 0\n",
      "   2718 |  sim: 0.307562\tsim(only important): 0.654654\t\ttrue label: 0\n",
      "   4594 |  sim: 0.305312\tsim(only important): 0.654654\t\ttrue label: 0\n",
      "   8337 |  sim: 0.305281\tsim(only important): 0.676123\t\ttrue label: 0\n",
      "  39280 |  sim: 0.302244\tsim(only important): 0.717137\t\ttrue label: 0\n",
      "  30904 |  sim: 0.302244\tsim(only important): 0.755929\t\ttrue label: 0\n",
      "\n"
     ]
    }
   ],
   "source": [
    "test_list = [14424, 14426, 14430, 14432, 14433, 14434]\n",
    "print_list(test_list, X_val, X_train, y_train, top=30, importance_index=importance_index)"
   ]
  },
  {
   "cell_type": "markdown",
   "metadata": {
    "deletable": true,
    "editable": true
   },
   "source": [
    "#### Good predictions onboth NN and RF\n",
    "<a id=28></a>"
   ]
  },
  {
   "cell_type": "code",
   "execution_count": 28,
   "metadata": {
    "collapsed": false,
    "deletable": true,
    "editable": true,
    "scrolled": false
   },
   "outputs": [
    {
     "name": "stdout",
     "output_type": "stream",
     "text": [
      "testing Molecule:  14423\n",
      "\u001b[31m  14427 |  sim: 0.840168\tsim(only important): 0.919255\t\ttrue label: 1  *\u001b[0m\n",
      "   3286 |  sim: 0.755732\tsim(only important): 0.794719\t\ttrue label: 0\n",
      "  35467 |  sim: 0.749613\tsim(only important): 0.688247\t\ttrue label: 0\n",
      "  17790 |  sim: 0.740148\tsim(only important): 0.710819\t\ttrue label: 0\n",
      "  17828 |  sim: 0.732709\tsim(only important): 0.735767\t\ttrue label: 0\n",
      "   3320 |  sim: 0.732709\tsim(only important): 0.842105\t\ttrue label: 0\n",
      "  25942 |  sim: 0.729204\tsim(only important): 0.95119\t\ttrue label: 0\n",
      "  32200 |  sim: 0.722610\tsim(only important): 0.763542\t\ttrue label: 0\n",
      "   3346 |  sim: 0.717741\tsim(only important): 0.699913\t\ttrue label: 0\n",
      "  17802 |  sim: 0.711057\tsim(only important): 0.778981\t\ttrue label: 0\n",
      "   3338 |  sim: 0.701964\tsim(only important): 0.745601\t\ttrue label: 0\n",
      "  32225 |  sim: 0.693103\tsim(only important): 0.735767\t\ttrue label: 0\n",
      "  17778 |  sim: 0.692436\tsim(only important): 0.710819\t\ttrue label: 0\n",
      "  40715 |  sim: 0.686352\tsim(only important): 0.858395\t\ttrue label: 0\n",
      "  22981 |  sim: 0.677930\tsim(only important): 0.662266\t\ttrue label: 0\n",
      "  32260 |  sim: 0.677930\tsim(only important): 0.652929\t\ttrue label: 0\n",
      "  17791 |  sim: 0.666973\tsim(only important): 0.797081\t\ttrue label: 0\n",
      "   3304 |  sim: 0.661976\tsim(only important): 0.509028\t\ttrue label: 0\n",
      "  29616 |  sim: 0.660225\tsim(only important): 0.699913\t\ttrue label: 0\n",
      "  37474 |  sim: 0.660132\tsim(only important): 0.651584\t\ttrue label: 0\n",
      "\n",
      "testing Molecule:  14429\n",
      "\u001b[31m  28917 |  sim: 0.808138\tsim(only important): 0.948683\t\ttrue label: 1  *\u001b[0m\n",
      "  27466 |  sim: 0.701793\tsim(only important): 0.821584\t\ttrue label: 0\n",
      "  20334 |  sim: 0.697518\tsim(only important): 0.83666\t\ttrue label: 0\n",
      "  12965 |  sim: 0.691280\tsim(only important): 0.76277\t\ttrue label: 0\n",
      "\u001b[31m  28908 |  sim: 0.682187\tsim(only important): 0.83666\t\ttrue label: 1  *\u001b[0m\n",
      "\u001b[31m  28907 |  sim: 0.682187\tsim(only important): 0.83666\t\ttrue label: 1  *\u001b[0m\n",
      "  24881 |  sim: 0.666667\tsim(only important): 0.717137\t\ttrue label: 0\n",
      "  30869 |  sim: 0.656488\tsim(only important): 0.565685\t\ttrue label: 0\n",
      "  34811 |  sim: 0.641624\tsim(only important): 0.7\t\ttrue label: 0\n",
      "  12966 |  sim: 0.611111\tsim(only important): 0.760639\t\ttrue label: 0\n",
      "  12967 |  sim: 0.608581\tsim(only important): 0.730297\t\ttrue label: 0\n",
      "  27468 |  sim: 0.595880\tsim(only important): 0.789352\t\ttrue label: 0\n",
      "  41876 |  sim: 0.593171\tsim(only important): 0.789352\t\ttrue label: 0\n",
      "  10626 |  sim: 0.589256\tsim(only important): 0.737865\t\ttrue label: 0\n",
      "  41788 |  sim: 0.571057\tsim(only important): 0.760639\t\ttrue label: 0\n",
      "  14973 |  sim: 0.566139\tsim(only important): 0.717137\t\ttrue label: 0\n",
      "  27469 |  sim: 0.557619\tsim(only important): 0.760639\t\ttrue label: 0\n",
      "  25495 |  sim: 0.545949\tsim(only important): 0.774597\t\ttrue label: 0\n",
      "  24895 |  sim: 0.545545\tsim(only important): 0.8\t\ttrue label: 0\n",
      "  12968 |  sim: 0.510754\tsim(only important): 0.676123\t\ttrue label: 0\n",
      "\n",
      "testing Molecule:  14431\n",
      "   3304 |  sim: 0.827641\tsim(only important): 0.672673\t\ttrue label: 0\n",
      "  11556 |  sim: 0.822425\tsim(only important): 0.842665\t\ttrue label: 0\n",
      "\u001b[31m  14427 |  sim: 0.818388\tsim(only important): 0.857493\t\ttrue label: 1  *\u001b[0m\n",
      "  10645 |  sim: 0.800198\tsim(only important): 0.731272\t\ttrue label: 0\n",
      "  36185 |  sim: 0.776955\tsim(only important): 0.630126\t\ttrue label: 0\n",
      "  17778 |  sim: 0.745484\tsim(only important): 0.626224\t\ttrue label: 0\n",
      "  37467 |  sim: 0.710705\tsim(only important): 0.672673\t\ttrue label: 0\n",
      "  32260 |  sim: 0.706322\tsim(only important): 0.613572\t\ttrue label: 0\n",
      "   8517 |  sim: 0.691260\tsim(only important): 0.70014\t\ttrue label: 0\n",
      "   8483 |  sim: 0.689169\tsim(only important): 0.731272\t\ttrue label: 0\n",
      "  37453 |  sim: 0.683360\tsim(only important): 0.648204\t\ttrue label: 0\n",
      "  21739 |  sim: 0.677003\tsim(only important): 0.563602\t\ttrue label: 0\n",
      "  40488 |  sim: 0.674601\tsim(only important): 0.648204\t\ttrue label: 0\n",
      "  15179 |  sim: 0.674200\tsim(only important): 0.690268\t\ttrue label: 0\n",
      "  15125 |  sim: 0.667632\tsim(only important): 0.690268\t\ttrue label: 0\n",
      "  11516 |  sim: 0.666711\tsim(only important): 0.606339\t\ttrue label: 0\n",
      "  11513 |  sim: 0.662652\tsim(only important): 0.626224\t\ttrue label: 0\n",
      "   3320 |  sim: 0.660922\tsim(only important): 0.667698\t\ttrue label: 0\n",
      "   3347 |  sim: 0.660922\tsim(only important): 0.705882\t\ttrue label: 0\n",
      "   3292 |  sim: 0.659699\tsim(only important): 0.563602\t\ttrue label: 0\n",
      "\n",
      "testing Molecule:  14435\n",
      "  20412 |  sim: 0.833514\tsim(only important): 0.80829\t\ttrue label: 0\n",
      "  38950 |  sim: 0.800044\tsim(only important): 0.8\t\ttrue label: 0\n",
      "  21229 |  sim: 0.779681\tsim(only important): 0.782624\t\ttrue label: 0\n",
      "\u001b[31m  43396 |  sim: 0.742746\tsim(only important): 0.866025\t\ttrue label: 1  *\u001b[0m\n",
      "   9979 |  sim: 0.735307\tsim(only important): 0.717137\t\ttrue label: 0\n",
      "  18396 |  sim: 0.728202\tsim(only important): 0.717137\t\ttrue label: 0\n",
      "\u001b[31m  14423 |  sim: 0.725669\tsim(only important): 0.769484\t\ttrue label: 1  *\u001b[0m\n",
      "  20404 |  sim: 0.714881\tsim(only important): 0.843274\t\ttrue label: 0\n",
      "  20427 |  sim: 0.714590\tsim(only important): 0.67082\t\ttrue label: 0\n",
      "   7167 |  sim: 0.714590\tsim(only important): 0.726722\t\ttrue label: 0\n",
      "\u001b[31m  28919 |  sim: 0.702128\tsim(only important): 0.838525\t\ttrue label: 1  *\u001b[0m\n",
      "  25769 |  sim: 0.694775\tsim(only important): 0.820783\t\ttrue label: 0\n",
      "  20374 |  sim: 0.694456\tsim(only important): 0.682191\t\ttrue label: 0\n",
      "   5889 |  sim: 0.687746\tsim(only important): 0.750555\t\ttrue label: 0\n",
      "   5512 |  sim: 0.686555\tsim(only important): 0.67082\t\ttrue label: 0\n",
      "  23394 |  sim: 0.681689\tsim(only important): 0.774597\t\ttrue label: 0\n",
      "  10874 |  sim: 0.670355\tsim(only important): 0.905789\t\ttrue label: 0\n",
      "  30363 |  sim: 0.668727\tsim(only important): 0.932505\t\ttrue label: 0\n",
      "  10442 |  sim: 0.666811\tsim(only important): 0.774597\t\ttrue label: 0\n",
      "   3848 |  sim: 0.666705\tsim(only important): 0.645497\t\ttrue label: 0\n",
      "\n",
      "testing Molecule:  14436\n",
      "  41876 |  sim: 0.783218\tsim(only important): 0.836242\t\ttrue label: 0\n",
      "  27469 |  sim: 0.736275\tsim(only important): 0.805823\t\ttrue label: 0\n",
      "\u001b[31m  28917 |  sim: 0.711967\tsim(only important): 0.904534\t\ttrue label: 1  *\u001b[0m\n",
      "  24895 |  sim: 0.701862\tsim(only important): 0.858116\t\ttrue label: 0\n",
      "  12968 |  sim: 0.684482\tsim(only important): 0.725241\t\ttrue label: 0\n",
      "  20334 |  sim: 0.673036\tsim(only important): 0.797724\t\ttrue label: 0\n",
      "\u001b[31m  28907 |  sim: 0.658243\tsim(only important): 0.797724\t\ttrue label: 1  *\u001b[0m\n",
      "\u001b[31m  28908 |  sim: 0.658243\tsim(only important): 0.797724\t\ttrue label: 1  *\u001b[0m\n",
      "  34811 |  sim: 0.619103\tsim(only important): 0.667424\t\ttrue label: 0\n",
      "  10626 |  sim: 0.568574\tsim(only important): 0.703526\t\ttrue label: 0\n",
      "  39429 |  sim: 0.557086\tsim(only important): 0.683763\t\ttrue label: 0\n",
      "  24892 |  sim: 0.549532\tsim(only important): 0.639602\t\ttrue label: 0\n",
      "  14973 |  sim: 0.546268\tsim(only important): 0.683763\t\ttrue label: 0\n",
      "  26837 |  sim: 0.542228\tsim(only important): 0.609272\t\ttrue label: 0\n",
      "  27466 |  sim: 0.541729\tsim(only important): 0.783349\t\ttrue label: 0\n",
      "  25066 |  sim: 0.541390\tsim(only important): 0.609272\t\ttrue label: 0\n",
      "  12966 |  sim: 0.536056\tsim(only important): 0.725241\t\ttrue label: 0\n",
      "  28881 |  sim: 0.535652\tsim(only important): 0.644658\t\ttrue label: 0\n",
      "  35218 |  sim: 0.531898\tsim(only important): 0.668994\t\ttrue label: 0\n",
      "  12967 |  sim: 0.528498\tsim(only important): 0.696311\t\ttrue label: 0\n",
      "\n",
      "testing Molecule:  14438\n",
      "\u001b[31m  43405 |  sim: 0.831513\tsim(only important): 0.941176\t\ttrue label: 1  *\u001b[0m\n",
      "  13488 |  sim: 0.753778\tsim(only important): 0.941176\t\ttrue label: 0\n",
      "  13490 |  sim: 0.727273\tsim(only important): 0.939336\t\ttrue label: 0\n",
      "  42395 |  sim: 0.697863\tsim(only important): 0.834622\t\ttrue label: 0\n",
      "  42389 |  sim: 0.689701\tsim(only important): 0.690268\t\ttrue label: 0\n",
      "  42394 |  sim: 0.689701\tsim(only important): 0.882353\t\ttrue label: 0\n",
      "  13487 |  sim: 0.689059\tsim(only important): 0.890264\t\ttrue label: 0\n",
      "  28678 |  sim: 0.689059\tsim(only important): 0.740959\t\ttrue label: 0\n",
      "\u001b[31m  43404 |  sim: 0.681818\tsim(only important): 0.909509\t\ttrue label: 1  *\u001b[0m\n",
      "  14176 |  sim: 0.674551\tsim(only important): 0.740959\t\ttrue label: 0\n",
      "  42393 |  sim: 0.666711\tsim(only important): 0.813489\t\ttrue label: 0\n",
      "  27967 |  sim: 0.654411\tsim(only important): 0.867722\t\ttrue label: 0\n",
      "  19228 |  sim: 0.653275\tsim(only important): 0.514496\t\ttrue label: 0\n",
      "\u001b[31m  14436 |  sim: 0.646096\tsim(only important): 0.857493\t\ttrue label: 1  *\u001b[0m\n",
      "\u001b[31m  14435 |  sim: 0.639602\tsim(only important): 0.834622\t\ttrue label: 1  *\u001b[0m\n",
      "  40438 |  sim: 0.636364\tsim(only important): 0.626224\t\ttrue label: 0\n",
      "  27966 |  sim: 0.635851\tsim(only important): 0.857493\t\ttrue label: 0\n",
      "  26836 |  sim: 0.628077\tsim(only important): 0.536875\t\ttrue label: 0\n",
      "  32810 |  sim: 0.627646\tsim(only important): 0.485071\t\ttrue label: 0\n",
      "  28679 |  sim: 0.613636\tsim(only important): 0.740959\t\ttrue label: 0\n",
      "\n"
     ]
    }
   ],
   "source": [
    "test_list = [14423, 14429, 14431, 14435, 14436, 14438] # NN is less confident on 14435, 14436\n",
    "print_list(test_list, X_val, X_train, y_train, importance_index=importance_index)"
   ]
  },
  {
   "cell_type": "markdown",
   "metadata": {
    "deletable": true,
    "editable": true
   },
   "source": [
    "### Compare Rank on Test\n",
    "<a id=29></a>"
   ]
  },
  {
   "cell_type": "code",
   "execution_count": 29,
   "metadata": {
    "collapsed": false,
    "deletable": true,
    "editable": true
   },
   "outputs": [
    {
     "name": "stdout",
     "output_type": "stream",
     "text": [
      "14424 \t|\t0.000033\t769\tRank: 0.0531\t|\t0.021250\t93\tRank: 0.0064\n",
      "14425 \t|\t0.000002\t14220\tRank: 0.9816\t|\t0.000000\t8667\tRank: 0.5983\n",
      "14426 \t|\t0.000029\t999\tRank: 0.0690\t|\t0.000750\t3383\tRank: 0.2335\n",
      "14427 \t|\t0.160746\t9\tRank: 0.0006\t|\t0.251750\t2\tRank: 0.0001\n",
      "14428 \t|\t0.000026\t1262\tRank: 0.0871\t|\t0.001500\t1441\tRank: 0.0995\n",
      "14429 \t|\t0.708671\t6\tRank: 0.0004\t|\t0.147250\t8\tRank: 0.0006\n",
      "14430 \t|\t0.000322\t94\tRank: 0.0065\t|\t0.063000\t33\tRank: 0.0023\n",
      "14431 \t|\t0.000028\t1089\tRank: 0.0752\t|\t0.004000\t443\tRank: 0.0306\n",
      "14432 \t|\t0.000078\t254\tRank: 0.0175\t|\t0.019500\t97\tRank: 0.0067\n",
      "14433 \t|\t0.000026\t1308\tRank: 0.0903\t|\t0.017750\t103\tRank: 0.0071\n",
      "14434 \t|\t0.000009\t8551\tRank: 0.5903\t|\t0.000250\t6975\tRank: 0.4815\n",
      "14435 \t|\t0.000008\t9950\tRank: 0.6869\t|\t0.000250\t7019\tRank: 0.4845\n",
      "14436 \t|\t0.920472\t5\tRank: 0.0003\t|\t0.169500\t6\tRank: 0.0004\n",
      "14437 \t|\t0.069630\t11\tRank: 0.0008\t|\t0.122250\t15\tRank: 0.0010\n",
      "14438 \t|\t0.000193\t117\tRank: 0.0081\t|\t0.089500\t21\tRank: 0.0014\n",
      "14439 \t|\t0.040926\t14\tRank: 0.0010\t|\t0.082250\t26\tRank: 0.0018\n"
     ]
    }
   ],
   "source": [
    "compare_rank(y_test, y_pred_on_test_single_NN, y_pred_on_test_rf)"
   ]
  },
  {
   "cell_type": "markdown",
   "metadata": {
    "deletable": true,
    "editable": true
   },
   "source": [
    "#### Bad predicted on NN but Better on RF\n",
    "<a id=30></a>"
   ]
  },
  {
   "cell_type": "code",
   "execution_count": 30,
   "metadata": {
    "collapsed": false,
    "deletable": true,
    "editable": true,
    "scrolled": false
   },
   "outputs": [
    {
     "name": "stdout",
     "output_type": "stream",
     "text": [
      "testing Molecule:  14425\n",
      "  33815 |  sim: 0.953313\tsim(only important): 1.0\t\ttrue label: 0\n",
      "  33834 |  sim: 0.880771\tsim(only important): 0.963624\t\ttrue label: 0\n",
      "  33792 |  sim: 0.872872\tsim(only important): 0.963624\t\ttrue label: 0\n",
      "  19401 |  sim: 0.866025\tsim(only important): 0.800641\t\ttrue label: 0\n",
      "    925 |  sim: 0.827535\tsim(only important): 0.846154\t\ttrue label: 0\n",
      "  33820 |  sim: 0.819382\tsim(only important): 0.741249\t\ttrue label: 0\n",
      "  33825 |  sim: 0.813838\tsim(only important): 0.784465\t\ttrue label: 0\n",
      "  33833 |  sim: 0.811107\tsim(only important): 0.836242\t\ttrue label: 0\n",
      "  19423 |  sim: 0.811107\tsim(only important): 0.889499\t\ttrue label: 0\n",
      "   4912 |  sim: 0.808290\tsim(only important): 0.800641\t\ttrue label: 0\n",
      "  19388 |  sim: 0.807373\tsim(only important): 0.889499\t\ttrue label: 0\n",
      "  19398 |  sim: 0.805316\tsim(only important): 1.0\t\ttrue label: 0\n",
      "   4858 |  sim: 0.789024\tsim(only important): 0.880705\t\ttrue label: 0\n",
      "  15347 |  sim: 0.781271\tsim(only important): 0.877058\t\ttrue label: 0\n",
      "   6270 |  sim: 0.779525\tsim(only important): 1.0\t\ttrue label: 0\n",
      "  15664 |  sim: 0.777616\tsim(only important): 0.923077\t\ttrue label: 0\n",
      "  29836 |  sim: 0.775058\tsim(only important): 0.846154\t\ttrue label: 0\n",
      "  33817 |  sim: 0.774139\tsim(only important): 0.784465\t\ttrue label: 0\n",
      "    898 |  sim: 0.773723\tsim(only important): 0.877058\t\ttrue label: 0\n",
      "    906 |  sim: 0.768347\tsim(only important): 0.846154\t\ttrue label: 0\n",
      "  33850 |  sim: 0.766032\tsim(only important): 0.784465\t\ttrue label: 0\n",
      "  33799 |  sim: 0.763763\tsim(only important): 0.836242\t\ttrue label: 0\n",
      "    933 |  sim: 0.762216\tsim(only important): 0.846154\t\ttrue label: 0\n",
      "    936 |  sim: 0.750555\tsim(only important): 0.668994\t\ttrue label: 0\n",
      "  20814 |  sim: 0.745578\tsim(only important): 0.692308\t\ttrue label: 0\n",
      "  29889 |  sim: 0.739009\tsim(only important): 0.667124\t\ttrue label: 0\n",
      "  29875 |  sim: 0.737865\tsim(only important): 0.846154\t\ttrue label: 0\n",
      "   4892 |  sim: 0.735980\tsim(only important): 0.701646\t\ttrue label: 0\n",
      "  19414 |  sim: 0.735980\tsim(only important): 0.640513\t\ttrue label: 0\n",
      "  29829 |  sim: 0.732610\tsim(only important): 0.644503\t\ttrue label: 0\n",
      "\n",
      "testing Molecule:  14428\n",
      "   7242 |  sim: 0.719510\tsim(only important): 0.696311\t\ttrue label: 0\n",
      "  21769 |  sim: 0.681994\tsim(only important): 0.622799\t\ttrue label: 0\n",
      "  30528 |  sim: 0.679639\tsim(only important): 0.615457\t\ttrue label: 0\n",
      "   7276 |  sim: 0.674541\tsim(only important): 0.603023\t\ttrue label: 0\n",
      "  36084 |  sim: 0.667326\tsim(only important): 0.870388\t\ttrue label: 0\n",
      "  17492 |  sim: 0.658869\tsim(only important): 0.615457\t\ttrue label: 0\n",
      "  10966 |  sim: 0.653565\tsim(only important): 0.622799\t\ttrue label: 0\n",
      "  21995 |  sim: 0.646997\tsim(only important): 0.696311\t\ttrue label: 0\n",
      "  22881 |  sim: 0.646997\tsim(only important): 0.725241\t\ttrue label: 0\n",
      "  26569 |  sim: 0.643039\tsim(only important): 0.727273\t\ttrue label: 0\n",
      "   7415 |  sim: 0.637118\tsim(only important): 0.6742\t\ttrue label: 0\n",
      "  12325 |  sim: 0.636528\tsim(only important): 0.753778\t\ttrue label: 0\n",
      "  20823 |  sim: 0.635338\tsim(only important): 0.668994\t\ttrue label: 0\n",
      "  26300 |  sim: 0.635338\tsim(only important): 0.76277\t\ttrue label: 0\n",
      "  22865 |  sim: 0.631780\tsim(only important): 0.603023\t\ttrue label: 0\n",
      "  36582 |  sim: 0.631780\tsim(only important): 0.753778\t\ttrue label: 0\n",
      "  12122 |  sim: 0.629571\tsim(only important): 0.752618\t\ttrue label: 0\n",
      "  26171 |  sim: 0.628419\tsim(only important): 0.778499\t\ttrue label: 0\n",
      "  13664 |  sim: 0.619268\tsim(only important): 0.691714\t\ttrue label: 0\n",
      "  21791 |  sim: 0.619223\tsim(only important): 0.435194\t\ttrue label: 0\n",
      "  41183 |  sim: 0.619223\tsim(only important): 0.615457\t\ttrue label: 0\n",
      "  26152 |  sim: 0.618463\tsim(only important): 0.818182\t\ttrue label: 0\n",
      "  41031 |  sim: 0.616887\tsim(only important): 0.805823\t\ttrue label: 0\n",
      "  12850 |  sim: 0.616316\tsim(only important): 0.725241\t\ttrue label: 0\n",
      "   4141 |  sim: 0.616316\tsim(only important): 0.585369\t\ttrue label: 0\n",
      "  17504 |  sim: 0.616316\tsim(only important): 0.609272\t\ttrue label: 0\n",
      "  34826 |  sim: 0.615462\tsim(only important): 0.836242\t\ttrue label: 0\n",
      "  23758 |  sim: 0.613795\tsim(only important): 0.696311\t\ttrue label: 0\n",
      "  24439 |  sim: 0.613285\tsim(only important): 0.622799\t\ttrue label: 0\n",
      "   7366 |  sim: 0.611354\tsim(only important): 0.603023\t\ttrue label: 0\n",
      "\n",
      "testing Molecule:  14431\n",
      "  24099 |  sim: 0.622752\tsim(only important): 0.445435\t\ttrue label: 0\n",
      "   8299 |  sim: 0.615457\tsim(only important): 0.828079\t\ttrue label: 0\n",
      "  40889 |  sim: 0.594942\tsim(only important): 0.694365\t\ttrue label: 0\n",
      "   5015 |  sim: 0.586588\tsim(only important): 0.661438\t\ttrue label: 0\n",
      "  34501 |  sim: 0.578352\tsim(only important): 0.734968\t\ttrue label: 0\n",
      "   9652 |  sim: 0.569614\tsim(only important): 0.828079\t\ttrue label: 0\n",
      "  22572 |  sim: 0.552566\tsim(only important): 0.676123\t\ttrue label: 0\n",
      "  36080 |  sim: 0.545545\tsim(only important): 0.801784\t\ttrue label: 0\n",
      "  43387 |  sim: 0.527437\tsim(only important): 0.62361\t\ttrue label: 0\n",
      "   9975 |  sim: 0.527360\tsim(only important): 0.714286\t\ttrue label: 0\n",
      "  13758 |  sim: 0.524951\tsim(only important): 0.725241\t\ttrue label: 0\n",
      "   9839 |  sim: 0.524891\tsim(only important): 0.755929\t\ttrue label: 0\n",
      "  37509 |  sim: 0.522713\tsim(only important): 0.785714\t\ttrue label: 0\n",
      "  23096 |  sim: 0.522713\tsim(only important): 0.667124\t\ttrue label: 0\n",
      "   6554 |  sim: 0.518811\tsim(only important): 0.667124\t\ttrue label: 0\n",
      "  21199 |  sim: 0.514496\tsim(only important): 0.690066\t\ttrue label: 0\n",
      "  17243 |  sim: 0.513783\tsim(only important): 0.741249\t\ttrue label: 0\n",
      "  38907 |  sim: 0.513778\tsim(only important): 0.801784\t\ttrue label: 0\n",
      "  30753 |  sim: 0.509525\tsim(only important): 0.755929\t\ttrue label: 0\n",
      "  25504 |  sim: 0.505450\tsim(only important): 0.741249\t\ttrue label: 0\n",
      "  27568 |  sim: 0.501608\tsim(only important): 0.828079\t\ttrue label: 0\n",
      "   9966 |  sim: 0.501608\tsim(only important): 0.741249\t\ttrue label: 0\n",
      "  21181 |  sim: 0.500370\tsim(only important): 0.694365\t\ttrue label: 0\n",
      "  25104 |  sim: 0.500319\tsim(only important): 0.777844\t\ttrue label: 0\n",
      "   3094 |  sim: 0.500319\tsim(only important): 0.692935\t\ttrue label: 0\n",
      "  11926 |  sim: 0.496243\tsim(only important): 0.734968\t\ttrue label: 0\n",
      "  29123 |  sim: 0.496243\tsim(only important): 0.741249\t\ttrue label: 0\n",
      "   6406 |  sim: 0.496243\tsim(only important): 0.601338\t\ttrue label: 0\n",
      "\u001b[31m  28916 |  sim: 0.495440\tsim(only important): 0.694365\t\ttrue label: 1  *\u001b[0m\n",
      "  37324 |  sim: 0.495434\tsim(only important): 0.842665\t\ttrue label: 0\n",
      "\n",
      "testing Molecule:  14438\n",
      "  40539 |  sim: 0.811899\tsim(only important): 0.83666\t\ttrue label: 0\n",
      "  27937 |  sim: 0.708214\tsim(only important): 0.657376\t\ttrue label: 0\n",
      "  12612 |  sim: 0.698611\tsim(only important): 0.620174\t\ttrue label: 0\n",
      "  40456 |  sim: 0.691055\tsim(only important): 0.737865\t\ttrue label: 0\n",
      "  11494 |  sim: 0.679729\tsim(only important): 0.558156\t\ttrue label: 0\n",
      "   4931 |  sim: 0.673315\tsim(only important): 0.635085\t\ttrue label: 0\n",
      "  27278 |  sim: 0.673162\tsim(only important): 0.636396\t\ttrue label: 0\n",
      "  41171 |  sim: 0.673162\tsim(only important): 0.67082\t\ttrue label: 0\n",
      "  20384 |  sim: 0.673162\tsim(only important): 0.790569\t\ttrue label: 0\n",
      "  12748 |  sim: 0.666694\tsim(only important): 0.666886\t\ttrue label: 0\n",
      "  12697 |  sim: 0.661495\tsim(only important): 0.57735\t\ttrue label: 0\n",
      "  26294 |  sim: 0.660820\tsim(only important): 0.620174\t\ttrue label: 0\n",
      "  27950 |  sim: 0.655098\tsim(only important): 0.67082\t\ttrue label: 0\n",
      "  42395 |  sim: 0.644994\tsim(only important): 0.820783\t\ttrue label: 0\n",
      "  42394 |  sim: 0.637450\tsim(only important): 0.813489\t\ttrue label: 0\n",
      "  42393 |  sim: 0.637450\tsim(only important): 0.85\t\ttrue label: 0\n",
      "  34909 |  sim: 0.636364\tsim(only important): 0.80829\t\ttrue label: 0\n",
      "  27931 |  sim: 0.635544\tsim(only important): 0.626099\t\ttrue label: 0\n",
      "  42632 |  sim: 0.631968\tsim(only important): 0.57735\t\ttrue label: 0\n",
      "\u001b[31m  14435 |  sim: 0.629285\tsim(only important): 0.820783\t\ttrue label: 1  *\u001b[0m\n",
      "  41740 |  sim: 0.625100\tsim(only important): 0.69282\t\ttrue label: 0\n",
      "  32191 |  sim: 0.625100\tsim(only important): 0.57735\t\ttrue label: 0\n",
      "  12348 |  sim: 0.618182\tsim(only important): 0.710047\t\ttrue label: 0\n",
      "  25280 |  sim: 0.616887\tsim(only important): 0.6742\t\ttrue label: 0\n",
      "  21093 |  sim: 0.616411\tsim(only important): 0.620174\t\ttrue label: 0\n",
      "  13487 |  sim: 0.616313\tsim(only important): 0.820783\t\ttrue label: 0\n",
      "  18598 |  sim: 0.611216\tsim(only important): 0.537853\t\ttrue label: 0\n",
      "  21161 |  sim: 0.610216\tsim(only important): 0.69282\t\ttrue label: 0\n",
      "\u001b[31m  43404 |  sim: 0.609837\tsim(only important): 0.838525\t\ttrue label: 1  *\u001b[0m\n",
      "  13490 |  sim: 0.609837\tsim(only important): 0.866025\t\ttrue label: 0\n",
      "\n"
     ]
    }
   ],
   "source": [
    "test_list = [14425, 14428, 14431, 14438]\n",
    "print_list(test_list, X_test, X_train, y_train, top=30, importance_index=importance_index)"
   ]
  },
  {
   "cell_type": "markdown",
   "metadata": {
    "deletable": true,
    "editable": true
   },
   "source": [
    "#### Good predictions onboth NN and RF\n",
    "<a id=31></a>"
   ]
  },
  {
   "cell_type": "code",
   "execution_count": 31,
   "metadata": {
    "collapsed": false,
    "deletable": true,
    "editable": true,
    "scrolled": false
   },
   "outputs": [
    {
     "name": "stdout",
     "output_type": "stream",
     "text": [
      "testing Molecule:  14427\n",
      "  20334 |  sim: 0.755742\tsim(only important): 1.0\t\ttrue label: 0\n",
      "\u001b[31m  28908 |  sim: 0.739130\tsim(only important): 1.0\t\ttrue label: 1  *\u001b[0m\n",
      "\u001b[31m  28907 |  sim: 0.739130\tsim(only important): 1.0\t\ttrue label: 1  *\u001b[0m\n",
      "  34811 |  sim: 0.695182\tsim(only important): 0.83666\t\ttrue label: 0\n",
      "\u001b[31m  28917 |  sim: 0.647179\tsim(only important): 0.881917\t\ttrue label: 1  *\u001b[0m\n",
      "  10626 |  sim: 0.595880\tsim(only important): 0.755929\t\ttrue label: 0\n",
      "  25495 |  sim: 0.591520\tsim(only important): 0.92582\t\ttrue label: 0\n",
      "  22138 |  sim: 0.563926\tsim(only important): 0.606092\t\ttrue label: 0\n",
      "\u001b[31m  14433 |  sim: 0.546019\tsim(only important): 0.845154\t\ttrue label: 1  *\u001b[0m\n",
      "  37261 |  sim: 0.542137\tsim(only important): 0.717137\t\ttrue label: 0\n",
      "  28939 |  sim: 0.512272\tsim(only important): 0.771517\t\ttrue label: 0\n",
      "  38906 |  sim: 0.510754\tsim(only important): 0.668153\t\ttrue label: 0\n",
      "  20375 |  sim: 0.500435\tsim(only important): 0.617213\t\ttrue label: 0\n",
      "  19591 |  sim: 0.478365\tsim(only important): 0.755929\t\ttrue label: 0\n",
      "  20323 |  sim: 0.478261\tsim(only important): 0.617213\t\ttrue label: 0\n",
      "  41876 |  sim: 0.473557\tsim(only important): 0.628971\t\ttrue label: 0\n",
      "  39420 |  sim: 0.456832\tsim(only important): 0.668153\t\ttrue label: 0\n",
      "  27466 |  sim: 0.456224\tsim(only important): 0.654654\t\ttrue label: 0\n",
      "  12966 |  sim: 0.451447\tsim(only important): 0.606092\t\ttrue label: 0\n",
      "  27469 |  sim: 0.445174\tsim(only important): 0.606092\t\ttrue label: 0\n",
      "\n",
      "testing Molecule:  14429\n",
      "\u001b[31m  28915 |  sim: 0.737865\tsim(only important): 0.828079\t\ttrue label: 1  *\u001b[0m\n",
      "  40486 |  sim: 0.703562\tsim(only important): 0.8\t\ttrue label: 0\n",
      "\u001b[31m  14429 |  sim: 0.693103\tsim(only important): 0.774597\t\ttrue label: 1  *\u001b[0m\n",
      "  11519 |  sim: 0.692820\tsim(only important): 0.814092\t\ttrue label: 0\n",
      "  11518 |  sim: 0.686904\tsim(only important): 0.866667\t\ttrue label: 0\n",
      "  23068 |  sim: 0.679366\tsim(only important): 0.933333\t\ttrue label: 0\n",
      "  40488 |  sim: 0.676475\tsim(only important): 0.897085\t\ttrue label: 0\n",
      "  35352 |  sim: 0.673610\tsim(only important): 0.621059\t\ttrue label: 0\n",
      "\u001b[31m  14430 |  sim: 0.673610\tsim(only important): 0.8\t\ttrue label: 1  *\u001b[0m\n",
      "  28330 |  sim: 0.666701\tsim(only important): 0.653197\t\ttrue label: 0\n",
      "  22929 |  sim: 0.653497\tsim(only important): 0.67082\t\ttrue label: 0\n",
      "  11899 |  sim: 0.642364\tsim(only important): 0.58554\t\ttrue label: 0\n",
      "  15995 |  sim: 0.640000\tsim(only important): 0.622799\t\ttrue label: 0\n",
      "  39928 |  sim: 0.639010\tsim(only important): 0.6\t\ttrue label: 0\n",
      "  11657 |  sim: 0.636878\tsim(only important): 0.552052\t\ttrue label: 0\n",
      "  18959 |  sim: 0.632785\tsim(only important): 0.644503\t\ttrue label: 0\n",
      "  26037 |  sim: 0.632785\tsim(only important): 0.644503\t\ttrue label: 0\n",
      "  26334 |  sim: 0.632785\tsim(only important): 0.67082\t\ttrue label: 0\n",
      "  35367 |  sim: 0.632785\tsim(only important): 0.67082\t\ttrue label: 0\n",
      "  12906 |  sim: 0.626295\tsim(only important): 0.580948\t\ttrue label: 0\n",
      "\n",
      "testing Molecule:  14436\n",
      "   5839 |  sim: 0.842152\tsim(only important): 0.770154\t\ttrue label: 0\n",
      "   9964 |  sim: 0.804522\tsim(only important): 0.840168\t\ttrue label: 0\n",
      "  32816 |  sim: 0.787234\tsim(only important): 0.672673\t\ttrue label: 0\n",
      "   6100 |  sim: 0.778991\tsim(only important): 0.672673\t\ttrue label: 0\n",
      "  32563 |  sim: 0.776157\tsim(only important): 0.672673\t\ttrue label: 0\n",
      "  20403 |  sim: 0.757937\tsim(only important): 0.70014\t\ttrue label: 0\n",
      "  25385 |  sim: 0.750163\tsim(only important): 0.672673\t\ttrue label: 0\n",
      "  24008 |  sim: 0.729325\tsim(only important): 0.8044\t\ttrue label: 0\n",
      "   3866 |  sim: 0.727732\tsim(only important): 0.648204\t\ttrue label: 0\n",
      "  32775 |  sim: 0.727732\tsim(only important): 0.648204\t\ttrue label: 0\n",
      "  18163 |  sim: 0.715829\tsim(only important): 0.648204\t\ttrue label: 0\n",
      "   8899 |  sim: 0.714881\tsim(only important): 0.648204\t\ttrue label: 0\n",
      "\u001b[31m  14423 |  sim: 0.703679\tsim(only important): 0.834622\t\ttrue label: 1  *\u001b[0m\n",
      "  24019 |  sim: 0.700713\tsim(only important): 0.685994\t\ttrue label: 0\n",
      "   8956 |  sim: 0.695817\tsim(only important): 0.766965\t\ttrue label: 0\n",
      "  24429 |  sim: 0.695817\tsim(only important): 0.672673\t\ttrue label: 0\n",
      "  18138 |  sim: 0.694775\tsim(only important): 0.605406\t\ttrue label: 0\n",
      "\u001b[31m  43396 |  sim: 0.675224\tsim(only important): 0.876714\t\ttrue label: 1  *\u001b[0m\n",
      "  18361 |  sim: 0.674031\tsim(only important): 0.583383\t\ttrue label: 0\n",
      "  32596 |  sim: 0.668727\tsim(only important): 0.571662\t\ttrue label: 0\n",
      "\n",
      "testing Molecule:  14437\n",
      "  25963 |  sim: 0.760152\tsim(only important): 0.876714\t\ttrue label: 0\n",
      "  40487 |  sim: 0.758175\tsim(only important): 0.914659\t\ttrue label: 0\n",
      "  37234 |  sim: 0.722806\tsim(only important): 0.788241\t\ttrue label: 0\n",
      "\u001b[31m  14429 |  sim: 0.700140\tsim(only important): 0.909509\t\ttrue label: 1  *\u001b[0m\n",
      "\u001b[31m  28915 |  sim: 0.681468\tsim(only important): 0.842665\t\ttrue label: 1  *\u001b[0m\n",
      "   8527 |  sim: 0.674020\tsim(only important): 0.876714\t\ttrue label: 0\n",
      "  40492 |  sim: 0.666701\tsim(only important): 0.727607\t\ttrue label: 0\n",
      "\u001b[31m  14434 |  sim: 0.662266\tsim(only important): 0.800327\t\ttrue label: 1  *\u001b[0m\n",
      "   2464 |  sim: 0.659829\tsim(only important): 0.727607\t\ttrue label: 0\n",
      "  40491 |  sim: 0.647557\tsim(only important): 0.751469\t\ttrue label: 0\n",
      "  17808 |  sim: 0.624559\tsim(only important): 0.648204\t\ttrue label: 0\n",
      "  22808 |  sim: 0.617213\tsim(only important): 0.777844\t\ttrue label: 0\n",
      "   6766 |  sim: 0.612245\tsim(only important): 0.713024\t\ttrue label: 0\n",
      "  16602 |  sim: 0.604298\tsim(only important): 0.613572\t\ttrue label: 0\n",
      "  40486 |  sim: 0.603023\tsim(only important): 0.751469\t\ttrue label: 0\n",
      "  11519 |  sim: 0.602652\tsim(only important): 0.764706\t\ttrue label: 0\n",
      "  32891 |  sim: 0.602652\tsim(only important): 0.666973\t\ttrue label: 0\n",
      "\u001b[31m  14430 |  sim: 0.597970\tsim(only important): 0.751469\t\ttrue label: 1  *\u001b[0m\n",
      "  11898 |  sim: 0.595238\tsim(only important): 0.658145\t\ttrue label: 0\n",
      "  40488 |  sim: 0.595170\tsim(only important): 0.713024\t\ttrue label: 0\n",
      "\n",
      "testing Molecule:  14439\n",
      "  41266 |  sim: 0.761372\tsim(only important): 0.87831\t\ttrue label: 0\n",
      "  42395 |  sim: 0.742746\tsim(only important): 0.901127\t\ttrue label: 0\n",
      "  42394 |  sim: 0.711814\tsim(only important): 0.84681\t\ttrue label: 0\n",
      "  43146 |  sim: 0.707974\tsim(only important): 0.801784\t\ttrue label: 0\n",
      "  13490 |  sim: 0.703679\tsim(only important): 0.845154\t\ttrue label: 0\n",
      "  33410 |  sim: 0.695817\tsim(only important): 0.758175\t\ttrue label: 0\n",
      "\u001b[31m  43405 |  sim: 0.695817\tsim(only important): 0.793884\t\ttrue label: 1  *\u001b[0m\n",
      "\u001b[31m  43404 |  sim: 0.681689\tsim(only important): 0.872872\t\ttrue label: 1  *\u001b[0m\n",
      "  42393 |  sim: 0.667326\tsim(only important): 0.78072\t\ttrue label: 0\n",
      "  19008 |  sim: 0.659574\tsim(only important): 0.763763\t\ttrue label: 0\n",
      "  14176 |  sim: 0.652668\tsim(only important): 0.714286\t\ttrue label: 0\n",
      "  17636 |  sim: 0.647291\tsim(only important): 0.676123\t\ttrue label: 0\n",
      "\u001b[31m  14436 |  sim: 0.645974\tsim(only important): 0.822951\t\ttrue label: 1  *\u001b[0m\n",
      "  13487 |  sim: 0.645199\tsim(only important): 0.750939\t\ttrue label: 0\n",
      "  28684 |  sim: 0.645199\tsim(only important): 0.709208\t\ttrue label: 0\n",
      "\u001b[31m  14435 |  sim: 0.639481\tsim(only important): 0.801002\t\ttrue label: 1  *\u001b[0m\n",
      "  41519 |  sim: 0.639481\tsim(only important): 0.676123\t\ttrue label: 0\n",
      "  27966 |  sim: 0.638886\tsim(only important): 0.822951\t\ttrue label: 0\n",
      "  27188 |  sim: 0.637848\tsim(only important): 0.845154\t\ttrue label: 0\n",
      "  27967 |  sim: 0.633181\tsim(only important): 0.87831\t\ttrue label: 0\n",
      "\n"
     ]
    }
   ],
   "source": [
    "test_list = [14427, 14429, 14436, 14437, 14439]\n",
    "print_list(test_list, X_test, X_train, y_train, importance_index=importance_index)"
   ]
  }
 ],
 "metadata": {
  "kernelspec": {
   "display_name": "Python 2",
   "language": "python",
   "name": "python2"
  },
  "language_info": {
   "codemirror_mode": {
    "name": "ipython",
    "version": 2
   },
   "file_extension": ".py",
   "mimetype": "text/x-python",
   "name": "python",
   "nbconvert_exporter": "python",
   "pygments_lexer": "ipython2",
   "version": "2.7.13"
  }
 },
 "nbformat": 4,
 "nbformat_minor": 0
}

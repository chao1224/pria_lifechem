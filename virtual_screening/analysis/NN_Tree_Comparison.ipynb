{
 "cells": [
  {
   "cell_type": "code",
   "execution_count": 1,
   "metadata": {
    "collapsed": false,
    "deletable": true,
    "editable": true
   },
   "outputs": [
    {
     "name": "stderr",
     "output_type": "stream",
     "text": [
      "Using Theano backend.\n",
      "Using gpu device 1: Tesla K40m (CNMeM is disabled, CuDNN 4004)\n"
     ]
    }
   ],
   "source": [
    "from NN_Tree_Comparison import *\n",
    "\n",
    "%load_ext autoreload\n",
    "%autoreload 2\n",
    "from virtual_screening.function import *\n",
    "from virtual_screening.evaluation import *\n",
    "from virtual_screening.models.deep_classification import *"
   ]
  },
  {
   "cell_type": "code",
   "execution_count": 2,
   "metadata": {
    "collapsed": true,
    "deletable": true,
    "editable": true
   },
   "outputs": [],
   "source": [
    "running_index = 1\n",
    "k = 5\n",
    "pos_num = 50\n",
    "neg_num = 200"
   ]
  },
  {
   "cell_type": "markdown",
   "metadata": {},
   "source": [
    "# Summary\n",
    "\n",
    "| model-model comparison | val or test set | prediction summary | bad on NN, better on tree-like | good on both |\n",
    "| --- | --- | --- | --- | --- |\n",
    "| NN - XGBoost | validation set | cell: #15 | cell: #16 | cell: #17 |\n",
    "| NN - XGBoost | test set | cell: #18| cell: #19 | cell: #20 |\n",
    "| NN - RF | validation set | cell: #26 | cell: #27 | cell: #28 |\n",
    "| NN -RF | test set| cell: #29 | cell: #30 | cell: #31 |"
   ]
  },
  {
   "cell_type": "markdown",
   "metadata": {
    "deletable": true,
    "editable": true
   },
   "source": [
    "# Get Input Feature"
   ]
  },
  {
   "cell_type": "code",
   "execution_count": 3,
   "metadata": {
    "collapsed": false,
    "deletable": true,
    "editable": true
   },
   "outputs": [],
   "source": [
    "directory = '../../dataset/fixed_dataset/fold_{}/'.format(k)\n",
    "file_list = []\n",
    "for i in range(k):\n",
    "    file_list.append('{}file_{}.csv'.format(directory, i))\n",
    "file_list = np.array(file_list)\n",
    "\n",
    "# read data\n",
    "test_index = running_index / 4\n",
    "val_index = running_index % 4 + (running_index % 4 >= test_index)\n",
    "complete_index = np.arange(k)\n",
    "train_index = np.where((complete_index != test_index) & (complete_index != val_index))[0]\n",
    "\n",
    "train_file_list = file_list[train_index]\n",
    "val_file_list = file_list[val_index:val_index+1]\n",
    "test_file_list = file_list[test_index:test_index+1]"
   ]
  },
  {
   "cell_type": "code",
   "execution_count": 4,
   "metadata": {
    "collapsed": false,
    "deletable": true,
    "editable": true
   },
   "outputs": [
    {
     "name": "stdout",
     "output_type": "stream",
     "text": [
      "(43453, 1)\n",
      "(14484, 1)\n",
      "(14486, 1)\n"
     ]
    }
   ],
   "source": [
    "label_name_list = ['Keck_Pria_AS_Retest']\n",
    "\n",
    "train_pd = filter_out_missing_values(read_merged_data(train_file_list), label_list=label_name_list)\n",
    "val_pd = filter_out_missing_values(read_merged_data(val_file_list), label_list=label_name_list)\n",
    "test_pd = filter_out_missing_values(read_merged_data(test_file_list), label_list=label_name_list)\n",
    "\n",
    "# extract data, and split training data into training and val\n",
    "X_train, y_train = extract_feature_and_label(train_pd,\n",
    "                                             feature_name='Fingerprints',\n",
    "                                             label_name_list=label_name_list)\n",
    "X_val, y_val = extract_feature_and_label(val_pd,\n",
    "                                         feature_name='Fingerprints',\n",
    "                                         label_name_list=label_name_list)\n",
    "X_test, y_test = extract_feature_and_label(test_pd,\n",
    "                                           feature_name='Fingerprints',\n",
    "                                           label_name_list=label_name_list)"
   ]
  },
  {
   "cell_type": "markdown",
   "metadata": {
    "deletable": true,
    "editable": true
   },
   "source": [
    "# Test Single-task"
   ]
  },
  {
   "cell_type": "code",
   "execution_count": 5,
   "metadata": {
    "collapsed": false,
    "deletable": true,
    "editable": true
   },
   "outputs": [],
   "source": [
    "with open('../../output/cross_validation/single_classification_22.json', 'r') as f:\n",
    "    conf = json.load(f)\n",
    "single_task = SingleClassification(conf=conf)"
   ]
  },
  {
   "cell_type": "code",
   "execution_count": 6,
   "metadata": {
    "collapsed": false,
    "deletable": true,
    "editable": true
   },
   "outputs": [
    {
     "name": "stdout",
     "output_type": "stream",
     "text": [
      "../../output/cross_validation/single_classification_22/45540945/1.weight\n",
      "\n",
      "train precision: 0.998314670017\n",
      "train roc: 0.999998039294\n",
      "train bedroc: 0.994706144082\n",
      "\n",
      "validation precision: 0.307938220156\n",
      "validation roc: 0.783930484518\n",
      "validation bedroc: 0.612508723339\n",
      "\n",
      "test precision: 0.0959068095274\n",
      "test roc: 0.837264599171\n",
      "test bedroc: 0.628970145806\n",
      "\n",
      "ratio: 0.02, EF: 25.0,\tactive: 16.0\n",
      "ratio: 0.01, EF: 43.75,\tactive: 16.0\n",
      "ratio: 0.0015, EF: 208.333333333,\tactive: 16.0\n",
      "ratio: 0.001, EF: 312.5,\tactive: 16.0\n"
     ]
    }
   ],
   "source": [
    "PMTNN_weight_file = '../../output/cross_validation/single_classification_22/45540945/{}.weight'.format(running_index)\n",
    "print PMTNN_weight_file\n",
    "single_task.predict_with_existing(X_train, y_train, X_val, y_val, X_test, y_test,\n",
    "                           PMTNN_weight_file=PMTNN_weight_file)"
   ]
  },
  {
   "cell_type": "code",
   "execution_count": 7,
   "metadata": {
    "collapsed": false,
    "deletable": true,
    "editable": true
   },
   "outputs": [],
   "source": [
    "single_model = single_task.setup_model()\n",
    "single_model.load_weights(PMTNN_weight_file)"
   ]
  },
  {
   "cell_type": "markdown",
   "metadata": {
    "deletable": true,
    "editable": true
   },
   "source": [
    "## Show val and test rank on single NN"
   ]
  },
  {
   "cell_type": "code",
   "execution_count": 8,
   "metadata": {
    "collapsed": true,
    "deletable": true,
    "editable": true
   },
   "outputs": [],
   "source": [
    "y_pred_on_val_single_NN = single_model.predict(X_val)\n",
    "y_pred_on_test_single_NN = single_model.predict(X_test)"
   ]
  },
  {
   "cell_type": "code",
   "execution_count": 9,
   "metadata": {
    "collapsed": false,
    "deletable": true,
    "editable": true
   },
   "outputs": [
    {
     "name": "stdout",
     "output_type": "stream",
     "text": [
      "For validation\n",
      "0.999667\t     1/ 14484\t\tRank: 0.000069\n",
      "0.000004\t 13523/ 14484\t\tRank: 0.933651\n",
      "0.007614\t    26/ 14484\t\tRank: 0.001795\n",
      "0.000007\t 11032/ 14484\t\tRank: 0.761668\n",
      "0.003222\t    34/ 14484\t\tRank: 0.002347\n",
      "0.012485\t    23/ 14484\t\tRank: 0.001588\n",
      "0.992665\t     4/ 14484\t\tRank: 0.000276\n",
      "0.000008\t 10578/ 14484\t\tRank: 0.730323\n",
      "0.997849\t     3/ 14484\t\tRank: 0.000207\n",
      "0.000013\t  5067/ 14484\t\tRank: 0.349834\n",
      "0.000012\t  6246/ 14484\t\tRank: 0.431234\n",
      "0.000013\t  5766/ 14484\t\tRank: 0.398094\n",
      "0.164386\t     9/ 14484\t\tRank: 0.000621\n",
      "0.149422\t    10/ 14484\t\tRank: 0.000690\n",
      "0.000069\t   306/ 14484\t\tRank: 0.021127\n",
      "0.809995\t     6/ 14484\t\tRank: 0.000414\n",
      "\n",
      "For test\n",
      "0.000033\t   769/ 14486\t\tRank: 0.053086\n",
      "0.000002\t 14220/ 14486\t\tRank: 0.981637\n",
      "0.000029\t   999/ 14486\t\tRank: 0.068963\n",
      "0.160746\t     9/ 14486\t\tRank: 0.000621\n",
      "0.000026\t  1262/ 14486\t\tRank: 0.087119\n",
      "0.708671\t     6/ 14486\t\tRank: 0.000414\n",
      "0.000322\t    94/ 14486\t\tRank: 0.006489\n",
      "0.000028\t  1089/ 14486\t\tRank: 0.075176\n",
      "0.000078\t   254/ 14486\t\tRank: 0.017534\n",
      "0.000026\t  1308/ 14486\t\tRank: 0.090294\n",
      "0.000009\t  8551/ 14486\t\tRank: 0.590294\n",
      "0.000008\t  9950/ 14486\t\tRank: 0.686870\n",
      "0.920472\t     5/ 14486\t\tRank: 0.000345\n",
      "0.069630\t    11/ 14486\t\tRank: 0.000759\n",
      "0.000193\t   117/ 14486\t\tRank: 0.008077\n",
      "0.040926\t    14/ 14486\t\tRank: 0.000966\n"
     ]
    }
   ],
   "source": [
    "print 'For validation'\n",
    "get_rank(y_val, y_pred_on_val_single_NN)\n",
    "print\n",
    "print 'For test'\n",
    "get_rank(y_test, y_pred_on_test_single_NN)"
   ]
  },
  {
   "cell_type": "markdown",
   "metadata": {
    "deletable": true,
    "editable": true
   },
   "source": [
    "# XGBoost"
   ]
  },
  {
   "cell_type": "code",
   "execution_count": 10,
   "metadata": {
    "collapsed": false,
    "deletable": true,
    "editable": true
   },
   "outputs": [],
   "source": [
    "import xgboost as xgb\n",
    "from xgboost import DMatrix"
   ]
  },
  {
   "cell_type": "code",
   "execution_count": 11,
   "metadata": {
    "collapsed": false,
    "deletable": true,
    "editable": true,
    "scrolled": false
   },
   "outputs": [
    {
     "name": "stderr",
     "output_type": "stream",
     "text": [
      "/usr/local/anaconda/lib/python2.7/site-packages/sklearn/preprocessing/label.py:108: DataConversionWarning: A column-vector y was passed when a 1d array was expected. Please change the shape of y to (n_samples, ), for example using ravel().\n",
      "  y = column_or_1d(y, warn=True)\n"
     ]
    },
    {
     "data": {
      "text/plain": [
       "XGBClassifier(base_score=0.5, colsample_bylevel=1, colsample_bytree=1,\n",
       "       gamma=0, learning_rate=0.1, max_delta_step=0, max_depth=10,\n",
       "       min_child_weight=1, missing=None, n_estimators=100, nthread=-1,\n",
       "       objective='binary:logistic', reg_alpha=0, reg_lambda=1,\n",
       "       scale_pos_weight=1, seed=0, silent=True, subsample=1)"
      ]
     },
     "execution_count": 11,
     "metadata": {},
     "output_type": "execute_result"
    }
   ],
   "source": [
    "clf = xgb.XGBClassifier(max_depth=10, n_estimators=100, silent=True, objective='binary:logistic')\n",
    "clf.fit(X_train, y_train, eval_set=[(X_train, y_train), (X_val, y_val)], eval_metric='auc', verbose=False)"
   ]
  },
  {
   "cell_type": "code",
   "execution_count": 12,
   "metadata": {
    "collapsed": false,
    "deletable": true,
    "editable": true
   },
   "outputs": [
    {
     "name": "stdout",
     "output_type": "stream",
     "text": [
      "train precision: 0.930939315435\n",
      "train roc: 0.999898288402\n",
      "train bedroc: 0.993722514348\n",
      "\n",
      "validation precision: 0.289237329326\n",
      "validation roc: 0.89217151645\n",
      "validation bedroc: 0.7628689951\n",
      "\n",
      "test precision: 0.149050688356\n",
      "test roc: 0.880422857636\n",
      "test bedroc: 0.78269282675\n",
      "\n",
      "ratio: 0.02, EF: 37.5,\tactive: 16.0\n",
      "ratio: 0.01, EF: 68.75,\tactive: 16.0\n",
      "ratio: 0.0015, EF: 208.333333333,\tactive: 16.0\n",
      "ratio: 0.001, EF: 250.0,\tactive: 16.0\n"
     ]
    }
   ],
   "source": [
    "predict_with_existing(clf, X_train, y_train, X_val, y_val, X_test, y_test)"
   ]
  },
  {
   "cell_type": "code",
   "execution_count": 13,
   "metadata": {
    "collapsed": false,
    "deletable": true,
    "editable": true
   },
   "outputs": [],
   "source": [
    "y_pred_on_train_xgboost = reshape_data_into_2_dim(clf.predict_proba(X_train)[:, 1])\n",
    "y_pred_on_val_xgboost = reshape_data_into_2_dim(clf.predict_proba(X_val)[:, 1])\n",
    "y_pred_on_test_xgboost = reshape_data_into_2_dim(clf.predict_proba(X_test)[:, 1])"
   ]
  },
  {
   "cell_type": "markdown",
   "metadata": {
    "deletable": true,
    "editable": true
   },
   "source": [
    "## Show val and test rank on XGBoost"
   ]
  },
  {
   "cell_type": "code",
   "execution_count": 14,
   "metadata": {
    "collapsed": false,
    "deletable": true,
    "editable": true
   },
   "outputs": [
    {
     "name": "stdout",
     "output_type": "stream",
     "text": [
      "For validation\n",
      "0.255025\t     8/ 14484\t\tRank: 0.000552\n",
      "0.006654\t    98/ 14484\t\tRank: 0.006766\n",
      "0.000973\t   902/ 14484\t\tRank: 0.062276\n",
      "0.004228\t   138/ 14484\t\tRank: 0.009528\n",
      "0.128536\t    13/ 14484\t\tRank: 0.000898\n",
      "0.034595\t    29/ 14484\t\tRank: 0.002002\n",
      "0.482657\t     2/ 14484\t\tRank: 0.000138\n",
      "0.001720\t   450/ 14484\t\tRank: 0.031069\n",
      "0.302829\t     7/ 14484\t\tRank: 0.000483\n",
      "0.000115\t  9162/ 14484\t\tRank: 0.632560\n",
      "0.000396\t  2706/ 14484\t\tRank: 0.186827\n",
      "0.000083\t 11536/ 14484\t\tRank: 0.796465\n",
      "0.303580\t     6/ 14484\t\tRank: 0.000414\n",
      "0.397426\t     4/ 14484\t\tRank: 0.000276\n",
      "0.032834\t    31/ 14484\t\tRank: 0.002140\n",
      "0.315210\t     5/ 14484\t\tRank: 0.000345\n",
      "\n",
      "For test\n",
      "0.011174\t    58/ 14486\t\tRank: 0.004004\n",
      "0.000630\t  1526/ 14486\t\tRank: 0.105343\n",
      "0.004896\t   131/ 14486\t\tRank: 0.009043\n",
      "0.604062\t     2/ 14486\t\tRank: 0.000138\n",
      "0.001474\t   522/ 14486\t\tRank: 0.036035\n",
      "0.188084\t    11/ 14486\t\tRank: 0.000759\n",
      "0.018850\t    44/ 14486\t\tRank: 0.003037\n",
      "0.002573\t   264/ 14486\t\tRank: 0.018224\n",
      "0.004952\t   128/ 14486\t\tRank: 0.008836\n",
      "0.005711\t   115/ 14486\t\tRank: 0.007939\n",
      "0.000092\t 10853/ 14486\t\tRank: 0.749206\n",
      "0.000053\t 14108/ 14486\t\tRank: 0.973906\n",
      "0.393397\t     5/ 14486\t\tRank: 0.000345\n",
      "0.035639\t    28/ 14486\t\tRank: 0.001933\n",
      "0.059066\t    19/ 14486\t\tRank: 0.001312\n",
      "0.298602\t     7/ 14486\t\tRank: 0.000483\n"
     ]
    }
   ],
   "source": [
    "print 'For validation'\n",
    "get_rank(y_val, y_pred_on_val_xgboost)\n",
    "print\n",
    "print 'For test'\n",
    "get_rank(y_test, y_pred_on_test_xgboost)"
   ]
  },
  {
   "cell_type": "markdown",
   "metadata": {
    "deletable": true,
    "editable": true
   },
   "source": [
    "## Compare Rank"
   ]
  },
  {
   "cell_type": "markdown",
   "metadata": {
    "deletable": true,
    "editable": true
   },
   "source": [
    "### Compare Rank on Val"
   ]
  },
  {
   "cell_type": "code",
   "execution_count": 15,
   "metadata": {
    "collapsed": false,
    "deletable": true,
    "editable": true
   },
   "outputs": [
    {
     "name": "stdout",
     "output_type": "stream",
     "text": [
      "14423 \t0.999667\t     1\t\tRank: 0.000069\t|\t0.255025\t     8\t\tRank: 0.000552\n",
      "14424 \t0.000004\t 13523\t\tRank: 0.933651\t|\t0.006654\t    98\t\tRank: 0.006766\n",
      "14425 \t0.007614\t    26\t\tRank: 0.001795\t|\t0.000973\t   902\t\tRank: 0.062276\n",
      "14426 \t0.000007\t 11032\t\tRank: 0.761668\t|\t0.004228\t   138\t\tRank: 0.009528\n",
      "14427 \t0.003222\t    34\t\tRank: 0.002347\t|\t0.128536\t    13\t\tRank: 0.000898\n",
      "14428 \t0.012485\t    23\t\tRank: 0.001588\t|\t0.034595\t    29\t\tRank: 0.002002\n",
      "14429 \t0.992665\t     4\t\tRank: 0.000276\t|\t0.482657\t     2\t\tRank: 0.000138\n",
      "14430 \t0.000008\t 10578\t\tRank: 0.730323\t|\t0.001720\t   450\t\tRank: 0.031069\n",
      "14431 \t0.997849\t     3\t\tRank: 0.000207\t|\t0.302829\t     7\t\tRank: 0.000483\n",
      "14432 \t0.000013\t  5067\t\tRank: 0.349834\t|\t0.000115\t  9162\t\tRank: 0.632560\n",
      "14433 \t0.000012\t  6246\t\tRank: 0.431234\t|\t0.000396\t  2706\t\tRank: 0.186827\n",
      "14434 \t0.000013\t  5766\t\tRank: 0.398094\t|\t0.000083\t 11536\t\tRank: 0.796465\n",
      "14435 \t0.164386\t     9\t\tRank: 0.000621\t|\t0.303580\t     6\t\tRank: 0.000414\n",
      "14436 \t0.149422\t    10\t\tRank: 0.000690\t|\t0.397426\t     4\t\tRank: 0.000276\n",
      "14437 \t0.000069\t   306\t\tRank: 0.021127\t|\t0.032834\t    31\t\tRank: 0.002140\n",
      "14438 \t0.809995\t     6\t\tRank: 0.000414\t|\t0.315210\t     5\t\tRank: 0.000345\n"
     ]
    }
   ],
   "source": [
    "compare_rank(y_val, y_pred_on_val_single_NN, y_pred_on_val_xgboost)"
   ]
  },
  {
   "cell_type": "markdown",
   "metadata": {
    "deletable": true,
    "editable": true
   },
   "source": [
    "#### Bad predicted on NN but Better on XGBoost"
   ]
  },
  {
   "cell_type": "code",
   "execution_count": 16,
   "metadata": {
    "collapsed": false,
    "deletable": true,
    "editable": true,
    "scrolled": true
   },
   "outputs": [
    {
     "name": "stdout",
     "output_type": "stream",
     "text": [
      "testing Molecule:  14424\n",
      "  22955\t\tsim: 0.854409\t\ttrue label: 0.0\n",
      "  40475\t\tsim: 0.832050\t\ttrue label: 0.0\n",
      "  35534\t\tsim: 0.784465\t\ttrue label: 0.0\n",
      "  35424\t\tsim: 0.768658\t\ttrue label: 0.0\n",
      "  32188\t\tsim: 0.752618\t\ttrue label: 0.0\n",
      "   3197\t\tsim: 0.750092\t\ttrue label: 0.0\n",
      "  17711\t\tsim: 0.748931\t\ttrue label: 0.0\n",
      "   3226\t\tsim: 0.745241\t\ttrue label: 0.0\n",
      "  11511\t\tsim: 0.736075\t\ttrue label: 0.0\n",
      "   6299\t\tsim: 0.734718\t\ttrue label: 0.0\n",
      "   3255\t\tsim: 0.732997\t\ttrue label: 0.0\n",
      "  32150\t\tsim: 0.732997\t\ttrue label: 0.0\n",
      "   3263\t\tsim: 0.723536\t\ttrue label: 0.0\n",
      "  32157\t\tsim: 0.715628\t\ttrue label: 0.0\n",
      "  18263\t\tsim: 0.706018\t\ttrue label: 0.0\n",
      "   3223\t\tsim: 0.695182\t\ttrue label: 0.0\n",
      "  17741\t\tsim: 0.693375\t\ttrue label: 0.0\n",
      "  17679\t\tsim: 0.693037\t\ttrue label: 0.0\n",
      "  32170\t\tsim: 0.692308\t\ttrue label: 0.0\n",
      "  17759\t\tsim: 0.691861\t\ttrue label: 0.0\n",
      "  17720\t\tsim: 0.689900\t\ttrue label: 0.0\n",
      "  37627\t\tsim: 0.688379\t\ttrue label: 0.0\n",
      "  32164\t\tsim: 0.685656\t\ttrue label: 0.0\n",
      "   3237\t\tsim: 0.680545\t\ttrue label: 0.0\n",
      "\u001b[31m  28909\t\tsim: 0.680545\t\ttrue label: 1.0\u001b[0m\n",
      "  32189\t\tsim: 0.680309\t\ttrue label: 0.0\n",
      "   3217\t\tsim: 0.679644\t\ttrue label: 0.0\n",
      "  32191\t\tsim: 0.679614\t\ttrue label: 0.0\n",
      "   3202\t\tsim: 0.676728\t\ttrue label: 0.0\n",
      "   3201\t\tsim: 0.674710\t\ttrue label: 0.0\n",
      "\n",
      "testing Molecule:  14426\n",
      "  20089\t\tsim: 0.849662\t\ttrue label: 0.0\n",
      "   8245\t\tsim: 0.769373\t\ttrue label: 0.0\n",
      "  22574\t\tsim: 0.694456\t\ttrue label: 0.0\n",
      "   8265\t\tsim: 0.681318\t\ttrue label: 0.0\n",
      "   9797\t\tsim: 0.640622\t\ttrue label: 0.0\n",
      "  20047\t\tsim: 0.612756\t\ttrue label: 0.0\n",
      "  34455\t\tsim: 0.605350\t\ttrue label: 0.0\n",
      "\n",
      "testing Molecule:  14430\n",
      "  39070\t\tsim: 0.708646\t\ttrue label: 0.0\n",
      "  27355\t\tsim: 0.656571\t\ttrue label: 0.0\n",
      "  20894\t\tsim: 0.622760\t\ttrue label: 0.0\n",
      "  37058\t\tsim: 0.616041\t\ttrue label: 0.0\n",
      "  30163\t\tsim: 0.609701\t\ttrue label: 0.0\n",
      "  26733\t\tsim: 0.603957\t\ttrue label: 0.0\n",
      "  36697\t\tsim: 0.602570\t\ttrue label: 0.0\n",
      "\u001b[31m  43393\t\tsim: 0.602557\t\ttrue label: 1.0\u001b[0m\n",
      "\n",
      "testing Molecule:  14437\n",
      "  27966\t\tsim: 0.733674\t\ttrue label: 0.0\n",
      "  42377\t\tsim: 0.725669\t\ttrue label: 0.0\n",
      "  27967\t\tsim: 0.717741\t\ttrue label: 0.0\n",
      "  28679\t\tsim: 0.704545\t\ttrue label: 0.0\n",
      "  19085\t\tsim: 0.697863\t\ttrue label: 0.0\n",
      "  14177\t\tsim: 0.681689\t\ttrue label: 0.0\n",
      "  13489\t\tsim: 0.674200\t\ttrue label: 0.0\n",
      "  19332\t\tsim: 0.653275\t\ttrue label: 0.0\n",
      "   4050\t\tsim: 0.651339\t\ttrue label: 0.0\n",
      "  42394\t\tsim: 0.643721\t\ttrue label: 0.0\n",
      "  13490\t\tsim: 0.636364\t\ttrue label: 0.0\n",
      "  28680\t\tsim: 0.631032\t\ttrue label: 0.0\n",
      "   4822\t\tsim: 0.627646\t\ttrue label: 0.0\n",
      "  11458\t\tsim: 0.622376\t\ttrue label: 0.0\n",
      "  33907\t\tsim: 0.621237\t\ttrue label: 0.0\n",
      "  43158\t\tsim: 0.615719\t\ttrue label: 0.0\n",
      "  18564\t\tsim: 0.613636\t\ttrue label: 0.0\n",
      "\u001b[31m  43404\t\tsim: 0.613636\t\ttrue label: 1.0\u001b[0m\n",
      "  26719\t\tsim: 0.611395\t\ttrue label: 0.0\n",
      "  19333\t\tsim: 0.611395\t\ttrue label: 0.0\n",
      "  41448\t\tsim: 0.609837\t\ttrue label: 0.0\n",
      "\u001b[31m  43405\t\tsim: 0.606780\t\ttrue label: 1.0\u001b[0m\n",
      "  42395\t\tsim: 0.604815\t\ttrue label: 0.0\n",
      "  41650\t\tsim: 0.603023\t\ttrue label: 0.0\n",
      "  32496\t\tsim: 0.603023\t\ttrue label: 0.0\n",
      "  40724\t\tsim: 0.603023\t\ttrue label: 0.0\n",
      "  13487\t\tsim: 0.600148\t\ttrue label: 0.0\n",
      "\n"
     ]
    }
   ],
   "source": [
    "test_list = [14424, 14426, 14430, 14437]\n",
    "print_list(test_list, X_val, X_train, y_train, top=30)"
   ]
  },
  {
   "cell_type": "markdown",
   "metadata": {
    "deletable": true,
    "editable": true
   },
   "source": [
    "#### Good predictions onboth NN and XGBoost"
   ]
  },
  {
   "cell_type": "code",
   "execution_count": 17,
   "metadata": {
    "collapsed": false,
    "deletable": true,
    "editable": true,
    "scrolled": false
   },
   "outputs": [
    {
     "name": "stdout",
     "output_type": "stream",
     "text": [
      "testing Molecule:  14423\n",
      "\u001b[31m  14427\t\tsim: 0.840168\t\ttrue label: 1.0\u001b[0m\n",
      "   3286\t\tsim: 0.755732\t\ttrue label: 0.0\n",
      "  35467\t\tsim: 0.749613\t\ttrue label: 0.0\n",
      "  17790\t\tsim: 0.740148\t\ttrue label: 0.0\n",
      "   3320\t\tsim: 0.732709\t\ttrue label: 0.0\n",
      "  17828\t\tsim: 0.732709\t\ttrue label: 0.0\n",
      "  25942\t\tsim: 0.729204\t\ttrue label: 0.0\n",
      "  32200\t\tsim: 0.722610\t\ttrue label: 0.0\n",
      "   3346\t\tsim: 0.717741\t\ttrue label: 0.0\n",
      "  17802\t\tsim: 0.711057\t\ttrue label: 0.0\n",
      "   3338\t\tsim: 0.701964\t\ttrue label: 0.0\n",
      "  32225\t\tsim: 0.693103\t\ttrue label: 0.0\n",
      "  17778\t\tsim: 0.692436\t\ttrue label: 0.0\n",
      "  40715\t\tsim: 0.686352\t\ttrue label: 0.0\n",
      "  32260\t\tsim: 0.677930\t\ttrue label: 0.0\n",
      "  22981\t\tsim: 0.677930\t\ttrue label: 0.0\n",
      "  17791\t\tsim: 0.666973\t\ttrue label: 0.0\n",
      "   3304\t\tsim: 0.661976\t\ttrue label: 0.0\n",
      "  29616\t\tsim: 0.660225\t\ttrue label: 0.0\n",
      "  37474\t\tsim: 0.660132\t\ttrue label: 0.0\n",
      "\n",
      "testing Molecule:  14429\n",
      "\u001b[31m  28917\t\tsim: 0.808138\t\ttrue label: 1.0\u001b[0m\n",
      "  27466\t\tsim: 0.701793\t\ttrue label: 0.0\n",
      "  20334\t\tsim: 0.697518\t\ttrue label: 0.0\n",
      "  12965\t\tsim: 0.691280\t\ttrue label: 0.0\n",
      "\u001b[31m  28908\t\tsim: 0.682187\t\ttrue label: 1.0\u001b[0m\n",
      "\u001b[31m  28907\t\tsim: 0.682187\t\ttrue label: 1.0\u001b[0m\n",
      "  24881\t\tsim: 0.666667\t\ttrue label: 0.0\n",
      "  30869\t\tsim: 0.656488\t\ttrue label: 0.0\n",
      "  34811\t\tsim: 0.641624\t\ttrue label: 0.0\n",
      "  12966\t\tsim: 0.611111\t\ttrue label: 0.0\n",
      "  12967\t\tsim: 0.608581\t\ttrue label: 0.0\n",
      "\n",
      "testing Molecule:  14431\n",
      "   3304\t\tsim: 0.827641\t\ttrue label: 0.0\n",
      "  11556\t\tsim: 0.822425\t\ttrue label: 0.0\n",
      "\u001b[31m  14427\t\tsim: 0.818388\t\ttrue label: 1.0\u001b[0m\n",
      "  10645\t\tsim: 0.800198\t\ttrue label: 0.0\n",
      "  36185\t\tsim: 0.776955\t\ttrue label: 0.0\n",
      "  17778\t\tsim: 0.745484\t\ttrue label: 0.0\n",
      "  37467\t\tsim: 0.710705\t\ttrue label: 0.0\n",
      "  32260\t\tsim: 0.706322\t\ttrue label: 0.0\n",
      "   8517\t\tsim: 0.691260\t\ttrue label: 0.0\n",
      "   8483\t\tsim: 0.689169\t\ttrue label: 0.0\n",
      "  37453\t\tsim: 0.683360\t\ttrue label: 0.0\n",
      "  21739\t\tsim: 0.677003\t\ttrue label: 0.0\n",
      "  40488\t\tsim: 0.674601\t\ttrue label: 0.0\n",
      "  15179\t\tsim: 0.674200\t\ttrue label: 0.0\n",
      "  15125\t\tsim: 0.667632\t\ttrue label: 0.0\n",
      "  11516\t\tsim: 0.666711\t\ttrue label: 0.0\n",
      "  11513\t\tsim: 0.662652\t\ttrue label: 0.0\n",
      "   3347\t\tsim: 0.660922\t\ttrue label: 0.0\n",
      "   3320\t\tsim: 0.660922\t\ttrue label: 0.0\n",
      "   3292\t\tsim: 0.659699\t\ttrue label: 0.0\n",
      "\n",
      "testing Molecule:  14435\n",
      "  20412\t\tsim: 0.833514\t\ttrue label: 0.0\n",
      "  38950\t\tsim: 0.800044\t\ttrue label: 0.0\n",
      "  21229\t\tsim: 0.779681\t\ttrue label: 0.0\n",
      "\u001b[31m  43396\t\tsim: 0.742746\t\ttrue label: 1.0\u001b[0m\n",
      "   9979\t\tsim: 0.735307\t\ttrue label: 0.0\n",
      "  18396\t\tsim: 0.728202\t\ttrue label: 0.0\n",
      "\u001b[31m  14423\t\tsim: 0.725669\t\ttrue label: 1.0\u001b[0m\n",
      "  20404\t\tsim: 0.714881\t\ttrue label: 0.0\n",
      "  20427\t\tsim: 0.714590\t\ttrue label: 0.0\n",
      "   7167\t\tsim: 0.714590\t\ttrue label: 0.0\n",
      "\u001b[31m  28919\t\tsim: 0.702128\t\ttrue label: 1.0\u001b[0m\n",
      "  25769\t\tsim: 0.694775\t\ttrue label: 0.0\n",
      "  20374\t\tsim: 0.694456\t\ttrue label: 0.0\n",
      "   5889\t\tsim: 0.687746\t\ttrue label: 0.0\n",
      "   5512\t\tsim: 0.686555\t\ttrue label: 0.0\n",
      "  23394\t\tsim: 0.681689\t\ttrue label: 0.0\n",
      "  10874\t\tsim: 0.670355\t\ttrue label: 0.0\n",
      "  30363\t\tsim: 0.668727\t\ttrue label: 0.0\n",
      "  10442\t\tsim: 0.666811\t\ttrue label: 0.0\n",
      "   3857\t\tsim: 0.666705\t\ttrue label: 0.0\n",
      "\n",
      "testing Molecule:  14436\n",
      "  41876\t\tsim: 0.783218\t\ttrue label: 0.0\n",
      "  27469\t\tsim: 0.736275\t\ttrue label: 0.0\n",
      "\u001b[31m  28917\t\tsim: 0.711967\t\ttrue label: 1.0\u001b[0m\n",
      "  24895\t\tsim: 0.701862\t\ttrue label: 0.0\n",
      "  12968\t\tsim: 0.684482\t\ttrue label: 0.0\n",
      "  20334\t\tsim: 0.673036\t\ttrue label: 0.0\n",
      "\u001b[31m  28908\t\tsim: 0.658243\t\ttrue label: 1.0\u001b[0m\n",
      "\u001b[31m  28907\t\tsim: 0.658243\t\ttrue label: 1.0\u001b[0m\n",
      "  34811\t\tsim: 0.619103\t\ttrue label: 0.0\n",
      "\n",
      "testing Molecule:  14438\n",
      "\u001b[31m  43405\t\tsim: 0.831513\t\ttrue label: 1.0\u001b[0m\n",
      "  13488\t\tsim: 0.753778\t\ttrue label: 0.0\n",
      "  13490\t\tsim: 0.727273\t\ttrue label: 0.0\n",
      "  42395\t\tsim: 0.697863\t\ttrue label: 0.0\n",
      "  42394\t\tsim: 0.689701\t\ttrue label: 0.0\n",
      "  42389\t\tsim: 0.689701\t\ttrue label: 0.0\n",
      "  28678\t\tsim: 0.689059\t\ttrue label: 0.0\n",
      "  13487\t\tsim: 0.689059\t\ttrue label: 0.0\n",
      "\u001b[31m  43404\t\tsim: 0.681818\t\ttrue label: 1.0\u001b[0m\n",
      "  14176\t\tsim: 0.674551\t\ttrue label: 0.0\n",
      "  42393\t\tsim: 0.666711\t\ttrue label: 0.0\n",
      "  27967\t\tsim: 0.654411\t\ttrue label: 0.0\n",
      "  19228\t\tsim: 0.653275\t\ttrue label: 0.0\n",
      "\u001b[31m  14436\t\tsim: 0.646096\t\ttrue label: 1.0\u001b[0m\n",
      "\u001b[31m  14435\t\tsim: 0.639602\t\ttrue label: 1.0\u001b[0m\n",
      "  40438\t\tsim: 0.636364\t\ttrue label: 0.0\n",
      "  27966\t\tsim: 0.635851\t\ttrue label: 0.0\n",
      "  26836\t\tsim: 0.628077\t\ttrue label: 0.0\n",
      "  32810\t\tsim: 0.627646\t\ttrue label: 0.0\n",
      "  28679\t\tsim: 0.613636\t\ttrue label: 0.0\n",
      "\n"
     ]
    }
   ],
   "source": [
    "test_list = [14423, 14429, 14431, 14435, 14436, 14438] # NN is less confident on 14435, 14436\n",
    "print_list(test_list, X_val, X_train, y_train)"
   ]
  },
  {
   "cell_type": "markdown",
   "metadata": {
    "deletable": true,
    "editable": true
   },
   "source": [
    "### Compare Rank on Test"
   ]
  },
  {
   "cell_type": "code",
   "execution_count": 18,
   "metadata": {
    "collapsed": false,
    "deletable": true,
    "editable": true
   },
   "outputs": [
    {
     "name": "stdout",
     "output_type": "stream",
     "text": [
      "14424 \t0.000033\t   769\t\tRank: 0.053086\t|\t0.011174\t    58\t\tRank: 0.004004\n",
      "14425 \t0.000002\t 14220\t\tRank: 0.981637\t|\t0.000630\t  1526\t\tRank: 0.105343\n",
      "14426 \t0.000029\t   999\t\tRank: 0.068963\t|\t0.004896\t   131\t\tRank: 0.009043\n",
      "14427 \t0.160746\t     9\t\tRank: 0.000621\t|\t0.604062\t     2\t\tRank: 0.000138\n",
      "14428 \t0.000026\t  1262\t\tRank: 0.087119\t|\t0.001474\t   522\t\tRank: 0.036035\n",
      "14429 \t0.708671\t     6\t\tRank: 0.000414\t|\t0.188084\t    11\t\tRank: 0.000759\n",
      "14430 \t0.000322\t    94\t\tRank: 0.006489\t|\t0.018850\t    44\t\tRank: 0.003037\n",
      "14431 \t0.000028\t  1089\t\tRank: 0.075176\t|\t0.002573\t   264\t\tRank: 0.018224\n",
      "14432 \t0.000078\t   254\t\tRank: 0.017534\t|\t0.004952\t   128\t\tRank: 0.008836\n",
      "14433 \t0.000026\t  1308\t\tRank: 0.090294\t|\t0.005711\t   115\t\tRank: 0.007939\n",
      "14434 \t0.000009\t  8551\t\tRank: 0.590294\t|\t0.000092\t 10853\t\tRank: 0.749206\n",
      "14435 \t0.000008\t  9950\t\tRank: 0.686870\t|\t0.000053\t 14108\t\tRank: 0.973906\n",
      "14436 \t0.920472\t     5\t\tRank: 0.000345\t|\t0.393397\t     5\t\tRank: 0.000345\n",
      "14437 \t0.069630\t    11\t\tRank: 0.000759\t|\t0.035639\t    28\t\tRank: 0.001933\n",
      "14438 \t0.000193\t   117\t\tRank: 0.008077\t|\t0.059066\t    19\t\tRank: 0.001312\n",
      "14439 \t0.040926\t    14\t\tRank: 0.000966\t|\t0.298602\t     7\t\tRank: 0.000483\n"
     ]
    }
   ],
   "source": [
    "compare_rank(y_test, y_pred_on_test_single_NN, y_pred_on_test_xgboost)"
   ]
  },
  {
   "cell_type": "markdown",
   "metadata": {
    "deletable": true,
    "editable": true
   },
   "source": [
    "#### Bad predicted on NN but Better on XGBoost"
   ]
  },
  {
   "cell_type": "code",
   "execution_count": 19,
   "metadata": {
    "collapsed": false,
    "deletable": true,
    "editable": true,
    "scrolled": true
   },
   "outputs": [
    {
     "name": "stdout",
     "output_type": "stream",
     "text": [
      "testing Molecule:  14425\n",
      "  33815\t\tsim: 0.953313\t\ttrue label: 0.0\n",
      "  33834\t\tsim: 0.880771\t\ttrue label: 0.0\n",
      "  33792\t\tsim: 0.872872\t\ttrue label: 0.0\n",
      "  19401\t\tsim: 0.866025\t\ttrue label: 0.0\n",
      "    925\t\tsim: 0.827535\t\ttrue label: 0.0\n",
      "  33820\t\tsim: 0.819382\t\ttrue label: 0.0\n",
      "  33825\t\tsim: 0.813838\t\ttrue label: 0.0\n",
      "  33833\t\tsim: 0.811107\t\ttrue label: 0.0\n",
      "  19423\t\tsim: 0.811107\t\ttrue label: 0.0\n",
      "   4912\t\tsim: 0.808290\t\ttrue label: 0.0\n",
      "  19388\t\tsim: 0.807373\t\ttrue label: 0.0\n",
      "  19398\t\tsim: 0.805316\t\ttrue label: 0.0\n",
      "   4858\t\tsim: 0.789024\t\ttrue label: 0.0\n",
      "  15347\t\tsim: 0.781271\t\ttrue label: 0.0\n",
      "   6270\t\tsim: 0.779525\t\ttrue label: 0.0\n",
      "  15664\t\tsim: 0.777616\t\ttrue label: 0.0\n",
      "  29836\t\tsim: 0.775058\t\ttrue label: 0.0\n",
      "  33817\t\tsim: 0.774139\t\ttrue label: 0.0\n",
      "    898\t\tsim: 0.773723\t\ttrue label: 0.0\n",
      "    906\t\tsim: 0.768347\t\ttrue label: 0.0\n",
      "  33850\t\tsim: 0.766032\t\ttrue label: 0.0\n",
      "  33799\t\tsim: 0.763763\t\ttrue label: 0.0\n",
      "    933\t\tsim: 0.762216\t\ttrue label: 0.0\n",
      "    936\t\tsim: 0.750555\t\ttrue label: 0.0\n",
      "  20814\t\tsim: 0.745578\t\ttrue label: 0.0\n",
      "  29889\t\tsim: 0.739009\t\ttrue label: 0.0\n",
      "  29875\t\tsim: 0.737865\t\ttrue label: 0.0\n",
      "   4892\t\tsim: 0.735980\t\ttrue label: 0.0\n",
      "  19414\t\tsim: 0.735980\t\ttrue label: 0.0\n",
      "  29829\t\tsim: 0.732610\t\ttrue label: 0.0\n",
      "\n",
      "testing Molecule:  14428\n",
      "   7242\t\tsim: 0.719510\t\ttrue label: 0.0\n",
      "  21769\t\tsim: 0.681994\t\ttrue label: 0.0\n",
      "  30528\t\tsim: 0.679639\t\ttrue label: 0.0\n",
      "   7276\t\tsim: 0.674541\t\ttrue label: 0.0\n",
      "  36084\t\tsim: 0.667326\t\ttrue label: 0.0\n",
      "  17492\t\tsim: 0.658869\t\ttrue label: 0.0\n",
      "  10966\t\tsim: 0.653565\t\ttrue label: 0.0\n",
      "  21995\t\tsim: 0.646997\t\ttrue label: 0.0\n",
      "  22881\t\tsim: 0.646997\t\ttrue label: 0.0\n",
      "  26569\t\tsim: 0.643039\t\ttrue label: 0.0\n",
      "   7415\t\tsim: 0.637118\t\ttrue label: 0.0\n",
      "  12325\t\tsim: 0.636528\t\ttrue label: 0.0\n",
      "  26300\t\tsim: 0.635338\t\ttrue label: 0.0\n",
      "  20823\t\tsim: 0.635338\t\ttrue label: 0.0\n",
      "  22865\t\tsim: 0.631780\t\ttrue label: 0.0\n",
      "  36582\t\tsim: 0.631780\t\ttrue label: 0.0\n",
      "  12122\t\tsim: 0.629571\t\ttrue label: 0.0\n",
      "  26171\t\tsim: 0.628419\t\ttrue label: 0.0\n",
      "  13664\t\tsim: 0.619268\t\ttrue label: 0.0\n",
      "  41183\t\tsim: 0.619223\t\ttrue label: 0.0\n",
      "  21791\t\tsim: 0.619223\t\ttrue label: 0.0\n",
      "  26152\t\tsim: 0.618463\t\ttrue label: 0.0\n",
      "  41031\t\tsim: 0.616887\t\ttrue label: 0.0\n",
      "  12850\t\tsim: 0.616316\t\ttrue label: 0.0\n",
      "   4141\t\tsim: 0.616316\t\ttrue label: 0.0\n",
      "  17504\t\tsim: 0.616316\t\ttrue label: 0.0\n",
      "  34826\t\tsim: 0.615462\t\ttrue label: 0.0\n",
      "  23758\t\tsim: 0.613795\t\ttrue label: 0.0\n",
      "  24439\t\tsim: 0.613285\t\ttrue label: 0.0\n",
      "   7366\t\tsim: 0.611354\t\ttrue label: 0.0\n",
      "\n",
      "testing Molecule:  14431\n",
      "  24099\t\tsim: 0.622752\t\ttrue label: 0.0\n",
      "   8299\t\tsim: 0.615457\t\ttrue label: 0.0\n",
      "\n",
      "testing Molecule:  14438\n",
      "  40539\t\tsim: 0.811899\t\ttrue label: 0.0\n",
      "  27937\t\tsim: 0.708214\t\ttrue label: 0.0\n",
      "  12612\t\tsim: 0.698611\t\ttrue label: 0.0\n",
      "  40456\t\tsim: 0.691055\t\ttrue label: 0.0\n",
      "  11494\t\tsim: 0.679729\t\ttrue label: 0.0\n",
      "   4931\t\tsim: 0.673315\t\ttrue label: 0.0\n",
      "  41171\t\tsim: 0.673162\t\ttrue label: 0.0\n",
      "  20384\t\tsim: 0.673162\t\ttrue label: 0.0\n",
      "  27278\t\tsim: 0.673162\t\ttrue label: 0.0\n",
      "  12748\t\tsim: 0.666694\t\ttrue label: 0.0\n",
      "  12697\t\tsim: 0.661495\t\ttrue label: 0.0\n",
      "  26294\t\tsim: 0.660820\t\ttrue label: 0.0\n",
      "  27950\t\tsim: 0.655098\t\ttrue label: 0.0\n",
      "  42395\t\tsim: 0.644994\t\ttrue label: 0.0\n",
      "  42394\t\tsim: 0.637450\t\ttrue label: 0.0\n",
      "  42393\t\tsim: 0.637450\t\ttrue label: 0.0\n",
      "  34909\t\tsim: 0.636364\t\ttrue label: 0.0\n",
      "  27931\t\tsim: 0.635544\t\ttrue label: 0.0\n",
      "  42632\t\tsim: 0.631968\t\ttrue label: 0.0\n",
      "\u001b[31m  14435\t\tsim: 0.629285\t\ttrue label: 1.0\u001b[0m\n",
      "  32191\t\tsim: 0.625100\t\ttrue label: 0.0\n",
      "  41740\t\tsim: 0.625100\t\ttrue label: 0.0\n",
      "  12348\t\tsim: 0.618182\t\ttrue label: 0.0\n",
      "  25280\t\tsim: 0.616887\t\ttrue label: 0.0\n",
      "  21093\t\tsim: 0.616411\t\ttrue label: 0.0\n",
      "  13487\t\tsim: 0.616313\t\ttrue label: 0.0\n",
      "  18598\t\tsim: 0.611216\t\ttrue label: 0.0\n",
      "  21161\t\tsim: 0.610216\t\ttrue label: 0.0\n",
      "  41558\t\tsim: 0.609837\t\ttrue label: 0.0\n",
      "  13490\t\tsim: 0.609837\t\ttrue label: 0.0\n",
      "\n"
     ]
    }
   ],
   "source": [
    "test_list = [14425, 14428, 14431, 14438]\n",
    "print_list(test_list, X_test, X_train, y_train, top=30)"
   ]
  },
  {
   "cell_type": "markdown",
   "metadata": {
    "deletable": true,
    "editable": true
   },
   "source": [
    "#### Good predictions onboth NN and XGBoost"
   ]
  },
  {
   "cell_type": "code",
   "execution_count": 20,
   "metadata": {
    "collapsed": false,
    "deletable": true,
    "editable": true,
    "scrolled": true
   },
   "outputs": [
    {
     "name": "stdout",
     "output_type": "stream",
     "text": [
      "testing Molecule:  14427\n",
      "  20334\t\tsim: 0.755742\t\ttrue label: 0.0\n",
      "\u001b[31m  28908\t\tsim: 0.739130\t\ttrue label: 1.0\u001b[0m\n",
      "\u001b[31m  28907\t\tsim: 0.739130\t\ttrue label: 1.0\u001b[0m\n",
      "  34811\t\tsim: 0.695182\t\ttrue label: 0.0\n",
      "\u001b[31m  28917\t\tsim: 0.647179\t\ttrue label: 1.0\u001b[0m\n",
      "\n",
      "testing Molecule:  14429\n",
      "\u001b[31m  28915\t\tsim: 0.737865\t\ttrue label: 1.0\u001b[0m\n",
      "  40486\t\tsim: 0.703562\t\ttrue label: 0.0\n",
      "\u001b[31m  14429\t\tsim: 0.693103\t\ttrue label: 1.0\u001b[0m\n",
      "  11519\t\tsim: 0.692820\t\ttrue label: 0.0\n",
      "  11518\t\tsim: 0.686904\t\ttrue label: 0.0\n",
      "  23068\t\tsim: 0.679366\t\ttrue label: 0.0\n",
      "  40488\t\tsim: 0.676475\t\ttrue label: 0.0\n",
      "\u001b[31m  14430\t\tsim: 0.673610\t\ttrue label: 1.0\u001b[0m\n",
      "  35352\t\tsim: 0.673610\t\ttrue label: 0.0\n",
      "  28330\t\tsim: 0.666701\t\ttrue label: 0.0\n",
      "  22929\t\tsim: 0.653497\t\ttrue label: 0.0\n",
      "  11899\t\tsim: 0.642364\t\ttrue label: 0.0\n",
      "  15995\t\tsim: 0.640000\t\ttrue label: 0.0\n",
      "  39928\t\tsim: 0.639010\t\ttrue label: 0.0\n",
      "  11657\t\tsim: 0.636878\t\ttrue label: 0.0\n",
      "  18959\t\tsim: 0.632785\t\ttrue label: 0.0\n",
      "  26334\t\tsim: 0.632785\t\ttrue label: 0.0\n",
      "  26037\t\tsim: 0.632785\t\ttrue label: 0.0\n",
      "  35367\t\tsim: 0.632785\t\ttrue label: 0.0\n",
      "  12906\t\tsim: 0.626295\t\ttrue label: 0.0\n",
      "\n",
      "testing Molecule:  14436\n",
      "   5839\t\tsim: 0.842152\t\ttrue label: 0.0\n",
      "   9964\t\tsim: 0.804522\t\ttrue label: 0.0\n",
      "  32816\t\tsim: 0.787234\t\ttrue label: 0.0\n",
      "   6100\t\tsim: 0.778991\t\ttrue label: 0.0\n",
      "  32563\t\tsim: 0.776157\t\ttrue label: 0.0\n",
      "  20403\t\tsim: 0.757937\t\ttrue label: 0.0\n",
      "  25385\t\tsim: 0.750163\t\ttrue label: 0.0\n",
      "  24008\t\tsim: 0.729325\t\ttrue label: 0.0\n",
      "   3866\t\tsim: 0.727732\t\ttrue label: 0.0\n",
      "  32775\t\tsim: 0.727732\t\ttrue label: 0.0\n",
      "  18163\t\tsim: 0.715829\t\ttrue label: 0.0\n",
      "   8899\t\tsim: 0.714881\t\ttrue label: 0.0\n",
      "\u001b[31m  14423\t\tsim: 0.703679\t\ttrue label: 1.0\u001b[0m\n",
      "  24019\t\tsim: 0.700713\t\ttrue label: 0.0\n",
      "  24429\t\tsim: 0.695817\t\ttrue label: 0.0\n",
      "   8956\t\tsim: 0.695817\t\ttrue label: 0.0\n",
      "  18138\t\tsim: 0.694775\t\ttrue label: 0.0\n",
      "\u001b[31m  43396\t\tsim: 0.675224\t\ttrue label: 1.0\u001b[0m\n",
      "  18361\t\tsim: 0.674031\t\ttrue label: 0.0\n",
      "  32596\t\tsim: 0.668727\t\ttrue label: 0.0\n",
      "\n",
      "testing Molecule:  14437\n",
      "  25963\t\tsim: 0.760152\t\ttrue label: 0.0\n",
      "  40487\t\tsim: 0.758175\t\ttrue label: 0.0\n",
      "  37234\t\tsim: 0.722806\t\ttrue label: 0.0\n",
      "\u001b[31m  14429\t\tsim: 0.700140\t\ttrue label: 1.0\u001b[0m\n",
      "\u001b[31m  28915\t\tsim: 0.681468\t\ttrue label: 1.0\u001b[0m\n",
      "   8527\t\tsim: 0.674020\t\ttrue label: 0.0\n",
      "  40492\t\tsim: 0.666701\t\ttrue label: 0.0\n",
      "\u001b[31m  14434\t\tsim: 0.662266\t\ttrue label: 1.0\u001b[0m\n",
      "   2464\t\tsim: 0.659829\t\ttrue label: 0.0\n",
      "  40491\t\tsim: 0.647557\t\ttrue label: 0.0\n",
      "  17808\t\tsim: 0.624559\t\ttrue label: 0.0\n",
      "  22808\t\tsim: 0.617213\t\ttrue label: 0.0\n",
      "   6766\t\tsim: 0.612245\t\ttrue label: 0.0\n",
      "  16602\t\tsim: 0.604298\t\ttrue label: 0.0\n",
      "  40486\t\tsim: 0.603023\t\ttrue label: 0.0\n",
      "  32891\t\tsim: 0.602652\t\ttrue label: 0.0\n",
      "  11519\t\tsim: 0.602652\t\ttrue label: 0.0\n",
      "\n",
      "testing Molecule:  14439\n",
      "  41266\t\tsim: 0.761372\t\ttrue label: 0.0\n",
      "  42395\t\tsim: 0.742746\t\ttrue label: 0.0\n",
      "  42394\t\tsim: 0.711814\t\ttrue label: 0.0\n",
      "  43146\t\tsim: 0.707974\t\ttrue label: 0.0\n",
      "  13490\t\tsim: 0.703679\t\ttrue label: 0.0\n",
      "  33410\t\tsim: 0.695817\t\ttrue label: 0.0\n",
      "\u001b[31m  43405\t\tsim: 0.695817\t\ttrue label: 1.0\u001b[0m\n",
      "\u001b[31m  43404\t\tsim: 0.681689\t\ttrue label: 1.0\u001b[0m\n",
      "  42393\t\tsim: 0.667326\t\ttrue label: 0.0\n",
      "  19008\t\tsim: 0.659574\t\ttrue label: 0.0\n",
      "  14176\t\tsim: 0.652668\t\ttrue label: 0.0\n",
      "  17636\t\tsim: 0.647291\t\ttrue label: 0.0\n",
      "\u001b[31m  14436\t\tsim: 0.645974\t\ttrue label: 1.0\u001b[0m\n",
      "  13487\t\tsim: 0.645199\t\ttrue label: 0.0\n",
      "  28684\t\tsim: 0.645199\t\ttrue label: 0.0\n",
      "  41519\t\tsim: 0.639481\t\ttrue label: 0.0\n",
      "\u001b[31m  14435\t\tsim: 0.639481\t\ttrue label: 1.0\u001b[0m\n",
      "  27966\t\tsim: 0.638886\t\ttrue label: 0.0\n",
      "  27188\t\tsim: 0.637848\t\ttrue label: 0.0\n",
      "  27967\t\tsim: 0.633181\t\ttrue label: 0.0\n",
      "\n"
     ]
    }
   ],
   "source": [
    "test_list = [14427, 14429, 14436, 14437, 14439]\n",
    "print_list(test_list, X_test, X_train, y_train)"
   ]
  },
  {
   "cell_type": "markdown",
   "metadata": {
    "deletable": true,
    "editable": true
   },
   "source": [
    "# Random Forest"
   ]
  },
  {
   "cell_type": "code",
   "execution_count": 21,
   "metadata": {
    "collapsed": true,
    "deletable": true,
    "editable": true
   },
   "outputs": [],
   "source": [
    "from sklearn.ensemble import RandomForestClassifier"
   ]
  },
  {
   "cell_type": "code",
   "execution_count": 22,
   "metadata": {
    "collapsed": false,
    "deletable": true,
    "editable": true
   },
   "outputs": [
    {
     "name": "stderr",
     "output_type": "stream",
     "text": [
      "/usr/local/anaconda/lib/python2.7/site-packages/ipykernel/__main__.py:10: DataConversionWarning: A column-vector y was passed when a 1d array was expected. Please change the shape of y to (n_samples,), for example using ravel().\n"
     ]
    },
    {
     "data": {
      "text/plain": [
       "RandomForestClassifier(bootstrap=True, class_weight='balanced',\n",
       "            criterion='gini', max_depth=None, max_features='log2',\n",
       "            max_leaf_nodes=None, min_samples_leaf=1, min_samples_split=2,\n",
       "            min_weight_fraction_leaf=0.0, n_estimators=4000, n_jobs=3,\n",
       "            oob_score=False, random_state=1337, verbose=0,\n",
       "            warm_start=False)"
      ]
     },
     "execution_count": 22,
     "metadata": {},
     "output_type": "execute_result"
    }
   ],
   "source": [
    "rnd_state = 1337\n",
    "clf = RandomForestClassifier(n_estimators=4000,\n",
    "                             max_features='log2',\n",
    "                             min_samples_leaf=1, \n",
    "                             n_jobs=3, \n",
    "                             class_weight='balanced',\n",
    "                             random_state=rnd_state,\n",
    "                             oob_score=False, \n",
    "                             verbose=0)\n",
    "clf.fit(X_train, y_train)"
   ]
  },
  {
   "cell_type": "code",
   "execution_count": 23,
   "metadata": {
    "collapsed": false,
    "deletable": true,
    "editable": true
   },
   "outputs": [
    {
     "name": "stdout",
     "output_type": "stream",
     "text": [
      "train precision: 1.0\n",
      "train roc: 1.0\n",
      "train bedroc: 0.994725515647\n",
      "\n",
      "validation precision: 0.351985010494\n",
      "validation roc: 0.961587641692\n",
      "validation bedroc: 0.829019613984\n",
      "\n",
      "test precision: 0.130721818647\n",
      "test roc: 0.872224861783\n",
      "test bedroc: 0.689646653184\n",
      "\n",
      "ratio: 0.02, EF: 31.25,\tactive: 16.0\n",
      "ratio: 0.01, EF: 62.5,\tactive: 16.0\n",
      "ratio: 0.0015, EF: 208.333333333,\tactive: 16.0\n",
      "ratio: 0.001, EF: 187.5,\tactive: 16.0\n"
     ]
    }
   ],
   "source": [
    "predict_with_existing(clf, X_train, y_train, X_val, y_val, X_test, y_test)"
   ]
  },
  {
   "cell_type": "markdown",
   "metadata": {
    "deletable": true,
    "editable": true
   },
   "source": [
    "## Show val and test rank on RF"
   ]
  },
  {
   "cell_type": "code",
   "execution_count": 24,
   "metadata": {
    "collapsed": false,
    "deletable": true,
    "editable": true
   },
   "outputs": [],
   "source": [
    "y_pred_on_val_rf = reshape_data_into_2_dim(clf.predict_proba(X_val)[:, 1])\n",
    "y_pred_on_test_rf = reshape_data_into_2_dim(clf.predict_proba(X_test)[:, 1])"
   ]
  },
  {
   "cell_type": "code",
   "execution_count": 25,
   "metadata": {
    "collapsed": false,
    "deletable": true,
    "editable": true
   },
   "outputs": [
    {
     "name": "stdout",
     "output_type": "stream",
     "text": [
      "For validation\n",
      "0.175000\t     8/ 14484\t\tRank: 0.000552\n",
      "0.010500\t   173/ 14484\t\tRank: 0.011944\n",
      "0.033250\t    46/ 14484\t\tRank: 0.003176\n",
      "0.000500\t  4584/ 14484\t\tRank: 0.316487\n",
      "0.133250\t    15/ 14484\t\tRank: 0.001036\n",
      "0.083750\t    21/ 14484\t\tRank: 0.001450\n",
      "0.307500\t     1/ 14484\t\tRank: 0.000069\n",
      "0.054500\t    30/ 14484\t\tRank: 0.002071\n",
      "0.198250\t     5/ 14484\t\tRank: 0.000345\n",
      "0.001750\t  1086/ 14484\t\tRank: 0.074979\n",
      "0.008500\t   208/ 14484\t\tRank: 0.014361\n",
      "0.000750\t  3469/ 14484\t\tRank: 0.239506\n",
      "0.121250\t    16/ 14484\t\tRank: 0.001105\n",
      "0.170750\t     9/ 14484\t\tRank: 0.000621\n",
      "0.044750\t    38/ 14484\t\tRank: 0.002624\n",
      "0.295500\t     2/ 14484\t\tRank: 0.000138\n",
      "\n",
      "For test\n",
      "0.021250\t    93/ 14486\t\tRank: 0.006420\n",
      "0.000000\t  8667/ 14486\t\tRank: 0.598302\n",
      "0.000750\t  3383/ 14486\t\tRank: 0.233536\n",
      "0.251750\t     2/ 14486\t\tRank: 0.000138\n",
      "0.001500\t  1441/ 14486\t\tRank: 0.099475\n",
      "0.147250\t     8/ 14486\t\tRank: 0.000552\n",
      "0.063000\t    33/ 14486\t\tRank: 0.002278\n",
      "0.004000\t   443/ 14486\t\tRank: 0.030581\n",
      "0.019500\t    97/ 14486\t\tRank: 0.006696\n",
      "0.017750\t   103/ 14486\t\tRank: 0.007110\n",
      "0.000250\t  6975/ 14486\t\tRank: 0.481499\n",
      "0.000250\t  7019/ 14486\t\tRank: 0.484537\n",
      "0.169500\t     6/ 14486\t\tRank: 0.000414\n",
      "0.122250\t    15/ 14486\t\tRank: 0.001035\n",
      "0.089500\t    21/ 14486\t\tRank: 0.001450\n",
      "0.082250\t    26/ 14486\t\tRank: 0.001795\n"
     ]
    }
   ],
   "source": [
    "print 'For validation'\n",
    "get_rank(y_val, y_pred_on_val_rf)\n",
    "print\n",
    "print 'For test'\n",
    "get_rank(y_test, y_pred_on_test_rf)"
   ]
  },
  {
   "cell_type": "markdown",
   "metadata": {
    "deletable": true,
    "editable": true
   },
   "source": [
    "## Compare Rank"
   ]
  },
  {
   "cell_type": "markdown",
   "metadata": {
    "deletable": true,
    "editable": true
   },
   "source": [
    "### Compare Rank on Val"
   ]
  },
  {
   "cell_type": "code",
   "execution_count": 26,
   "metadata": {
    "collapsed": false,
    "deletable": true,
    "editable": true
   },
   "outputs": [
    {
     "name": "stdout",
     "output_type": "stream",
     "text": [
      "14423 \t0.999667\t     1\t\tRank: 0.000069\t|\t0.175000\t     8\t\tRank: 0.000552\n",
      "14424 \t0.000004\t 13523\t\tRank: 0.933651\t|\t0.010500\t   173\t\tRank: 0.011944\n",
      "14425 \t0.007614\t    26\t\tRank: 0.001795\t|\t0.033250\t    46\t\tRank: 0.003176\n",
      "14426 \t0.000007\t 11032\t\tRank: 0.761668\t|\t0.000500\t  4584\t\tRank: 0.316487\n",
      "14427 \t0.003222\t    34\t\tRank: 0.002347\t|\t0.133250\t    15\t\tRank: 0.001036\n",
      "14428 \t0.012485\t    23\t\tRank: 0.001588\t|\t0.083750\t    21\t\tRank: 0.001450\n",
      "14429 \t0.992665\t     4\t\tRank: 0.000276\t|\t0.307500\t     1\t\tRank: 0.000069\n",
      "14430 \t0.000008\t 10578\t\tRank: 0.730323\t|\t0.054500\t    30\t\tRank: 0.002071\n",
      "14431 \t0.997849\t     3\t\tRank: 0.000207\t|\t0.198250\t     5\t\tRank: 0.000345\n",
      "14432 \t0.000013\t  5067\t\tRank: 0.349834\t|\t0.001750\t  1086\t\tRank: 0.074979\n",
      "14433 \t0.000012\t  6246\t\tRank: 0.431234\t|\t0.008500\t   208\t\tRank: 0.014361\n",
      "14434 \t0.000013\t  5766\t\tRank: 0.398094\t|\t0.000750\t  3469\t\tRank: 0.239506\n",
      "14435 \t0.164386\t     9\t\tRank: 0.000621\t|\t0.121250\t    16\t\tRank: 0.001105\n",
      "14436 \t0.149422\t    10\t\tRank: 0.000690\t|\t0.170750\t     9\t\tRank: 0.000621\n",
      "14437 \t0.000069\t   306\t\tRank: 0.021127\t|\t0.044750\t    38\t\tRank: 0.002624\n",
      "14438 \t0.809995\t     6\t\tRank: 0.000414\t|\t0.295500\t     2\t\tRank: 0.000138\n"
     ]
    }
   ],
   "source": [
    "compare_rank(y_val, y_pred_on_val_single_NN, y_pred_on_val_rf)"
   ]
  },
  {
   "cell_type": "markdown",
   "metadata": {
    "deletable": true,
    "editable": true
   },
   "source": [
    "#### Bad predicted on NN but Better on RF"
   ]
  },
  {
   "cell_type": "code",
   "execution_count": 27,
   "metadata": {
    "collapsed": false,
    "deletable": true,
    "editable": true,
    "scrolled": true
   },
   "outputs": [
    {
     "name": "stdout",
     "output_type": "stream",
     "text": [
      "testing Molecule:  14424\n",
      "  22955\t\tsim: 0.854409\t\ttrue label: 0.0\n",
      "  40475\t\tsim: 0.832050\t\ttrue label: 0.0\n",
      "  35534\t\tsim: 0.784465\t\ttrue label: 0.0\n",
      "  35424\t\tsim: 0.768658\t\ttrue label: 0.0\n",
      "  32188\t\tsim: 0.752618\t\ttrue label: 0.0\n",
      "   3197\t\tsim: 0.750092\t\ttrue label: 0.0\n",
      "  17711\t\tsim: 0.748931\t\ttrue label: 0.0\n",
      "   3226\t\tsim: 0.745241\t\ttrue label: 0.0\n",
      "  11511\t\tsim: 0.736075\t\ttrue label: 0.0\n",
      "   6299\t\tsim: 0.734718\t\ttrue label: 0.0\n",
      "   3255\t\tsim: 0.732997\t\ttrue label: 0.0\n",
      "  32150\t\tsim: 0.732997\t\ttrue label: 0.0\n",
      "   3263\t\tsim: 0.723536\t\ttrue label: 0.0\n",
      "  32157\t\tsim: 0.715628\t\ttrue label: 0.0\n",
      "  18263\t\tsim: 0.706018\t\ttrue label: 0.0\n",
      "   3223\t\tsim: 0.695182\t\ttrue label: 0.0\n",
      "  17741\t\tsim: 0.693375\t\ttrue label: 0.0\n",
      "  17679\t\tsim: 0.693037\t\ttrue label: 0.0\n",
      "  32170\t\tsim: 0.692308\t\ttrue label: 0.0\n",
      "  17759\t\tsim: 0.691861\t\ttrue label: 0.0\n",
      "  17720\t\tsim: 0.689900\t\ttrue label: 0.0\n",
      "  37627\t\tsim: 0.688379\t\ttrue label: 0.0\n",
      "  32164\t\tsim: 0.685656\t\ttrue label: 0.0\n",
      "   3237\t\tsim: 0.680545\t\ttrue label: 0.0\n",
      "\u001b[31m  28909\t\tsim: 0.680545\t\ttrue label: 1.0\u001b[0m\n",
      "  32189\t\tsim: 0.680309\t\ttrue label: 0.0\n",
      "   3217\t\tsim: 0.679644\t\ttrue label: 0.0\n",
      "  32191\t\tsim: 0.679614\t\ttrue label: 0.0\n",
      "   3202\t\tsim: 0.676728\t\ttrue label: 0.0\n",
      "   3201\t\tsim: 0.674710\t\ttrue label: 0.0\n",
      "\n",
      "testing Molecule:  14426\n",
      "  20089\t\tsim: 0.849662\t\ttrue label: 0.0\n",
      "   8245\t\tsim: 0.769373\t\ttrue label: 0.0\n",
      "  22574\t\tsim: 0.694456\t\ttrue label: 0.0\n",
      "   8265\t\tsim: 0.681318\t\ttrue label: 0.0\n",
      "   9797\t\tsim: 0.640622\t\ttrue label: 0.0\n",
      "  20047\t\tsim: 0.612756\t\ttrue label: 0.0\n",
      "  34455\t\tsim: 0.605350\t\ttrue label: 0.0\n",
      "\n",
      "testing Molecule:  14430\n",
      "  39070\t\tsim: 0.708646\t\ttrue label: 0.0\n",
      "  27355\t\tsim: 0.656571\t\ttrue label: 0.0\n",
      "  20894\t\tsim: 0.622760\t\ttrue label: 0.0\n",
      "  37058\t\tsim: 0.616041\t\ttrue label: 0.0\n",
      "  30163\t\tsim: 0.609701\t\ttrue label: 0.0\n",
      "  26733\t\tsim: 0.603957\t\ttrue label: 0.0\n",
      "  36697\t\tsim: 0.602570\t\ttrue label: 0.0\n",
      "\u001b[31m  43393\t\tsim: 0.602557\t\ttrue label: 1.0\u001b[0m\n",
      "\n",
      "testing Molecule:  14432\n",
      "\n",
      "testing Molecule:  14433\n",
      "  19828\t\tsim: 0.673191\t\ttrue label: 0.0\n",
      "\n",
      "testing Molecule:  14434\n",
      "\n"
     ]
    }
   ],
   "source": [
    "test_list = [14424, 14426, 14430, 14432, 14433, 14434]\n",
    "print_list(test_list, X_val, X_train, y_train, top=30)"
   ]
  },
  {
   "cell_type": "markdown",
   "metadata": {
    "deletable": true,
    "editable": true
   },
   "source": [
    "#### Good predictions onboth NN and RF"
   ]
  },
  {
   "cell_type": "code",
   "execution_count": 28,
   "metadata": {
    "collapsed": false,
    "deletable": true,
    "editable": true,
    "scrolled": true
   },
   "outputs": [
    {
     "name": "stdout",
     "output_type": "stream",
     "text": [
      "testing Molecule:  14423\n",
      "\u001b[31m  14427\t\tsim: 0.840168\t\ttrue label: 1.0\u001b[0m\n",
      "   3286\t\tsim: 0.755732\t\ttrue label: 0.0\n",
      "  35467\t\tsim: 0.749613\t\ttrue label: 0.0\n",
      "  17790\t\tsim: 0.740148\t\ttrue label: 0.0\n",
      "   3320\t\tsim: 0.732709\t\ttrue label: 0.0\n",
      "  17828\t\tsim: 0.732709\t\ttrue label: 0.0\n",
      "  25942\t\tsim: 0.729204\t\ttrue label: 0.0\n",
      "  32200\t\tsim: 0.722610\t\ttrue label: 0.0\n",
      "   3346\t\tsim: 0.717741\t\ttrue label: 0.0\n",
      "  17802\t\tsim: 0.711057\t\ttrue label: 0.0\n",
      "   3338\t\tsim: 0.701964\t\ttrue label: 0.0\n",
      "  32225\t\tsim: 0.693103\t\ttrue label: 0.0\n",
      "  17778\t\tsim: 0.692436\t\ttrue label: 0.0\n",
      "  40715\t\tsim: 0.686352\t\ttrue label: 0.0\n",
      "  32260\t\tsim: 0.677930\t\ttrue label: 0.0\n",
      "  22981\t\tsim: 0.677930\t\ttrue label: 0.0\n",
      "  17791\t\tsim: 0.666973\t\ttrue label: 0.0\n",
      "   3304\t\tsim: 0.661976\t\ttrue label: 0.0\n",
      "  29616\t\tsim: 0.660225\t\ttrue label: 0.0\n",
      "  37474\t\tsim: 0.660132\t\ttrue label: 0.0\n",
      "\n",
      "testing Molecule:  14429\n",
      "\u001b[31m  28917\t\tsim: 0.808138\t\ttrue label: 1.0\u001b[0m\n",
      "  27466\t\tsim: 0.701793\t\ttrue label: 0.0\n",
      "  20334\t\tsim: 0.697518\t\ttrue label: 0.0\n",
      "  12965\t\tsim: 0.691280\t\ttrue label: 0.0\n",
      "\u001b[31m  28908\t\tsim: 0.682187\t\ttrue label: 1.0\u001b[0m\n",
      "\u001b[31m  28907\t\tsim: 0.682187\t\ttrue label: 1.0\u001b[0m\n",
      "  24881\t\tsim: 0.666667\t\ttrue label: 0.0\n",
      "  30869\t\tsim: 0.656488\t\ttrue label: 0.0\n",
      "  34811\t\tsim: 0.641624\t\ttrue label: 0.0\n",
      "  12966\t\tsim: 0.611111\t\ttrue label: 0.0\n",
      "  12967\t\tsim: 0.608581\t\ttrue label: 0.0\n",
      "\n",
      "testing Molecule:  14431\n",
      "   3304\t\tsim: 0.827641\t\ttrue label: 0.0\n",
      "  11556\t\tsim: 0.822425\t\ttrue label: 0.0\n",
      "\u001b[31m  14427\t\tsim: 0.818388\t\ttrue label: 1.0\u001b[0m\n",
      "  10645\t\tsim: 0.800198\t\ttrue label: 0.0\n",
      "  36185\t\tsim: 0.776955\t\ttrue label: 0.0\n",
      "  17778\t\tsim: 0.745484\t\ttrue label: 0.0\n",
      "  37467\t\tsim: 0.710705\t\ttrue label: 0.0\n",
      "  32260\t\tsim: 0.706322\t\ttrue label: 0.0\n",
      "   8517\t\tsim: 0.691260\t\ttrue label: 0.0\n",
      "   8483\t\tsim: 0.689169\t\ttrue label: 0.0\n",
      "  37453\t\tsim: 0.683360\t\ttrue label: 0.0\n",
      "  21739\t\tsim: 0.677003\t\ttrue label: 0.0\n",
      "  40488\t\tsim: 0.674601\t\ttrue label: 0.0\n",
      "  15179\t\tsim: 0.674200\t\ttrue label: 0.0\n",
      "  15125\t\tsim: 0.667632\t\ttrue label: 0.0\n",
      "  11516\t\tsim: 0.666711\t\ttrue label: 0.0\n",
      "  11513\t\tsim: 0.662652\t\ttrue label: 0.0\n",
      "   3347\t\tsim: 0.660922\t\ttrue label: 0.0\n",
      "   3320\t\tsim: 0.660922\t\ttrue label: 0.0\n",
      "   3292\t\tsim: 0.659699\t\ttrue label: 0.0\n",
      "\n",
      "testing Molecule:  14435\n",
      "  20412\t\tsim: 0.833514\t\ttrue label: 0.0\n",
      "  38950\t\tsim: 0.800044\t\ttrue label: 0.0\n",
      "  21229\t\tsim: 0.779681\t\ttrue label: 0.0\n",
      "\u001b[31m  43396\t\tsim: 0.742746\t\ttrue label: 1.0\u001b[0m\n",
      "   9979\t\tsim: 0.735307\t\ttrue label: 0.0\n",
      "  18396\t\tsim: 0.728202\t\ttrue label: 0.0\n",
      "\u001b[31m  14423\t\tsim: 0.725669\t\ttrue label: 1.0\u001b[0m\n",
      "  20404\t\tsim: 0.714881\t\ttrue label: 0.0\n",
      "  20427\t\tsim: 0.714590\t\ttrue label: 0.0\n",
      "   7167\t\tsim: 0.714590\t\ttrue label: 0.0\n",
      "\u001b[31m  28919\t\tsim: 0.702128\t\ttrue label: 1.0\u001b[0m\n",
      "  25769\t\tsim: 0.694775\t\ttrue label: 0.0\n",
      "  20374\t\tsim: 0.694456\t\ttrue label: 0.0\n",
      "   5889\t\tsim: 0.687746\t\ttrue label: 0.0\n",
      "   5512\t\tsim: 0.686555\t\ttrue label: 0.0\n",
      "  23394\t\tsim: 0.681689\t\ttrue label: 0.0\n",
      "  10874\t\tsim: 0.670355\t\ttrue label: 0.0\n",
      "  30363\t\tsim: 0.668727\t\ttrue label: 0.0\n",
      "  10442\t\tsim: 0.666811\t\ttrue label: 0.0\n",
      "   3857\t\tsim: 0.666705\t\ttrue label: 0.0\n",
      "\n",
      "testing Molecule:  14436\n",
      "  41876\t\tsim: 0.783218\t\ttrue label: 0.0\n",
      "  27469\t\tsim: 0.736275\t\ttrue label: 0.0\n",
      "\u001b[31m  28917\t\tsim: 0.711967\t\ttrue label: 1.0\u001b[0m\n",
      "  24895\t\tsim: 0.701862\t\ttrue label: 0.0\n",
      "  12968\t\tsim: 0.684482\t\ttrue label: 0.0\n",
      "  20334\t\tsim: 0.673036\t\ttrue label: 0.0\n",
      "\u001b[31m  28908\t\tsim: 0.658243\t\ttrue label: 1.0\u001b[0m\n",
      "\u001b[31m  28907\t\tsim: 0.658243\t\ttrue label: 1.0\u001b[0m\n",
      "  34811\t\tsim: 0.619103\t\ttrue label: 0.0\n",
      "\n",
      "testing Molecule:  14438\n",
      "\u001b[31m  43405\t\tsim: 0.831513\t\ttrue label: 1.0\u001b[0m\n",
      "  13488\t\tsim: 0.753778\t\ttrue label: 0.0\n",
      "  13490\t\tsim: 0.727273\t\ttrue label: 0.0\n",
      "  42395\t\tsim: 0.697863\t\ttrue label: 0.0\n",
      "  42394\t\tsim: 0.689701\t\ttrue label: 0.0\n",
      "  42389\t\tsim: 0.689701\t\ttrue label: 0.0\n",
      "  28678\t\tsim: 0.689059\t\ttrue label: 0.0\n",
      "  13487\t\tsim: 0.689059\t\ttrue label: 0.0\n",
      "\u001b[31m  43404\t\tsim: 0.681818\t\ttrue label: 1.0\u001b[0m\n",
      "  14176\t\tsim: 0.674551\t\ttrue label: 0.0\n",
      "  42393\t\tsim: 0.666711\t\ttrue label: 0.0\n",
      "  27967\t\tsim: 0.654411\t\ttrue label: 0.0\n",
      "  19228\t\tsim: 0.653275\t\ttrue label: 0.0\n",
      "\u001b[31m  14436\t\tsim: 0.646096\t\ttrue label: 1.0\u001b[0m\n",
      "\u001b[31m  14435\t\tsim: 0.639602\t\ttrue label: 1.0\u001b[0m\n",
      "  40438\t\tsim: 0.636364\t\ttrue label: 0.0\n",
      "  27966\t\tsim: 0.635851\t\ttrue label: 0.0\n",
      "  26836\t\tsim: 0.628077\t\ttrue label: 0.0\n",
      "  32810\t\tsim: 0.627646\t\ttrue label: 0.0\n",
      "  28679\t\tsim: 0.613636\t\ttrue label: 0.0\n",
      "\n"
     ]
    }
   ],
   "source": [
    "test_list = [14423, 14429, 14431, 14435, 14436, 14438] # NN is less confident on 14435, 14436\n",
    "print_list(test_list, X_val, X_train, y_train)"
   ]
  },
  {
   "cell_type": "markdown",
   "metadata": {
    "deletable": true,
    "editable": true
   },
   "source": [
    "### Compare Rank on Test"
   ]
  },
  {
   "cell_type": "code",
   "execution_count": 29,
   "metadata": {
    "collapsed": false,
    "deletable": true,
    "editable": true
   },
   "outputs": [
    {
     "name": "stdout",
     "output_type": "stream",
     "text": [
      "14424 \t0.000033\t   769\t\tRank: 0.053086\t|\t0.021250\t    93\t\tRank: 0.006420\n",
      "14425 \t0.000002\t 14220\t\tRank: 0.981637\t|\t0.000000\t  8667\t\tRank: 0.598302\n",
      "14426 \t0.000029\t   999\t\tRank: 0.068963\t|\t0.000750\t  3383\t\tRank: 0.233536\n",
      "14427 \t0.160746\t     9\t\tRank: 0.000621\t|\t0.251750\t     2\t\tRank: 0.000138\n",
      "14428 \t0.000026\t  1262\t\tRank: 0.087119\t|\t0.001500\t  1441\t\tRank: 0.099475\n",
      "14429 \t0.708671\t     6\t\tRank: 0.000414\t|\t0.147250\t     8\t\tRank: 0.000552\n",
      "14430 \t0.000322\t    94\t\tRank: 0.006489\t|\t0.063000\t    33\t\tRank: 0.002278\n",
      "14431 \t0.000028\t  1089\t\tRank: 0.075176\t|\t0.004000\t   443\t\tRank: 0.030581\n",
      "14432 \t0.000078\t   254\t\tRank: 0.017534\t|\t0.019500\t    97\t\tRank: 0.006696\n",
      "14433 \t0.000026\t  1308\t\tRank: 0.090294\t|\t0.017750\t   103\t\tRank: 0.007110\n",
      "14434 \t0.000009\t  8551\t\tRank: 0.590294\t|\t0.000250\t  6975\t\tRank: 0.481499\n",
      "14435 \t0.000008\t  9950\t\tRank: 0.686870\t|\t0.000250\t  7019\t\tRank: 0.484537\n",
      "14436 \t0.920472\t     5\t\tRank: 0.000345\t|\t0.169500\t     6\t\tRank: 0.000414\n",
      "14437 \t0.069630\t    11\t\tRank: 0.000759\t|\t0.122250\t    15\t\tRank: 0.001035\n",
      "14438 \t0.000193\t   117\t\tRank: 0.008077\t|\t0.089500\t    21\t\tRank: 0.001450\n",
      "14439 \t0.040926\t    14\t\tRank: 0.000966\t|\t0.082250\t    26\t\tRank: 0.001795\n"
     ]
    }
   ],
   "source": [
    "compare_rank(y_test, y_pred_on_test_single_NN, y_pred_on_test_rf)"
   ]
  },
  {
   "cell_type": "markdown",
   "metadata": {
    "deletable": true,
    "editable": true
   },
   "source": [
    "#### Bad predicted on NN but Better on RF"
   ]
  },
  {
   "cell_type": "code",
   "execution_count": 30,
   "metadata": {
    "collapsed": false,
    "deletable": true,
    "editable": true,
    "scrolled": true
   },
   "outputs": [
    {
     "name": "stdout",
     "output_type": "stream",
     "text": [
      "testing Molecule:  14425\n",
      "  33815\t\tsim: 0.953313\t\ttrue label: 0.0\n",
      "  33834\t\tsim: 0.880771\t\ttrue label: 0.0\n",
      "  33792\t\tsim: 0.872872\t\ttrue label: 0.0\n",
      "  19401\t\tsim: 0.866025\t\ttrue label: 0.0\n",
      "    925\t\tsim: 0.827535\t\ttrue label: 0.0\n",
      "  33820\t\tsim: 0.819382\t\ttrue label: 0.0\n",
      "  33825\t\tsim: 0.813838\t\ttrue label: 0.0\n",
      "  33833\t\tsim: 0.811107\t\ttrue label: 0.0\n",
      "  19423\t\tsim: 0.811107\t\ttrue label: 0.0\n",
      "   4912\t\tsim: 0.808290\t\ttrue label: 0.0\n",
      "  19388\t\tsim: 0.807373\t\ttrue label: 0.0\n",
      "  19398\t\tsim: 0.805316\t\ttrue label: 0.0\n",
      "   4858\t\tsim: 0.789024\t\ttrue label: 0.0\n",
      "  15347\t\tsim: 0.781271\t\ttrue label: 0.0\n",
      "   6270\t\tsim: 0.779525\t\ttrue label: 0.0\n",
      "  15664\t\tsim: 0.777616\t\ttrue label: 0.0\n",
      "  29836\t\tsim: 0.775058\t\ttrue label: 0.0\n",
      "  33817\t\tsim: 0.774139\t\ttrue label: 0.0\n",
      "    898\t\tsim: 0.773723\t\ttrue label: 0.0\n",
      "    906\t\tsim: 0.768347\t\ttrue label: 0.0\n",
      "  33850\t\tsim: 0.766032\t\ttrue label: 0.0\n",
      "  33799\t\tsim: 0.763763\t\ttrue label: 0.0\n",
      "    933\t\tsim: 0.762216\t\ttrue label: 0.0\n",
      "    936\t\tsim: 0.750555\t\ttrue label: 0.0\n",
      "  20814\t\tsim: 0.745578\t\ttrue label: 0.0\n",
      "  29889\t\tsim: 0.739009\t\ttrue label: 0.0\n",
      "  29875\t\tsim: 0.737865\t\ttrue label: 0.0\n",
      "   4892\t\tsim: 0.735980\t\ttrue label: 0.0\n",
      "  19414\t\tsim: 0.735980\t\ttrue label: 0.0\n",
      "  29829\t\tsim: 0.732610\t\ttrue label: 0.0\n",
      "\n",
      "testing Molecule:  14428\n",
      "   7242\t\tsim: 0.719510\t\ttrue label: 0.0\n",
      "  21769\t\tsim: 0.681994\t\ttrue label: 0.0\n",
      "  30528\t\tsim: 0.679639\t\ttrue label: 0.0\n",
      "   7276\t\tsim: 0.674541\t\ttrue label: 0.0\n",
      "  36084\t\tsim: 0.667326\t\ttrue label: 0.0\n",
      "  17492\t\tsim: 0.658869\t\ttrue label: 0.0\n",
      "  10966\t\tsim: 0.653565\t\ttrue label: 0.0\n",
      "  21995\t\tsim: 0.646997\t\ttrue label: 0.0\n",
      "  22881\t\tsim: 0.646997\t\ttrue label: 0.0\n",
      "  26569\t\tsim: 0.643039\t\ttrue label: 0.0\n",
      "   7415\t\tsim: 0.637118\t\ttrue label: 0.0\n",
      "  12325\t\tsim: 0.636528\t\ttrue label: 0.0\n",
      "  26300\t\tsim: 0.635338\t\ttrue label: 0.0\n",
      "  20823\t\tsim: 0.635338\t\ttrue label: 0.0\n",
      "  22865\t\tsim: 0.631780\t\ttrue label: 0.0\n",
      "  36582\t\tsim: 0.631780\t\ttrue label: 0.0\n",
      "  12122\t\tsim: 0.629571\t\ttrue label: 0.0\n",
      "  26171\t\tsim: 0.628419\t\ttrue label: 0.0\n",
      "  13664\t\tsim: 0.619268\t\ttrue label: 0.0\n",
      "  41183\t\tsim: 0.619223\t\ttrue label: 0.0\n",
      "  21791\t\tsim: 0.619223\t\ttrue label: 0.0\n",
      "  26152\t\tsim: 0.618463\t\ttrue label: 0.0\n",
      "  41031\t\tsim: 0.616887\t\ttrue label: 0.0\n",
      "  12850\t\tsim: 0.616316\t\ttrue label: 0.0\n",
      "   4141\t\tsim: 0.616316\t\ttrue label: 0.0\n",
      "  17504\t\tsim: 0.616316\t\ttrue label: 0.0\n",
      "  34826\t\tsim: 0.615462\t\ttrue label: 0.0\n",
      "  23758\t\tsim: 0.613795\t\ttrue label: 0.0\n",
      "  24439\t\tsim: 0.613285\t\ttrue label: 0.0\n",
      "   7366\t\tsim: 0.611354\t\ttrue label: 0.0\n",
      "\n",
      "testing Molecule:  14431\n",
      "  24099\t\tsim: 0.622752\t\ttrue label: 0.0\n",
      "   8299\t\tsim: 0.615457\t\ttrue label: 0.0\n",
      "\n",
      "testing Molecule:  14438\n",
      "  40539\t\tsim: 0.811899\t\ttrue label: 0.0\n",
      "  27937\t\tsim: 0.708214\t\ttrue label: 0.0\n",
      "  12612\t\tsim: 0.698611\t\ttrue label: 0.0\n",
      "  40456\t\tsim: 0.691055\t\ttrue label: 0.0\n",
      "  11494\t\tsim: 0.679729\t\ttrue label: 0.0\n",
      "   4931\t\tsim: 0.673315\t\ttrue label: 0.0\n",
      "  41171\t\tsim: 0.673162\t\ttrue label: 0.0\n",
      "  20384\t\tsim: 0.673162\t\ttrue label: 0.0\n",
      "  27278\t\tsim: 0.673162\t\ttrue label: 0.0\n",
      "  12748\t\tsim: 0.666694\t\ttrue label: 0.0\n",
      "  12697\t\tsim: 0.661495\t\ttrue label: 0.0\n",
      "  26294\t\tsim: 0.660820\t\ttrue label: 0.0\n",
      "  27950\t\tsim: 0.655098\t\ttrue label: 0.0\n",
      "  42395\t\tsim: 0.644994\t\ttrue label: 0.0\n",
      "  42394\t\tsim: 0.637450\t\ttrue label: 0.0\n",
      "  42393\t\tsim: 0.637450\t\ttrue label: 0.0\n",
      "  34909\t\tsim: 0.636364\t\ttrue label: 0.0\n",
      "  27931\t\tsim: 0.635544\t\ttrue label: 0.0\n",
      "  42632\t\tsim: 0.631968\t\ttrue label: 0.0\n",
      "\u001b[31m  14435\t\tsim: 0.629285\t\ttrue label: 1.0\u001b[0m\n",
      "  32191\t\tsim: 0.625100\t\ttrue label: 0.0\n",
      "  41740\t\tsim: 0.625100\t\ttrue label: 0.0\n",
      "  12348\t\tsim: 0.618182\t\ttrue label: 0.0\n",
      "  25280\t\tsim: 0.616887\t\ttrue label: 0.0\n",
      "  21093\t\tsim: 0.616411\t\ttrue label: 0.0\n",
      "  13487\t\tsim: 0.616313\t\ttrue label: 0.0\n",
      "  18598\t\tsim: 0.611216\t\ttrue label: 0.0\n",
      "  21161\t\tsim: 0.610216\t\ttrue label: 0.0\n",
      "  41558\t\tsim: 0.609837\t\ttrue label: 0.0\n",
      "  13490\t\tsim: 0.609837\t\ttrue label: 0.0\n",
      "\n"
     ]
    }
   ],
   "source": [
    "test_list = [14425, 14428, 14431, 14438]\n",
    "print_list(test_list, X_test, X_train, y_train, top=30)"
   ]
  },
  {
   "cell_type": "markdown",
   "metadata": {
    "deletable": true,
    "editable": true
   },
   "source": [
    "#### Good predictions onboth NN and RF"
   ]
  },
  {
   "cell_type": "code",
   "execution_count": 31,
   "metadata": {
    "collapsed": false,
    "deletable": true,
    "editable": true,
    "scrolled": true
   },
   "outputs": [
    {
     "name": "stdout",
     "output_type": "stream",
     "text": [
      "testing Molecule:  14427\n",
      "  20334\t\tsim: 0.755742\t\ttrue label: 0.0\n",
      "\u001b[31m  28908\t\tsim: 0.739130\t\ttrue label: 1.0\u001b[0m\n",
      "\u001b[31m  28907\t\tsim: 0.739130\t\ttrue label: 1.0\u001b[0m\n",
      "  34811\t\tsim: 0.695182\t\ttrue label: 0.0\n",
      "\u001b[31m  28917\t\tsim: 0.647179\t\ttrue label: 1.0\u001b[0m\n",
      "\n",
      "testing Molecule:  14429\n",
      "\u001b[31m  28915\t\tsim: 0.737865\t\ttrue label: 1.0\u001b[0m\n",
      "  40486\t\tsim: 0.703562\t\ttrue label: 0.0\n",
      "\u001b[31m  14429\t\tsim: 0.693103\t\ttrue label: 1.0\u001b[0m\n",
      "  11519\t\tsim: 0.692820\t\ttrue label: 0.0\n",
      "  11518\t\tsim: 0.686904\t\ttrue label: 0.0\n",
      "  23068\t\tsim: 0.679366\t\ttrue label: 0.0\n",
      "  40488\t\tsim: 0.676475\t\ttrue label: 0.0\n",
      "\u001b[31m  14430\t\tsim: 0.673610\t\ttrue label: 1.0\u001b[0m\n",
      "  35352\t\tsim: 0.673610\t\ttrue label: 0.0\n",
      "  28330\t\tsim: 0.666701\t\ttrue label: 0.0\n",
      "  22929\t\tsim: 0.653497\t\ttrue label: 0.0\n",
      "  11899\t\tsim: 0.642364\t\ttrue label: 0.0\n",
      "  15995\t\tsim: 0.640000\t\ttrue label: 0.0\n",
      "  39928\t\tsim: 0.639010\t\ttrue label: 0.0\n",
      "  11657\t\tsim: 0.636878\t\ttrue label: 0.0\n",
      "  18959\t\tsim: 0.632785\t\ttrue label: 0.0\n",
      "  26334\t\tsim: 0.632785\t\ttrue label: 0.0\n",
      "  26037\t\tsim: 0.632785\t\ttrue label: 0.0\n",
      "  35367\t\tsim: 0.632785\t\ttrue label: 0.0\n",
      "  12906\t\tsim: 0.626295\t\ttrue label: 0.0\n",
      "\n",
      "testing Molecule:  14436\n",
      "   5839\t\tsim: 0.842152\t\ttrue label: 0.0\n",
      "   9964\t\tsim: 0.804522\t\ttrue label: 0.0\n",
      "  32816\t\tsim: 0.787234\t\ttrue label: 0.0\n",
      "   6100\t\tsim: 0.778991\t\ttrue label: 0.0\n",
      "  32563\t\tsim: 0.776157\t\ttrue label: 0.0\n",
      "  20403\t\tsim: 0.757937\t\ttrue label: 0.0\n",
      "  25385\t\tsim: 0.750163\t\ttrue label: 0.0\n",
      "  24008\t\tsim: 0.729325\t\ttrue label: 0.0\n",
      "   3866\t\tsim: 0.727732\t\ttrue label: 0.0\n",
      "  32775\t\tsim: 0.727732\t\ttrue label: 0.0\n",
      "  18163\t\tsim: 0.715829\t\ttrue label: 0.0\n",
      "   8899\t\tsim: 0.714881\t\ttrue label: 0.0\n",
      "\u001b[31m  14423\t\tsim: 0.703679\t\ttrue label: 1.0\u001b[0m\n",
      "  24019\t\tsim: 0.700713\t\ttrue label: 0.0\n",
      "  24429\t\tsim: 0.695817\t\ttrue label: 0.0\n",
      "   8956\t\tsim: 0.695817\t\ttrue label: 0.0\n",
      "  18138\t\tsim: 0.694775\t\ttrue label: 0.0\n",
      "\u001b[31m  43396\t\tsim: 0.675224\t\ttrue label: 1.0\u001b[0m\n",
      "  18361\t\tsim: 0.674031\t\ttrue label: 0.0\n",
      "  32596\t\tsim: 0.668727\t\ttrue label: 0.0\n",
      "\n",
      "testing Molecule:  14437\n",
      "  25963\t\tsim: 0.760152\t\ttrue label: 0.0\n",
      "  40487\t\tsim: 0.758175\t\ttrue label: 0.0\n",
      "  37234\t\tsim: 0.722806\t\ttrue label: 0.0\n",
      "\u001b[31m  14429\t\tsim: 0.700140\t\ttrue label: 1.0\u001b[0m\n",
      "\u001b[31m  28915\t\tsim: 0.681468\t\ttrue label: 1.0\u001b[0m\n",
      "   8527\t\tsim: 0.674020\t\ttrue label: 0.0\n",
      "  40492\t\tsim: 0.666701\t\ttrue label: 0.0\n",
      "\u001b[31m  14434\t\tsim: 0.662266\t\ttrue label: 1.0\u001b[0m\n",
      "   2464\t\tsim: 0.659829\t\ttrue label: 0.0\n",
      "  40491\t\tsim: 0.647557\t\ttrue label: 0.0\n",
      "  17808\t\tsim: 0.624559\t\ttrue label: 0.0\n",
      "  22808\t\tsim: 0.617213\t\ttrue label: 0.0\n",
      "   6766\t\tsim: 0.612245\t\ttrue label: 0.0\n",
      "  16602\t\tsim: 0.604298\t\ttrue label: 0.0\n",
      "  40486\t\tsim: 0.603023\t\ttrue label: 0.0\n",
      "  32891\t\tsim: 0.602652\t\ttrue label: 0.0\n",
      "  11519\t\tsim: 0.602652\t\ttrue label: 0.0\n",
      "\n",
      "testing Molecule:  14439\n",
      "  41266\t\tsim: 0.761372\t\ttrue label: 0.0\n",
      "  42395\t\tsim: 0.742746\t\ttrue label: 0.0\n",
      "  42394\t\tsim: 0.711814\t\ttrue label: 0.0\n",
      "  43146\t\tsim: 0.707974\t\ttrue label: 0.0\n",
      "  13490\t\tsim: 0.703679\t\ttrue label: 0.0\n",
      "  33410\t\tsim: 0.695817\t\ttrue label: 0.0\n",
      "\u001b[31m  43405\t\tsim: 0.695817\t\ttrue label: 1.0\u001b[0m\n",
      "\u001b[31m  43404\t\tsim: 0.681689\t\ttrue label: 1.0\u001b[0m\n",
      "  42393\t\tsim: 0.667326\t\ttrue label: 0.0\n",
      "  19008\t\tsim: 0.659574\t\ttrue label: 0.0\n",
      "  14176\t\tsim: 0.652668\t\ttrue label: 0.0\n",
      "  17636\t\tsim: 0.647291\t\ttrue label: 0.0\n",
      "\u001b[31m  14436\t\tsim: 0.645974\t\ttrue label: 1.0\u001b[0m\n",
      "  13487\t\tsim: 0.645199\t\ttrue label: 0.0\n",
      "  28684\t\tsim: 0.645199\t\ttrue label: 0.0\n",
      "  41519\t\tsim: 0.639481\t\ttrue label: 0.0\n",
      "\u001b[31m  14435\t\tsim: 0.639481\t\ttrue label: 1.0\u001b[0m\n",
      "  27966\t\tsim: 0.638886\t\ttrue label: 0.0\n",
      "  27188\t\tsim: 0.637848\t\ttrue label: 0.0\n",
      "  27967\t\tsim: 0.633181\t\ttrue label: 0.0\n",
      "\n"
     ]
    }
   ],
   "source": [
    "test_list = [14427, 14429, 14436, 14437, 14439]\n",
    "print_list(test_list, X_test, X_train, y_train)"
   ]
  }
 ],
 "metadata": {
  "kernelspec": {
   "display_name": "Python 2",
   "language": "python",
   "name": "python2"
  },
  "language_info": {
   "codemirror_mode": {
    "name": "ipython",
    "version": 2
   },
   "file_extension": ".py",
   "mimetype": "text/x-python",
   "name": "python",
   "nbconvert_exporter": "python",
   "pygments_lexer": "ipython2",
   "version": "2.7.13"
  }
 },
 "nbformat": 4,
 "nbformat_minor": 0
}

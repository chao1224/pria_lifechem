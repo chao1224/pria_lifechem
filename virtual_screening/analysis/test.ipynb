{
 "cells": [
  {
   "cell_type": "code",
   "execution_count": 1,
   "metadata": {
    "collapsed": false,
    "deletable": true,
    "editable": true
   },
   "outputs": [
    {
     "name": "stderr",
     "output_type": "stream",
     "text": [
      "Using Theano backend.\n",
      "Using gpu device 1: Tesla K40m (CNMeM is disabled, CuDNN 4004)\n"
     ]
    }
   ],
   "source": [
    "from NN_Tree_Comparison import *\n",
    "\n",
    "%load_ext autoreload\n",
    "%autoreload 2\n",
    "from virtual_screening.function import *\n",
    "from virtual_screening.evaluation import *\n",
    "from virtual_screening.models.deep_classification import *"
   ]
  },
  {
   "cell_type": "code",
   "execution_count": 2,
   "metadata": {
    "collapsed": true,
    "deletable": true,
    "editable": true
   },
   "outputs": [],
   "source": [
    "running_index = 1\n",
    "k = 5\n",
    "pos_num = 50\n",
    "neg_num = 200"
   ]
  },
  {
   "cell_type": "code",
   "execution_count": 3,
   "metadata": {
    "collapsed": false,
    "deletable": true,
    "editable": true
   },
   "outputs": [],
   "source": [
    "directory = '../../dataset/fixed_dataset/fold_{}/'.format(k)\n",
    "file_list = []\n",
    "for i in range(k):\n",
    "    file_list.append('{}file_{}.csv'.format(directory, i))\n",
    "file_list = np.array(file_list)\n",
    "\n",
    "# read data\n",
    "test_index = running_index / 4\n",
    "val_index = running_index % 4 + (running_index % 4 >= test_index)\n",
    "complete_index = np.arange(k)\n",
    "train_index = np.where((complete_index != test_index) & (complete_index != val_index))[0]\n",
    "\n",
    "train_file_list = file_list[train_index]\n",
    "val_file_list = file_list[val_index:val_index+1]\n",
    "test_file_list = file_list[test_index:test_index+1]"
   ]
  },
  {
   "cell_type": "code",
   "execution_count": 4,
   "metadata": {
    "collapsed": false,
    "deletable": true,
    "editable": true
   },
   "outputs": [
    {
     "name": "stdout",
     "output_type": "stream",
     "text": [
      "(43453, 1)\n",
      "(14484, 1)\n",
      "(14486, 1)\n"
     ]
    }
   ],
   "source": [
    "label_name_list = ['Keck_Pria_AS_Retest']\n",
    "\n",
    "train_pd = filter_out_missing_values(read_merged_data(train_file_list), label_list=label_name_list)\n",
    "val_pd = filter_out_missing_values(read_merged_data(val_file_list), label_list=label_name_list)\n",
    "test_pd = filter_out_missing_values(read_merged_data(test_file_list), label_list=label_name_list)\n",
    "\n",
    "# extract data, and split training data into training and val\n",
    "X_train, y_train = extract_feature_and_label(train_pd,\n",
    "                                             feature_name='Fingerprints',\n",
    "                                             label_name_list=label_name_list)\n",
    "X_val, y_val = extract_feature_and_label(val_pd,\n",
    "                                         feature_name='Fingerprints',\n",
    "                                         label_name_list=label_name_list)\n",
    "X_test, y_test = extract_feature_and_label(test_pd,\n",
    "                                           feature_name='Fingerprints',\n",
    "                                           label_name_list=label_name_list)"
   ]
  },
  {
   "cell_type": "code",
   "execution_count": 5,
   "metadata": {
    "collapsed": false,
    "deletable": true,
    "editable": true
   },
   "outputs": [
    {
     "name": "stdout",
     "output_type": "stream",
     "text": [
      "../../output/cross_validation/single_classification_22/45540945/1.weight\n",
      "\n",
      "train precision: 0.998314670017\n",
      "train roc: 0.999998039294\n",
      "train bedroc: 0.994706144082\n",
      "\n",
      "validation precision: 0.307938220156\n",
      "validation roc: 0.783930484518\n",
      "validation bedroc: 0.612508723339\n",
      "\n",
      "test precision: 0.0959068095274\n",
      "test roc: 0.837264599171\n",
      "test bedroc: 0.628970145806\n",
      "\n",
      "ratio: 0.02, EF: 25.0,\tactive: 16.0\n",
      "ratio: 0.01, EF: 43.75,\tactive: 16.0\n",
      "ratio: 0.0015, EF: 208.333333333,\tactive: 16.0\n",
      "ratio: 0.001, EF: 312.5,\tactive: 16.0\n"
     ]
    }
   ],
   "source": [
    "with open('../../output/cross_validation/single_classification_22.json', 'r') as f:\n",
    "    conf = json.load(f)\n",
    "single_task = SingleClassification(conf=conf)\n",
    "\n",
    "PMTNN_weight_file = '../../output/cross_validation/single_classification_22/45540945/{}.weight'.format(running_index)\n",
    "print PMTNN_weight_file\n",
    "single_task.predict_with_existing(X_train, y_train, X_val, y_val, X_test, y_test,\n",
    "                           PMTNN_weight_file=PMTNN_weight_file)\n",
    "\n",
    "\n",
    "single_model = single_task.setup_model()\n",
    "single_model.load_weights(PMTNN_weight_file)\n",
    "\n",
    "y_pred_on_val_single_NN = single_model.predict(X_val)\n",
    "y_pred_on_test_single_NN = single_model.predict(X_test)"
   ]
  },
  {
   "cell_type": "markdown",
   "metadata": {
    "deletable": true,
    "editable": true
   },
   "source": [
    "# Load"
   ]
  },
  {
   "cell_type": "code",
   "execution_count": 6,
   "metadata": {
    "collapsed": false,
    "deletable": true,
    "editable": true
   },
   "outputs": [
    {
     "name": "stdout",
     "output_type": "stream",
     "text": [
      "['Keck_pria_as_retest_true', 'Keck_pria_as_retest_pred', 'Keck_Pria_Hard_Thresholded_true', 'Keck_RMI_cdd_pred', 'Keck_Pria_Hard_Thresholded_pred', 'Keck_Pria_FP_data_pred', 'Keck_RMI_cdd_true', 'Keck_Pria_FP_data_true', 'Molecule_ID']\n"
     ]
    }
   ],
   "source": [
    "lightchem = np.load('temp/black_chem.npz')\n",
    "print lightchem.files"
   ]
  },
  {
   "cell_type": "code",
   "execution_count": 7,
   "metadata": {
    "collapsed": true,
    "deletable": true,
    "editable": true
   },
   "outputs": [],
   "source": [
    "y_test_pred_on_lightchem = lightchem['Keck_pria_as_retest_pred']\n",
    "y_test_on_lightchem = lightchem['Keck_pria_as_retest_true']\n",
    "id_list = lightchem['Molecule_ID']"
   ]
  },
  {
   "cell_type": "code",
   "execution_count": 8,
   "metadata": {
    "collapsed": false,
    "deletable": true,
    "editable": true
   },
   "outputs": [
    {
     "name": "stdout",
     "output_type": "stream",
     "text": [
      "0.649785\t    95/ 14486\t\tRank: 0.006558\n",
      "0.436698\t  1619/ 14486\t\tRank: 0.111763\n",
      "0.559862\t   281/ 14486\t\tRank: 0.019398\n",
      "0.662866\t    73/ 14486\t\tRank: 0.005039\n",
      "0.593320\t   198/ 14486\t\tRank: 0.013668\n",
      "0.692287\t    21/ 14486\t\tRank: 0.001450\n",
      "0.692454\t     1/ 14486\t\tRank: 0.000069\n",
      "0.638888\t   107/ 14486\t\tRank: 0.007386\n",
      "0.655612\t    82/ 14486\t\tRank: 0.005661\n",
      "0.683448\t    35/ 14486\t\tRank: 0.002416\n",
      "0.501365\t   516/ 14486\t\tRank: 0.035621\n",
      "0.314578\t  7215/ 14486\t\tRank: 0.498067\n",
      "0.692454\t    15/ 14486\t\tRank: 0.001035\n",
      "0.692287\t    20/ 14486\t\tRank: 0.001381\n",
      "0.682540\t    37/ 14486\t\tRank: 0.002554\n",
      "0.692454\t     6/ 14486\t\tRank: 0.000414\n"
     ]
    }
   ],
   "source": [
    "y_test_pred_on_lightchem = reshape_data_into_2_dim(y_test_pred_on_lightchem)\n",
    "y_test_on_lightchem = reshape_data_into_2_dim(y_test_on_lightchem)\n",
    "get_rank(y_test_on_lightchem, y_test_pred_on_lightchem)"
   ]
  },
  {
   "cell_type": "code",
   "execution_count": 9,
   "metadata": {
    "collapsed": false,
    "deletable": true,
    "editable": true
   },
   "outputs": [
    {
     "name": "stdout",
     "output_type": "stream",
     "text": [
      " 14424|\t0.000033\t768\tRank: 0.0531\t|\t0.649785\t94\tRank: 0.0066\n",
      " 14425|\t0.000002\t14219\tRank: 0.9816\t|\t0.436698\t1618\tRank: 0.1118\n",
      " 14426|\t0.000029\t998\tRank: 0.0690\t|\t0.559862\t280\tRank: 0.0194\n",
      " 14427|\t0.160746\t8\tRank: 0.0006\t|\t0.662866\t72\tRank: 0.0050\n",
      " 14428|\t0.000026\t1261\tRank: 0.0871\t|\t0.593320\t197\tRank: 0.0137\n",
      " 14429|\t0.708671\t5\tRank: 0.0004\t|\t0.692287\t20\tRank: 0.0014\n",
      " 14430|\t0.000322\t93\tRank: 0.0065\t|\t0.692454\t0\tRank: 0.0001\n",
      " 14431|\t0.000028\t1088\tRank: 0.0752\t|\t0.638888\t106\tRank: 0.0074\n",
      " 14432|\t0.000078\t253\tRank: 0.0175\t|\t0.655612\t81\tRank: 0.0057\n",
      " 14433|\t0.000026\t1307\tRank: 0.0903\t|\t0.683448\t34\tRank: 0.0024\n",
      " 14434|\t0.000009\t8550\tRank: 0.5903\t|\t0.501365\t515\tRank: 0.0356\n",
      " 14435|\t0.000008\t9949\tRank: 0.6869\t|\t0.314578\t7214\tRank: 0.4981\n",
      " 14436|\t0.920472\t4\tRank: 0.0003\t|\t0.692454\t14\tRank: 0.0010\n",
      " 14437|\t0.069630\t10\tRank: 0.0008\t|\t0.692287\t19\tRank: 0.0014\n",
      " 14438|\t0.000193\t116\tRank: 0.0081\t|\t0.682540\t36\tRank: 0.0026\n",
      " 14439|\t0.040926\t13\tRank: 0.0010\t|\t0.692454\t5\tRank: 0.0004\n"
     ]
    }
   ],
   "source": [
    "compare_rank(y_test, y_pred_on_test_single_NN, y_test_pred_on_lightchem)"
   ]
  },
  {
   "cell_type": "code",
   "execution_count": 10,
   "metadata": {
    "collapsed": false,
    "deletable": true,
    "editable": true
   },
   "outputs": [
    {
     "name": "stdout",
     "output_type": "stream",
     "text": [
      "testing Molecule:  14424\n",
      "    298 |  sim: 0.864356\tsim(only important): 0.864356\t\ttrue label: 0\n",
      "  14771 |  sim: 0.828325\tsim(only important): 0.828325\t\ttrue label: 0\n",
      "  29200 |  sim: 0.796454\tsim(only important): 0.796454\t\ttrue label: 0\n",
      "  15945 |  sim: 0.768000\tsim(only important): 0.768\t\ttrue label: 0\n",
      "  30107 |  sim: 0.737031\tsim(only important): 0.737031\t\ttrue label: 0\n",
      "\u001b[31m  28906 |  sim: 0.737031\tsim(only important): 0.737031\t\ttrue label: 1  *\u001b[0m\n",
      "    277 |  sim: 0.737031\tsim(only important): 0.737031\t\ttrue label: 0\n",
      "  14762 |  sim: 0.731310\tsim(only important): 0.73131\t\ttrue label: 0\n",
      "  18202 |  sim: 0.706018\tsim(only important): 0.706018\t\ttrue label: 0\n",
      "  15880 |  sim: 0.699234\tsim(only important): 0.699234\t\ttrue label: 0\n",
      "  32191 |  sim: 0.693074\tsim(only important): 0.693074\t\ttrue label: 0\n",
      "  38976 |  sim: 0.688098\tsim(only important): 0.688098\t\ttrue label: 0\n",
      "   3713 |  sim: 0.680000\tsim(only important): 0.68\t\ttrue label: 0\n",
      "  26604 |  sim: 0.668563\tsim(only important): 0.668563\t\ttrue label: 0\n",
      "  11726 |  sim: 0.662589\tsim(only important): 0.662589\t\ttrue label: 0\n",
      "  23271 |  sim: 0.654654\tsim(only important): 0.654654\t\ttrue label: 0\n",
      "  39718 |  sim: 0.642540\tsim(only important): 0.64254\t\ttrue label: 0\n",
      "  24605 |  sim: 0.639602\tsim(only important): 0.639602\t\ttrue label: 0\n",
      "  17651 |  sim: 0.636878\tsim(only important): 0.636878\t\ttrue label: 0\n",
      "  23262 |  sim: 0.632832\tsim(only important): 0.632832\t\ttrue label: 0\n",
      "   7623 |  sim: 0.632456\tsim(only important): 0.632456\t\ttrue label: 0\n",
      "  17657 |  sim: 0.629285\tsim(only important): 0.629285\t\ttrue label: 0\n",
      "   7357 |  sim: 0.626099\tsim(only important): 0.626099\t\ttrue label: 0\n",
      "  25102 |  sim: 0.625991\tsim(only important): 0.625991\t\ttrue label: 0\n",
      "  39751 |  sim: 0.625543\tsim(only important): 0.625543\t\ttrue label: 0\n",
      "  21839 |  sim: 0.618853\tsim(only important): 0.618853\t\ttrue label: 0\n",
      "  36534 |  sim: 0.618853\tsim(only important): 0.618853\t\ttrue label: 0\n",
      "  37727 |  sim: 0.618853\tsim(only important): 0.618853\t\ttrue label: 0\n",
      "  20808 |  sim: 0.618417\tsim(only important): 0.618417\t\ttrue label: 0\n",
      "  35355 |  sim: 0.618282\tsim(only important): 0.618282\t\ttrue label: 0\n",
      "\n",
      "testing Molecule:  14425\n",
      "  33815 |  sim: 0.953313\tsim(only important): 0.953313\t\ttrue label: 0\n",
      "  33834 |  sim: 0.880771\tsim(only important): 0.880771\t\ttrue label: 0\n",
      "  33792 |  sim: 0.872872\tsim(only important): 0.872872\t\ttrue label: 0\n",
      "  19401 |  sim: 0.866025\tsim(only important): 0.866025\t\ttrue label: 0\n",
      "    925 |  sim: 0.827535\tsim(only important): 0.827535\t\ttrue label: 0\n",
      "  33820 |  sim: 0.819382\tsim(only important): 0.819382\t\ttrue label: 0\n",
      "  33825 |  sim: 0.813838\tsim(only important): 0.813838\t\ttrue label: 0\n",
      "  33833 |  sim: 0.811107\tsim(only important): 0.811107\t\ttrue label: 0\n",
      "  19423 |  sim: 0.811107\tsim(only important): 0.811107\t\ttrue label: 0\n",
      "   4912 |  sim: 0.808290\tsim(only important): 0.80829\t\ttrue label: 0\n",
      "  19388 |  sim: 0.807373\tsim(only important): 0.807373\t\ttrue label: 0\n",
      "  19398 |  sim: 0.805316\tsim(only important): 0.805316\t\ttrue label: 0\n",
      "   4858 |  sim: 0.789024\tsim(only important): 0.789024\t\ttrue label: 0\n",
      "  15347 |  sim: 0.781271\tsim(only important): 0.781271\t\ttrue label: 0\n",
      "   6270 |  sim: 0.779525\tsim(only important): 0.779525\t\ttrue label: 0\n",
      "  15664 |  sim: 0.777616\tsim(only important): 0.777616\t\ttrue label: 0\n",
      "  29836 |  sim: 0.775058\tsim(only important): 0.775058\t\ttrue label: 0\n",
      "  33817 |  sim: 0.774139\tsim(only important): 0.774139\t\ttrue label: 0\n",
      "    898 |  sim: 0.773723\tsim(only important): 0.773723\t\ttrue label: 0\n",
      "    906 |  sim: 0.768347\tsim(only important): 0.768347\t\ttrue label: 0\n",
      "  33850 |  sim: 0.766032\tsim(only important): 0.766032\t\ttrue label: 0\n",
      "  33799 |  sim: 0.763763\tsim(only important): 0.763763\t\ttrue label: 0\n",
      "    933 |  sim: 0.762216\tsim(only important): 0.762216\t\ttrue label: 0\n",
      "    936 |  sim: 0.750555\tsim(only important): 0.750555\t\ttrue label: 0\n",
      "  20814 |  sim: 0.745578\tsim(only important): 0.745578\t\ttrue label: 0\n",
      "  29889 |  sim: 0.739009\tsim(only important): 0.739009\t\ttrue label: 0\n",
      "  29875 |  sim: 0.737865\tsim(only important): 0.737865\t\ttrue label: 0\n",
      "   4892 |  sim: 0.735980\tsim(only important): 0.73598\t\ttrue label: 0\n",
      "  19414 |  sim: 0.735980\tsim(only important): 0.73598\t\ttrue label: 0\n",
      "  29829 |  sim: 0.732610\tsim(only important): 0.73261\t\ttrue label: 0\n",
      "\n",
      "testing Molecule:  14426\n",
      "  15024 |  sim: 0.711967\tsim(only important): 0.711967\t\ttrue label: 0\n",
      "  19908 |  sim: 0.643876\tsim(only important): 0.643876\t\ttrue label: 0\n",
      "   3368 |  sim: 0.622988\tsim(only important): 0.622988\t\ttrue label: 0\n",
      "  21104 |  sim: 0.616465\tsim(only important): 0.616465\t\ttrue label: 0\n",
      "   9188 |  sim: 0.612173\tsim(only important): 0.612173\t\ttrue label: 0\n",
      "   6443 |  sim: 0.610142\tsim(only important): 0.610142\t\ttrue label: 0\n",
      "\n",
      "testing Molecule:  14428\n",
      "   7242 |  sim: 0.719510\tsim(only important): 0.71951\t\ttrue label: 0\n",
      "  21769 |  sim: 0.681994\tsim(only important): 0.681994\t\ttrue label: 0\n",
      "  30528 |  sim: 0.679639\tsim(only important): 0.679639\t\ttrue label: 0\n",
      "   7276 |  sim: 0.674541\tsim(only important): 0.674541\t\ttrue label: 0\n",
      "  36084 |  sim: 0.667326\tsim(only important): 0.667326\t\ttrue label: 0\n",
      "  17492 |  sim: 0.658869\tsim(only important): 0.658869\t\ttrue label: 0\n",
      "  10966 |  sim: 0.653565\tsim(only important): 0.653565\t\ttrue label: 0\n",
      "  21995 |  sim: 0.646997\tsim(only important): 0.646997\t\ttrue label: 0\n",
      "  22881 |  sim: 0.646997\tsim(only important): 0.646997\t\ttrue label: 0\n",
      "  26569 |  sim: 0.643039\tsim(only important): 0.643039\t\ttrue label: 0\n",
      "   7415 |  sim: 0.637118\tsim(only important): 0.637118\t\ttrue label: 0\n",
      "  12325 |  sim: 0.636528\tsim(only important): 0.636528\t\ttrue label: 0\n",
      "  26300 |  sim: 0.635338\tsim(only important): 0.635338\t\ttrue label: 0\n",
      "  20823 |  sim: 0.635338\tsim(only important): 0.635338\t\ttrue label: 0\n",
      "  22865 |  sim: 0.631780\tsim(only important): 0.63178\t\ttrue label: 0\n",
      "  36582 |  sim: 0.631780\tsim(only important): 0.63178\t\ttrue label: 0\n",
      "  12122 |  sim: 0.629571\tsim(only important): 0.629571\t\ttrue label: 0\n",
      "  26171 |  sim: 0.628419\tsim(only important): 0.628419\t\ttrue label: 0\n",
      "  13664 |  sim: 0.619268\tsim(only important): 0.619268\t\ttrue label: 0\n",
      "  41183 |  sim: 0.619223\tsim(only important): 0.619223\t\ttrue label: 0\n",
      "  21791 |  sim: 0.619223\tsim(only important): 0.619223\t\ttrue label: 0\n",
      "  26152 |  sim: 0.618463\tsim(only important): 0.618463\t\ttrue label: 0\n",
      "  41031 |  sim: 0.616887\tsim(only important): 0.616887\t\ttrue label: 0\n",
      "  12850 |  sim: 0.616316\tsim(only important): 0.616316\t\ttrue label: 0\n",
      "   4141 |  sim: 0.616316\tsim(only important): 0.616316\t\ttrue label: 0\n",
      "  17504 |  sim: 0.616316\tsim(only important): 0.616316\t\ttrue label: 0\n",
      "  34826 |  sim: 0.615462\tsim(only important): 0.615462\t\ttrue label: 0\n",
      "  23758 |  sim: 0.613795\tsim(only important): 0.613795\t\ttrue label: 0\n",
      "  24439 |  sim: 0.613285\tsim(only important): 0.613285\t\ttrue label: 0\n",
      "   7366 |  sim: 0.611354\tsim(only important): 0.611354\t\ttrue label: 0\n",
      "\n",
      "testing Molecule:  14431\n",
      "  24099 |  sim: 0.622752\tsim(only important): 0.622752\t\ttrue label: 0\n",
      "   8299 |  sim: 0.615457\tsim(only important): 0.615457\t\ttrue label: 0\n",
      "\n",
      "testing Molecule:  14434\n",
      "  23501 |  sim: 0.790695\tsim(only important): 0.790695\t\ttrue label: 0\n",
      "  10202 |  sim: 0.703526\tsim(only important): 0.703526\t\ttrue label: 0\n",
      "  23807 |  sim: 0.685580\tsim(only important): 0.68558\t\ttrue label: 0\n",
      "  38807 |  sim: 0.682789\tsim(only important): 0.682789\t\ttrue label: 0\n",
      "  19911 |  sim: 0.677003\tsim(only important): 0.677003\t\ttrue label: 0\n",
      "  13088 |  sim: 0.621261\tsim(only important): 0.621261\t\ttrue label: 0\n",
      "   4850 |  sim: 0.609272\tsim(only important): 0.609272\t\ttrue label: 0\n",
      "   4741 |  sim: 0.605530\tsim(only important): 0.60553\t\ttrue label: 0\n",
      "  36953 |  sim: 0.603860\tsim(only important): 0.60386\t\ttrue label: 0\n",
      "\n",
      "testing Molecule:  14435\n",
      "  39041 |  sim: 0.750163\tsim(only important): 0.750163\t\ttrue label: 0\n",
      "  22791 |  sim: 0.737210\tsim(only important): 0.73721\t\ttrue label: 0\n",
      "  39291 |  sim: 0.727310\tsim(only important): 0.72731\t\ttrue label: 0\n",
      "  37361 |  sim: 0.716147\tsim(only important): 0.716147\t\ttrue label: 0\n",
      "   9535 |  sim: 0.714286\tsim(only important): 0.714286\t\ttrue label: 0\n",
      "  24002 |  sim: 0.653565\tsim(only important): 0.653565\t\ttrue label: 0\n",
      "  19809 |  sim: 0.620124\tsim(only important): 0.620124\t\ttrue label: 0\n",
      "  19564 |  sim: 0.612245\tsim(only important): 0.612245\t\ttrue label: 0\n",
      "  37186 |  sim: 0.610625\tsim(only important): 0.610625\t\ttrue label: 0\n",
      "\n",
      "testing Molecule:  14438\n",
      "  40539 |  sim: 0.811899\tsim(only important): 0.811899\t\ttrue label: 0\n",
      "  27937 |  sim: 0.708214\tsim(only important): 0.708214\t\ttrue label: 0\n",
      "  12612 |  sim: 0.698611\tsim(only important): 0.698611\t\ttrue label: 0\n",
      "  40456 |  sim: 0.691055\tsim(only important): 0.691055\t\ttrue label: 0\n",
      "  11494 |  sim: 0.679729\tsim(only important): 0.679729\t\ttrue label: 0\n",
      "   4931 |  sim: 0.673315\tsim(only important): 0.673315\t\ttrue label: 0\n",
      "  41171 |  sim: 0.673162\tsim(only important): 0.673162\t\ttrue label: 0\n",
      "  20384 |  sim: 0.673162\tsim(only important): 0.673162\t\ttrue label: 0\n",
      "  27278 |  sim: 0.673162\tsim(only important): 0.673162\t\ttrue label: 0\n",
      "  12748 |  sim: 0.666694\tsim(only important): 0.666694\t\ttrue label: 0\n",
      "  12697 |  sim: 0.661495\tsim(only important): 0.661495\t\ttrue label: 0\n",
      "  26294 |  sim: 0.660820\tsim(only important): 0.66082\t\ttrue label: 0\n",
      "  27950 |  sim: 0.655098\tsim(only important): 0.655098\t\ttrue label: 0\n",
      "  42395 |  sim: 0.644994\tsim(only important): 0.644994\t\ttrue label: 0\n",
      "  42394 |  sim: 0.637450\tsim(only important): 0.63745\t\ttrue label: 0\n",
      "  42393 |  sim: 0.637450\tsim(only important): 0.63745\t\ttrue label: 0\n",
      "  34909 |  sim: 0.636364\tsim(only important): 0.636364\t\ttrue label: 0\n",
      "  27931 |  sim: 0.635544\tsim(only important): 0.635544\t\ttrue label: 0\n",
      "  42632 |  sim: 0.631968\tsim(only important): 0.631968\t\ttrue label: 0\n",
      "\u001b[31m  14435 |  sim: 0.629285\tsim(only important): 0.629285\t\ttrue label: 1  *\u001b[0m\n",
      "  32191 |  sim: 0.625100\tsim(only important): 0.6251\t\ttrue label: 0\n",
      "  41740 |  sim: 0.625100\tsim(only important): 0.6251\t\ttrue label: 0\n",
      "  12348 |  sim: 0.618182\tsim(only important): 0.618182\t\ttrue label: 0\n",
      "  25280 |  sim: 0.616887\tsim(only important): 0.616887\t\ttrue label: 0\n",
      "  21093 |  sim: 0.616411\tsim(only important): 0.616411\t\ttrue label: 0\n",
      "  13487 |  sim: 0.616313\tsim(only important): 0.616313\t\ttrue label: 0\n",
      "  18598 |  sim: 0.611216\tsim(only important): 0.611216\t\ttrue label: 0\n",
      "  21161 |  sim: 0.610216\tsim(only important): 0.610216\t\ttrue label: 0\n",
      "  41558 |  sim: 0.609837\tsim(only important): 0.609837\t\ttrue label: 0\n",
      "  13490 |  sim: 0.609837\tsim(only important): 0.609837\t\ttrue label: 0\n",
      "\n",
      "testing Molecule:  14439\n",
      "  41266 |  sim: 0.761372\tsim(only important): 0.761372\t\ttrue label: 0\n",
      "  42395 |  sim: 0.742746\tsim(only important): 0.742746\t\ttrue label: 0\n",
      "  42394 |  sim: 0.711814\tsim(only important): 0.711814\t\ttrue label: 0\n",
      "  43146 |  sim: 0.707974\tsim(only important): 0.707974\t\ttrue label: 0\n",
      "  13490 |  sim: 0.703679\tsim(only important): 0.703679\t\ttrue label: 0\n",
      "  33410 |  sim: 0.695817\tsim(only important): 0.695817\t\ttrue label: 0\n",
      "\u001b[31m  43405 |  sim: 0.695817\tsim(only important): 0.695817\t\ttrue label: 1  *\u001b[0m\n",
      "\u001b[31m  43404 |  sim: 0.681689\tsim(only important): 0.681689\t\ttrue label: 1  *\u001b[0m\n",
      "  42393 |  sim: 0.667326\tsim(only important): 0.667326\t\ttrue label: 0\n",
      "  19008 |  sim: 0.659574\tsim(only important): 0.659574\t\ttrue label: 0\n",
      "  14176 |  sim: 0.652668\tsim(only important): 0.652668\t\ttrue label: 0\n",
      "  17636 |  sim: 0.647291\tsim(only important): 0.647291\t\ttrue label: 0\n",
      "\u001b[31m  14436 |  sim: 0.645974\tsim(only important): 0.645974\t\ttrue label: 1  *\u001b[0m\n",
      "  13487 |  sim: 0.645199\tsim(only important): 0.645199\t\ttrue label: 0\n",
      "  28684 |  sim: 0.645199\tsim(only important): 0.645199\t\ttrue label: 0\n",
      "  41519 |  sim: 0.639481\tsim(only important): 0.639481\t\ttrue label: 0\n",
      "\u001b[31m  14435 |  sim: 0.639481\tsim(only important): 0.639481\t\ttrue label: 1  *\u001b[0m\n",
      "  27966 |  sim: 0.638886\tsim(only important): 0.638886\t\ttrue label: 0\n",
      "  27188 |  sim: 0.637848\tsim(only important): 0.637848\t\ttrue label: 0\n",
      "  27967 |  sim: 0.633181\tsim(only important): 0.633181\t\ttrue label: 0\n",
      "  32277 |  sim: 0.632082\tsim(only important): 0.632082\t\ttrue label: 0\n",
      "  18955 |  sim: 0.631614\tsim(only important): 0.631614\t\ttrue label: 0\n",
      "   5512 |  sim: 0.629343\tsim(only important): 0.629343\t\ttrue label: 0\n",
      "  27383 |  sim: 0.627063\tsim(only important): 0.627063\t\ttrue label: 0\n",
      "  32712 |  sim: 0.627063\tsim(only important): 0.627063\t\ttrue label: 0\n",
      "  13488 |  sim: 0.625136\tsim(only important): 0.625136\t\ttrue label: 0\n",
      "  19069 |  sim: 0.625136\tsim(only important): 0.625136\t\ttrue label: 0\n",
      "  41198 |  sim: 0.615719\tsim(only important): 0.615719\t\ttrue label: 0\n",
      "  13456 |  sim: 0.609721\tsim(only important): 0.609721\t\ttrue label: 0\n",
      "  15929 |  sim: 0.607771\tsim(only important): 0.607771\t\ttrue label: 0\n",
      "\n"
     ]
    }
   ],
   "source": [
    "test_list = [14424, 14425, 14426, 14428, 14431, 14434, 14435, 14438, 14439]\n",
    "N = y_test.shape[0]\n",
    "importance_index = [i for i in range(N)]\n",
    "print_list(test_list, X_test, X_train, y_train, top=30,\n",
    "           importance_index=importance_index, important_fetcher=1024)"
   ]
  },
  {
   "cell_type": "code",
   "execution_count": 11,
   "metadata": {
    "collapsed": false,
    "deletable": true,
    "editable": true
   },
   "outputs": [
    {
     "name": "stdout",
     "output_type": "stream",
     "text": [
      "testing Molecule:  14427\n",
      "  24637 |  sim: 0.769373\tsim(only important): 0.769373\t\ttrue label: 0\n",
      "\u001b[31m  43394 |  sim: 0.743256\tsim(only important): 0.743256\t\ttrue label: 1  *\u001b[0m\n",
      "  38977 |  sim: 0.692436\tsim(only important): 0.692436\t\ttrue label: 0\n",
      "  10424 |  sim: 0.687184\tsim(only important): 0.687184\t\ttrue label: 0\n",
      "   5747 |  sim: 0.687184\tsim(only important): 0.687184\t\ttrue label: 0\n",
      "   5720 |  sim: 0.683330\tsim(only important): 0.68333\t\ttrue label: 0\n",
      "   5712 |  sim: 0.679644\tsim(only important): 0.679644\t\ttrue label: 0\n",
      "  24842 |  sim: 0.653967\tsim(only important): 0.653967\t\ttrue label: 0\n",
      "  34701 |  sim: 0.650791\tsim(only important): 0.650791\t\ttrue label: 0\n",
      "  24843 |  sim: 0.647098\tsim(only important): 0.647098\t\ttrue label: 0\n",
      "  20189 |  sim: 0.632714\tsim(only important): 0.632714\t\ttrue label: 0\n",
      "   5759 |  sim: 0.630604\tsim(only important): 0.630604\t\ttrue label: 0\n",
      "   8957 |  sim: 0.613891\tsim(only important): 0.613891\t\ttrue label: 0\n",
      "   1426 |  sim: 0.613891\tsim(only important): 0.613891\t\ttrue label: 0\n",
      "   1391 |  sim: 0.607843\tsim(only important): 0.607843\t\ttrue label: 0\n",
      "  25253 |  sim: 0.604990\tsim(only important): 0.60499\t\ttrue label: 0\n",
      "\n",
      "testing Molecule:  14429\n",
      "\u001b[31m  28917 |  sim: 0.808138\tsim(only important): 0.808138\t\ttrue label: 1  *\u001b[0m\n",
      "  27466 |  sim: 0.701793\tsim(only important): 0.701793\t\ttrue label: 0\n",
      "  20334 |  sim: 0.697518\tsim(only important): 0.697518\t\ttrue label: 0\n",
      "  12965 |  sim: 0.691280\tsim(only important): 0.69128\t\ttrue label: 0\n",
      "\u001b[31m  28908 |  sim: 0.682187\tsim(only important): 0.682187\t\ttrue label: 1  *\u001b[0m\n",
      "\u001b[31m  28907 |  sim: 0.682187\tsim(only important): 0.682187\t\ttrue label: 1  *\u001b[0m\n",
      "  24881 |  sim: 0.666667\tsim(only important): 0.666667\t\ttrue label: 0\n",
      "  30869 |  sim: 0.656488\tsim(only important): 0.656488\t\ttrue label: 0\n",
      "  34811 |  sim: 0.641624\tsim(only important): 0.641624\t\ttrue label: 0\n",
      "  12966 |  sim: 0.611111\tsim(only important): 0.611111\t\ttrue label: 0\n",
      "  12967 |  sim: 0.608581\tsim(only important): 0.608581\t\ttrue label: 0\n",
      "\n",
      "testing Molecule:  14436\n",
      "  41876 |  sim: 0.783218\tsim(only important): 0.783218\t\ttrue label: 0\n",
      "  27469 |  sim: 0.736275\tsim(only important): 0.736275\t\ttrue label: 0\n",
      "\u001b[31m  28917 |  sim: 0.711967\tsim(only important): 0.711967\t\ttrue label: 1  *\u001b[0m\n",
      "  24895 |  sim: 0.701862\tsim(only important): 0.701862\t\ttrue label: 0\n",
      "  12968 |  sim: 0.684482\tsim(only important): 0.684482\t\ttrue label: 0\n",
      "  20334 |  sim: 0.673036\tsim(only important): 0.673036\t\ttrue label: 0\n",
      "\u001b[31m  28908 |  sim: 0.658243\tsim(only important): 0.658243\t\ttrue label: 1  *\u001b[0m\n",
      "\u001b[31m  28907 |  sim: 0.658243\tsim(only important): 0.658243\t\ttrue label: 1  *\u001b[0m\n",
      "  34811 |  sim: 0.619103\tsim(only important): 0.619103\t\ttrue label: 0\n",
      "\n",
      "testing Molecule:  14437\n",
      "  27966 |  sim: 0.733674\tsim(only important): 0.733674\t\ttrue label: 0\n",
      "  42377 |  sim: 0.725669\tsim(only important): 0.725669\t\ttrue label: 0\n",
      "  27967 |  sim: 0.717741\tsim(only important): 0.717741\t\ttrue label: 0\n",
      "  28679 |  sim: 0.704545\tsim(only important): 0.704545\t\ttrue label: 0\n",
      "  19085 |  sim: 0.697863\tsim(only important): 0.697863\t\ttrue label: 0\n",
      "  14177 |  sim: 0.681689\tsim(only important): 0.681689\t\ttrue label: 0\n",
      "  13489 |  sim: 0.674200\tsim(only important): 0.6742\t\ttrue label: 0\n",
      "  19332 |  sim: 0.653275\tsim(only important): 0.653275\t\ttrue label: 0\n",
      "   4050 |  sim: 0.651339\tsim(only important): 0.651339\t\ttrue label: 0\n",
      "  42394 |  sim: 0.643721\tsim(only important): 0.643721\t\ttrue label: 0\n",
      "  13490 |  sim: 0.636364\tsim(only important): 0.636364\t\ttrue label: 0\n",
      "  28680 |  sim: 0.631032\tsim(only important): 0.631032\t\ttrue label: 0\n",
      "   4822 |  sim: 0.627646\tsim(only important): 0.627646\t\ttrue label: 0\n",
      "  11458 |  sim: 0.622376\tsim(only important): 0.622376\t\ttrue label: 0\n",
      "  33907 |  sim: 0.621237\tsim(only important): 0.621237\t\ttrue label: 0\n",
      "  43158 |  sim: 0.615719\tsim(only important): 0.615719\t\ttrue label: 0\n",
      "  18564 |  sim: 0.613636\tsim(only important): 0.613636\t\ttrue label: 0\n",
      "\u001b[31m  43404 |  sim: 0.613636\tsim(only important): 0.613636\t\ttrue label: 1  *\u001b[0m\n",
      "  26719 |  sim: 0.611395\tsim(only important): 0.611395\t\ttrue label: 0\n",
      "  19333 |  sim: 0.611395\tsim(only important): 0.611395\t\ttrue label: 0\n",
      "\n",
      "testing Molecule:  14439\n",
      "  33963 |  sim: 0.879310\tsim(only important): 0.87931\t\ttrue label: 0\n",
      "  16025 |  sim: 0.840603\tsim(only important): 0.840603\t\ttrue label: 0\n",
      "  14813 |  sim: 0.823791\tsim(only important): 0.823791\t\ttrue label: 0\n",
      "  14469 |  sim: 0.786040\tsim(only important): 0.78604\t\ttrue label: 0\n",
      "     18 |  sim: 0.743625\tsim(only important): 0.743625\t\ttrue label: 0\n",
      "   1472 |  sim: 0.743625\tsim(only important): 0.743625\t\ttrue label: 0\n",
      "  15935 |  sim: 0.735070\tsim(only important): 0.73507\t\ttrue label: 0\n",
      "   1494 |  sim: 0.728918\tsim(only important): 0.728918\t\ttrue label: 0\n",
      "  10296 |  sim: 0.711967\tsim(only important): 0.711967\t\ttrue label: 0\n",
      "  43416 |  sim: 0.705772\tsim(only important): 0.705772\t\ttrue label: 0\n",
      "  10102 |  sim: 0.705772\tsim(only important): 0.705772\t\ttrue label: 0\n",
      "  14510 |  sim: 0.694048\tsim(only important): 0.694048\t\ttrue label: 0\n",
      "   8599 |  sim: 0.689359\tsim(only important): 0.689359\t\ttrue label: 0\n",
      "  14631 |  sim: 0.673730\tsim(only important): 0.67373\t\ttrue label: 0\n",
      "   7374 |  sim: 0.660895\tsim(only important): 0.660895\t\ttrue label: 0\n",
      "  29508 |  sim: 0.651202\tsim(only important): 0.651202\t\ttrue label: 0\n",
      "  39809 |  sim: 0.649223\tsim(only important): 0.649223\t\ttrue label: 0\n",
      "   5435 |  sim: 0.643530\tsim(only important): 0.64353\t\ttrue label: 0\n",
      "  23583 |  sim: 0.643268\tsim(only important): 0.643268\t\ttrue label: 0\n",
      "  43444 |  sim: 0.641665\tsim(only important): 0.641665\t\ttrue label: 0\n",
      "\n"
     ]
    }
   ],
   "source": [
    "test_list = [14427, 14429, 14436, 14437, 14439]\n",
    "print_list(test_list, X_val, X_train, y_train,\n",
    "           importance_index=importance_index, important_fetcher=1024)"
   ]
  },
  {
   "cell_type": "markdown",
   "metadata": {
    "deletable": true,
    "editable": true
   },
   "source": [
    "# Plot Distribution"
   ]
  },
  {
   "cell_type": "code",
   "execution_count": 12,
   "metadata": {
    "collapsed": false,
    "deletable": true,
    "editable": true
   },
   "outputs": [],
   "source": [
    "cts_label = y_test_pred_on_lightchem[:, 0]\n",
    "min_cts = int(min(cts_label))\n",
    "max_cts = int(max(cts_label)) + 1\n",
    "\n",
    "step = 0.01\n",
    "x_axis = np.arange(min_cts, max_cts+step, step) * 100\n",
    "mapper = dict()\n",
    "for cts in x_axis:\n",
    "    mapper[cts] = 0\n",
    "for cts in cts_label:\n",
    "    value = cts/step\n",
    "    index = int(value)\n",
    "    key = x_axis[index]\n",
    "    mapper[key] += 1"
   ]
  },
  {
   "cell_type": "code",
   "execution_count": 13,
   "metadata": {
    "collapsed": false,
    "deletable": true,
    "editable": true
   },
   "outputs": [
    {
     "data": {
      "text/plain": [
       "(0, 100)"
      ]
     },
     "execution_count": 13,
     "metadata": {},
     "output_type": "execute_result"
    },
    {
     "data": {
      "image/png": "[encoded data removed]",
      "text/plain": [
       "<matplotlib.figure.Figure at 0x7f3d472fe310>"
      ]
     },
     "metadata": {},
     "output_type": "display_data"
    }
   ],
   "source": [
    "%matplotlib inline\n",
    "import matplotlib\n",
    "matplotlib.rcParams['figure.figsize'] = (12.0, 10.0)\n",
    "\n",
    "x_axis = mapper.keys()\n",
    "y_axis = mapper.values()\n",
    "\n",
    "\n",
    "figure, axarr = plt.subplots(2, 1)\n",
    "axarr[0].bar(x_axis, y_axis, align='center', alpha=0.5)\n",
    "axarr[0].set_xlabel('predicted values (%)')\n",
    "axarr[0].set_ylabel('Number')\n",
    "axarr[0].set_title('complete distribution')\n",
    "plt.xlim(0, 100)\n",
    "\n",
    "axarr[1].bar(x_axis, y_axis, align='center', alpha=0.5)\n",
    "axarr[1].set_xlabel('predicted values (%)')\n",
    "axarr[1].set_ylabel('Number')\n",
    "axarr[1].set_title('focussed distribution')\n",
    "plt.ylim(0, 2000)\n",
    "plt.xlim(0, 100)"
   ]
  }
 ],
 "metadata": {
  "kernelspec": {
   "display_name": "Python 2",
   "language": "python",
   "name": "python2"
  },
  "language_info": {
   "codemirror_mode": {
    "name": "ipython",
    "version": 2
   },
   "file_extension": ".py",
   "mimetype": "text/x-python",
   "name": "python",
   "nbconvert_exporter": "python",
   "pygments_lexer": "ipython2",
   "version": "2.7.13"
  }
 },
 "nbformat": 4,
 "nbformat_minor": 0
}

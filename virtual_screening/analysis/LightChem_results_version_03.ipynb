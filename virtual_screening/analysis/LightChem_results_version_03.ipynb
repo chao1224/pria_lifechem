{
 "cells": [
  {
   "cell_type": "code",
   "execution_count": 1,
   "metadata": {},
   "outputs": [
    {
     "name": "stderr",
     "output_type": "stream",
     "text": [
      "/home/sliu426/anaconda2/lib/python2.7/site-packages/sklearn/cross_validation.py:41: DeprecationWarning: This module was deprecated in version 0.18 in favor of the model_selection module into which all the refactored classes and functions are moved. Also note that the interface of the new CV iterators are different from that of this module. This module will be removed in 0.20.\n",
      "  \"This module will be removed in 0.20.\", DeprecationWarning)\n",
      "Using TensorFlow backend.\n"
     ]
    }
   ],
   "source": [
    "from NN_Tree_Comparison import *\n",
    "\n",
    "%load_ext autoreload\n",
    "%autoreload 2\n",
    "from virtual_screening.function import *\n",
    "from virtual_screening.evaluation import *\n",
    "from virtual_screening.models.deep_classification import *"
   ]
  },
  {
   "cell_type": "markdown",
   "metadata": {},
   "source": [
    "# Plot Distribution"
   ]
  },
  {
   "cell_type": "code",
   "execution_count": 2,
   "metadata": {
    "collapsed": true
   },
   "outputs": [],
   "source": [
    "lightchem = np.load('../../../fold_0.npz')"
   ]
  },
  {
   "cell_type": "code",
   "execution_count": 3,
   "metadata": {},
   "outputs": [
    {
     "data": {
      "text/plain": [
       "['y_pred_on_val',\n",
       " 'labels',\n",
       " 'y_val',\n",
       " 'y_train',\n",
       " 'y_pred_on_test',\n",
       " 'y_pred_on_train',\n",
       " 'y_test']"
      ]
     },
     "execution_count": 3,
     "metadata": {},
     "output_type": "execute_result"
    }
   ],
   "source": [
    "lightchem.keys()"
   ]
  },
  {
   "cell_type": "code",
   "execution_count": 4,
   "metadata": {
    "collapsed": true
   },
   "outputs": [],
   "source": [
    "y_test_pred_on_lightchem = lightchem['y_pred_on_test']\n",
    "y_test_on_lightchem = lightchem['y_test']"
   ]
  },
  {
   "cell_type": "code",
   "execution_count": 5,
   "metadata": {
    "collapsed": true
   },
   "outputs": [],
   "source": [
    "cts_label = y_test_pred_on_lightchem[:, 0]\n",
    "min_cts = int(min(cts_label))\n",
    "max_cts = int(max(cts_label)) + 1\n",
    "\n",
    "step = 0.01\n",
    "x_axis = np.arange(min_cts, max_cts+step, step) * 100\n",
    "mapper = dict()\n",
    "for cts in x_axis:\n",
    "    mapper[cts] = 0\n",
    "for cts in cts_label:\n",
    "    value = cts/step\n",
    "    index = int(value)\n",
    "    key = x_axis[index]\n",
    "    mapper[key] += 1"
   ]
  },
  {
   "cell_type": "code",
   "execution_count": 6,
   "metadata": {},
   "outputs": [
    {
     "data": {
      "text/plain": [
       "(0, 100)"
      ]
     },
     "execution_count": 6,
     "metadata": {},
     "output_type": "execute_result"
    },
    {
     "data": {
      "image/png": "[encoded data removed]",
      "text/plain": [
       "<matplotlib.figure.Figure at 0x7f7c3a9e1490>"
      ]
     },
     "metadata": {},
     "output_type": "display_data"
    }
   ],
   "source": [
    "%matplotlib inline\n",
    "import matplotlib\n",
    "matplotlib.rcParams['figure.figsize'] = (12.0, 10.0)\n",
    "\n",
    "x_axis = mapper.keys()\n",
    "y_axis = mapper.values()\n",
    "\n",
    "\n",
    "figure, axarr = plt.subplots(2, 1)\n",
    "axarr[0].bar(x_axis, y_axis, align='center', alpha=0.5)\n",
    "axarr[0].set_xlabel('predicted values (%)')\n",
    "axarr[0].set_ylabel('Number')\n",
    "axarr[0].set_title('complete distribution')\n",
    "plt.xlim(0, 100)\n",
    "\n",
    "axarr[1].bar(x_axis, y_axis, align='center', alpha=0.5)\n",
    "axarr[1].set_xlabel('predicted values (%)')\n",
    "axarr[1].set_ylabel('Number')\n",
    "axarr[1].set_title('focussed distribution')\n",
    "plt.ylim(0, 200)\n",
    "plt.xlim(0, 100)"
   ]
  }
 ],
 "metadata": {
  "kernelspec": {
   "display_name": "Python 2",
   "language": "python",
   "name": "python2"
  },
  "language_info": {
   "codemirror_mode": {
    "name": "ipython",
    "version": 2
   },
   "file_extension": ".py",
   "mimetype": "text/x-python",
   "name": "python",
   "nbconvert_exporter": "python",
   "pygments_lexer": "ipython2",
   "version": "2.7.14"
  }
 },
 "nbformat": 4,
 "nbformat_minor": 1
}

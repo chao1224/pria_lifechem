{
 "cells": [
  {
   "cell_type": "code",
   "execution_count": 1,
   "metadata": {
    "collapsed": true,
    "deletable": true,
    "editable": true
   },
   "outputs": [],
   "source": [
    "import os\n",
    "from virtual_screening.function import read_merged_data\n",
    "from rdkit.Chem.Scaffolds import MurckoScaffold\n",
    "from rdkit import Chem"
   ]
  },
  {
   "cell_type": "code",
   "execution_count": 2,
   "metadata": {
    "collapsed": false,
    "deletable": true,
    "editable": true
   },
   "outputs": [],
   "source": [
    "data_path = '../../dataset/fixed_dataset/fold_5/file_{}.csv'\n",
    "k = 5\n",
    "\n",
    "output_file_list = [data_path.format(i) for i in range(k)]"
   ]
  },
  {
   "cell_type": "code",
   "execution_count": 3,
   "metadata": {
    "collapsed": false,
    "deletable": true,
    "editable": true
   },
   "outputs": [
    {
     "name": "stdout",
     "output_type": "stream",
     "text": [
      "(14486, 8)\n",
      "(14482, 8)\n",
      "(14484, 8)\n",
      "(14485, 8)\n",
      "(14486, 8)\n"
     ]
    }
   ],
   "source": [
    "data_pd_list = []\n",
    "for i in range(k):\n",
    "    temp_pd = read_merged_data(output_file_list[i:i+1])\n",
    "    print temp_pd.shape\n",
    "    data_pd_list.append(temp_pd)"
   ]
  },
  {
   "cell_type": "markdown",
   "metadata": {
    "deletable": true,
    "editable": true
   },
   "source": [
    "# Scaffolds of Keck_Pria_AS_Retest"
   ]
  },
  {
   "cell_type": "code",
   "execution_count": 4,
   "metadata": {
    "collapsed": true,
    "deletable": true,
    "editable": true
   },
   "outputs": [],
   "source": [
    "Target_name = 'Keck_Pria_AS_Retest'"
   ]
  },
  {
   "cell_type": "markdown",
   "metadata": {
    "deletable": true,
    "editable": true
   },
   "source": [
    "# Scaffold for fold 0"
   ]
  },
  {
   "cell_type": "code",
   "execution_count": 5,
   "metadata": {
    "collapsed": false,
    "deletable": true,
    "editable": true
   },
   "outputs": [
    {
     "name": "stdout",
     "output_type": "stream",
     "text": [
      "Original SMILES is \tc1ccc(cc1)N2C(=O)CC(C2)C(=O)Nc3nnc(o3)c4ccco4\n",
      "The Scaffold is \tO=C(Nc1nnc(-c2ccco2)o1)C1CC(=O)N(c2ccccc2)C1\n",
      "\n",
      "Original SMILES is \tc1cc2c(cc1C(CNC(=O)Nc3cc(cc(c3)OC)OC)N4CCCC4)CCCN2C\n",
      "The Scaffold is \tO=C(NCC(c1ccc2c(c1)CCCN2)N1CCCC1)Nc1ccccc1\n",
      "\n",
      "Original SMILES is \tc1ccc2c(c1)-c3c(sc(n3)N)CC2\n",
      "The Scaffold is \tc1ccc2c(c1)CCc1scnc1-2\n",
      "\n",
      "Original SMILES is \tc1cnc(cc1Br)C(=O)O\n",
      "The Scaffold is \tc1ccncc1\n",
      "\n",
      "Original SMILES is \tc1ccc(c(c1)CNC(=O)C(=O)NCCCn2ccnc2)Cl\n",
      "The Scaffold is \tO=C(NCCCn1ccnc1)C(=O)NCc1ccccc1\n",
      "\n",
      "Original SMILES is \tc1cc(c(c(c1)Cl)C(=O)N2CCN(CC2)c3nccn3c4ccc(cc4)C)F\n",
      "The Scaffold is \tO=C(c1ccccc1)N1CCN(c2nccn2-c2ccccc2)CC1\n",
      "\n",
      "Original SMILES is \tc1cc2c(c3c(cc2Cl)CN(CO3)CCCN4CCOCC4)nc1\n",
      "The Scaffold is \tc1cnc2c3c(ccc2c1)CN(CCCN1CCOCC1)CO3\n",
      "\n",
      "Original SMILES is \tc1cc2cccnc2c(c1)SC(c3ccc(c(c3)OC)OC)CC(=O)c4ccco4\n",
      "The Scaffold is \tO=C(CC(Sc1cccc2cccnc12)c1ccccc1)c1ccco1\n",
      "\n",
      "Original SMILES is \tc1cc2c(c3c(cc2Cl)CN(CO3)Cc4cccnc4)nc1\n",
      "The Scaffold is \tc1cncc(CN2COc3c(ccc4cccnc34)C2)c1\n",
      "\n",
      "Original SMILES is \tc1cc2c(c3c(cc2Cl)CN(CO3)CCC4=CCCCC4)nc1\n",
      "The Scaffold is \tC1=C(CCN2COc3c(ccc4cccnc34)C2)CCCC1\n",
      "\n",
      "Original SMILES is \tc1cc(cc2c1OCO2)OCC(CN)O\n",
      "The Scaffold is \tc1ccc2c(c1)OCO2\n",
      "\n",
      "Original SMILES is \tc1ccc(cc1)c2c3cc(ccc3n(c2c4ccccc4)CC(CNC5CCCC5)O)C\n",
      "The Scaffold is \tc1ccc(-c2c(-c3ccccc3)n(CCCNC3CCCC3)c3ccccc23)cc1\n",
      "\n",
      "Original SMILES is \tc1ccc2c(c1)CCCN2C(=O)CSc3ccc(nn3)c4ccccn4\n",
      "The Scaffold is \tO=C(CSc1ccc(-c2ccccn2)nn1)N1CCCc2ccccc21\n",
      "\n",
      "Original SMILES is \tc1cc(cc(c1)Cl)n2ccnc2N3CCN(CC3)C(=O)c4cc(cc(c4)OC)OC\n",
      "The Scaffold is \tO=C(c1ccccc1)N1CCN(c2nccn2-c2ccccc2)CC1\n",
      "\n",
      "Original SMILES is \tc1cc(cc(c1C)C)N2C(=O)CC(C2)C(=O)NCCn3ccnc3c4ncccn4\n",
      "The Scaffold is \tO=C(NCCn1ccnc1-c1ncccn1)C1CC(=O)N(c2ccccc2)C1\n",
      "\n",
      "Original SMILES is \tc1ccc(c(c1)NC(=O)NCCn2ccnc2c3ncccn3)OC\n",
      "The Scaffold is \tO=C(NCCn1ccnc1-c1ncccn1)Nc1ccccc1\n",
      "\n",
      "16 total smiles\n",
      "15 kinds of scaffolds\n"
     ]
    }
   ],
   "source": [
    "i = 0\n",
    "\n",
    "smiles_list = data_pd_list[i][data_pd_list[i][Target_name]==1]['SMILES'].tolist()\n",
    "scaffold_set = set()\n",
    "for smiles in smiles_list:\n",
    "    mol = Chem.MolFromSmiles(smiles)\n",
    "    core = MurckoScaffold.GetScaffoldForMol(mol)\n",
    "    scaffold = Chem.MolToSmiles(core)\n",
    "    scaffold_set.add(scaffold)\n",
    "    print 'Original SMILES is \\t{}'.format(smiles)\n",
    "    print 'The Scaffold is \\t{}'.format(scaffold)\n",
    "    print\n",
    "\n",
    "print '{} total smiles'.format(len(smiles_list))\n",
    "print '{} kinds of scaffolds'.format(len(scaffold_set))"
   ]
  },
  {
   "cell_type": "code",
   "execution_count": 6,
   "metadata": {
    "collapsed": false,
    "deletable": true,
    "editable": true
   },
   "outputs": [
    {
     "name": "stdout",
     "output_type": "stream",
     "text": [
      "Original SMILES is \tc1cc(cc2c1n(c(=NC(=O)C(C)C)s2)CCOCC)NC(=O)C\n",
      "The Scaffold is \tN=c1[nH]c2ccccc2s1\n",
      "\n",
      "Original SMILES is \tc1ccnc(c1)c2ccc(nn2)SCC(=O)NC3CCCCC3\n",
      "The Scaffold is \tO=C(CSc1ccc(-c2ccccn2)nn1)NC1CCCCC1\n",
      "\n",
      "Original SMILES is \tc1cc(cc(c1OCC(=O)Nc2nnc(o2)C3CCCO3)Cl)Cl\n",
      "The Scaffold is \tO=C(COc1ccccc1)Nc1nnc(C2CCCO2)o1\n",
      "\n",
      "Original SMILES is \tc1ccc(c(c1)OC)OCC(=O)NCCc2ccc3c(c2)CCCN3C\n",
      "The Scaffold is \tO=C(COc1ccccc1)NCCc1ccc2c(c1)CCCN2\n",
      "\n",
      "Original SMILES is \tc1cc2c(cc1C(=O)NCCO)sc(n2)N\n",
      "The Scaffold is \tc1ccc2scnc2c1\n",
      "\n",
      "Original SMILES is \tc1ccc(c(c1)C(=O)N2CCN(CC2)c3ccc(nn3)c4ccccn4)OCC\n",
      "The Scaffold is \tO=C(c1ccccc1)N1CCN(c2ccc(-c3ccccn3)nn2)CC1\n",
      "\n",
      "Original SMILES is \tc1ccc2c(c1)CCN2C(=O)CN3CCN(CC3)c4nccn4c5ccccc5F\n",
      "The Scaffold is \tO=C(CN1CCN(c2nccn2-c2ccccc2)CC1)N1CCc2ccccc21\n",
      "\n",
      "Original SMILES is \tc1cc(cc(c1C(=O)N2CCN(CC2)c3nccn3c4ccc(cc4)C)OC)OC\n",
      "The Scaffold is \tO=C(c1ccccc1)N1CCN(c2nccn2-c2ccccc2)CC1\n",
      "\n",
      "Original SMILES is \tc1cc(ccc1C)n2ccnc2N3CCN(CC3)C(=O)COc4ccc(cc4)OCC\n",
      "The Scaffold is \tO=C(COc1ccccc1)N1CCN(c2nccn2-c2ccccc2)CC1\n",
      "\n",
      "Original SMILES is \tc1ccnc(c1)CN2CN(C(=S)SC2)Cc3ccco3\n",
      "The Scaffold is \tS=C1SCN(Cc2ccccn2)CN1Cc1ccco1\n",
      "\n",
      "Original SMILES is \tc1cc(cc(c1)[N+](=O)[O-])C(=O)Oc2c(cc(c3c2nccc3)Cl)CN4CCOCC4\n",
      "The Scaffold is \tO=C(Oc1c(CN2CCOCC2)ccc2cccnc12)c1ccccc1\n",
      "\n",
      "Original SMILES is \tc1cc(ncc1O)C(=O)O\n",
      "The Scaffold is \tc1ccncc1\n",
      "\n",
      "Original SMILES is \tc1ccc(c(c1)NC(=O)CN2CCN(CC2)c3nccn3c4cccc(c4)Cl)OCC\n",
      "The Scaffold is \tO=C(CN1CCN(c2nccn2-c2ccccc2)CC1)Nc1ccccc1\n",
      "\n",
      "Original SMILES is \tc1ccc2c(c1)n(c(=O)o2)CC(=O)NCCn3ccnc3c4ncccn4\n",
      "The Scaffold is \tO=C(Cn1c(=O)oc2ccccc21)NCCn1ccnc1-c1ncccn1\n",
      "\n",
      "Original SMILES is \tc1ccc(cc1)C2(CCOCC2)C(=O)NCCn3ccnc3c4ncccn4\n",
      "The Scaffold is \tO=C(NCCn1ccnc1-c1ncccn1)C1(c2ccccc2)CCOCC1\n",
      "\n",
      "15 total smiles\n",
      "15 kinds of scaffolds\n"
     ]
    }
   ],
   "source": [
    "i = 1\n",
    "\n",
    "smiles_list = data_pd_list[i][data_pd_list[i][Target_name]==1]['SMILES'].tolist()\n",
    "scaffold_set = set()\n",
    "for smiles in smiles_list:\n",
    "    mol = Chem.MolFromSmiles(smiles)\n",
    "    core = MurckoScaffold.GetScaffoldForMol(mol)\n",
    "    scaffold = Chem.MolToSmiles(core)\n",
    "    scaffold_set.add(scaffold)\n",
    "    print 'Original SMILES is \\t{}'.format(smiles)\n",
    "    print 'The Scaffold is \\t{}'.format(scaffold)\n",
    "    print\n",
    "\n",
    "print '{} total smiles'.format(len(smiles_list))\n",
    "print '{} kinds of scaffolds'.format(len(scaffold_set))"
   ]
  },
  {
   "cell_type": "code",
   "execution_count": 7,
   "metadata": {
    "collapsed": false,
    "deletable": true,
    "editable": true
   },
   "outputs": [
    {
     "name": "stdout",
     "output_type": "stream",
     "text": [
      "Original SMILES is \tc1ccnc(c1)c2ccc(nn2)N3CCN(CC3)C(=O)c4cccc(c4OC)OC\n",
      "The Scaffold is \tO=C(c1ccccc1)N1CCN(c2ccc(-c3ccccn3)nn2)CC1\n",
      "\n",
      "Original SMILES is \tc1ccc2c(c1)OCC(O2)C(=O)Nc3nnc(o3)c4cc(nn4C)C\n",
      "The Scaffold is \tO=C(Nc1nnc(-c2ccn[nH]2)o1)C1COc2ccccc2O1\n",
      "\n",
      "Original SMILES is \tc1cc(sc1)Cc2nnc(o2)NC(=O)c3ccc(cc3)S(=O)(=O)C\n",
      "The Scaffold is \tO=C(Nc1nnc(Cc2cccs2)o1)c1ccccc1\n",
      "\n",
      "Original SMILES is \tc1cc2cccnc2c(c1)OC(=O)c3cc4cc(cc(c4oc3=O)OC)Br\n",
      "The Scaffold is \tO=C(Oc1cccc2cccnc12)c1cc2ccccc2oc1=O\n",
      "\n",
      "Original SMILES is \tc1ccnc(c1)c2nnc3n2nc(cc3)SC(C(=O)O)CCCC\n",
      "The Scaffold is \tc1ccc(-c2nnc3cccnn23)nc1\n",
      "\n",
      "Original SMILES is \tc1cc2c(cc1C(=O)[O-])sc(n2)N\n",
      "The Scaffold is \tc1ccc2scnc2c1\n",
      "\n",
      "Original SMILES is \tc1ccn(c1)c2ccnc(c2)C(=O)O\n",
      "The Scaffold is \tc1ccn(-c2ccncc2)c1\n",
      "\n",
      "Original SMILES is \tc1ccnc(c1)C(=O)Nc2nncs2\n",
      "The Scaffold is \tO=C(Nc1nncs1)c1ccccn1\n",
      "\n",
      "Original SMILES is \tc1ccc(c(c1)C(=O)N2CCN(CC2)c3ccc(nn3)c4ccccn4)F\n",
      "The Scaffold is \tO=C(c1ccccc1)N1CCN(c2ccc(-c3ccccn3)nn2)CC1\n",
      "\n",
      "Original SMILES is \tC(#N)c1c(c(c(nc1NC(=O)CCC)S)C#N)c2ccc(cc2)OC(=O)CCC\n",
      "The Scaffold is \tc1ccc(-c2ccncc2)cc1\n",
      "\n",
      "Original SMILES is \tc1cc2c(c(ccc2[S-](=O)([O-])O)O)nc1\n",
      "The Scaffold is \tc1ccc2ncccc2c1\n",
      "\n",
      "Original SMILES is \tC1(=NN2C(=NNC2(C)CCC=C)NC1=O)C\n",
      "The Scaffold is \tO=C1C=NN2CNN=C2N1\n",
      "\n",
      "Original SMILES is \tc1ccc(c(c1)NC(=O)CSc2ccc(nn2)c3ccccn3)OC\n",
      "The Scaffold is \tO=C(CSc1ccc(-c2ccccn2)nn1)Nc1ccccc1\n",
      "\n",
      "Original SMILES is \tc1cnn(c1)c2ccnc(c2)C(=O)O\n",
      "The Scaffold is \tc1cnn(-c2ccncc2)c1\n",
      "\n",
      "Original SMILES is \tc1cc(sc1S(=O)(=O)NCCn2ccnc2c3ncccn3)Cl\n",
      "The Scaffold is \tO=S(=O)(NCCn1ccnc1-c1ncccn1)c1cccs1\n",
      "\n",
      "Original SMILES is \tc1cc(sc1)NC(=O)NCCn2ccnc2c3ncccn3\n",
      "The Scaffold is \tO=C(NCCn1ccnc1-c1ncccn1)Nc1cccs1\n",
      "\n",
      "16 total smiles\n",
      "15 kinds of scaffolds\n"
     ]
    }
   ],
   "source": [
    "i = 2\n",
    "\n",
    "smiles_list = data_pd_list[i][data_pd_list[i][Target_name]==1]['SMILES'].tolist()\n",
    "scaffold_set = set()\n",
    "for smiles in smiles_list:\n",
    "    mol = Chem.MolFromSmiles(smiles)\n",
    "    core = MurckoScaffold.GetScaffoldForMol(mol)\n",
    "    scaffold = Chem.MolToSmiles(core)\n",
    "    scaffold_set.add(scaffold)\n",
    "    print 'Original SMILES is \\t{}'.format(smiles)\n",
    "    print 'The Scaffold is \\t{}'.format(scaffold)\n",
    "    print\n",
    "\n",
    "print '{} total smiles'.format(len(smiles_list))\n",
    "print '{} kinds of scaffolds'.format(len(scaffold_set))"
   ]
  },
  {
   "cell_type": "code",
   "execution_count": 8,
   "metadata": {
    "collapsed": false,
    "deletable": true,
    "editable": true
   },
   "outputs": [
    {
     "name": "stdout",
     "output_type": "stream",
     "text": [
      "Original SMILES is \tc1ccnc(c1)c2nnc3n2nc(cc3)c4ccc(cc4)NC(=O)c5cccnc5Cl\n",
      "The Scaffold is \tO=C(Nc1ccc(-c2ccc3nnc(-c4ccccn4)n3n2)cc1)c1cccnc1\n",
      "\n",
      "Original SMILES is \tc1cc(ccc1N2C(=O)CC(C2)C(=O)Nc3nnc(o3)c4ccnn4C)OC\n",
      "The Scaffold is \tO=C(Nc1nnc(-c2ccn[nH]2)o1)C1CC(=O)N(c2ccccc2)C1\n",
      "\n",
      "Original SMILES is \tc1cnc(cc1Cl)C(=O)O\n",
      "The Scaffold is \tc1ccncc1\n",
      "\n",
      "Original SMILES is \tc1cnc(cc1I)C(=O)O\n",
      "The Scaffold is \tc1ccncc1\n",
      "\n",
      "Original SMILES is \tc1ccc2c(c1)OCC(O2)C(=O)Nc3nnc(o3)C4CCCO4\n",
      "The Scaffold is \tO=C(Nc1nnc(C2CCCO2)o1)C1COc2ccccc2O1\n",
      "\n",
      "Original SMILES is \tc1ccc(cc1)C(c2ccccc2)C(=O)Nc3nnc(o3)C4CCCO4\n",
      "The Scaffold is \tO=C(Nc1nnc(C2CCCO2)o1)C(c1ccccc1)c1ccccc1\n",
      "\n",
      "Original SMILES is \tc1ccc(c(c1)C(=C2C=C(C(=O)C=C2C)C(C)C)c3cc(c(cc3C)O)C(C)C)[S-](=O)([O-])O\n",
      "The Scaffold is \tO=C1C=CC(=C(c2ccccc2)c2ccccc2)C=C1\n",
      "\n",
      "Original SMILES is \tc1ccnc(c1)c2csc(n2)N\n",
      "The Scaffold is \tc1ccc(-c2cscn2)nc1\n",
      "\n",
      "Original SMILES is \tc1ccnc(c1)c2nnn[nH]2\n",
      "The Scaffold is \tc1ccc(-c2nnn[nH]2)nc1\n",
      "\n",
      "Original SMILES is \tc1ccc(cc1)C(=NNC(=S)SC)c2ccccn2\n",
      "The Scaffold is \tN=C(c1ccccc1)c1ccccn1\n",
      "\n",
      "Original SMILES is \tc1cc(c(cc1C(=O)N2CCN(CC2)c3nccn3c4ccc(cc4)C)C)C\n",
      "The Scaffold is \tO=C(c1ccccc1)N1CCN(c2nccn2-c2ccccc2)CC1\n",
      "\n",
      "Original SMILES is \tc1cc2c(c(c(cc2Cl)CN3CCOCC3)OC(=O)c4ccco4)nc1\n",
      "The Scaffold is \tO=C(Oc1c(CN2CCOCC2)ccc2cccnc12)c1ccco1\n",
      "\n",
      "Original SMILES is \tc1cnc(cc1n2ccnc2)C(=O)O\n",
      "The Scaffold is \tc1cc(-n2ccnc2)ccn1\n",
      "\n",
      "Original SMILES is \tc1ccc(c(c1)F)S(=O)(=O)NCCc2ccc3c(c2)CCCN3CCC\n",
      "The Scaffold is \tO=S(=O)(NCCc1ccc2c(c1)CCCN2)c1ccccc1\n",
      "\n",
      "Original SMILES is \tc1ccnc(c1)c2ccc(nn2)SCC(=O)NCc3ccco3\n",
      "The Scaffold is \tO=C(CSc1ccc(-c2ccccn2)nn1)NCc1ccco1\n",
      "\n",
      "Original SMILES is \tc1ccc(c(c1)C(=O)NCCOc2ccc(nn2)c3ccccn3)C(F)(F)F\n",
      "The Scaffold is \tO=C(NCCOc1ccc(-c2ccccn2)nn1)c1ccccc1\n",
      "\n",
      "16 total smiles\n",
      "15 kinds of scaffolds\n"
     ]
    }
   ],
   "source": [
    "i = 3\n",
    "\n",
    "smiles_list = data_pd_list[i][data_pd_list[i][Target_name]==1]['SMILES'].tolist()\n",
    "scaffold_set = set()\n",
    "for smiles in smiles_list:\n",
    "    mol = Chem.MolFromSmiles(smiles)\n",
    "    core = MurckoScaffold.GetScaffoldForMol(mol)\n",
    "    scaffold = Chem.MolToSmiles(core)\n",
    "    scaffold_set.add(scaffold)\n",
    "    print 'Original SMILES is \\t{}'.format(smiles)\n",
    "    print 'The Scaffold is \\t{}'.format(scaffold)\n",
    "    print\n",
    "\n",
    "print '{} total smiles'.format(len(smiles_list))\n",
    "print '{} kinds of scaffolds'.format(len(scaffold_set))"
   ]
  },
  {
   "cell_type": "code",
   "execution_count": 9,
   "metadata": {
    "collapsed": false,
    "deletable": true,
    "editable": true
   },
   "outputs": [
    {
     "name": "stdout",
     "output_type": "stream",
     "text": [
      "Original SMILES is \tc1ccc(cc1)CC2C(=O)NC(=S)N2S(=O)(=O)c3c(cccc3Cl)Cl\n",
      "The Scaffold is \tO=C1NC(=S)N(S(=O)(=O)c2ccccc2)C1Cc1ccccc1\n",
      "\n",
      "Original SMILES is \tc1cc(sc1)Cc2nnc(o2)NC(=O)c3ccc(cc3)S(=O)(=O)N4CCOCC4\n",
      "The Scaffold is \tO=C(Nc1nnc(Cc2cccs2)o1)c1ccc(S(=O)(=O)N2CCOCC2)cc1\n",
      "\n",
      "Original SMILES is \tc1ccnc(c1)c2csc(n2)NC(=O)c3ccn(n3)CC\n",
      "The Scaffold is \tO=C(Nc1nc(-c2ccccn2)cs1)c1cc[nH]n1\n",
      "\n",
      "Original SMILES is \tc1ccnc(c1)c2nnc3n2nc(cc3)SCC(=O)OCC\n",
      "The Scaffold is \tc1ccc(-c2nnc3cccnn23)nc1\n",
      "\n",
      "Original SMILES is \tc1cc(cc(c1)N)c2cn3c(n2)c(ccc3)C\n",
      "The Scaffold is \tc1ccc(-c2cn3ccccc3n2)cc1\n",
      "\n",
      "Original SMILES is \tc1ccc(cc1)CNC(=O)CSc2ccc(nn2)c3ccccn3\n",
      "The Scaffold is \tO=C(CSc1ccc(-c2ccccn2)nn1)NCc1ccccc1\n",
      "\n",
      "Original SMILES is \tc1cc(c2c(c1)sc(n2)N(C(=O)c3ccco3)CCCn4ccnc4)C\n",
      "The Scaffold is \tO=C(c1ccco1)N(CCCn1ccnc1)c1nc2ccccc2s1\n",
      "\n",
      "Original SMILES is \tc1ccc(c(c1)C(=O)Nc2nc(cs2)c3ccccn3)[N+](=O)[O-]\n",
      "The Scaffold is \tO=C(Nc1nc(-c2ccccn2)cs1)c1ccccc1\n",
      "\n",
      "Original SMILES is \tC(#N)C(=C1C=CC=CN1C)c2nc(cs2)c3ccccc3\n",
      "The Scaffold is \tC1=CNC(=Cc2nc(-c3ccccc3)cs2)C=C1\n",
      "\n",
      "Original SMILES is \tC1(=C(C[S-](=O)(C1)[O-])Cl)SC(=S)N(CC)CC\n",
      "The Scaffold is \tO=[SH-]1CC=CC1\n",
      "\n",
      "Original SMILES is \tc1cc2c(c(c(cc2Cl)CN3CCOCC3)OC(=O)c4cccs4)nc1\n",
      "The Scaffold is \tO=C(Oc1c(CN2CCOCC2)ccc2cccnc12)c1cccs1\n",
      "\n",
      "Original SMILES is \tc1cc(nnc1C(=O)Nc2nc(c(s2)C(=O)N(C)C)C)N3CCCCC3\n",
      "The Scaffold is \tO=C(Nc1nccs1)c1ccc(N2CCCCC2)nn1\n",
      "\n",
      "Original SMILES is \tc1ccnc(c1)Nc2ccc(nn2)N3CCNCC3\n",
      "The Scaffold is \tc1ccc(Nc2ccc(N3CCNCC3)nn2)nc1\n",
      "\n",
      "Original SMILES is \tc1ccc(cc1)CSCC(=O)NCCn2ccnc2c3ncccn3\n",
      "The Scaffold is \tO=C(CSCc1ccccc1)NCCn1ccnc1-c1ncccn1\n",
      "\n",
      "Original SMILES is \tc1cc(sc1)CNC(=O)NCCn2ccnc2c3ncccn3\n",
      "The Scaffold is \tO=C(NCCn1ccnc1-c1ncccn1)NCc1cccs1\n",
      "\n",
      "Original SMILES is \tc1ccc(c(c1)c2c(c(on2)C)C(=O)NCCn3c4c(cn3)c(nc(n4)SCC)NCCC)Cl\n",
      "The Scaffold is \tO=C(NCCn1ncc2cncnc21)c1conc1-c1ccccc1\n",
      "\n",
      "16 total smiles\n",
      "16 kinds of scaffolds\n"
     ]
    }
   ],
   "source": [
    "i = 4\n",
    "\n",
    "smiles_list = data_pd_list[i][data_pd_list[i][Target_name]==1]['SMILES'].tolist()\n",
    "scaffold_set = set()\n",
    "for smiles in smiles_list:\n",
    "    mol = Chem.MolFromSmiles(smiles)\n",
    "    core = MurckoScaffold.GetScaffoldForMol(mol)\n",
    "    scaffold = Chem.MolToSmiles(core)\n",
    "    scaffold_set.add(scaffold)\n",
    "    print 'Original SMILES is \\t{}'.format(smiles)\n",
    "    print 'The Scaffold is \\t{}'.format(scaffold)\n",
    "    print\n",
    "\n",
    "print '{} total smiles'.format(len(smiles_list))\n",
    "print '{} kinds of scaffolds'.format(len(scaffold_set))"
   ]
  }
 ],
 "metadata": {
  "kernelspec": {
   "display_name": "Python 2",
   "language": "python",
   "name": "python2"
  },
  "language_info": {
   "codemirror_mode": {
    "name": "ipython",
    "version": 2
   },
   "file_extension": ".py",
   "mimetype": "text/x-python",
   "name": "python",
   "nbconvert_exporter": "python",
   "pygments_lexer": "ipython2",
   "version": "2.7.13"
  }
 },
 "nbformat": 4,
 "nbformat_minor": 0
}

{
 "cells": [
  {
   "cell_type": "code",
   "execution_count": 1,
   "metadata": {},
   "outputs": [
    {
     "name": "stdout",
     "output_type": "stream",
     "text": [
      "done\n"
     ]
    },
    {
     "name": "stderr",
     "output_type": "stream",
     "text": [
      "/var/lib/condor/execute/slot1/dir_4345/anaconda/envs/pria/lib/python2.7/site-packages/sklearn/cross_validation.py:44: DeprecationWarning: This module was deprecated in version 0.18 in favor of the model_selection module into which all the refactored classes and functions are moved. Also note that the interface of the new CV iterators are different from that of this module. This module will be removed in 0.20.\n",
      "  \"This module will be removed in 0.20.\", DeprecationWarning)\n",
      "/var/lib/condor/execute/slot1/dir_4345/anaconda/envs/pria/lib/python2.7/site-packages/sklearn/grid_search.py:43: DeprecationWarning: This module was deprecated in version 0.18 in favor of the model_selection module into which all the refactored classes and functions are moved. This module will be removed in 0.20.\n",
      "  DeprecationWarning)\n"
     ]
    }
   ],
   "source": [
    "import argparse\n",
    "import pandas as pd\n",
    "import csv\n",
    "import numpy as np\n",
    "import json\n",
    "import sys\n",
    "sys.path.insert(0, '..')  # Add path from parent folder\n",
    "sys.path.insert(0, '.')  # Add path from current folder\n",
    "from evaluation import *\n",
    "from function import *\n",
    "from sklearn.ensemble import RandomForestClassifier, RandomForestRegressor\n",
    "from sklearn.externals import joblib\n",
    "from sklearn.grid_search import ParameterGrid\n",
    "import copy\n",
    "\n",
    "rnd_state=1337\n",
    "np.random.seed(seed=rnd_state)\n",
    "\n",
    "class SKLearn_RandomForest:\n",
    "    def __init__(self, conf):\n",
    "        self.conf = conf\n",
    "        self.input_layer_dimension = 1024\n",
    "        self.label_names = conf['label_names']\n",
    "        self.EF_ratio_list = conf['enrichment_factor']['ratio_list']\n",
    "        \n",
    "        if os.environ.get('process') == None:\n",
    "            self.process_id = 0\n",
    "        else:\n",
    "            self.process_id = int(os.environ.get('process'))        \n",
    "        if self.process_id == None:\n",
    "            print('Error: No environemnt variable process exists.')\n",
    "            return \n",
    "        else:\n",
    "            print('process id:', self.process_id)\n",
    "        \n",
    "        cnt = 0\n",
    "        for param in ParameterGrid(conf['params']):\n",
    "            if cnt != self.process_id:\n",
    "                cnt += 1\n",
    "                continue\n",
    "            \n",
    "            self.param = param\n",
    "            param['n_estimators'] = 4000\n",
    "            # param['n_estimators'] = 100\n",
    "            param['max_features'] = 'log2'\n",
    "            param['min_samples_leaf'] = 1\n",
    "            param['class_weight'] = 'balanced'\n",
    "            \n",
    "            self.n_estimators = param['n_estimators']\n",
    "            self.max_features = param['max_features']\n",
    "            self.min_samples_leaf = param['min_samples_leaf']\n",
    "            self.class_weight = param['class_weight']\n",
    "        \n",
    "            print('Testing set:', param)            \n",
    "            break\n",
    "        \n",
    "        if self.max_features == \"None\":\n",
    "            self.max_features = None\n",
    "        if self.class_weight == \"None\":\n",
    "            self.class_weight = None\n",
    "        \n",
    "        self.model_dict = {}\n",
    "        self.useVal = False\n",
    "        return\n",
    "    \n",
    "    @property    \n",
    "    def useVal(self):\n",
    "        return self.useVal\n",
    "        \n",
    "    \n",
    "    def get_prediction_info(self, X, y_true):\n",
    "        y_pred = np.zeros(shape=y_true.shape)\n",
    "        \n",
    "        \n",
    "        for i, label in zip(range(len(self.label_names)), self.label_names):     \n",
    "            model = self.model_dict[label]\n",
    "            \n",
    "            y_true[np.where(np.isnan(y_true[:,i]))[0],i] = -1\n",
    "            if i in [0,1,2]:                \n",
    "                y_pred[:,i] =  model.predict_proba(X)[:,1]\n",
    "        \n",
    "        return y_true, y_pred\n",
    "        \n",
    "    def setup_model(self):\n",
    "        for i in [0,1,2]:\n",
    "            self.model_dict[self.label_names[i]] = RandomForestClassifier(n_estimators=self.n_estimators, \n",
    "                                           max_features=self.max_features, \n",
    "                                           min_samples_leaf=self.min_samples_leaf, \n",
    "                                           n_jobs=-1, \n",
    "                                           class_weight=self.class_weight,\n",
    "                                           random_state=rnd_state,\n",
    "                                           oob_score=False, \n",
    "                                           verbose=1)\n",
    "        return\n",
    "        \n",
    "        \n",
    "    def train_and_predict(self,\n",
    "                          X_train, y_train,\n",
    "                          X_val, y_val,\n",
    "                          X_test, y_test,\n",
    "                          model_file):\n",
    "                              \n",
    "        self.setup_model()\n",
    "        \n",
    "        if not self.useVal:\n",
    "            X_train = np.concatenate((X_train, X_val))\n",
    "            y_train = np.concatenate((y_train, y_val))\n",
    "        \n",
    "        p = np.random.permutation(len(X_train))\n",
    "        X_train = X_train[p,:]\n",
    "        y_train = y_train[p,:]\n",
    "        \n",
    "        for i, label in zip(range(len(self.label_names)), self.label_names):\n",
    "            print 'testing {}, {}'.format(i, label)\n",
    "            y = y_train[:,i]\n",
    "            indexes = np.where(np.isnan(y))[0]\n",
    "                \n",
    "            y = np.delete(y, indexes, axis=0)\n",
    "            X = np.delete(X_train, indexes, axis=0)\n",
    "            self.model_dict[label].fit(X, y)\n",
    "            \n",
    "            #joblib.dump(self.model_dict[label], model_file+'_'+label+'.pkl', compress = 1)\n",
    "        return\n",
    "\n",
    "    def predict_with_existing(self,\n",
    "                              X_train, y_train,\n",
    "                              X_val, y_val,\n",
    "                              X_test, y_test):  \n",
    "        if self.useVal:\n",
    "            y_val, y_pred_on_val = self.get_prediction_info(X_val, y_val)\n",
    "        else:                          \n",
    "            X_train = np.concatenate((X_train, X_val))\n",
    "            y_train = np.concatenate((y_train, y_val))\n",
    "        \n",
    "        y_train, y_pred_on_train = self.get_prediction_info(X_train, y_train)        \n",
    "        y_test, y_pred_on_test = self.get_prediction_info(X_test, y_test)\n",
    "        print y_train.shape\n",
    "        print y_pred_on_train.shape\n",
    "        print y_test.shape\n",
    "        print y_pred_on_test.shape\n",
    "        \n",
    "        print\n",
    "        print('train precision: {}'.format(precision_auc_multi(y_train, y_pred_on_train, range(y_train.shape[1]), np.mean)))\n",
    "        print('train roc: {}'.format(roc_auc_multi(y_train, y_pred_on_train, range(y_train.shape[1]), np.mean)))\n",
    "        print('train bedroc: {}'.format(bedroc_auc_multi(y_train, y_pred_on_train, range(y_train.shape[1]), np.mean)))\n",
    "        print\n",
    "      \n",
    "        if self.useVal:\n",
    "            print('val precision: {}'.format(precision_auc_multi(y_val, y_pred_on_val, range(y_val.shape[1]), np.mean)))\n",
    "            print('val roc: {}'.format(roc_auc_multi(y_val, y_pred_on_val, range(y_val.shape[1]), np.mean)))\n",
    "            print('val bedroc: {}'.format(bedroc_auc_multi(y_val, y_pred_on_val, range(y_val.shape[1]), np.mean)))\n",
    "            print\n",
    "        print('test precision: {}'.format(precision_auc_multi(y_test, y_pred_on_test, range(y_test.shape[1]), np.mean)))\n",
    "        print('test roc: {}'.format(roc_auc_multi(y_test, y_pred_on_test, range(y_test.shape[1]), np.mean)))\n",
    "        print('test bedroc: {}'.format(bedroc_auc_multi(y_test, y_pred_on_test, range(y_test.shape[1]), np.mean)))\n",
    "        print\n",
    "        \n",
    "        print 'Below is for Keck_Pria_AS_Retest'\n",
    "        print\n",
    "        print('train precision: {}'.format(precision_auc_multi(y_train, y_pred_on_train, range(1), np.mean)))\n",
    "        print('train roc: {}'.format(roc_auc_multi(y_train, y_pred_on_train, range(1), np.mean)))\n",
    "        print('train bedroc: {}'.format(bedroc_auc_multi(y_train, y_pred_on_train, range(1), np.mean)))\n",
    "        print\n",
    "        print('test precision: {}'.format(precision_auc_multi(y_test, y_pred_on_test, range(1), np.mean)))\n",
    "        print('test roc: {}'.format(roc_auc_multi(y_test, y_pred_on_test, range(1), np.mean)))\n",
    "        print('test bedroc: {}'.format(bedroc_auc_multi(y_test, y_pred_on_test, range(1), np.mean)))\n",
    "        print\n",
    "        \n",
    "        '''\n",
    "        label_list = ['Keck_Pria_AS_Retest', 'Keck_Pria_FP_data', \n",
    "                      'Keck_Pria_Continuous_AS_Retest', 'Keck_Pria_Continuous_FP_data',\n",
    "                      'Keck_RMI_cdd', 'FP counts % inhibition']\n",
    "        label_list = ['Keck_Pria_AS_Retest', 'Keck_Pria_FP_data', \n",
    "                      'Keck_Pria_Continuous_AS_Retest', 'Keck_Pria_Continuous_FP_data',\n",
    "                      'Keck_RMI_cdd', 'FP counts % inhibition']\n",
    "        nef_auc_mean = np.mean(np.array(nef_auc(y_train, y_pred_on_train, self.EF_ratio_list, label_list))) \n",
    "        print('train nef auc: {}'.format(nef_auc_mean))\n",
    "        if self.useVal:\n",
    "            nef_auc_mean = np.mean(np.array(nef_auc(y_val, y_pred_on_val, self.EF_ratio_list, label_list))) \n",
    "            print('val nef auc: {}'.format(nef_auc_mean))\n",
    "        nef_auc_mean = np.mean(np.array(nef_auc(y_test, y_pred_on_test, self.EF_ratio_list, label_list))) \n",
    "        print('test nef auc: {}'.format(nef_auc_mean))\n",
    "        '''\n",
    "        return\n",
    "\n",
    "   \n",
    "    def save_model_params(self, config_csv_file):      \n",
    "        data = str(self.param)\n",
    "        with open(config_csv_file, 'w') as csvfile:\n",
    "            csvfile.write(data)\n",
    "        return\n",
    "print 'done'        "
   ]
  },
  {
   "cell_type": "markdown",
   "metadata": {},
   "source": [
    "# Test 1"
   ]
  },
  {
   "cell_type": "code",
   "execution_count": 2,
   "metadata": {},
   "outputs": [
    {
     "name": "stdout",
     "output_type": "stream",
     "text": [
      "label_name_list  [u'Keck_Pria_AS_Retest', u'Keck_Pria_FP_data', u'Keck_RMI_cdd']\n",
      "done\n"
     ]
    }
   ],
   "source": [
    "config_json_file = '../../json/sklearn_randomforest.json'\n",
    "with open(config_json_file, 'r') as f:\n",
    "    conf = json.load(f)\n",
    "        \n",
    "label_name_list = conf['label_names']\n",
    "print 'label_name_list ', label_name_list\n",
    "\n",
    "# specify dataset\n",
    "k = 5\n",
    "directory = '../../dataset/fixed_dataset/fold_{}/'.format(k)\n",
    "file_list = []\n",
    "for i in range(k):\n",
    "    file_list.append('file_{}.csv'.format(i))\n",
    "\n",
    "labels = label_name_list\n",
    "\n",
    "output_file_list = [directory + f_ for f_ in file_list]\n",
    "train_pd = read_merged_data(output_file_list[0:3])\n",
    "val_pd = read_merged_data([output_file_list[3]])\n",
    "test_pd = read_merged_data([output_file_list[4]])\n",
    "\n",
    "X_train, y_train = extract_feature_and_label(train_pd,\n",
    "                                             feature_name='Fingerprints',\n",
    "                                             label_name_list=labels)\n",
    "        \n",
    "X_val, y_val = extract_feature_and_label(val_pd,\n",
    "                                         feature_name='Fingerprints',\n",
    "                                         label_name_list=labels)\n",
    "                                                   \n",
    "X_test, y_test = extract_feature_and_label(test_pd,\n",
    "                                           feature_name='Fingerprints',\n",
    "                                           label_name_list=labels)\n",
    "\n",
    "print 'done'"
   ]
  },
  {
   "cell_type": "code",
   "execution_count": 3,
   "metadata": {},
   "outputs": [
    {
     "name": "stdout",
     "output_type": "stream",
     "text": [
      "('process id:', 3)\n",
      "('Testing set:', {u'max_features': 'log2', u'n_estimators': 4000, u'min_samples_leaf': 1, u'class_weight': 'balanced'})\n"
     ]
    }
   ],
   "source": [
    "task = SKLearn_RandomForest(conf=conf)"
   ]
  },
  {
   "cell_type": "code",
   "execution_count": 4,
   "metadata": {},
   "outputs": [
    {
     "name": "stdout",
     "output_type": "stream",
     "text": [
      "testing 0, Keck_Pria_AS_Retest\n"
     ]
    },
    {
     "name": "stderr",
     "output_type": "stream",
     "text": [
      "[Parallel(n_jobs=-1)]: Done 136 tasks      | elapsed:    1.5s\n",
      "[Parallel(n_jobs=-1)]: Done 386 tasks      | elapsed:    4.0s\n",
      "[Parallel(n_jobs=-1)]: Done 736 tasks      | elapsed:    7.4s\n",
      "[Parallel(n_jobs=-1)]: Done 1186 tasks      | elapsed:   11.9s\n",
      "[Parallel(n_jobs=-1)]: Done 1736 tasks      | elapsed:   17.7s\n",
      "[Parallel(n_jobs=-1)]: Done 2386 tasks      | elapsed:   24.6s\n",
      "[Parallel(n_jobs=-1)]: Done 3136 tasks      | elapsed:   33.0s\n",
      "[Parallel(n_jobs=-1)]: Done 4000 out of 4000 | elapsed:   42.9s finished\n"
     ]
    },
    {
     "name": "stdout",
     "output_type": "stream",
     "text": [
      "testing 1, Keck_Pria_FP_data\n"
     ]
    },
    {
     "name": "stderr",
     "output_type": "stream",
     "text": [
      "[Parallel(n_jobs=-1)]: Done 136 tasks      | elapsed:    1.2s\n",
      "[Parallel(n_jobs=-1)]: Done 386 tasks      | elapsed:    3.0s\n",
      "[Parallel(n_jobs=-1)]: Done 736 tasks      | elapsed:    5.8s\n",
      "[Parallel(n_jobs=-1)]: Done 1186 tasks      | elapsed:    9.7s\n",
      "[Parallel(n_jobs=-1)]: Done 1736 tasks      | elapsed:   14.9s\n",
      "[Parallel(n_jobs=-1)]: Done 2386 tasks      | elapsed:   21.1s\n",
      "[Parallel(n_jobs=-1)]: Done 3136 tasks      | elapsed:   28.4s\n",
      "[Parallel(n_jobs=-1)]: Done 4000 out of 4000 | elapsed:   36.9s finished\n"
     ]
    },
    {
     "name": "stdout",
     "output_type": "stream",
     "text": [
      "testing 2, Keck_RMI_cdd\n"
     ]
    },
    {
     "name": "stderr",
     "output_type": "stream",
     "text": [
      "[Parallel(n_jobs=-1)]: Done 136 tasks      | elapsed:    1.4s\n",
      "[Parallel(n_jobs=-1)]: Done 386 tasks      | elapsed:    3.8s\n",
      "[Parallel(n_jobs=-1)]: Done 736 tasks      | elapsed:    7.4s\n",
      "[Parallel(n_jobs=-1)]: Done 1186 tasks      | elapsed:   12.5s\n",
      "[Parallel(n_jobs=-1)]: Done 1736 tasks      | elapsed:   18.8s\n",
      "[Parallel(n_jobs=-1)]: Done 2386 tasks      | elapsed:   26.5s\n",
      "[Parallel(n_jobs=-1)]: Done 3136 tasks      | elapsed:   35.9s\n"
     ]
    },
    {
     "name": "stdout",
     "output_type": "stream",
     "text": [
      "done\n"
     ]
    },
    {
     "name": "stderr",
     "output_type": "stream",
     "text": [
      "[Parallel(n_jobs=-1)]: Done 4000 out of 4000 | elapsed:   46.2s finished\n"
     ]
    }
   ],
   "source": [
    "task.train_and_predict(X_train, y_train, X_val, y_val, X_test, y_test, 'model_file')\n",
    "print 'done'"
   ]
  },
  {
   "cell_type": "code",
   "execution_count": 5,
   "metadata": {},
   "outputs": [
    {
     "name": "stderr",
     "output_type": "stream",
     "text": [
      "[Parallel(n_jobs=32)]: Done 136 tasks      | elapsed:    0.3s\n",
      "[Parallel(n_jobs=32)]: Done 386 tasks      | elapsed:    0.9s\n",
      "[Parallel(n_jobs=32)]: Done 736 tasks      | elapsed:    1.8s\n",
      "[Parallel(n_jobs=32)]: Done 1186 tasks      | elapsed:    2.8s\n",
      "[Parallel(n_jobs=32)]: Done 1736 tasks      | elapsed:    4.2s\n",
      "[Parallel(n_jobs=32)]: Done 2386 tasks      | elapsed:    5.6s\n",
      "[Parallel(n_jobs=32)]: Done 3136 tasks      | elapsed:    7.5s\n",
      "[Parallel(n_jobs=32)]: Done 4000 out of 4000 | elapsed:    9.6s finished\n",
      "[Parallel(n_jobs=32)]: Done 136 tasks      | elapsed:    0.3s\n",
      "[Parallel(n_jobs=32)]: Done 386 tasks      | elapsed:    0.9s\n",
      "[Parallel(n_jobs=32)]: Done 736 tasks      | elapsed:    1.6s\n",
      "[Parallel(n_jobs=32)]: Done 1186 tasks      | elapsed:    2.6s\n",
      "[Parallel(n_jobs=32)]: Done 1736 tasks      | elapsed:    3.9s\n",
      "[Parallel(n_jobs=32)]: Done 2386 tasks      | elapsed:    5.3s\n",
      "[Parallel(n_jobs=32)]: Done 3136 tasks      | elapsed:    6.9s\n",
      "[Parallel(n_jobs=32)]: Done 4000 out of 4000 | elapsed:    8.7s finished\n",
      "[Parallel(n_jobs=32)]: Done 136 tasks      | elapsed:    0.3s\n",
      "[Parallel(n_jobs=32)]: Done 386 tasks      | elapsed:    1.0s\n",
      "[Parallel(n_jobs=32)]: Done 736 tasks      | elapsed:    1.9s\n",
      "[Parallel(n_jobs=32)]: Done 1186 tasks      | elapsed:    3.2s\n",
      "[Parallel(n_jobs=32)]: Done 1736 tasks      | elapsed:    4.7s\n",
      "[Parallel(n_jobs=32)]: Done 2386 tasks      | elapsed:    6.6s\n",
      "[Parallel(n_jobs=32)]: Done 3136 tasks      | elapsed:    8.6s\n",
      "[Parallel(n_jobs=32)]: Done 4000 out of 4000 | elapsed:   10.9s finished\n",
      "[Parallel(n_jobs=32)]: Done 136 tasks      | elapsed:    0.3s\n",
      "[Parallel(n_jobs=32)]: Done 386 tasks      | elapsed:    0.7s\n",
      "[Parallel(n_jobs=32)]: Done 736 tasks      | elapsed:    1.3s\n",
      "[Parallel(n_jobs=32)]: Done 1186 tasks      | elapsed:    2.1s\n",
      "[Parallel(n_jobs=32)]: Done 1736 tasks      | elapsed:    3.0s\n",
      "[Parallel(n_jobs=32)]: Done 2386 tasks      | elapsed:    4.0s\n",
      "[Parallel(n_jobs=32)]: Done 3136 tasks      | elapsed:    5.3s\n",
      "[Parallel(n_jobs=32)]: Done 4000 out of 4000 | elapsed:    6.8s finished\n",
      "[Parallel(n_jobs=32)]: Done 136 tasks      | elapsed:    0.2s\n",
      "[Parallel(n_jobs=32)]: Done 386 tasks      | elapsed:    0.7s\n",
      "[Parallel(n_jobs=32)]: Done 736 tasks      | elapsed:    1.3s\n",
      "[Parallel(n_jobs=32)]: Done 1186 tasks      | elapsed:    2.1s\n",
      "[Parallel(n_jobs=32)]: Done 1736 tasks      | elapsed:    3.0s\n",
      "[Parallel(n_jobs=32)]: Done 2386 tasks      | elapsed:    4.1s\n",
      "[Parallel(n_jobs=32)]: Done 3136 tasks      | elapsed:    5.4s\n",
      "[Parallel(n_jobs=32)]: Done 4000 out of 4000 | elapsed:    6.8s finished\n",
      "[Parallel(n_jobs=32)]: Done   9 tasks      | elapsed:    0.0s\n",
      "[Parallel(n_jobs=32)]: Done 136 tasks      | elapsed:    0.3s\n",
      "[Parallel(n_jobs=32)]: Done 386 tasks      | elapsed:    0.7s\n",
      "[Parallel(n_jobs=32)]: Done 736 tasks      | elapsed:    1.3s\n",
      "[Parallel(n_jobs=32)]: Done 1186 tasks      | elapsed:    2.1s\n",
      "[Parallel(n_jobs=32)]: Done 1736 tasks      | elapsed:    3.0s\n",
      "[Parallel(n_jobs=32)]: Done 2386 tasks      | elapsed:    4.2s\n",
      "[Parallel(n_jobs=32)]: Done 3136 tasks      | elapsed:    5.6s\n",
      "[Parallel(n_jobs=32)]: Done 4000 out of 4000 | elapsed:    7.1s finished\n"
     ]
    },
    {
     "name": "stdout",
     "output_type": "stream",
     "text": [
      "(57937, 3)\n",
      "(57937, 3)\n",
      "(14486, 3)\n",
      "(14486, 3)\n",
      "\n",
      "train precision: 1.0\n",
      "train roc: 1.0\n",
      "train bedroc: 0.990234270073\n",
      "\n",
      "test precision: 0.100943048104\n",
      "test roc: 0.796127296245\n",
      "test bedroc: 0.508345964473\n",
      "\n",
      "Below is for Keck_Pria_AS_Retest\n",
      "\n",
      "train precision: 1.0\n",
      "train roc: 1.0\n",
      "train bedroc: 0.99466830683\n",
      "\n",
      "test precision: 0.0971574455977\n",
      "test roc: 0.848060642709\n",
      "test bedroc: 0.573435781742\n",
      "\n",
      "done\n"
     ]
    }
   ],
   "source": [
    "task.predict_with_existing(X_train, y_train, X_val, y_val, X_test, y_test)\n",
    "print 'done'"
   ]
  },
  {
   "cell_type": "markdown",
   "metadata": {},
   "source": [
    "# Test 2"
   ]
  },
  {
   "cell_type": "code",
   "execution_count": 6,
   "metadata": {},
   "outputs": [
    {
     "name": "stdout",
     "output_type": "stream",
     "text": [
      "label_name_list  [u'Keck_Pria_AS_Retest', u'Keck_Pria_FP_data', u'Keck_RMI_cdd']\n",
      "done\n"
     ]
    }
   ],
   "source": [
    "config_json_file = '../../json/sklearn_randomforest.json'\n",
    "with open(config_json_file, 'r') as f:\n",
    "    conf = json.load(f)\n",
    "        \n",
    "label_name_list = conf['label_names']\n",
    "print 'label_name_list ', label_name_list\n",
    "\n",
    "# specify dataset\n",
    "k = 5\n",
    "directory = '../../dataset/fixed_dataset/fold_{}/'.format(k)\n",
    "file_list = []\n",
    "for i in range(k):\n",
    "    file_list.append('file_{}.csv'.format(i))\n",
    "\n",
    "labels = label_name_list\n",
    "\n",
    "output_file_list = [directory + f_ for f_ in file_list]\n",
    "train_pd = read_merged_data(output_file_list[2:5])\n",
    "val_pd = read_merged_data([output_file_list[0]])\n",
    "test_pd = read_merged_data([output_file_list[1]])\n",
    "\n",
    "X_train, y_train = extract_feature_and_label(train_pd,\n",
    "                                             feature_name='Fingerprints',\n",
    "                                             label_name_list=labels)\n",
    "        \n",
    "X_val, y_val = extract_feature_and_label(val_pd,\n",
    "                                         feature_name='Fingerprints',\n",
    "                                         label_name_list=labels)\n",
    "                                                   \n",
    "X_test, y_test = extract_feature_and_label(test_pd,\n",
    "                                           feature_name='Fingerprints',\n",
    "                                           label_name_list=labels)\n",
    "\n",
    "print 'done'"
   ]
  },
  {
   "cell_type": "code",
   "execution_count": 7,
   "metadata": {},
   "outputs": [
    {
     "name": "stdout",
     "output_type": "stream",
     "text": [
      "('process id:', 3)\n",
      "('Testing set:', {u'max_features': 'log2', u'n_estimators': 4000, u'min_samples_leaf': 1, u'class_weight': 'balanced'})\n"
     ]
    }
   ],
   "source": [
    "task = SKLearn_RandomForest(conf=conf)"
   ]
  },
  {
   "cell_type": "code",
   "execution_count": 8,
   "metadata": {},
   "outputs": [
    {
     "name": "stdout",
     "output_type": "stream",
     "text": [
      "testing 0, Keck_Pria_AS_Retest\n"
     ]
    },
    {
     "name": "stderr",
     "output_type": "stream",
     "text": [
      "[Parallel(n_jobs=-1)]: Done 136 tasks      | elapsed:    1.5s\n",
      "[Parallel(n_jobs=-1)]: Done 386 tasks      | elapsed:    4.0s\n",
      "[Parallel(n_jobs=-1)]: Done 736 tasks      | elapsed:    7.5s\n",
      "[Parallel(n_jobs=-1)]: Done 1186 tasks      | elapsed:   11.9s\n",
      "[Parallel(n_jobs=-1)]: Done 1736 tasks      | elapsed:   17.7s\n",
      "[Parallel(n_jobs=-1)]: Done 2386 tasks      | elapsed:   25.2s\n",
      "[Parallel(n_jobs=-1)]: Done 3136 tasks      | elapsed:   34.6s\n",
      "[Parallel(n_jobs=-1)]: Done 4000 out of 4000 | elapsed:   45.1s finished\n"
     ]
    },
    {
     "name": "stdout",
     "output_type": "stream",
     "text": [
      "testing 1, Keck_Pria_FP_data\n"
     ]
    },
    {
     "name": "stderr",
     "output_type": "stream",
     "text": [
      "[Parallel(n_jobs=-1)]: Done 136 tasks      | elapsed:    1.2s\n",
      "[Parallel(n_jobs=-1)]: Done 386 tasks      | elapsed:    3.1s\n",
      "[Parallel(n_jobs=-1)]: Done 736 tasks      | elapsed:    5.7s\n",
      "[Parallel(n_jobs=-1)]: Done 1186 tasks      | elapsed:    9.2s\n",
      "[Parallel(n_jobs=-1)]: Done 1736 tasks      | elapsed:   13.2s\n",
      "[Parallel(n_jobs=-1)]: Done 2386 tasks      | elapsed:   18.1s\n",
      "[Parallel(n_jobs=-1)]: Done 3136 tasks      | elapsed:   23.8s\n",
      "[Parallel(n_jobs=-1)]: Done 4000 out of 4000 | elapsed:   30.2s finished\n"
     ]
    },
    {
     "name": "stdout",
     "output_type": "stream",
     "text": [
      "testing 2, Keck_RMI_cdd\n"
     ]
    },
    {
     "name": "stderr",
     "output_type": "stream",
     "text": [
      "[Parallel(n_jobs=-1)]: Done 136 tasks      | elapsed:    1.4s\n",
      "[Parallel(n_jobs=-1)]: Done 386 tasks      | elapsed:    3.8s\n",
      "[Parallel(n_jobs=-1)]: Done 736 tasks      | elapsed:    7.1s\n",
      "[Parallel(n_jobs=-1)]: Done 1186 tasks      | elapsed:   11.5s\n",
      "[Parallel(n_jobs=-1)]: Done 1736 tasks      | elapsed:   17.0s\n",
      "[Parallel(n_jobs=-1)]: Done 2386 tasks      | elapsed:   23.6s\n",
      "[Parallel(n_jobs=-1)]: Done 3136 tasks      | elapsed:   32.1s\n"
     ]
    },
    {
     "name": "stdout",
     "output_type": "stream",
     "text": [
      "done\n"
     ]
    },
    {
     "name": "stderr",
     "output_type": "stream",
     "text": [
      "[Parallel(n_jobs=-1)]: Done 4000 out of 4000 | elapsed:   42.2s finished\n"
     ]
    }
   ],
   "source": [
    "task.train_and_predict(X_train, y_train, X_val, y_val, X_test, y_test, 'model_file')\n",
    "print 'done'"
   ]
  },
  {
   "cell_type": "code",
   "execution_count": 9,
   "metadata": {},
   "outputs": [
    {
     "name": "stderr",
     "output_type": "stream",
     "text": [
      "[Parallel(n_jobs=32)]: Done 136 tasks      | elapsed:    0.3s\n",
      "[Parallel(n_jobs=32)]: Done 386 tasks      | elapsed:    0.9s\n",
      "[Parallel(n_jobs=32)]: Done 736 tasks      | elapsed:    1.6s\n",
      "[Parallel(n_jobs=32)]: Done 1186 tasks      | elapsed:    2.8s\n",
      "[Parallel(n_jobs=32)]: Done 1736 tasks      | elapsed:    4.2s\n",
      "[Parallel(n_jobs=32)]: Done 2386 tasks      | elapsed:    5.8s\n",
      "[Parallel(n_jobs=32)]: Done 3136 tasks      | elapsed:    7.6s\n",
      "[Parallel(n_jobs=32)]: Done 4000 out of 4000 | elapsed:    9.6s finished\n",
      "[Parallel(n_jobs=32)]: Done 136 tasks      | elapsed:    0.3s\n",
      "[Parallel(n_jobs=32)]: Done 386 tasks      | elapsed:    0.8s\n",
      "[Parallel(n_jobs=32)]: Done 736 tasks      | elapsed:    1.5s\n",
      "[Parallel(n_jobs=32)]: Done 1186 tasks      | elapsed:    2.4s\n",
      "[Parallel(n_jobs=32)]: Done 1736 tasks      | elapsed:    3.6s\n",
      "[Parallel(n_jobs=32)]: Done 2386 tasks      | elapsed:    4.9s\n",
      "[Parallel(n_jobs=32)]: Done 3136 tasks      | elapsed:    6.5s\n",
      "[Parallel(n_jobs=32)]: Done 4000 out of 4000 | elapsed:    8.4s finished\n",
      "[Parallel(n_jobs=32)]: Done   6 tasks      | elapsed:    0.0s\n",
      "[Parallel(n_jobs=32)]: Done 136 tasks      | elapsed:    0.3s\n",
      "[Parallel(n_jobs=32)]: Done 386 tasks      | elapsed:    1.0s\n",
      "[Parallel(n_jobs=32)]: Done 736 tasks      | elapsed:    1.9s\n",
      "[Parallel(n_jobs=32)]: Done 1186 tasks      | elapsed:    3.0s\n",
      "[Parallel(n_jobs=32)]: Done 1736 tasks      | elapsed:    4.3s\n",
      "[Parallel(n_jobs=32)]: Done 2386 tasks      | elapsed:    5.8s\n",
      "[Parallel(n_jobs=32)]: Done 3136 tasks      | elapsed:    7.8s\n",
      "[Parallel(n_jobs=32)]: Done 4000 out of 4000 | elapsed:   10.1s finished\n",
      "[Parallel(n_jobs=32)]: Done 136 tasks      | elapsed:    0.3s\n",
      "[Parallel(n_jobs=32)]: Done 386 tasks      | elapsed:    0.8s\n",
      "[Parallel(n_jobs=32)]: Done 736 tasks      | elapsed:    1.4s\n",
      "[Parallel(n_jobs=32)]: Done 1186 tasks      | elapsed:    2.2s\n",
      "[Parallel(n_jobs=32)]: Done 1736 tasks      | elapsed:    3.2s\n",
      "[Parallel(n_jobs=32)]: Done 2386 tasks      | elapsed:    4.3s\n",
      "[Parallel(n_jobs=32)]: Done 3136 tasks      | elapsed:    5.6s\n",
      "[Parallel(n_jobs=32)]: Done 4000 out of 4000 | elapsed:    7.1s finished\n",
      "[Parallel(n_jobs=32)]: Done 136 tasks      | elapsed:    0.2s\n",
      "[Parallel(n_jobs=32)]: Done 386 tasks      | elapsed:    0.7s\n",
      "[Parallel(n_jobs=32)]: Done 736 tasks      | elapsed:    1.3s\n",
      "[Parallel(n_jobs=32)]: Done 1186 tasks      | elapsed:    2.1s\n",
      "[Parallel(n_jobs=32)]: Done 1736 tasks      | elapsed:    3.0s\n",
      "[Parallel(n_jobs=32)]: Done 2386 tasks      | elapsed:    4.2s\n",
      "[Parallel(n_jobs=32)]: Done 3136 tasks      | elapsed:    5.6s\n",
      "[Parallel(n_jobs=32)]: Done 4000 out of 4000 | elapsed:    7.1s finished\n",
      "[Parallel(n_jobs=32)]: Done 136 tasks      | elapsed:    0.3s\n",
      "[Parallel(n_jobs=32)]: Done 386 tasks      | elapsed:    0.7s\n",
      "[Parallel(n_jobs=32)]: Done 736 tasks      | elapsed:    1.3s\n",
      "[Parallel(n_jobs=32)]: Done 1186 tasks      | elapsed:    2.1s\n",
      "[Parallel(n_jobs=32)]: Done 1736 tasks      | elapsed:    3.0s\n",
      "[Parallel(n_jobs=32)]: Done 2386 tasks      | elapsed:    4.2s\n",
      "[Parallel(n_jobs=32)]: Done 3136 tasks      | elapsed:    5.5s\n",
      "[Parallel(n_jobs=32)]: Done 4000 out of 4000 | elapsed:    7.0s finished\n"
     ]
    },
    {
     "name": "stdout",
     "output_type": "stream",
     "text": [
      "(57941, 3)\n",
      "(57941, 3)\n",
      "(14482, 3)\n",
      "(14482, 3)\n",
      "\n",
      "train precision: 1.0\n",
      "train roc: 1.0\n",
      "train bedroc: 0.990067859348\n",
      "\n",
      "test precision: 0.118431387229\n",
      "test roc: 0.743033770703\n",
      "test bedroc: 0.466435691803\n",
      "\n",
      "Below is for Keck_Pria_AS_Retest\n",
      "\n",
      "train precision: 1.0\n",
      "train roc: 1.0\n",
      "train bedroc: 0.994582995534\n",
      "\n",
      "test precision: 0.246995408166\n",
      "test roc: 0.91400658971\n",
      "test bedroc: 0.816401412397\n",
      "\n",
      "done\n"
     ]
    }
   ],
   "source": [
    "task.predict_with_existing(X_train, y_train, X_val, y_val, X_test, y_test)\n",
    "print 'done'"
   ]
  },
  {
   "cell_type": "code",
   "execution_count": 10,
   "metadata": {},
   "outputs": [],
   "source": [
    "def run(running_index):\n",
    "    config_json_file = '../../json/sklearn_randomforest.json'\n",
    "    with open(config_json_file, 'r') as f:\n",
    "        conf = json.load(f)\n",
    "\n",
    "    label_name_list = conf['label_names']\n",
    "    print 'label_name_list ', label_name_list\n",
    "\n",
    "    # specify dataset\n",
    "    k = 5\n",
    "    directory = '../../dataset/fixed_dataset/fold_{}/'.format(k)\n",
    "    file_list = []\n",
    "    for i in range(k):\n",
    "        file_list.append('{}file_{}.csv'.format(directory, i))\n",
    "    file_list = np.array(file_list)\n",
    "    labels = label_name_list\n",
    "\n",
    "    output_file_list = [directory + f_ for f_ in file_list]\n",
    "    test_index = running_index / 4\n",
    "    val_index = running_index % 4 + (running_index % 4 >= test_index)\n",
    "    complete_index = np.arange(k)\n",
    "    train_index = np.where((complete_index != test_index) & (complete_index != val_index))[0]\n",
    "    \n",
    "    print train_index, val_index, test_index\n",
    "    \n",
    "    train_file_list = file_list[train_index]\n",
    "    val_file_list = file_list[val_index:val_index+1]\n",
    "    test_file_list = file_list[test_index:test_index+1]\n",
    "\n",
    "    print 'train files ', train_file_list\n",
    "    print 'val files ', val_file_list\n",
    "    print 'test files ', test_file_list\n",
    "\n",
    "    train_pd = read_merged_data(train_file_list)\n",
    "    val_pd = read_merged_data(val_file_list)\n",
    "    test_pd = read_merged_data(test_file_list)\n",
    "\n",
    "    X_train, y_train = extract_feature_and_label(train_pd,\n",
    "                                                 feature_name='Fingerprints',\n",
    "                                                 label_name_list=labels)\n",
    "\n",
    "    X_val, y_val = extract_feature_and_label(val_pd,\n",
    "                                             feature_name='Fingerprints',\n",
    "                                             label_name_list=labels)\n",
    "\n",
    "    X_test, y_test = extract_feature_and_label(test_pd,\n",
    "                                               feature_name='Fingerprints',\n",
    "                                               label_name_list=labels)\n",
    "\n",
    "    print 'done'\n",
    "    task = SKLearn_RandomForest(conf=conf)\n",
    "    task.train_and_predict(X_train, y_train, X_val, y_val, X_test, y_test, 'model_file')\n",
    "    task.predict_with_existing(X_train, y_train, X_val, y_val, X_test, y_test)\n",
    "    print 'done'"
   ]
  },
  {
   "cell_type": "code",
   "execution_count": 11,
   "metadata": {},
   "outputs": [
    {
     "name": "stdout",
     "output_type": "stream",
     "text": [
      "label_name_list  [u'Keck_Pria_AS_Retest', u'Keck_Pria_FP_data', u'Keck_RMI_cdd']\n",
      "[2 3 4] 1 0\n",
      "train files  ['../../dataset/fixed_dataset/fold_5/file_2.csv'\n",
      " '../../dataset/fixed_dataset/fold_5/file_3.csv'\n",
      " '../../dataset/fixed_dataset/fold_5/file_4.csv']\n",
      "val files  ['../../dataset/fixed_dataset/fold_5/file_1.csv']\n",
      "test files  ['../../dataset/fixed_dataset/fold_5/file_0.csv']\n",
      "done\n",
      "('process id:', 3)\n",
      "('Testing set:', {u'max_features': 'log2', u'n_estimators': 4000, u'min_samples_leaf': 1, u'class_weight': 'balanced'})\n",
      "testing 0, Keck_Pria_AS_Retest\n"
     ]
    },
    {
     "name": "stderr",
     "output_type": "stream",
     "text": [
      "[Parallel(n_jobs=-1)]: Done 136 tasks      | elapsed:    1.9s\n",
      "[Parallel(n_jobs=-1)]: Done 386 tasks      | elapsed:    5.0s\n",
      "[Parallel(n_jobs=-1)]: Done 736 tasks      | elapsed:    9.2s\n",
      "[Parallel(n_jobs=-1)]: Done 1186 tasks      | elapsed:   14.7s\n",
      "[Parallel(n_jobs=-1)]: Done 1736 tasks      | elapsed:   21.3s\n",
      "[Parallel(n_jobs=-1)]: Done 2386 tasks      | elapsed:   29.4s\n",
      "[Parallel(n_jobs=-1)]: Done 3136 tasks      | elapsed:   38.8s\n",
      "[Parallel(n_jobs=-1)]: Done 4000 out of 4000 | elapsed:   49.7s finished\n"
     ]
    },
    {
     "name": "stdout",
     "output_type": "stream",
     "text": [
      "testing 1, Keck_Pria_FP_data\n"
     ]
    },
    {
     "name": "stderr",
     "output_type": "stream",
     "text": [
      "[Parallel(n_jobs=-1)]: Done 136 tasks      | elapsed:    1.2s\n",
      "[Parallel(n_jobs=-1)]: Done 386 tasks      | elapsed:    3.1s\n",
      "[Parallel(n_jobs=-1)]: Done 736 tasks      | elapsed:    5.7s\n",
      "[Parallel(n_jobs=-1)]: Done 1186 tasks      | elapsed:    9.0s\n",
      "[Parallel(n_jobs=-1)]: Done 1736 tasks      | elapsed:   13.0s\n",
      "[Parallel(n_jobs=-1)]: Done 2386 tasks      | elapsed:   17.9s\n",
      "[Parallel(n_jobs=-1)]: Done 3136 tasks      | elapsed:   23.5s\n",
      "[Parallel(n_jobs=-1)]: Done 4000 out of 4000 | elapsed:   29.8s finished\n"
     ]
    },
    {
     "name": "stdout",
     "output_type": "stream",
     "text": [
      "testing 2, Keck_RMI_cdd\n"
     ]
    },
    {
     "name": "stderr",
     "output_type": "stream",
     "text": [
      "[Parallel(n_jobs=-1)]: Done 136 tasks      | elapsed:    1.4s\n",
      "[Parallel(n_jobs=-1)]: Done 386 tasks      | elapsed:    3.7s\n",
      "[Parallel(n_jobs=-1)]: Done 736 tasks      | elapsed:    6.9s\n",
      "[Parallel(n_jobs=-1)]: Done 1186 tasks      | elapsed:   11.1s\n",
      "[Parallel(n_jobs=-1)]: Done 1736 tasks      | elapsed:   16.1s\n",
      "[Parallel(n_jobs=-1)]: Done 2386 tasks      | elapsed:   22.0s\n",
      "[Parallel(n_jobs=-1)]: Done 3136 tasks      | elapsed:   28.8s\n",
      "[Parallel(n_jobs=-1)]: Done 4000 out of 4000 | elapsed:   36.7s finished\n",
      "[Parallel(n_jobs=32)]: Done 136 tasks      | elapsed:    0.3s\n",
      "[Parallel(n_jobs=32)]: Done 386 tasks      | elapsed:    0.9s\n",
      "[Parallel(n_jobs=32)]: Done 736 tasks      | elapsed:    1.7s\n",
      "[Parallel(n_jobs=32)]: Done 1186 tasks      | elapsed:    2.8s\n",
      "[Parallel(n_jobs=32)]: Done 1736 tasks      | elapsed:    4.2s\n",
      "[Parallel(n_jobs=32)]: Done 2386 tasks      | elapsed:    5.9s\n",
      "[Parallel(n_jobs=32)]: Done 3136 tasks      | elapsed:    7.8s\n",
      "[Parallel(n_jobs=32)]: Done 4000 out of 4000 | elapsed:   10.0s finished\n",
      "[Parallel(n_jobs=32)]: Done 136 tasks      | elapsed:    0.3s\n",
      "[Parallel(n_jobs=32)]: Done 386 tasks      | elapsed:    0.8s\n",
      "[Parallel(n_jobs=32)]: Done 736 tasks      | elapsed:    1.5s\n",
      "[Parallel(n_jobs=32)]: Done 1186 tasks      | elapsed:    2.4s\n",
      "[Parallel(n_jobs=32)]: Done 1736 tasks      | elapsed:    3.7s\n",
      "[Parallel(n_jobs=32)]: Done 2386 tasks      | elapsed:    5.1s\n",
      "[Parallel(n_jobs=32)]: Done 3136 tasks      | elapsed:    6.7s\n",
      "[Parallel(n_jobs=32)]: Done 4000 out of 4000 | elapsed:    8.5s finished\n",
      "[Parallel(n_jobs=32)]: Done 136 tasks      | elapsed:    0.3s\n",
      "[Parallel(n_jobs=32)]: Done 386 tasks      | elapsed:    0.9s\n",
      "[Parallel(n_jobs=32)]: Done 736 tasks      | elapsed:    2.0s\n",
      "[Parallel(n_jobs=32)]: Done 1186 tasks      | elapsed:    3.2s\n",
      "[Parallel(n_jobs=32)]: Done 1736 tasks      | elapsed:    4.6s\n",
      "[Parallel(n_jobs=32)]: Done 2386 tasks      | elapsed:    6.2s\n",
      "[Parallel(n_jobs=32)]: Done 3136 tasks      | elapsed:    8.1s\n",
      "[Parallel(n_jobs=32)]: Done 4000 out of 4000 | elapsed:   10.2s finished\n",
      "[Parallel(n_jobs=32)]: Done 136 tasks      | elapsed:    0.2s\n",
      "[Parallel(n_jobs=32)]: Done 386 tasks      | elapsed:    0.7s\n",
      "[Parallel(n_jobs=32)]: Done 736 tasks      | elapsed:    1.3s\n",
      "[Parallel(n_jobs=32)]: Done 1186 tasks      | elapsed:    2.1s\n",
      "[Parallel(n_jobs=32)]: Done 1736 tasks      | elapsed:    3.1s\n",
      "[Parallel(n_jobs=32)]: Done 2386 tasks      | elapsed:    4.3s\n",
      "[Parallel(n_jobs=32)]: Done 3136 tasks      | elapsed:    5.6s\n",
      "[Parallel(n_jobs=32)]: Done 4000 out of 4000 | elapsed:    7.2s finished\n",
      "[Parallel(n_jobs=32)]: Done 136 tasks      | elapsed:    0.2s\n",
      "[Parallel(n_jobs=32)]: Done 386 tasks      | elapsed:    0.7s\n",
      "[Parallel(n_jobs=32)]: Done 736 tasks      | elapsed:    1.3s\n",
      "[Parallel(n_jobs=32)]: Done 1186 tasks      | elapsed:    2.1s\n",
      "[Parallel(n_jobs=32)]: Done 1736 tasks      | elapsed:    3.0s\n",
      "[Parallel(n_jobs=32)]: Done 2386 tasks      | elapsed:    4.1s\n",
      "[Parallel(n_jobs=32)]: Done 3136 tasks      | elapsed:    5.4s\n",
      "[Parallel(n_jobs=32)]: Done 4000 out of 4000 | elapsed:    6.8s finished\n",
      "[Parallel(n_jobs=32)]: Done 136 tasks      | elapsed:    0.3s\n",
      "[Parallel(n_jobs=32)]: Done 386 tasks      | elapsed:    0.8s\n",
      "[Parallel(n_jobs=32)]: Done 736 tasks      | elapsed:    1.4s\n",
      "[Parallel(n_jobs=32)]: Done 1186 tasks      | elapsed:    2.2s\n",
      "[Parallel(n_jobs=32)]: Done 1736 tasks      | elapsed:    3.2s\n",
      "[Parallel(n_jobs=32)]: Done 2386 tasks      | elapsed:    4.6s\n",
      "[Parallel(n_jobs=32)]: Done 3136 tasks      | elapsed:    6.0s\n",
      "[Parallel(n_jobs=32)]: Done 4000 out of 4000 | elapsed:    7.5s finished\n"
     ]
    },
    {
     "name": "stdout",
     "output_type": "stream",
     "text": [
      "(57937, 3)\n",
      "(57937, 3)\n",
      "(14486, 3)\n",
      "(14486, 3)\n",
      "\n",
      "train precision: 1.0\n",
      "train roc: 1.0\n",
      "train bedroc: 0.990205375155\n",
      "\n",
      "test precision: 0.069406686327\n",
      "test roc: 0.771620934683\n",
      "test bedroc: 0.502867352061\n",
      "\n",
      "Below is for Keck_Pria_AS_Retest\n",
      "\n",
      "train precision: 1.0\n",
      "train roc: 1.0\n",
      "train bedroc: 0.99466830683\n",
      "\n",
      "test precision: 0.0974344178009\n",
      "test roc: 0.837005442294\n",
      "test bedroc: 0.671730699013\n",
      "\n",
      "done\n"
     ]
    }
   ],
   "source": [
    "run(0)"
   ]
  },
  {
   "cell_type": "code",
   "execution_count": 12,
   "metadata": {},
   "outputs": [
    {
     "name": "stdout",
     "output_type": "stream",
     "text": [
      "label_name_list  [u'Keck_Pria_AS_Retest', u'Keck_Pria_FP_data', u'Keck_RMI_cdd']\n",
      "[2 3 4] 0 1\n",
      "train files  ['../../dataset/fixed_dataset/fold_5/file_2.csv'\n",
      " '../../dataset/fixed_dataset/fold_5/file_3.csv'\n",
      " '../../dataset/fixed_dataset/fold_5/file_4.csv']\n",
      "val files  ['../../dataset/fixed_dataset/fold_5/file_0.csv']\n",
      "test files  ['../../dataset/fixed_dataset/fold_5/file_1.csv']\n",
      "done\n",
      "('process id:', 3)\n",
      "('Testing set:', {u'max_features': 'log2', u'n_estimators': 4000, u'min_samples_leaf': 1, u'class_weight': 'balanced'})\n",
      "testing 0, Keck_Pria_AS_Retest\n"
     ]
    },
    {
     "name": "stderr",
     "output_type": "stream",
     "text": [
      "[Parallel(n_jobs=-1)]: Done 136 tasks      | elapsed:    1.9s\n",
      "[Parallel(n_jobs=-1)]: Done 386 tasks      | elapsed:    5.1s\n",
      "[Parallel(n_jobs=-1)]: Done 736 tasks      | elapsed:    9.4s\n",
      "[Parallel(n_jobs=-1)]: Done 1186 tasks      | elapsed:   14.7s\n",
      "[Parallel(n_jobs=-1)]: Done 1736 tasks      | elapsed:   21.2s\n",
      "[Parallel(n_jobs=-1)]: Done 2386 tasks      | elapsed:   28.8s\n",
      "[Parallel(n_jobs=-1)]: Done 3136 tasks      | elapsed:   37.8s\n",
      "[Parallel(n_jobs=-1)]: Done 4000 out of 4000 | elapsed:   48.2s finished\n"
     ]
    },
    {
     "name": "stdout",
     "output_type": "stream",
     "text": [
      "testing 1, Keck_Pria_FP_data\n"
     ]
    },
    {
     "name": "stderr",
     "output_type": "stream",
     "text": [
      "[Parallel(n_jobs=-1)]: Done 136 tasks      | elapsed:    1.1s\n",
      "[Parallel(n_jobs=-1)]: Done 386 tasks      | elapsed:    3.0s\n",
      "[Parallel(n_jobs=-1)]: Done 736 tasks      | elapsed:    5.7s\n",
      "[Parallel(n_jobs=-1)]: Done 1186 tasks      | elapsed:    9.2s\n",
      "[Parallel(n_jobs=-1)]: Done 1736 tasks      | elapsed:   13.5s\n",
      "[Parallel(n_jobs=-1)]: Done 2386 tasks      | elapsed:   18.6s\n",
      "[Parallel(n_jobs=-1)]: Done 3136 tasks      | elapsed:   24.7s\n",
      "[Parallel(n_jobs=-1)]: Done 4000 out of 4000 | elapsed:   32.1s finished\n"
     ]
    },
    {
     "name": "stdout",
     "output_type": "stream",
     "text": [
      "testing 2, Keck_RMI_cdd\n"
     ]
    },
    {
     "name": "stderr",
     "output_type": "stream",
     "text": [
      "[Parallel(n_jobs=-1)]: Done 136 tasks      | elapsed:    1.5s\n",
      "[Parallel(n_jobs=-1)]: Done 386 tasks      | elapsed:    3.8s\n",
      "[Parallel(n_jobs=-1)]: Done 736 tasks      | elapsed:    7.1s\n",
      "[Parallel(n_jobs=-1)]: Done 1186 tasks      | elapsed:   11.3s\n",
      "[Parallel(n_jobs=-1)]: Done 1736 tasks      | elapsed:   16.4s\n",
      "[Parallel(n_jobs=-1)]: Done 2386 tasks      | elapsed:   22.4s\n",
      "[Parallel(n_jobs=-1)]: Done 3136 tasks      | elapsed:   29.4s\n",
      "[Parallel(n_jobs=-1)]: Done 4000 out of 4000 | elapsed:   37.7s finished\n",
      "[Parallel(n_jobs=32)]: Done 136 tasks      | elapsed:    0.3s\n",
      "[Parallel(n_jobs=32)]: Done 386 tasks      | elapsed:    0.9s\n",
      "[Parallel(n_jobs=32)]: Done 736 tasks      | elapsed:    1.6s\n",
      "[Parallel(n_jobs=32)]: Done 1186 tasks      | elapsed:    2.7s\n",
      "[Parallel(n_jobs=32)]: Done 1736 tasks      | elapsed:    4.1s\n",
      "[Parallel(n_jobs=32)]: Done 2386 tasks      | elapsed:    5.7s\n",
      "[Parallel(n_jobs=32)]: Done 3136 tasks      | elapsed:    7.6s\n",
      "[Parallel(n_jobs=32)]: Done 4000 out of 4000 | elapsed:    9.6s finished\n",
      "[Parallel(n_jobs=32)]: Done   1 tasks      | elapsed:    0.0s\n",
      "[Parallel(n_jobs=32)]: Done 136 tasks      | elapsed:    0.3s\n",
      "[Parallel(n_jobs=32)]: Done 386 tasks      | elapsed:    0.8s\n",
      "[Parallel(n_jobs=32)]: Done 736 tasks      | elapsed:    1.4s\n",
      "[Parallel(n_jobs=32)]: Done 1186 tasks      | elapsed:    2.5s\n",
      "[Parallel(n_jobs=32)]: Done 1736 tasks      | elapsed:    3.7s\n",
      "[Parallel(n_jobs=32)]: Done 2386 tasks      | elapsed:    5.1s\n",
      "[Parallel(n_jobs=32)]: Done 3136 tasks      | elapsed:    6.9s\n",
      "[Parallel(n_jobs=32)]: Done 4000 out of 4000 | elapsed:    8.7s finished\n",
      "[Parallel(n_jobs=32)]: Done 136 tasks      | elapsed:    0.3s\n",
      "[Parallel(n_jobs=32)]: Done 386 tasks      | elapsed:    0.9s\n",
      "[Parallel(n_jobs=32)]: Done 736 tasks      | elapsed:    1.8s\n",
      "[Parallel(n_jobs=32)]: Done 1186 tasks      | elapsed:    3.0s\n",
      "[Parallel(n_jobs=32)]: Done 1736 tasks      | elapsed:    4.5s\n",
      "[Parallel(n_jobs=32)]: Done 2386 tasks      | elapsed:    6.3s\n",
      "[Parallel(n_jobs=32)]: Done 3136 tasks      | elapsed:    8.3s\n",
      "[Parallel(n_jobs=32)]: Done 4000 out of 4000 | elapsed:   10.5s finished\n",
      "[Parallel(n_jobs=32)]: Done 136 tasks      | elapsed:    0.3s\n",
      "[Parallel(n_jobs=32)]: Done 386 tasks      | elapsed:    0.7s\n",
      "[Parallel(n_jobs=32)]: Done 736 tasks      | elapsed:    1.3s\n",
      "[Parallel(n_jobs=32)]: Done 1186 tasks      | elapsed:    2.1s\n",
      "[Parallel(n_jobs=32)]: Done 1736 tasks      | elapsed:    3.1s\n",
      "[Parallel(n_jobs=32)]: Done 2386 tasks      | elapsed:    4.2s\n",
      "[Parallel(n_jobs=32)]: Done 3136 tasks      | elapsed:    5.4s\n",
      "[Parallel(n_jobs=32)]: Done 4000 out of 4000 | elapsed:    6.9s finished\n",
      "[Parallel(n_jobs=32)]: Done 136 tasks      | elapsed:    0.2s\n",
      "[Parallel(n_jobs=32)]: Done 386 tasks      | elapsed:    0.7s\n",
      "[Parallel(n_jobs=32)]: Done 736 tasks      | elapsed:    1.3s\n",
      "[Parallel(n_jobs=32)]: Done 1186 tasks      | elapsed:    2.0s\n",
      "[Parallel(n_jobs=32)]: Done 1736 tasks      | elapsed:    3.1s\n",
      "[Parallel(n_jobs=32)]: Done 2386 tasks      | elapsed:    4.2s\n",
      "[Parallel(n_jobs=32)]: Done 3136 tasks      | elapsed:    5.6s\n",
      "[Parallel(n_jobs=32)]: Done 4000 out of 4000 | elapsed:    7.1s finished\n",
      "[Parallel(n_jobs=32)]: Done 136 tasks      | elapsed:    0.2s\n",
      "[Parallel(n_jobs=32)]: Done 386 tasks      | elapsed:    0.7s\n",
      "[Parallel(n_jobs=32)]: Done 736 tasks      | elapsed:    1.3s\n",
      "[Parallel(n_jobs=32)]: Done 1186 tasks      | elapsed:    2.1s\n",
      "[Parallel(n_jobs=32)]: Done 1736 tasks      | elapsed:    3.1s\n",
      "[Parallel(n_jobs=32)]: Done 2386 tasks      | elapsed:    4.2s\n",
      "[Parallel(n_jobs=32)]: Done 3136 tasks      | elapsed:    5.5s\n",
      "[Parallel(n_jobs=32)]: Done 4000 out of 4000 | elapsed:    7.1s finished\n"
     ]
    },
    {
     "name": "stdout",
     "output_type": "stream",
     "text": [
      "(57941, 3)\n",
      "(57941, 3)\n",
      "(14482, 3)\n",
      "(14482, 3)\n",
      "\n",
      "train precision: 1.0\n",
      "train roc: 1.0\n",
      "train bedroc: 0.990067859348\n",
      "\n",
      "test precision: 0.122368007166\n",
      "test roc: 0.729306943519\n",
      "test bedroc: 0.446469623534\n",
      "\n",
      "Below is for Keck_Pria_AS_Retest\n",
      "\n",
      "train precision: 1.0\n",
      "train roc: 1.0\n",
      "train bedroc: 0.994582995534\n",
      "\n",
      "test precision: 0.258548337181\n",
      "test roc: 0.893106149628\n",
      "test bedroc: 0.823595417936\n",
      "\n",
      "done\n"
     ]
    }
   ],
   "source": [
    "run(4)"
   ]
  },
  {
   "cell_type": "code",
   "execution_count": 13,
   "metadata": {},
   "outputs": [
    {
     "name": "stdout",
     "output_type": "stream",
     "text": [
      "label_name_list  [u'Keck_Pria_AS_Retest', u'Keck_Pria_FP_data', u'Keck_RMI_cdd']\n",
      "[1 3 4] 0 2\n",
      "train files  ['../../dataset/fixed_dataset/fold_5/file_1.csv'\n",
      " '../../dataset/fixed_dataset/fold_5/file_3.csv'\n",
      " '../../dataset/fixed_dataset/fold_5/file_4.csv']\n",
      "val files  ['../../dataset/fixed_dataset/fold_5/file_0.csv']\n",
      "test files  ['../../dataset/fixed_dataset/fold_5/file_2.csv']\n",
      "done\n",
      "('process id:', 3)\n",
      "('Testing set:', {u'max_features': 'log2', u'n_estimators': 4000, u'min_samples_leaf': 1, u'class_weight': 'balanced'})\n",
      "testing 0, Keck_Pria_AS_Retest\n"
     ]
    },
    {
     "name": "stderr",
     "output_type": "stream",
     "text": [
      "[Parallel(n_jobs=-1)]: Done 136 tasks      | elapsed:    2.0s\n",
      "[Parallel(n_jobs=-1)]: Done 386 tasks      | elapsed:    5.0s\n",
      "[Parallel(n_jobs=-1)]: Done 736 tasks      | elapsed:    9.2s\n",
      "[Parallel(n_jobs=-1)]: Done 1186 tasks      | elapsed:   14.6s\n",
      "[Parallel(n_jobs=-1)]: Done 1736 tasks      | elapsed:   21.2s\n",
      "[Parallel(n_jobs=-1)]: Done 2386 tasks      | elapsed:   29.0s\n",
      "[Parallel(n_jobs=-1)]: Done 3136 tasks      | elapsed:   38.2s\n",
      "[Parallel(n_jobs=-1)]: Done 4000 out of 4000 | elapsed:   49.5s finished\n"
     ]
    },
    {
     "name": "stdout",
     "output_type": "stream",
     "text": [
      "testing 1, Keck_Pria_FP_data\n"
     ]
    },
    {
     "name": "stderr",
     "output_type": "stream",
     "text": [
      "[Parallel(n_jobs=-1)]: Done 136 tasks      | elapsed:    1.2s\n",
      "[Parallel(n_jobs=-1)]: Done 386 tasks      | elapsed:    3.1s\n",
      "[Parallel(n_jobs=-1)]: Done 736 tasks      | elapsed:    5.8s\n",
      "[Parallel(n_jobs=-1)]: Done 1186 tasks      | elapsed:    9.3s\n",
      "[Parallel(n_jobs=-1)]: Done 1736 tasks      | elapsed:   14.0s\n",
      "[Parallel(n_jobs=-1)]: Done 2386 tasks      | elapsed:   19.8s\n",
      "[Parallel(n_jobs=-1)]: Done 3136 tasks      | elapsed:   27.0s\n",
      "[Parallel(n_jobs=-1)]: Done 4000 out of 4000 | elapsed:   35.0s finished\n"
     ]
    },
    {
     "name": "stdout",
     "output_type": "stream",
     "text": [
      "testing 2, Keck_RMI_cdd\n"
     ]
    },
    {
     "name": "stderr",
     "output_type": "stream",
     "text": [
      "[Parallel(n_jobs=-1)]: Done 136 tasks      | elapsed:    1.4s\n",
      "[Parallel(n_jobs=-1)]: Done 386 tasks      | elapsed:    3.7s\n",
      "[Parallel(n_jobs=-1)]: Done 736 tasks      | elapsed:    7.0s\n",
      "[Parallel(n_jobs=-1)]: Done 1186 tasks      | elapsed:   11.1s\n",
      "[Parallel(n_jobs=-1)]: Done 1736 tasks      | elapsed:   16.1s\n",
      "[Parallel(n_jobs=-1)]: Done 2386 tasks      | elapsed:   22.1s\n",
      "[Parallel(n_jobs=-1)]: Done 3136 tasks      | elapsed:   29.2s\n",
      "[Parallel(n_jobs=-1)]: Done 4000 out of 4000 | elapsed:   38.1s finished\n",
      "[Parallel(n_jobs=32)]: Done 136 tasks      | elapsed:    0.3s\n",
      "[Parallel(n_jobs=32)]: Done 386 tasks      | elapsed:    1.0s\n",
      "[Parallel(n_jobs=32)]: Done 736 tasks      | elapsed:    1.8s\n",
      "[Parallel(n_jobs=32)]: Done 1186 tasks      | elapsed:    2.8s\n",
      "[Parallel(n_jobs=32)]: Done 1736 tasks      | elapsed:    4.1s\n",
      "[Parallel(n_jobs=32)]: Done 2386 tasks      | elapsed:    5.6s\n",
      "[Parallel(n_jobs=32)]: Done 3136 tasks      | elapsed:    7.5s\n",
      "[Parallel(n_jobs=32)]: Done 4000 out of 4000 | elapsed:    9.7s finished\n",
      "[Parallel(n_jobs=32)]: Done 136 tasks      | elapsed:    0.4s\n",
      "[Parallel(n_jobs=32)]: Done 386 tasks      | elapsed:    0.9s\n",
      "[Parallel(n_jobs=32)]: Done 736 tasks      | elapsed:    1.6s\n",
      "[Parallel(n_jobs=32)]: Done 1186 tasks      | elapsed:    2.5s\n",
      "[Parallel(n_jobs=32)]: Done 1736 tasks      | elapsed:    3.6s\n",
      "[Parallel(n_jobs=32)]: Done 2386 tasks      | elapsed:    5.0s\n",
      "[Parallel(n_jobs=32)]: Done 3136 tasks      | elapsed:    6.6s\n",
      "[Parallel(n_jobs=32)]: Done 4000 out of 4000 | elapsed:    8.5s finished\n",
      "[Parallel(n_jobs=32)]: Done 136 tasks      | elapsed:    0.3s\n",
      "[Parallel(n_jobs=32)]: Done 386 tasks      | elapsed:    0.8s\n",
      "[Parallel(n_jobs=32)]: Done 736 tasks      | elapsed:    1.8s\n",
      "[Parallel(n_jobs=32)]: Done 1186 tasks      | elapsed:    2.8s\n",
      "[Parallel(n_jobs=32)]: Done 1736 tasks      | elapsed:    4.2s\n",
      "[Parallel(n_jobs=32)]: Done 2386 tasks      | elapsed:    5.8s\n",
      "[Parallel(n_jobs=32)]: Done 3136 tasks      | elapsed:    7.7s\n",
      "[Parallel(n_jobs=32)]: Done 4000 out of 4000 | elapsed:    9.9s finished\n",
      "[Parallel(n_jobs=32)]: Done 136 tasks      | elapsed:    0.3s\n",
      "[Parallel(n_jobs=32)]: Done 386 tasks      | elapsed:    0.7s\n",
      "[Parallel(n_jobs=32)]: Done 736 tasks      | elapsed:    1.3s\n",
      "[Parallel(n_jobs=32)]: Done 1186 tasks      | elapsed:    2.0s\n",
      "[Parallel(n_jobs=32)]: Done 1736 tasks      | elapsed:    3.1s\n",
      "[Parallel(n_jobs=32)]: Done 2386 tasks      | elapsed:    4.2s\n",
      "[Parallel(n_jobs=32)]: Done 3136 tasks      | elapsed:    5.4s\n",
      "[Parallel(n_jobs=32)]: Done 4000 out of 4000 | elapsed:    6.9s finished\n",
      "[Parallel(n_jobs=32)]: Done 136 tasks      | elapsed:    0.3s\n",
      "[Parallel(n_jobs=32)]: Done 386 tasks      | elapsed:    0.7s\n",
      "[Parallel(n_jobs=32)]: Done 736 tasks      | elapsed:    1.4s\n",
      "[Parallel(n_jobs=32)]: Done 1186 tasks      | elapsed:    2.1s\n",
      "[Parallel(n_jobs=32)]: Done 1736 tasks      | elapsed:    3.1s\n",
      "[Parallel(n_jobs=32)]: Done 2386 tasks      | elapsed:    4.2s\n",
      "[Parallel(n_jobs=32)]: Done 3136 tasks      | elapsed:    5.5s\n",
      "[Parallel(n_jobs=32)]: Done 4000 out of 4000 | elapsed:    6.9s finished\n",
      "[Parallel(n_jobs=32)]: Done   6 tasks      | elapsed:    0.0s\n",
      "[Parallel(n_jobs=32)]: Done 136 tasks      | elapsed:    0.3s\n",
      "[Parallel(n_jobs=32)]: Done 386 tasks      | elapsed:    0.7s\n",
      "[Parallel(n_jobs=32)]: Done 736 tasks      | elapsed:    1.3s\n",
      "[Parallel(n_jobs=32)]: Done 1186 tasks      | elapsed:    2.1s\n",
      "[Parallel(n_jobs=32)]: Done 1736 tasks      | elapsed:    3.1s\n",
      "[Parallel(n_jobs=32)]: Done 2386 tasks      | elapsed:    4.2s\n",
      "[Parallel(n_jobs=32)]: Done 3136 tasks      | elapsed:    5.6s\n",
      "[Parallel(n_jobs=32)]: Done 4000 out of 4000 | elapsed:    7.1s finished\n"
     ]
    },
    {
     "name": "stdout",
     "output_type": "stream",
     "text": [
      "(57939, 3)\n",
      "(57939, 3)\n",
      "(14484, 3)\n",
      "(14484, 3)\n",
      "\n",
      "train precision: 1.0\n",
      "train roc: 1.0\n",
      "train bedroc: 0.990095964004\n",
      "\n",
      "test precision: 0.132892411445\n",
      "test roc: 0.826814853281\n",
      "test bedroc: 0.581823642654\n",
      "\n",
      "Below is for Keck_Pria_AS_Retest\n",
      "\n",
      "train precision: 1.0\n",
      "train roc: 1.0\n",
      "train bedroc: 0.994668490214\n",
      "\n",
      "test precision: 0.248512246681\n",
      "test roc: 0.934361608377\n",
      "test bedroc: 0.83403922981\n",
      "\n",
      "done\n"
     ]
    }
   ],
   "source": [
    "run(8)"
   ]
  },
  {
   "cell_type": "code",
   "execution_count": 14,
   "metadata": {},
   "outputs": [
    {
     "name": "stdout",
     "output_type": "stream",
     "text": [
      "label_name_list  [u'Keck_Pria_AS_Retest', u'Keck_Pria_FP_data', u'Keck_RMI_cdd']\n",
      "[1 2 4] 0 3\n",
      "train files  ['../../dataset/fixed_dataset/fold_5/file_1.csv'\n",
      " '../../dataset/fixed_dataset/fold_5/file_2.csv'\n",
      " '../../dataset/fixed_dataset/fold_5/file_4.csv']\n",
      "val files  ['../../dataset/fixed_dataset/fold_5/file_0.csv']\n",
      "test files  ['../../dataset/fixed_dataset/fold_5/file_3.csv']\n",
      "done\n",
      "('process id:', 3)\n",
      "('Testing set:', {u'max_features': 'log2', u'n_estimators': 4000, u'min_samples_leaf': 1, u'class_weight': 'balanced'})\n",
      "testing 0, Keck_Pria_AS_Retest\n"
     ]
    },
    {
     "name": "stderr",
     "output_type": "stream",
     "text": [
      "[Parallel(n_jobs=-1)]: Done 136 tasks      | elapsed:    1.9s\n",
      "[Parallel(n_jobs=-1)]: Done 386 tasks      | elapsed:    5.0s\n",
      "[Parallel(n_jobs=-1)]: Done 736 tasks      | elapsed:    9.3s\n",
      "[Parallel(n_jobs=-1)]: Done 1186 tasks      | elapsed:   14.7s\n",
      "[Parallel(n_jobs=-1)]: Done 1736 tasks      | elapsed:   21.3s\n",
      "[Parallel(n_jobs=-1)]: Done 2386 tasks      | elapsed:   29.5s\n",
      "[Parallel(n_jobs=-1)]: Done 3136 tasks      | elapsed:   38.8s\n",
      "[Parallel(n_jobs=-1)]: Done 4000 out of 4000 | elapsed:   50.0s finished\n"
     ]
    },
    {
     "name": "stdout",
     "output_type": "stream",
     "text": [
      "testing 1, Keck_Pria_FP_data\n"
     ]
    },
    {
     "name": "stderr",
     "output_type": "stream",
     "text": [
      "[Parallel(n_jobs=-1)]: Done 136 tasks      | elapsed:    1.2s\n",
      "[Parallel(n_jobs=-1)]: Done 386 tasks      | elapsed:    3.1s\n",
      "[Parallel(n_jobs=-1)]: Done 736 tasks      | elapsed:    5.7s\n",
      "[Parallel(n_jobs=-1)]: Done 1186 tasks      | elapsed:    9.3s\n",
      "[Parallel(n_jobs=-1)]: Done 1736 tasks      | elapsed:   13.9s\n",
      "[Parallel(n_jobs=-1)]: Done 2386 tasks      | elapsed:   19.7s\n",
      "[Parallel(n_jobs=-1)]: Done 3136 tasks      | elapsed:   26.7s\n",
      "[Parallel(n_jobs=-1)]: Done 4000 out of 4000 | elapsed:   35.0s finished\n"
     ]
    },
    {
     "name": "stdout",
     "output_type": "stream",
     "text": [
      "testing 2, Keck_RMI_cdd\n"
     ]
    },
    {
     "name": "stderr",
     "output_type": "stream",
     "text": [
      "[Parallel(n_jobs=-1)]: Done 136 tasks      | elapsed:    1.4s\n",
      "[Parallel(n_jobs=-1)]: Done 386 tasks      | elapsed:    3.7s\n",
      "[Parallel(n_jobs=-1)]: Done 736 tasks      | elapsed:    6.9s\n",
      "[Parallel(n_jobs=-1)]: Done 1186 tasks      | elapsed:   10.9s\n",
      "[Parallel(n_jobs=-1)]: Done 1736 tasks      | elapsed:   15.9s\n",
      "[Parallel(n_jobs=-1)]: Done 2386 tasks      | elapsed:   21.8s\n",
      "[Parallel(n_jobs=-1)]: Done 3136 tasks      | elapsed:   28.7s\n",
      "[Parallel(n_jobs=-1)]: Done 4000 out of 4000 | elapsed:   36.8s finished\n",
      "[Parallel(n_jobs=32)]: Done 136 tasks      | elapsed:    0.3s\n",
      "[Parallel(n_jobs=32)]: Done 386 tasks      | elapsed:    0.8s\n",
      "[Parallel(n_jobs=32)]: Done 736 tasks      | elapsed:    1.6s\n",
      "[Parallel(n_jobs=32)]: Done 1186 tasks      | elapsed:    2.8s\n",
      "[Parallel(n_jobs=32)]: Done 1736 tasks      | elapsed:    4.1s\n",
      "[Parallel(n_jobs=32)]: Done 2386 tasks      | elapsed:    5.7s\n",
      "[Parallel(n_jobs=32)]: Done 3136 tasks      | elapsed:    7.4s\n",
      "[Parallel(n_jobs=32)]: Done 4000 out of 4000 | elapsed:    9.6s finished\n",
      "[Parallel(n_jobs=32)]: Done 136 tasks      | elapsed:    0.3s\n",
      "[Parallel(n_jobs=32)]: Done 386 tasks      | elapsed:    0.8s\n",
      "[Parallel(n_jobs=32)]: Done 736 tasks      | elapsed:    1.5s\n",
      "[Parallel(n_jobs=32)]: Done 1186 tasks      | elapsed:    2.5s\n",
      "[Parallel(n_jobs=32)]: Done 1736 tasks      | elapsed:    3.7s\n",
      "[Parallel(n_jobs=32)]: Done 2386 tasks      | elapsed:    5.0s\n",
      "[Parallel(n_jobs=32)]: Done 3136 tasks      | elapsed:    6.7s\n",
      "[Parallel(n_jobs=32)]: Done 4000 out of 4000 | elapsed:    8.6s finished\n",
      "[Parallel(n_jobs=32)]: Done 136 tasks      | elapsed:    0.3s\n",
      "[Parallel(n_jobs=32)]: Done 386 tasks      | elapsed:    0.9s\n",
      "[Parallel(n_jobs=32)]: Done 736 tasks      | elapsed:    1.8s\n",
      "[Parallel(n_jobs=32)]: Done 1186 tasks      | elapsed:    3.0s\n",
      "[Parallel(n_jobs=32)]: Done 1736 tasks      | elapsed:    4.3s\n",
      "[Parallel(n_jobs=32)]: Done 2386 tasks      | elapsed:    5.8s\n",
      "[Parallel(n_jobs=32)]: Done 3136 tasks      | elapsed:    7.7s\n",
      "[Parallel(n_jobs=32)]: Done 4000 out of 4000 | elapsed:    9.8s finished\n",
      "[Parallel(n_jobs=32)]: Done 136 tasks      | elapsed:    0.2s\n",
      "[Parallel(n_jobs=32)]: Done 386 tasks      | elapsed:    0.7s\n",
      "[Parallel(n_jobs=32)]: Done 736 tasks      | elapsed:    1.3s\n",
      "[Parallel(n_jobs=32)]: Done 1186 tasks      | elapsed:    2.1s\n",
      "[Parallel(n_jobs=32)]: Done 1736 tasks      | elapsed:    3.0s\n",
      "[Parallel(n_jobs=32)]: Done 2386 tasks      | elapsed:    4.0s\n",
      "[Parallel(n_jobs=32)]: Done 3136 tasks      | elapsed:    5.3s\n",
      "[Parallel(n_jobs=32)]: Done 4000 out of 4000 | elapsed:    6.8s finished\n",
      "[Parallel(n_jobs=32)]: Done 136 tasks      | elapsed:    0.3s\n",
      "[Parallel(n_jobs=32)]: Done 386 tasks      | elapsed:    0.7s\n",
      "[Parallel(n_jobs=32)]: Done 736 tasks      | elapsed:    1.3s\n",
      "[Parallel(n_jobs=32)]: Done 1186 tasks      | elapsed:    2.1s\n",
      "[Parallel(n_jobs=32)]: Done 1736 tasks      | elapsed:    3.1s\n",
      "[Parallel(n_jobs=32)]: Done 2386 tasks      | elapsed:    4.2s\n",
      "[Parallel(n_jobs=32)]: Done 3136 tasks      | elapsed:    5.4s\n",
      "[Parallel(n_jobs=32)]: Done 4000 out of 4000 | elapsed:    6.8s finished\n",
      "[Parallel(n_jobs=32)]: Done 136 tasks      | elapsed:    0.3s\n",
      "[Parallel(n_jobs=32)]: Done 386 tasks      | elapsed:    0.8s\n",
      "[Parallel(n_jobs=32)]: Done 736 tasks      | elapsed:    1.4s\n",
      "[Parallel(n_jobs=32)]: Done 1186 tasks      | elapsed:    2.2s\n",
      "[Parallel(n_jobs=32)]: Done 1736 tasks      | elapsed:    3.1s\n",
      "[Parallel(n_jobs=32)]: Done 2386 tasks      | elapsed:    4.2s\n",
      "[Parallel(n_jobs=32)]: Done 3136 tasks      | elapsed:    5.6s\n",
      "[Parallel(n_jobs=32)]: Done 4000 out of 4000 | elapsed:    7.1s finished\n"
     ]
    },
    {
     "name": "stdout",
     "output_type": "stream",
     "text": [
      "(57938, 3)\n",
      "(57938, 3)\n",
      "(14485, 3)\n",
      "(14485, 3)\n",
      "\n",
      "train precision: 1.0\n",
      "train roc: 1.0\n",
      "train bedroc: 0.990165204217\n",
      "\n",
      "test precision: 0.149709308406\n",
      "test roc: 0.866872405916\n",
      "test bedroc: 0.620102298674\n",
      "\n",
      "Below is for Keck_Pria_AS_Retest\n",
      "\n",
      "train precision: 1.0\n",
      "train roc: 1.0\n",
      "train bedroc: 0.994668398524\n",
      "\n",
      "test precision: 0.379615907271\n",
      "test roc: 0.943178087636\n",
      "test bedroc: 0.866226902673\n",
      "\n",
      "done\n"
     ]
    }
   ],
   "source": [
    "run(12)"
   ]
  },
  {
   "cell_type": "code",
   "execution_count": 15,
   "metadata": {},
   "outputs": [
    {
     "name": "stdout",
     "output_type": "stream",
     "text": [
      "label_name_list  [u'Keck_Pria_AS_Retest', u'Keck_Pria_FP_data', u'Keck_RMI_cdd']\n",
      "[1 2 3] 0 4\n",
      "train files  ['../../dataset/fixed_dataset/fold_5/file_1.csv'\n",
      " '../../dataset/fixed_dataset/fold_5/file_2.csv'\n",
      " '../../dataset/fixed_dataset/fold_5/file_3.csv']\n",
      "val files  ['../../dataset/fixed_dataset/fold_5/file_0.csv']\n",
      "test files  ['../../dataset/fixed_dataset/fold_5/file_4.csv']\n",
      "done\n",
      "('process id:', 3)\n",
      "('Testing set:', {u'max_features': 'log2', u'n_estimators': 4000, u'min_samples_leaf': 1, u'class_weight': 'balanced'})\n",
      "testing 0, Keck_Pria_AS_Retest\n"
     ]
    },
    {
     "name": "stderr",
     "output_type": "stream",
     "text": [
      "[Parallel(n_jobs=-1)]: Done 136 tasks      | elapsed:    1.9s\n",
      "[Parallel(n_jobs=-1)]: Done 386 tasks      | elapsed:    4.9s\n",
      "[Parallel(n_jobs=-1)]: Done 736 tasks      | elapsed:    9.0s\n",
      "[Parallel(n_jobs=-1)]: Done 1186 tasks      | elapsed:   14.3s\n",
      "[Parallel(n_jobs=-1)]: Done 1736 tasks      | elapsed:   20.7s\n",
      "[Parallel(n_jobs=-1)]: Done 2386 tasks      | elapsed:   28.3s\n",
      "[Parallel(n_jobs=-1)]: Done 3136 tasks      | elapsed:   37.0s\n",
      "[Parallel(n_jobs=-1)]: Done 4000 out of 4000 | elapsed:   47.3s finished\n"
     ]
    },
    {
     "name": "stdout",
     "output_type": "stream",
     "text": [
      "testing 1, Keck_Pria_FP_data\n"
     ]
    },
    {
     "name": "stderr",
     "output_type": "stream",
     "text": [
      "[Parallel(n_jobs=-1)]: Done 136 tasks      | elapsed:    1.1s\n",
      "[Parallel(n_jobs=-1)]: Done 386 tasks      | elapsed:    3.1s\n",
      "[Parallel(n_jobs=-1)]: Done 736 tasks      | elapsed:    5.6s\n",
      "[Parallel(n_jobs=-1)]: Done 1186 tasks      | elapsed:    8.9s\n",
      "[Parallel(n_jobs=-1)]: Done 1736 tasks      | elapsed:   13.0s\n",
      "[Parallel(n_jobs=-1)]: Done 2386 tasks      | elapsed:   17.8s\n",
      "[Parallel(n_jobs=-1)]: Done 3136 tasks      | elapsed:   23.4s\n",
      "[Parallel(n_jobs=-1)]: Done 4000 out of 4000 | elapsed:   30.4s finished\n"
     ]
    },
    {
     "name": "stdout",
     "output_type": "stream",
     "text": [
      "testing 2, Keck_RMI_cdd\n"
     ]
    },
    {
     "name": "stderr",
     "output_type": "stream",
     "text": [
      "[Parallel(n_jobs=-1)]: Done 136 tasks      | elapsed:    1.4s\n",
      "[Parallel(n_jobs=-1)]: Done 386 tasks      | elapsed:    3.8s\n",
      "[Parallel(n_jobs=-1)]: Done 736 tasks      | elapsed:    6.9s\n",
      "[Parallel(n_jobs=-1)]: Done 1186 tasks      | elapsed:   11.1s\n",
      "[Parallel(n_jobs=-1)]: Done 1736 tasks      | elapsed:   16.3s\n",
      "[Parallel(n_jobs=-1)]: Done 2386 tasks      | elapsed:   22.7s\n",
      "[Parallel(n_jobs=-1)]: Done 3136 tasks      | elapsed:   29.9s\n",
      "[Parallel(n_jobs=-1)]: Done 4000 out of 4000 | elapsed:   38.5s finished\n",
      "[Parallel(n_jobs=32)]: Done 136 tasks      | elapsed:    0.3s\n",
      "[Parallel(n_jobs=32)]: Done 386 tasks      | elapsed:    0.9s\n",
      "[Parallel(n_jobs=32)]: Done 736 tasks      | elapsed:    1.8s\n",
      "[Parallel(n_jobs=32)]: Done 1186 tasks      | elapsed:    2.8s\n",
      "[Parallel(n_jobs=32)]: Done 1736 tasks      | elapsed:    4.2s\n",
      "[Parallel(n_jobs=32)]: Done 2386 tasks      | elapsed:    5.8s\n",
      "[Parallel(n_jobs=32)]: Done 3136 tasks      | elapsed:    7.6s\n",
      "[Parallel(n_jobs=32)]: Done 4000 out of 4000 | elapsed:    9.6s finished\n",
      "[Parallel(n_jobs=32)]: Done 136 tasks      | elapsed:    0.3s\n",
      "[Parallel(n_jobs=32)]: Done 386 tasks      | elapsed:    0.8s\n",
      "[Parallel(n_jobs=32)]: Done 736 tasks      | elapsed:    1.5s\n",
      "[Parallel(n_jobs=32)]: Done 1186 tasks      | elapsed:    2.5s\n",
      "[Parallel(n_jobs=32)]: Done 1736 tasks      | elapsed:    3.7s\n",
      "[Parallel(n_jobs=32)]: Done 2386 tasks      | elapsed:    5.1s\n",
      "[Parallel(n_jobs=32)]: Done 3136 tasks      | elapsed:    6.7s\n",
      "[Parallel(n_jobs=32)]: Done 4000 out of 4000 | elapsed:    8.5s finished\n",
      "[Parallel(n_jobs=32)]: Done 136 tasks      | elapsed:    0.3s\n",
      "[Parallel(n_jobs=32)]: Done 386 tasks      | elapsed:    0.9s\n",
      "[Parallel(n_jobs=32)]: Done 736 tasks      | elapsed:    1.7s\n",
      "[Parallel(n_jobs=32)]: Done 1186 tasks      | elapsed:    2.9s\n",
      "[Parallel(n_jobs=32)]: Done 1736 tasks      | elapsed:    4.3s\n",
      "[Parallel(n_jobs=32)]: Done 2386 tasks      | elapsed:    6.1s\n",
      "[Parallel(n_jobs=32)]: Done 3136 tasks      | elapsed:    8.0s\n",
      "[Parallel(n_jobs=32)]: Done 4000 out of 4000 | elapsed:   10.1s finished\n",
      "[Parallel(n_jobs=32)]: Done 136 tasks      | elapsed:    0.3s\n",
      "[Parallel(n_jobs=32)]: Done 386 tasks      | elapsed:    0.7s\n",
      "[Parallel(n_jobs=32)]: Done 736 tasks      | elapsed:    1.3s\n",
      "[Parallel(n_jobs=32)]: Done 1186 tasks      | elapsed:    2.1s\n",
      "[Parallel(n_jobs=32)]: Done 1736 tasks      | elapsed:    3.1s\n",
      "[Parallel(n_jobs=32)]: Done 2386 tasks      | elapsed:    4.2s\n",
      "[Parallel(n_jobs=32)]: Done 3136 tasks      | elapsed:    5.6s\n",
      "[Parallel(n_jobs=32)]: Done 4000 out of 4000 | elapsed:    7.1s finished\n",
      "[Parallel(n_jobs=32)]: Done 136 tasks      | elapsed:    0.3s\n",
      "[Parallel(n_jobs=32)]: Done 386 tasks      | elapsed:    0.7s\n",
      "[Parallel(n_jobs=32)]: Done 736 tasks      | elapsed:    1.3s\n",
      "[Parallel(n_jobs=32)]: Done 1186 tasks      | elapsed:    2.1s\n",
      "[Parallel(n_jobs=32)]: Done 1736 tasks      | elapsed:    3.0s\n",
      "[Parallel(n_jobs=32)]: Done 2386 tasks      | elapsed:    4.1s\n",
      "[Parallel(n_jobs=32)]: Done 3136 tasks      | elapsed:    5.4s\n",
      "[Parallel(n_jobs=32)]: Done 4000 out of 4000 | elapsed:    6.9s finished\n",
      "[Parallel(n_jobs=32)]: Done 136 tasks      | elapsed:    0.2s\n",
      "[Parallel(n_jobs=32)]: Done 386 tasks      | elapsed:    0.7s\n",
      "[Parallel(n_jobs=32)]: Done 736 tasks      | elapsed:    1.3s\n",
      "[Parallel(n_jobs=32)]: Done 1186 tasks      | elapsed:    2.0s\n",
      "[Parallel(n_jobs=32)]: Done 1736 tasks      | elapsed:    3.0s\n",
      "[Parallel(n_jobs=32)]: Done 2386 tasks      | elapsed:    4.2s\n",
      "[Parallel(n_jobs=32)]: Done 3136 tasks      | elapsed:    5.6s\n",
      "[Parallel(n_jobs=32)]: Done 4000 out of 4000 | elapsed:    7.1s finished\n"
     ]
    },
    {
     "name": "stdout",
     "output_type": "stream",
     "text": [
      "(57937, 3)\n",
      "(57937, 3)\n",
      "(14486, 3)\n",
      "(14486, 3)\n",
      "\n",
      "train precision: 1.0\n",
      "train roc: 1.0\n",
      "train bedroc: 0.990234270073\n",
      "\n",
      "test precision: 0.101716290184\n",
      "test roc: 0.801515262866\n",
      "test bedroc: 0.539762116634\n",
      "\n",
      "Below is for Keck_Pria_AS_Retest\n",
      "\n",
      "train precision: 1.0\n",
      "train roc: 1.0\n",
      "train bedroc: 0.99466830683\n",
      "\n",
      "test precision: 0.0964912719995\n",
      "test roc: 0.787709485142\n",
      "test bedroc: 0.555535014689\n",
      "\n",
      "done\n"
     ]
    }
   ],
   "source": [
    "run(16)"
   ]
  }
 ],
 "metadata": {
  "kernelspec": {
   "display_name": "Python 2",
   "language": "python",
   "name": "python2"
  },
  "language_info": {
   "codemirror_mode": {
    "name": "ipython",
    "version": 2
   },
   "file_extension": ".py",
   "mimetype": "text/x-python",
   "name": "python",
   "nbconvert_exporter": "python",
   "pygments_lexer": "ipython2",
   "version": "2.7.15"
  }
 },
 "nbformat": 4,
 "nbformat_minor": 1
}

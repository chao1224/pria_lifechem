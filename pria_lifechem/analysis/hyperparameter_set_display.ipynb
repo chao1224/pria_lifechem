{
 "cells": [
  {
   "cell_type": "code",
   "execution_count": 1,
   "metadata": {
    "collapsed": false,
    "deletable": true,
    "editable": true
   },
   "outputs": [
    {
     "name": "stderr",
     "output_type": "stream",
     "text": [
      "Using Theano backend.\n",
      "/home/sliu426/anaconda/lib/python2.7/site-packages/sklearn/cross_validation.py:41: DeprecationWarning: This module was deprecated in version 0.18 in favor of the model_selection module into which all the refactored classes and functions are moved. Also note that the interface of the new CV iterators are different from that of this module. This module will be removed in 0.20.\n",
      "  \"This module will be removed in 0.20.\", DeprecationWarning)\n",
      "/home/sliu426/anaconda/lib/python2.7/site-packages/sklearn/grid_search.py:42: DeprecationWarning: This module was deprecated in version 0.18 in favor of the model_selection module into which all the refactored classes and functions are moved. This module will be removed in 0.20.\n",
      "  DeprecationWarning)\n"
     ]
    }
   ],
   "source": [
    "from IPython.display import Markdown\n",
    "import sys\n",
    "from pria_lifechem.models.stage_hyperparameter_search import get_hyperparameter_sets_in_markdown\n",
    "%load_ext autoreload\n",
    "%autoreload 2"
   ]
  },
  {
   "cell_type": "code",
   "execution_count": 2,
   "metadata": {
    "collapsed": false,
    "deletable": true,
    "editable": true,
    "scrolled": false
   },
   "outputs": [
    {
     "data": {
      "text/markdown": [
       "# Hyperparameter Set: single_classification\n",
       "| count | weighted schema | optimizer | learning rate | early stopping | epoch patience | activations |\n",
       "| --- | --- | --- | --- | --- | --- | --- |\n",
       "| 0 | no_weight | adam | 3e-05 | auc | {'patience': 50, 'epoch_size': 200} | {0: 'relu', 1: 'sigmoid', 2: 'sigmoid'} |\n",
       "| 1 | weighted_sample | adam | 3e-05 | auc | {'patience': 50, 'epoch_size': 200} | {0: 'relu', 1: 'sigmoid', 2: 'sigmoid'} |\n",
       "| 2 | no_weight | adam | 0.0001 | auc | {'patience': 50, 'epoch_size': 200} | {0: 'relu', 1: 'sigmoid', 2: 'sigmoid'} |\n",
       "| 3 | weighted_sample | adam | 0.0001 | auc | {'patience': 50, 'epoch_size': 200} | {0: 'relu', 1: 'sigmoid', 2: 'sigmoid'} |\n",
       "| 4 | no_weight | adam | 0.003 | auc | {'patience': 50, 'epoch_size': 200} | {0: 'relu', 1: 'sigmoid', 2: 'sigmoid'} |\n",
       "| 5 | weighted_sample | adam | 0.003 | auc | {'patience': 50, 'epoch_size': 200} | {0: 'relu', 1: 'sigmoid', 2: 'sigmoid'} |\n",
       "| 6 | no_weight | adam | 3e-05 | auc | {'patience': 200, 'epoch_size': 1000} | {0: 'relu', 1: 'sigmoid', 2: 'sigmoid'} |\n",
       "| 7 | weighted_sample | adam | 3e-05 | auc | {'patience': 200, 'epoch_size': 1000} | {0: 'relu', 1: 'sigmoid', 2: 'sigmoid'} |\n",
       "| 8 | no_weight | adam | 0.0001 | auc | {'patience': 200, 'epoch_size': 1000} | {0: 'relu', 1: 'sigmoid', 2: 'sigmoid'} |\n",
       "| 9 | weighted_sample | adam | 0.0001 | auc | {'patience': 200, 'epoch_size': 1000} | {0: 'relu', 1: 'sigmoid', 2: 'sigmoid'} |\n",
       "| 10 | no_weight | adam | 0.003 | auc | {'patience': 200, 'epoch_size': 1000} | {0: 'relu', 1: 'sigmoid', 2: 'sigmoid'} |\n",
       "| 11 | weighted_sample | adam | 0.003 | auc | {'patience': 200, 'epoch_size': 1000} | {0: 'relu', 1: 'sigmoid', 2: 'sigmoid'} |\n",
       "| 12 | no_weight | adam | 3e-05 | precision | {'patience': 50, 'epoch_size': 200} | {0: 'relu', 1: 'sigmoid', 2: 'sigmoid'} |\n",
       "| 13 | weighted_sample | adam | 3e-05 | precision | {'patience': 50, 'epoch_size': 200} | {0: 'relu', 1: 'sigmoid', 2: 'sigmoid'} |\n",
       "| 14 | no_weight | adam | 0.0001 | precision | {'patience': 50, 'epoch_size': 200} | {0: 'relu', 1: 'sigmoid', 2: 'sigmoid'} |\n",
       "| 15 | weighted_sample | adam | 0.0001 | precision | {'patience': 50, 'epoch_size': 200} | {0: 'relu', 1: 'sigmoid', 2: 'sigmoid'} |\n",
       "| 16 | no_weight | adam | 0.003 | precision | {'patience': 50, 'epoch_size': 200} | {0: 'relu', 1: 'sigmoid', 2: 'sigmoid'} |\n",
       "| 17 | weighted_sample | adam | 0.003 | precision | {'patience': 50, 'epoch_size': 200} | {0: 'relu', 1: 'sigmoid', 2: 'sigmoid'} |\n",
       "| 18 | no_weight | adam | 3e-05 | precision | {'patience': 200, 'epoch_size': 1000} | {0: 'relu', 1: 'sigmoid', 2: 'sigmoid'} |\n",
       "| 19 | weighted_sample | adam | 3e-05 | precision | {'patience': 200, 'epoch_size': 1000} | {0: 'relu', 1: 'sigmoid', 2: 'sigmoid'} |\n",
       "| 20 | no_weight | adam | 0.0001 | precision | {'patience': 200, 'epoch_size': 1000} | {0: 'relu', 1: 'sigmoid', 2: 'sigmoid'} |\n",
       "| 21 | weighted_sample | adam | 0.0001 | precision | {'patience': 200, 'epoch_size': 1000} | {0: 'relu', 1: 'sigmoid', 2: 'sigmoid'} |\n",
       "| 22 | no_weight | adam | 0.003 | precision | {'patience': 200, 'epoch_size': 1000} | {0: 'relu', 1: 'sigmoid', 2: 'sigmoid'} |\n",
       "| 23 | weighted_sample | adam | 0.003 | precision | {'patience': 200, 'epoch_size': 1000} | {0: 'relu', 1: 'sigmoid', 2: 'sigmoid'} |\n",
       "| 24 | no_weight | adam | 3e-05 | auc | {'patience': 50, 'epoch_size': 200} | {0: 'relu', 1: 'relu', 2: 'sigmoid'} |\n",
       "| 25 | weighted_sample | adam | 3e-05 | auc | {'patience': 50, 'epoch_size': 200} | {0: 'relu', 1: 'relu', 2: 'sigmoid'} |\n",
       "| 26 | no_weight | adam | 0.0001 | auc | {'patience': 50, 'epoch_size': 200} | {0: 'relu', 1: 'relu', 2: 'sigmoid'} |\n",
       "| 27 | weighted_sample | adam | 0.0001 | auc | {'patience': 50, 'epoch_size': 200} | {0: 'relu', 1: 'relu', 2: 'sigmoid'} |\n",
       "| 28 | no_weight | adam | 0.003 | auc | {'patience': 50, 'epoch_size': 200} | {0: 'relu', 1: 'relu', 2: 'sigmoid'} |\n",
       "| 29 | weighted_sample | adam | 0.003 | auc | {'patience': 50, 'epoch_size': 200} | {0: 'relu', 1: 'relu', 2: 'sigmoid'} |\n",
       "| 30 | no_weight | adam | 3e-05 | auc | {'patience': 200, 'epoch_size': 1000} | {0: 'relu', 1: 'relu', 2: 'sigmoid'} |\n",
       "| 31 | weighted_sample | adam | 3e-05 | auc | {'patience': 200, 'epoch_size': 1000} | {0: 'relu', 1: 'relu', 2: 'sigmoid'} |\n",
       "| 32 | no_weight | adam | 0.0001 | auc | {'patience': 200, 'epoch_size': 1000} | {0: 'relu', 1: 'relu', 2: 'sigmoid'} |\n",
       "| 33 | weighted_sample | adam | 0.0001 | auc | {'patience': 200, 'epoch_size': 1000} | {0: 'relu', 1: 'relu', 2: 'sigmoid'} |\n",
       "| 34 | no_weight | adam | 0.003 | auc | {'patience': 200, 'epoch_size': 1000} | {0: 'relu', 1: 'relu', 2: 'sigmoid'} |\n",
       "| 35 | weighted_sample | adam | 0.003 | auc | {'patience': 200, 'epoch_size': 1000} | {0: 'relu', 1: 'relu', 2: 'sigmoid'} |\n",
       "| 36 | no_weight | adam | 3e-05 | precision | {'patience': 50, 'epoch_size': 200} | {0: 'relu', 1: 'relu', 2: 'sigmoid'} |\n",
       "| 37 | weighted_sample | adam | 3e-05 | precision | {'patience': 50, 'epoch_size': 200} | {0: 'relu', 1: 'relu', 2: 'sigmoid'} |\n",
       "| 38 | no_weight | adam | 0.0001 | precision | {'patience': 50, 'epoch_size': 200} | {0: 'relu', 1: 'relu', 2: 'sigmoid'} |\n",
       "| 39 | weighted_sample | adam | 0.0001 | precision | {'patience': 50, 'epoch_size': 200} | {0: 'relu', 1: 'relu', 2: 'sigmoid'} |\n",
       "| 40 | no_weight | adam | 0.003 | precision | {'patience': 50, 'epoch_size': 200} | {0: 'relu', 1: 'relu', 2: 'sigmoid'} |\n",
       "| 41 | weighted_sample | adam | 0.003 | precision | {'patience': 50, 'epoch_size': 200} | {0: 'relu', 1: 'relu', 2: 'sigmoid'} |\n",
       "| 42 | no_weight | adam | 3e-05 | precision | {'patience': 200, 'epoch_size': 1000} | {0: 'relu', 1: 'relu', 2: 'sigmoid'} |\n",
       "| 43 | weighted_sample | adam | 3e-05 | precision | {'patience': 200, 'epoch_size': 1000} | {0: 'relu', 1: 'relu', 2: 'sigmoid'} |\n",
       "| 44 | no_weight | adam | 0.0001 | precision | {'patience': 200, 'epoch_size': 1000} | {0: 'relu', 1: 'relu', 2: 'sigmoid'} |\n",
       "| 45 | weighted_sample | adam | 0.0001 | precision | {'patience': 200, 'epoch_size': 1000} | {0: 'relu', 1: 'relu', 2: 'sigmoid'} |\n",
       "| 46 | no_weight | adam | 0.003 | precision | {'patience': 200, 'epoch_size': 1000} | {0: 'relu', 1: 'relu', 2: 'sigmoid'} |\n",
       "| 47 | weighted_sample | adam | 0.003 | precision | {'patience': 200, 'epoch_size': 1000} | {0: 'relu', 1: 'relu', 2: 'sigmoid'} |"
      ],
      "text/plain": [
       "<IPython.core.display.Markdown object>"
      ]
     },
     "execution_count": 2,
     "metadata": {},
     "output_type": "execute_result"
    }
   ],
   "source": [
    "model = 'single_classification'\n",
    "content = get_hyperparameter_sets_in_markdown(model)\n",
    "title = '# Hyperparameter Set: {}'.format(model)\n",
    "content = '{}\\n{}'.format(title, content)\n",
    "Markdown(content)"
   ]
  },
  {
   "cell_type": "code",
   "execution_count": 3,
   "metadata": {
    "collapsed": false,
    "deletable": true,
    "editable": true
   },
   "outputs": [
    {
     "data": {
      "text/markdown": [
       "# Hyperparameter Set: single_regression\n",
       "| count | weighted schema | optimizer | learning rate | early stopping | epoch patience | activations |\n",
       "| --- | --- | --- | --- | --- | --- | --- |\n",
       "| 0 | no_weight | adam | 3e-05 | auc | {'patience': 50, 'epoch_size': 200} | {0: 'sigmoid', 1: 'sigmoid', 2: 'linear'} |\n",
       "| 1 | no_weight | adam | 0.0001 | auc | {'patience': 50, 'epoch_size': 200} | {0: 'sigmoid', 1: 'sigmoid', 2: 'linear'} |\n",
       "| 2 | no_weight | adam | 0.003 | auc | {'patience': 50, 'epoch_size': 200} | {0: 'sigmoid', 1: 'sigmoid', 2: 'linear'} |\n",
       "| 3 | no_weight | adam | 3e-05 | auc | {'patience': 200, 'epoch_size': 1000} | {0: 'sigmoid', 1: 'sigmoid', 2: 'linear'} |\n",
       "| 4 | no_weight | adam | 0.0001 | auc | {'patience': 200, 'epoch_size': 1000} | {0: 'sigmoid', 1: 'sigmoid', 2: 'linear'} |\n",
       "| 5 | no_weight | adam | 0.003 | auc | {'patience': 200, 'epoch_size': 1000} | {0: 'sigmoid', 1: 'sigmoid', 2: 'linear'} |\n",
       "| 6 | no_weight | adam | 3e-05 | precision | {'patience': 50, 'epoch_size': 200} | {0: 'sigmoid', 1: 'sigmoid', 2: 'linear'} |\n",
       "| 7 | no_weight | adam | 0.0001 | precision | {'patience': 50, 'epoch_size': 200} | {0: 'sigmoid', 1: 'sigmoid', 2: 'linear'} |\n",
       "| 8 | no_weight | adam | 0.003 | precision | {'patience': 50, 'epoch_size': 200} | {0: 'sigmoid', 1: 'sigmoid', 2: 'linear'} |\n",
       "| 9 | no_weight | adam | 3e-05 | precision | {'patience': 200, 'epoch_size': 1000} | {0: 'sigmoid', 1: 'sigmoid', 2: 'linear'} |\n",
       "| 10 | no_weight | adam | 0.0001 | precision | {'patience': 200, 'epoch_size': 1000} | {0: 'sigmoid', 1: 'sigmoid', 2: 'linear'} |\n",
       "| 11 | no_weight | adam | 0.003 | precision | {'patience': 200, 'epoch_size': 1000} | {0: 'sigmoid', 1: 'sigmoid', 2: 'linear'} |\n",
       "| 12 | no_weight | adam | 3e-05 | auc | {'patience': 50, 'epoch_size': 200} | {0: 'relu', 1: 'sigmoid', 2: 'sigmoid'} |\n",
       "| 13 | no_weight | adam | 0.0001 | auc | {'patience': 50, 'epoch_size': 200} | {0: 'relu', 1: 'sigmoid', 2: 'sigmoid'} |\n",
       "| 14 | no_weight | adam | 0.003 | auc | {'patience': 50, 'epoch_size': 200} | {0: 'relu', 1: 'sigmoid', 2: 'sigmoid'} |\n",
       "| 15 | no_weight | adam | 3e-05 | auc | {'patience': 200, 'epoch_size': 1000} | {0: 'relu', 1: 'sigmoid', 2: 'sigmoid'} |\n",
       "| 16 | no_weight | adam | 0.0001 | auc | {'patience': 200, 'epoch_size': 1000} | {0: 'relu', 1: 'sigmoid', 2: 'sigmoid'} |\n",
       "| 17 | no_weight | adam | 0.003 | auc | {'patience': 200, 'epoch_size': 1000} | {0: 'relu', 1: 'sigmoid', 2: 'sigmoid'} |\n",
       "| 18 | no_weight | adam | 3e-05 | precision | {'patience': 50, 'epoch_size': 200} | {0: 'relu', 1: 'sigmoid', 2: 'sigmoid'} |\n",
       "| 19 | no_weight | adam | 0.0001 | precision | {'patience': 50, 'epoch_size': 200} | {0: 'relu', 1: 'sigmoid', 2: 'sigmoid'} |\n",
       "| 20 | no_weight | adam | 0.003 | precision | {'patience': 50, 'epoch_size': 200} | {0: 'relu', 1: 'sigmoid', 2: 'sigmoid'} |\n",
       "| 21 | no_weight | adam | 3e-05 | precision | {'patience': 200, 'epoch_size': 1000} | {0: 'relu', 1: 'sigmoid', 2: 'sigmoid'} |\n",
       "| 22 | no_weight | adam | 0.0001 | precision | {'patience': 200, 'epoch_size': 1000} | {0: 'relu', 1: 'sigmoid', 2: 'sigmoid'} |\n",
       "| 23 | no_weight | adam | 0.003 | precision | {'patience': 200, 'epoch_size': 1000} | {0: 'relu', 1: 'sigmoid', 2: 'sigmoid'} |"
      ],
      "text/plain": [
       "<IPython.core.display.Markdown object>"
      ]
     },
     "execution_count": 3,
     "metadata": {},
     "output_type": "execute_result"
    }
   ],
   "source": [
    "model = 'single_regression'\n",
    "content = get_hyperparameter_sets_in_markdown(model)\n",
    "title = '# Hyperparameter Set: {}'.format(model)\n",
    "content = '{}\\n{}'.format(title, content)\n",
    "Markdown(content)"
   ]
  },
  {
   "cell_type": "code",
   "execution_count": 4,
   "metadata": {
    "collapsed": false,
    "deletable": true,
    "editable": true
   },
   "outputs": [
    {
     "data": {
      "text/markdown": [
       "# Hyperparameter Set: vanilla_lstm\n",
       "| count | embedding_size | optimizer | dropout | early stopping | epoch patience | hidden_size |\n",
       "| --- | --- | --- | --- | --- | --- | --- |\n",
       "| 0 | 30 | rmsprop | 0.2 | auc | {'patience': 50, 'epoch_size': 200} | [50] |\n",
       "| 1 | 30 | rmsprop | 0.2 | auc | {'patience': 50, 'epoch_size': 200} | [100] |\n",
       "| 2 | 30 | rmsprop | 0.2 | auc | {'patience': 50, 'epoch_size': 200} | [100, 10] |\n",
       "| 3 | 30 | rmsprop | 0.2 | auc | {'patience': 50, 'epoch_size': 200} | [100, 50] |\n",
       "| 4 | 30 | rmsprop | 0.2 | auc | {'patience': 50, 'epoch_size': 200} | [50, 10] |\n",
       "| 5 | 50 | rmsprop | 0.2 | auc | {'patience': 50, 'epoch_size': 200} | [50] |\n",
       "| 6 | 50 | rmsprop | 0.2 | auc | {'patience': 50, 'epoch_size': 200} | [100] |\n",
       "| 7 | 50 | rmsprop | 0.2 | auc | {'patience': 50, 'epoch_size': 200} | [100, 10] |\n",
       "| 8 | 50 | rmsprop | 0.2 | auc | {'patience': 50, 'epoch_size': 200} | [100, 50] |\n",
       "| 9 | 50 | rmsprop | 0.2 | auc | {'patience': 50, 'epoch_size': 200} | [50, 10] |\n",
       "| 10 | 100 | rmsprop | 0.2 | auc | {'patience': 50, 'epoch_size': 200} | [50] |\n",
       "| 11 | 100 | rmsprop | 0.2 | auc | {'patience': 50, 'epoch_size': 200} | [100] |\n",
       "| 12 | 100 | rmsprop | 0.2 | auc | {'patience': 50, 'epoch_size': 200} | [100, 10] |\n",
       "| 13 | 100 | rmsprop | 0.2 | auc | {'patience': 50, 'epoch_size': 200} | [100, 50] |\n",
       "| 14 | 100 | rmsprop | 0.2 | auc | {'patience': 50, 'epoch_size': 200} | [50, 10] |\n",
       "| 15 | 30 | rmsprop | 0.5 | auc | {'patience': 50, 'epoch_size': 200} | [50] |\n",
       "| 16 | 30 | rmsprop | 0.5 | auc | {'patience': 50, 'epoch_size': 200} | [100] |\n",
       "| 17 | 30 | rmsprop | 0.5 | auc | {'patience': 50, 'epoch_size': 200} | [100, 10] |\n",
       "| 18 | 30 | rmsprop | 0.5 | auc | {'patience': 50, 'epoch_size': 200} | [100, 50] |\n",
       "| 19 | 30 | rmsprop | 0.5 | auc | {'patience': 50, 'epoch_size': 200} | [50, 10] |\n",
       "| 20 | 50 | rmsprop | 0.5 | auc | {'patience': 50, 'epoch_size': 200} | [50] |\n",
       "| 21 | 50 | rmsprop | 0.5 | auc | {'patience': 50, 'epoch_size': 200} | [100] |\n",
       "| 22 | 50 | rmsprop | 0.5 | auc | {'patience': 50, 'epoch_size': 200} | [100, 10] |\n",
       "| 23 | 50 | rmsprop | 0.5 | auc | {'patience': 50, 'epoch_size': 200} | [100, 50] |\n",
       "| 24 | 50 | rmsprop | 0.5 | auc | {'patience': 50, 'epoch_size': 200} | [50, 10] |\n",
       "| 25 | 100 | rmsprop | 0.5 | auc | {'patience': 50, 'epoch_size': 200} | [50] |\n",
       "| 26 | 100 | rmsprop | 0.5 | auc | {'patience': 50, 'epoch_size': 200} | [100] |\n",
       "| 27 | 100 | rmsprop | 0.5 | auc | {'patience': 50, 'epoch_size': 200} | [100, 10] |\n",
       "| 28 | 100 | rmsprop | 0.5 | auc | {'patience': 50, 'epoch_size': 200} | [100, 50] |\n",
       "| 29 | 100 | rmsprop | 0.5 | auc | {'patience': 50, 'epoch_size': 200} | [50, 10] |"
      ],
      "text/plain": [
       "<IPython.core.display.Markdown object>"
      ]
     },
     "execution_count": 4,
     "metadata": {},
     "output_type": "execute_result"
    }
   ],
   "source": [
    "model = 'vanilla_lstm'\n",
    "content = get_hyperparameter_sets_in_markdown(model)\n",
    "title = '# Hyperparameter Set: {}'.format(model)\n",
    "content = '{}\\n{}'.format(title, content)\n",
    "Markdown(content)"
   ]
  },
  {
   "cell_type": "code",
   "execution_count": 5,
   "metadata": {
    "collapsed": false,
    "deletable": true,
    "editable": true
   },
   "outputs": [
    {
     "data": {
      "text/markdown": [
       "# Hyperparameter Set: multi_classification\n",
       "| count | weighted schema | optimizer | learning rate | early stopping | epoch patience | activations |\n",
       "| --- | --- | --- | --- | --- | --- | --- |\n",
       "| 0 | no_weight | adam | 3e-05 | precision | {'patience': 50, 'epoch_size': 200} | {0: 'relu', 1: 'sigmoid', 2: 'sigmoid'} |\n",
       "| 1 | weighted_sample | adam | 3e-05 | precision | {'patience': 50, 'epoch_size': 200} | {0: 'relu', 1: 'sigmoid', 2: 'sigmoid'} |\n",
       "| 2 | no_weight | adam | 0.0001 | precision | {'patience': 50, 'epoch_size': 200} | {0: 'relu', 1: 'sigmoid', 2: 'sigmoid'} |\n",
       "| 3 | weighted_sample | adam | 0.0001 | precision | {'patience': 50, 'epoch_size': 200} | {0: 'relu', 1: 'sigmoid', 2: 'sigmoid'} |\n",
       "| 4 | no_weight | adam | 0.003 | precision | {'patience': 50, 'epoch_size': 200} | {0: 'relu', 1: 'sigmoid', 2: 'sigmoid'} |\n",
       "| 5 | weighted_sample | adam | 0.003 | precision | {'patience': 50, 'epoch_size': 200} | {0: 'relu', 1: 'sigmoid', 2: 'sigmoid'} |\n",
       "| 6 | no_weight | adam | 3e-05 | precision | {'patience': 200, 'epoch_size': 1000} | {0: 'relu', 1: 'sigmoid', 2: 'sigmoid'} |\n",
       "| 7 | weighted_sample | adam | 3e-05 | precision | {'patience': 200, 'epoch_size': 1000} | {0: 'relu', 1: 'sigmoid', 2: 'sigmoid'} |\n",
       "| 8 | no_weight | adam | 0.0001 | precision | {'patience': 200, 'epoch_size': 1000} | {0: 'relu', 1: 'sigmoid', 2: 'sigmoid'} |\n",
       "| 9 | weighted_sample | adam | 0.0001 | precision | {'patience': 200, 'epoch_size': 1000} | {0: 'relu', 1: 'sigmoid', 2: 'sigmoid'} |\n",
       "| 10 | no_weight | adam | 0.003 | precision | {'patience': 200, 'epoch_size': 1000} | {0: 'relu', 1: 'sigmoid', 2: 'sigmoid'} |\n",
       "| 11 | weighted_sample | adam | 0.003 | precision | {'patience': 200, 'epoch_size': 1000} | {0: 'relu', 1: 'sigmoid', 2: 'sigmoid'} |\n",
       "| 12 | no_weight | adam | 3e-05 | precision | {'patience': 50, 'epoch_size': 200} | {0: 'relu', 1: 'relu', 2: 'sigmoid'} |\n",
       "| 13 | weighted_sample | adam | 3e-05 | precision | {'patience': 50, 'epoch_size': 200} | {0: 'relu', 1: 'relu', 2: 'sigmoid'} |\n",
       "| 14 | no_weight | adam | 0.0001 | precision | {'patience': 50, 'epoch_size': 200} | {0: 'relu', 1: 'relu', 2: 'sigmoid'} |\n",
       "| 15 | weighted_sample | adam | 0.0001 | precision | {'patience': 50, 'epoch_size': 200} | {0: 'relu', 1: 'relu', 2: 'sigmoid'} |\n",
       "| 16 | no_weight | adam | 0.003 | precision | {'patience': 50, 'epoch_size': 200} | {0: 'relu', 1: 'relu', 2: 'sigmoid'} |\n",
       "| 17 | weighted_sample | adam | 0.003 | precision | {'patience': 50, 'epoch_size': 200} | {0: 'relu', 1: 'relu', 2: 'sigmoid'} |\n",
       "| 18 | no_weight | adam | 3e-05 | precision | {'patience': 200, 'epoch_size': 1000} | {0: 'relu', 1: 'relu', 2: 'sigmoid'} |\n",
       "| 19 | weighted_sample | adam | 3e-05 | precision | {'patience': 200, 'epoch_size': 1000} | {0: 'relu', 1: 'relu', 2: 'sigmoid'} |\n",
       "| 20 | no_weight | adam | 0.0001 | precision | {'patience': 200, 'epoch_size': 1000} | {0: 'relu', 1: 'relu', 2: 'sigmoid'} |\n",
       "| 21 | weighted_sample | adam | 0.0001 | precision | {'patience': 200, 'epoch_size': 1000} | {0: 'relu', 1: 'relu', 2: 'sigmoid'} |\n",
       "| 22 | no_weight | adam | 0.003 | precision | {'patience': 200, 'epoch_size': 1000} | {0: 'relu', 1: 'relu', 2: 'sigmoid'} |\n",
       "| 23 | weighted_sample | adam | 0.003 | precision | {'patience': 200, 'epoch_size': 1000} | {0: 'relu', 1: 'relu', 2: 'sigmoid'} |"
      ],
      "text/plain": [
       "<IPython.core.display.Markdown object>"
      ]
     },
     "execution_count": 5,
     "metadata": {},
     "output_type": "execute_result"
    }
   ],
   "source": [
    "model = 'multi_classification'\n",
    "content = get_hyperparameter_sets_in_markdown(model)\n",
    "title = '# Hyperparameter Set: {}'.format(model)\n",
    "content = '{}\\n{}'.format(title, content)\n",
    "Markdown(content)"
   ]
  },
  {
   "cell_type": "code",
   "execution_count": 6,
   "metadata": {
    "collapsed": false,
    "deletable": true,
    "editable": true,
    "scrolled": false
   },
   "outputs": [
    {
     "data": {
      "text/markdown": [
       "# Hyperparameter Set: random_forest\n",
       "| count | max_features | n_estimators | min_samples_leaf | class_weight |\n",
       "| --- | --- | --- | --- | --- |\n",
       "| 0 | None | 4000 | 1 | None |\n",
       "| 1 | None | 8000 | 1 | None |\n",
       "| 2 | None | 16000 | 1 | None |\n",
       "| 3 | None | 4000 | 10 | None |\n",
       "| 4 | None | 8000 | 10 | None |\n",
       "| 5 | None | 16000 | 10 | None |\n",
       "| 6 | None | 4000 | 100 | None |\n",
       "| 7 | None | 8000 | 100 | None |\n",
       "| 8 | None | 16000 | 100 | None |\n",
       "| 9 | None | 4000 | 1000 | None |\n",
       "| 10 | None | 8000 | 1000 | None |\n",
       "| 11 | None | 16000 | 1000 | None |\n",
       "| 12 | sqrt | 4000 | 1 | None |\n",
       "| 13 | sqrt | 8000 | 1 | None |\n",
       "| 14 | sqrt | 16000 | 1 | None |\n",
       "| 15 | sqrt | 4000 | 10 | None |\n",
       "| 16 | sqrt | 8000 | 10 | None |\n",
       "| 17 | sqrt | 16000 | 10 | None |\n",
       "| 18 | sqrt | 4000 | 100 | None |\n",
       "| 19 | sqrt | 8000 | 100 | None |\n",
       "| 20 | sqrt | 16000 | 100 | None |\n",
       "| 21 | sqrt | 4000 | 1000 | None |\n",
       "| 22 | sqrt | 8000 | 1000 | None |\n",
       "| 23 | sqrt | 16000 | 1000 | None |\n",
       "| 24 | log2 | 4000 | 1 | None |\n",
       "| 25 | log2 | 8000 | 1 | None |\n",
       "| 26 | log2 | 16000 | 1 | None |\n",
       "| 27 | log2 | 4000 | 10 | None |\n",
       "| 28 | log2 | 8000 | 10 | None |\n",
       "| 29 | log2 | 16000 | 10 | None |\n",
       "| 30 | log2 | 4000 | 100 | None |\n",
       "| 31 | log2 | 8000 | 100 | None |\n",
       "| 32 | log2 | 16000 | 100 | None |\n",
       "| 33 | log2 | 4000 | 1000 | None |\n",
       "| 34 | log2 | 8000 | 1000 | None |\n",
       "| 35 | log2 | 16000 | 1000 | None |\n",
       "| 36 | None | 4000 | 1 | balanced_subsample |\n",
       "| 37 | None | 8000 | 1 | balanced_subsample |\n",
       "| 38 | None | 16000 | 1 | balanced_subsample |\n",
       "| 39 | None | 4000 | 10 | balanced_subsample |\n",
       "| 40 | None | 8000 | 10 | balanced_subsample |\n",
       "| 41 | None | 16000 | 10 | balanced_subsample |\n",
       "| 42 | None | 4000 | 100 | balanced_subsample |\n",
       "| 43 | None | 8000 | 100 | balanced_subsample |\n",
       "| 44 | None | 16000 | 100 | balanced_subsample |\n",
       "| 45 | None | 4000 | 1000 | balanced_subsample |\n",
       "| 46 | None | 8000 | 1000 | balanced_subsample |\n",
       "| 47 | None | 16000 | 1000 | balanced_subsample |\n",
       "| 48 | sqrt | 4000 | 1 | balanced_subsample |\n",
       "| 49 | sqrt | 8000 | 1 | balanced_subsample |\n",
       "| 50 | sqrt | 16000 | 1 | balanced_subsample |\n",
       "| 51 | sqrt | 4000 | 10 | balanced_subsample |\n",
       "| 52 | sqrt | 8000 | 10 | balanced_subsample |\n",
       "| 53 | sqrt | 16000 | 10 | balanced_subsample |\n",
       "| 54 | sqrt | 4000 | 100 | balanced_subsample |\n",
       "| 55 | sqrt | 8000 | 100 | balanced_subsample |\n",
       "| 56 | sqrt | 16000 | 100 | balanced_subsample |\n",
       "| 57 | sqrt | 4000 | 1000 | balanced_subsample |\n",
       "| 58 | sqrt | 8000 | 1000 | balanced_subsample |\n",
       "| 59 | sqrt | 16000 | 1000 | balanced_subsample |\n",
       "| 60 | log2 | 4000 | 1 | balanced_subsample |\n",
       "| 61 | log2 | 8000 | 1 | balanced_subsample |\n",
       "| 62 | log2 | 16000 | 1 | balanced_subsample |\n",
       "| 63 | log2 | 4000 | 10 | balanced_subsample |\n",
       "| 64 | log2 | 8000 | 10 | balanced_subsample |\n",
       "| 65 | log2 | 16000 | 10 | balanced_subsample |\n",
       "| 66 | log2 | 4000 | 100 | balanced_subsample |\n",
       "| 67 | log2 | 8000 | 100 | balanced_subsample |\n",
       "| 68 | log2 | 16000 | 100 | balanced_subsample |\n",
       "| 69 | log2 | 4000 | 1000 | balanced_subsample |\n",
       "| 70 | log2 | 8000 | 1000 | balanced_subsample |\n",
       "| 71 | log2 | 16000 | 1000 | balanced_subsample |\n",
       "| 72 | None | 4000 | 1 | balanced |\n",
       "| 73 | None | 8000 | 1 | balanced |\n",
       "| 74 | None | 16000 | 1 | balanced |\n",
       "| 75 | None | 4000 | 10 | balanced |\n",
       "| 76 | None | 8000 | 10 | balanced |\n",
       "| 77 | None | 16000 | 10 | balanced |\n",
       "| 78 | None | 4000 | 100 | balanced |\n",
       "| 79 | None | 8000 | 100 | balanced |\n",
       "| 80 | None | 16000 | 100 | balanced |\n",
       "| 81 | None | 4000 | 1000 | balanced |\n",
       "| 82 | None | 8000 | 1000 | balanced |\n",
       "| 83 | None | 16000 | 1000 | balanced |\n",
       "| 84 | sqrt | 4000 | 1 | balanced |\n",
       "| 85 | sqrt | 8000 | 1 | balanced |\n",
       "| 86 | sqrt | 16000 | 1 | balanced |\n",
       "| 87 | sqrt | 4000 | 10 | balanced |\n",
       "| 88 | sqrt | 8000 | 10 | balanced |\n",
       "| 89 | sqrt | 16000 | 10 | balanced |\n",
       "| 90 | sqrt | 4000 | 100 | balanced |\n",
       "| 91 | sqrt | 8000 | 100 | balanced |\n",
       "| 92 | sqrt | 16000 | 100 | balanced |\n",
       "| 93 | sqrt | 4000 | 1000 | balanced |\n",
       "| 94 | sqrt | 8000 | 1000 | balanced |\n",
       "| 95 | sqrt | 16000 | 1000 | balanced |\n",
       "| 96 | log2 | 4000 | 1 | balanced |\n",
       "| 97 | log2 | 8000 | 1 | balanced |\n",
       "| 98 | log2 | 16000 | 1 | balanced |\n",
       "| 99 | log2 | 4000 | 10 | balanced |\n",
       "| 100 | log2 | 8000 | 10 | balanced |\n",
       "| 101 | log2 | 16000 | 10 | balanced |\n",
       "| 102 | log2 | 4000 | 100 | balanced |\n",
       "| 103 | log2 | 8000 | 100 | balanced |\n",
       "| 104 | log2 | 16000 | 100 | balanced |\n",
       "| 105 | log2 | 4000 | 1000 | balanced |\n",
       "| 106 | log2 | 8000 | 1000 | balanced |\n",
       "| 107 | log2 | 16000 | 1000 | balanced |"
      ],
      "text/plain": [
       "<IPython.core.display.Markdown object>"
      ]
     },
     "execution_count": 6,
     "metadata": {},
     "output_type": "execute_result"
    }
   ],
   "source": [
    "model = 'random_forest'\n",
    "content = get_hyperparameter_sets_in_markdown(model)\n",
    "title = '# Hyperparameter Set: {}'.format(model)\n",
    "content = '{}\\n{}'.format(title, content)\n",
    "Markdown(content)"
   ]
  }
 ],
 "metadata": {
  "kernelspec": {
   "display_name": "Python 2",
   "language": "python",
   "name": "python2"
  },
  "language_info": {
   "codemirror_mode": {
    "name": "ipython",
    "version": 2
   },
   "file_extension": ".py",
   "mimetype": "text/x-python",
   "name": "python",
   "nbconvert_exporter": "python",
   "pygments_lexer": "ipython2",
   "version": "2.7.14"
  }
 },
 "nbformat": 4,
 "nbformat_minor": 0
}

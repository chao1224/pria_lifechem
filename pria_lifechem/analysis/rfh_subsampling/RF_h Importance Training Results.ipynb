{
 "cells": [
  {
   "cell_type": "code",
   "execution_count": 1,
   "metadata": {
    "collapsed": false,
    "deletable": true,
    "editable": true
   },
   "outputs": [],
   "source": [
    "import warnings\n",
    "warnings.filterwarnings('ignore')\n",
    "import matplotlib, os\n",
    "matplotlib.use('Agg')\n",
    "%matplotlib inline\n",
    "from rfh_subsampling_analysis import *\n",
    "import pandas as pd\n",
    "import seaborn as sns\n",
    "pd.set_option('precision', 4)\n",
    "pd.set_option('display.max_rows', 500)\n",
    "pd.set_option('display.max_columns', 500)\n",
    "pd.set_option('display.width', 1000)\n",
    "            \n",
    "model_directory = '../../../../rfh_importance_eval/'\n",
    "class_dirs = [model_directory+'/{}/'.format(d) for d in os.listdir(model_directory) if os.path.isdir(model_directory+'/{}/'.format(d))]\n",
    "k = 1"
   ]
  },
  {
   "cell_type": "code",
   "execution_count": 2,
   "metadata": {
    "collapsed": false,
    "deletable": true,
    "editable": true
   },
   "outputs": [],
   "source": [
    "gather_df = gather_dir_metrics(model_directory, k, labels=['PriA-SSB AS'])\n",
    "col_indices = list(range(6)) + list(range(9, 12)) + list(range(15, 63)) + list(range(87, 110))\n",
    "col_indices = [i for i in col_indices if 'Mean' not in gather_df.columns[i] and 'Median' not in gather_df.columns[i]]\n",
    "col_indices = [i for i in col_indices if 'PriA-SSB AS' in gather_df.columns[i]]\n",
    "gather_df.columns = [col.replace('PriA-SSB AS', 'PriA-SSB prospective') for col in gather_df.columns]\n",
    "metric_names = list(gather_df.columns.values[col_indices])\n",
    "gather_df = gather_df[metric_names]\n",
    "gather_df = gather_df.dropna(axis=0)\n",
    "gather_df = gather_df.xs('test_metrics', level='set')\n",
    "gather_df = gather_df.drop('Folds Mean', level='fold')\n",
    "gather_df = gather_df.drop('Folds Median', level='fold')\n",
    "gather_df = gather_df.reset_index(level=1, drop=True)"
   ]
  },
  {
   "cell_type": "code",
   "execution_count": 3,
   "metadata": {
    "collapsed": false
   },
   "outputs": [
    {
     "data": {
      "text/html": [
       "<div>\n",
       "<style scoped>\n",
       "    .dataframe tbody tr th:only-of-type {\n",
       "        vertical-align: middle;\n",
       "    }\n",
       "\n",
       "    .dataframe tbody tr th {\n",
       "        vertical-align: top;\n",
       "    }\n",
       "\n",
       "    .dataframe thead th {\n",
       "        text-align: right;\n",
       "    }\n",
       "</style>\n",
       "<table border=\"1\" class=\"dataframe\">\n",
       "  <thead>\n",
       "    <tr style=\"text-align: right;\">\n",
       "      <th></th>\n",
       "      <th>ROC AUC PriA-SSB prospective</th>\n",
       "      <th>BEDROC AUC PriA-SSB prospective</th>\n",
       "      <th>PR auc.integral PriA-SSB prospective</th>\n",
       "      <th>NEF_0.1 % PriA-SSB prospective</th>\n",
       "      <th>NEF_0.15 % PriA-SSB prospective</th>\n",
       "      <th>NEF_0.5 % PriA-SSB prospective</th>\n",
       "      <th>NEF_1 % PriA-SSB prospective</th>\n",
       "      <th>NEF_2 % PriA-SSB prospective</th>\n",
       "      <th>NEF_5 % PriA-SSB prospective</th>\n",
       "      <th>NEF_10 % PriA-SSB prospective</th>\n",
       "      <th>NEF_20 % PriA-SSB prospective</th>\n",
       "      <th>EF_0.1 % PriA-SSB prospective</th>\n",
       "      <th>EF_0.15 % PriA-SSB prospective</th>\n",
       "      <th>EF_0.5 % PriA-SSB prospective</th>\n",
       "      <th>EF_1 % PriA-SSB prospective</th>\n",
       "      <th>EF_2 % PriA-SSB prospective</th>\n",
       "      <th>EF_5 % PriA-SSB prospective</th>\n",
       "      <th>EF_10 % PriA-SSB prospective</th>\n",
       "      <th>EF_20 % PriA-SSB prospective</th>\n",
       "      <th>NEF AUC PriA-SSB prospective</th>\n",
       "      <th>n_hits_100 PriA-SSB prospective</th>\n",
       "      <th>n_hits_250 PriA-SSB prospective</th>\n",
       "      <th>n_hits_500 PriA-SSB prospective</th>\n",
       "      <th>n_hits_1000 PriA-SSB prospective</th>\n",
       "      <th>n_hits_2500 PriA-SSB prospective</th>\n",
       "      <th>n_hits_5000 PriA-SSB prospective</th>\n",
       "      <th>n_hits_10000 PriA-SSB prospective</th>\n",
       "    </tr>\n",
       "    <tr>\n",
       "      <th>model</th>\n",
       "      <th></th>\n",
       "      <th></th>\n",
       "      <th></th>\n",
       "      <th></th>\n",
       "      <th></th>\n",
       "      <th></th>\n",
       "      <th></th>\n",
       "      <th></th>\n",
       "      <th></th>\n",
       "      <th></th>\n",
       "      <th></th>\n",
       "      <th></th>\n",
       "      <th></th>\n",
       "      <th></th>\n",
       "      <th></th>\n",
       "      <th></th>\n",
       "      <th></th>\n",
       "      <th></th>\n",
       "      <th></th>\n",
       "      <th></th>\n",
       "      <th></th>\n",
       "      <th></th>\n",
       "      <th></th>\n",
       "      <th></th>\n",
       "      <th></th>\n",
       "      <th></th>\n",
       "      <th></th>\n",
       "    </tr>\n",
       "  </thead>\n",
       "  <tbody>\n",
       "    <tr>\n",
       "      <th>rule_0</th>\n",
       "      <td>0.8730</td>\n",
       "      <td>0.7270</td>\n",
       "      <td>0.4042</td>\n",
       "      <td>0.6364</td>\n",
       "      <td>0.5455</td>\n",
       "      <td>0.5556</td>\n",
       "      <td>0.6296</td>\n",
       "      <td>0.6852</td>\n",
       "      <td>0.7407</td>\n",
       "      <td>0.7778</td>\n",
       "      <td>0.7963</td>\n",
       "      <td>259.2593</td>\n",
       "      <td>222.2222</td>\n",
       "      <td>111.1111</td>\n",
       "      <td>62.9630</td>\n",
       "      <td>34.2593</td>\n",
       "      <td>14.8148</td>\n",
       "      <td>7.7778</td>\n",
       "      <td>3.9815</td>\n",
       "      <td>0.7491</td>\n",
       "      <td>30.0</td>\n",
       "      <td>35.0</td>\n",
       "      <td>37.0</td>\n",
       "      <td>38.0</td>\n",
       "      <td>42.0</td>\n",
       "      <td>43.0</td>\n",
       "      <td>47.0</td>\n",
       "    </tr>\n",
       "    <tr>\n",
       "      <th>rule_1</th>\n",
       "      <td>0.8828</td>\n",
       "      <td>0.7042</td>\n",
       "      <td>0.3307</td>\n",
       "      <td>0.6364</td>\n",
       "      <td>0.5758</td>\n",
       "      <td>0.4815</td>\n",
       "      <td>0.5370</td>\n",
       "      <td>0.6111</td>\n",
       "      <td>0.7037</td>\n",
       "      <td>0.7407</td>\n",
       "      <td>0.8148</td>\n",
       "      <td>259.2593</td>\n",
       "      <td>234.5679</td>\n",
       "      <td>96.2963</td>\n",
       "      <td>53.7037</td>\n",
       "      <td>30.5556</td>\n",
       "      <td>14.0741</td>\n",
       "      <td>7.4074</td>\n",
       "      <td>4.0741</td>\n",
       "      <td>0.7203</td>\n",
       "      <td>25.0</td>\n",
       "      <td>30.0</td>\n",
       "      <td>33.0</td>\n",
       "      <td>37.0</td>\n",
       "      <td>40.0</td>\n",
       "      <td>44.0</td>\n",
       "      <td>48.0</td>\n",
       "    </tr>\n",
       "    <tr>\n",
       "      <th>rule_2</th>\n",
       "      <td>0.8897</td>\n",
       "      <td>0.7285</td>\n",
       "      <td>0.3273</td>\n",
       "      <td>0.5909</td>\n",
       "      <td>0.6364</td>\n",
       "      <td>0.4630</td>\n",
       "      <td>0.5370</td>\n",
       "      <td>0.6481</td>\n",
       "      <td>0.7222</td>\n",
       "      <td>0.7963</td>\n",
       "      <td>0.8333</td>\n",
       "      <td>240.7407</td>\n",
       "      <td>259.2593</td>\n",
       "      <td>92.5926</td>\n",
       "      <td>53.7037</td>\n",
       "      <td>32.4074</td>\n",
       "      <td>14.4444</td>\n",
       "      <td>7.9630</td>\n",
       "      <td>4.1667</td>\n",
       "      <td>0.7533</td>\n",
       "      <td>25.0</td>\n",
       "      <td>31.0</td>\n",
       "      <td>36.0</td>\n",
       "      <td>39.0</td>\n",
       "      <td>44.0</td>\n",
       "      <td>45.0</td>\n",
       "      <td>48.0</td>\n",
       "    </tr>\n",
       "  </tbody>\n",
       "</table>\n",
       "</div>"
      ],
      "text/plain": [
       "        ROC AUC PriA-SSB prospective  BEDROC AUC PriA-SSB prospective  PR auc.integral PriA-SSB prospective  NEF_0.1 % PriA-SSB prospective  NEF_0.15 % PriA-SSB prospective  NEF_0.5 % PriA-SSB prospective  NEF_1 % PriA-SSB prospective  NEF_2 % PriA-SSB prospective  NEF_5 % PriA-SSB prospective  NEF_10 % PriA-SSB prospective  NEF_20 % PriA-SSB prospective  EF_0.1 % PriA-SSB prospective  EF_0.15 % PriA-SSB prospective  EF_0.5 % PriA-SSB prospective  EF_1 % PriA-SSB prospective  EF_2 % PriA-SSB prospective  EF_5 % PriA-SSB prospective  EF_10 % PriA-SSB prospective  EF_20 % PriA-SSB prospective  NEF AUC PriA-SSB prospective  n_hits_100 PriA-SSB prospective  n_hits_250 PriA-SSB prospective  n_hits_500 PriA-SSB prospective  n_hits_1000 PriA-SSB prospective  n_hits_2500 PriA-SSB prospective  n_hits_5000 PriA-SSB prospective  n_hits_10000 PriA-SSB prospective\n",
       "model                                                                                                                                                                                                                                                                                                                                                                                                                                                                                                                                                                                                                                                                                                                                                                                                                                                                                          \n",
       "rule_0                        0.8730                           0.7270                                0.4042                          0.6364                           0.5455                          0.5556                        0.6296                        0.6852                        0.7407                         0.7778                         0.7963                       259.2593                        222.2222                       111.1111                      62.9630                      34.2593                      14.8148                        7.7778                        3.9815                        0.7491                             30.0                             35.0                             37.0                              38.0                              42.0                              43.0                               47.0\n",
       "rule_1                        0.8828                           0.7042                                0.3307                          0.6364                           0.5758                          0.4815                        0.5370                        0.6111                        0.7037                         0.7407                         0.8148                       259.2593                        234.5679                        96.2963                      53.7037                      30.5556                      14.0741                        7.4074                        4.0741                        0.7203                             25.0                             30.0                             33.0                              37.0                              40.0                              44.0                               48.0\n",
       "rule_2                        0.8897                           0.7285                                0.3273                          0.5909                           0.6364                          0.4630                        0.5370                        0.6481                        0.7222                         0.7963                         0.8333                       240.7407                        259.2593                        92.5926                      53.7037                      32.4074                      14.4444                        7.9630                        4.1667                        0.7533                             25.0                             31.0                             36.0                              39.0                              44.0                              45.0                               48.0"
      ]
     },
     "execution_count": 3,
     "metadata": {},
     "output_type": "execute_result"
    }
   ],
   "source": [
    "gather_df"
   ]
  },
  {
   "cell_type": "markdown",
   "metadata": {
    "deletable": true,
    "editable": true
   },
   "source": [
    "---\n",
    "# top250 Results"
   ]
  },
  {
   "cell_type": "code",
   "execution_count": 4,
   "metadata": {
    "collapsed": false
   },
   "outputs": [],
   "source": [
    "# load training data\n",
    "file_list = ['../../../dataset/fixed_dataset/fold_5/file_{}.csv'.format(i) for i in range(5)]\n",
    "train_pd = read_merged_data(file_list)\n",
    "test_pd = pd.read_csv('../../../dataset/pria_prospective.csv.gz', compression='gzip')\n",
    "\n",
    "y_train = train_pd['Keck_Pria_AS_Retest'].as_matrix()\n",
    "y_test = test_pd['Keck_Pria_AS_Retest'].as_matrix()\n",
    "# load training indices\n",
    "train_indices_dict = {}\n",
    "for model in gather_df.index:\n",
    "    train_indices_file = model_directory+'/{}/fold_0/train_indices.npy'.format(model)\n",
    "    train_indices_dict[model] = np.load(train_indices_file)"
   ]
  },
  {
   "cell_type": "code",
   "execution_count": 5,
   "metadata": {
    "collapsed": false
   },
   "outputs": [
    {
     "name": "stdout",
     "output_type": "stream",
     "text": [
      "rule_0: actives count: 19\t inactives count: 1372\t top250: 35.0\n",
      "rule_1: actives count: 23\t inactives count: 20\t top250: 30.0\n",
      "rule_2: actives count: 29\t inactives count: 28\t top250: 31.0\n"
     ]
    }
   ],
   "source": [
    "for model in gather_df.index:\n",
    "    actives_count = np.where(y_train[train_indices_dict[model]] == 1)[0].shape[0]\n",
    "    inactives_count = np.where(y_train[train_indices_dict[model]] == 0)[0].shape[0]\n",
    "    top250_score = gather_df['n_hits_250 PriA-SSB prospective'][model]\n",
    "    print('{}: actives count: {}\\t inactives count: {}\\t top250: {}'.format(model, actives_count, inactives_count, top250_score))"
   ]
  },
  {
   "cell_type": "code",
   "execution_count": 6,
   "metadata": {
    "collapsed": false
   },
   "outputs": [],
   "source": [
    "s0 = set(np.where(y_train[train_indices_dict['rule_0']] == 0)[0])\n",
    "s1 = set(np.where(y_train[train_indices_dict['rule_1']] == 0)[0])\n",
    "s2 = set(np.where(y_train[train_indices_dict['rule_2']] == 0)[0])\n",
    "\n",
    "assert s0.intersection(s1) == s1\n",
    "assert s0.intersection(s2) == s2"
   ]
  },
  {
   "cell_type": "code",
   "execution_count": 7,
   "metadata": {
    "collapsed": false
   },
   "outputs": [],
   "source": [
    "s0 = set(np.where(y_train[train_indices_dict['rule_0']] == 1)[0])\n",
    "s1 = set(np.where(y_train[train_indices_dict['rule_1']] == 1)[0])\n",
    "s2 = set(np.where(y_train[train_indices_dict['rule_2']] == 1)[0])\n",
    "\n",
    "assert s0.intersection(s1) == s0\n",
    "assert s0.intersection(s2) == s0"
   ]
  },
  {
   "cell_type": "markdown",
   "metadata": {},
   "source": [
    "From the above assertions, we see that all the actives in rule_0 exist in rule_1 and rule_2. So adding extra actives in rule_1 and rule_2 did not imporve top250. However, rule_0 has all the inactives of rule_1 and rule_2 but the extra inactives helped improve top250 by 4 points. Would be helpful if we scrutinize these ~1300 extra inactives to determine why they improve the results."
   ]
  }
 ],
 "metadata": {
  "kernelspec": {
   "display_name": "Python 3",
   "language": "python",
   "name": "python3"
  },
  "language_info": {
   "codemirror_mode": {
    "name": "ipython",
    "version": 3
   },
   "file_extension": ".py",
   "mimetype": "text/x-python",
   "name": "python",
   "nbconvert_exporter": "python",
   "pygments_lexer": "ipython3",
   "version": "3.5.1"
  }
 },
 "nbformat": 4,
 "nbformat_minor": 0
}

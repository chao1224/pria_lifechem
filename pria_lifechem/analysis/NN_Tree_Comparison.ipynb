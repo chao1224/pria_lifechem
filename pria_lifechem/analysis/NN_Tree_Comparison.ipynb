{
 "cells": [
  {
   "cell_type": "code",
   "execution_count": 1,
   "metadata": {
    "collapsed": false,
    "deletable": true,
    "editable": true
   },
   "outputs": [
    {
     "name": "stderr",
     "output_type": "stream",
     "text": [
      "/home/sliu426/.local/lib/python2.7/site-packages/sklearn/cross_validation.py:41: DeprecationWarning: This module was deprecated in version 0.18 in favor of the model_selection module into which all the refactored classes and functions are moved. Also note that the interface of the new CV iterators are different from that of this module. This module will be removed in 0.20.\n",
      "  \"This module will be removed in 0.20.\", DeprecationWarning)\n",
      "Using Theano backend.\n",
      "Using gpu device 1: Tesla K40m (CNMeM is disabled, CuDNN 4004)\n"
     ]
    }
   ],
   "source": [
    "from NN_Tree_Comparison import *\n",
    "\n",
    "%load_ext autoreload\n",
    "%autoreload 2\n",
    "from virtual_screening.function import *\n",
    "from virtual_screening.evaluation import *\n",
    "from virtual_screening.models.deep_classification import *"
   ]
  },
  {
   "cell_type": "code",
   "execution_count": 2,
   "metadata": {
    "collapsed": true,
    "deletable": true,
    "editable": true
   },
   "outputs": [],
   "source": [
    "running_index = 1\n",
    "k = 5\n",
    "pos_num = 50\n",
    "neg_num = 200"
   ]
  },
  {
   "cell_type": "markdown",
   "metadata": {
    "deletable": true,
    "editable": true
   },
   "source": [
    "# Summary\n",
    "\n",
    "| model-model comparison | val or test set | prediction summary | bad on NN, better on tree-like | good on both |\n",
    "| --- | --- | --- | --- | --- |\n",
    "| NN - XGBoost | validation set | cell: [#15](#15) | cell: [#16](#16) | cell: [#17](#17) |\n",
    "| NN - XGBoost | test set | cell: [#18](#18)| cell: [#19](#19) | cell: [#20](#20) |\n",
    "| NN - RF | validation set | cell: [#26](#26) | cell: [#27](#27) | cell: [#28](#28) |\n",
    "| NN -RF | test set| cell: [#29](#29) | cell: [#30](#30)| cell: [#31](#31) |"
   ]
  },
  {
   "cell_type": "markdown",
   "metadata": {
    "deletable": true,
    "editable": true
   },
   "source": [
    "# Get Input Feature"
   ]
  },
  {
   "cell_type": "code",
   "execution_count": 3,
   "metadata": {
    "collapsed": false,
    "deletable": true,
    "editable": true
   },
   "outputs": [],
   "source": [
    "directory = '../../dataset/fixed_dataset/fold_{}/'.format(k)\n",
    "file_list = []\n",
    "for i in range(k):\n",
    "    file_list.append('{}file_{}.csv'.format(directory, i))\n",
    "file_list = np.array(file_list)\n",
    "\n",
    "# read data\n",
    "test_index = running_index / 4\n",
    "val_index = running_index % 4 + (running_index % 4 >= test_index)\n",
    "complete_index = np.arange(k)\n",
    "train_index = np.where((complete_index != test_index) & (complete_index != val_index))[0]\n",
    "\n",
    "train_file_list = file_list[train_index]\n",
    "val_file_list = file_list[val_index:val_index+1]\n",
    "test_file_list = file_list[test_index:test_index+1]"
   ]
  },
  {
   "cell_type": "code",
   "execution_count": 4,
   "metadata": {
    "collapsed": false,
    "deletable": true,
    "editable": true
   },
   "outputs": [],
   "source": [
    "label_name_list = ['Keck_Pria_AS_Retest']\n",
    "\n",
    "train_pd = filter_out_missing_values(read_merged_data(train_file_list), label_list=label_name_list)\n",
    "val_pd = filter_out_missing_values(read_merged_data(val_file_list), label_list=label_name_list)\n",
    "test_pd = filter_out_missing_values(read_merged_data(test_file_list), label_list=label_name_list)\n",
    "\n",
    "# extract data, and split training data into training and val\n",
    "X_train, y_train = extract_feature_and_label(train_pd,\n",
    "                                             feature_name='Fingerprints',\n",
    "                                             label_name_list=label_name_list)\n",
    "X_val, y_val = extract_feature_and_label(val_pd,\n",
    "                                         feature_name='Fingerprints',\n",
    "                                         label_name_list=label_name_list)\n",
    "X_test, y_test = extract_feature_and_label(test_pd,\n",
    "                                           feature_name='Fingerprints',\n",
    "                                           label_name_list=label_name_list)"
   ]
  },
  {
   "cell_type": "markdown",
   "metadata": {
    "deletable": true,
    "editable": true
   },
   "source": [
    "# Test Single-task"
   ]
  },
  {
   "cell_type": "code",
   "execution_count": 5,
   "metadata": {
    "collapsed": false,
    "deletable": true,
    "editable": true
   },
   "outputs": [],
   "source": [
    "with open('../../output/stage_1/cross_validation_Keck_Pria_AS_Retest/single_classification_22.json', 'r') as f:\n",
    "    conf = json.load(f)\n",
    "single_task = SingleClassification(conf=conf)"
   ]
  },
  {
   "cell_type": "code",
   "execution_count": 6,
   "metadata": {
    "collapsed": false,
    "deletable": true,
    "editable": true
   },
   "outputs": [
    {
     "name": "stdout",
     "output_type": "stream",
     "text": [
      "../../output/stage_1/cross_validation_Keck_Pria_AS_Retest/single_classification_22/45540945/1.weight\n",
      "\n",
      "train precision: 0.998314670017\n",
      "train roc: 0.999998039294\n",
      "train bedroc: 0.994706144082\n",
      "\n",
      "validation precision: 0.307938220156\n",
      "validation roc: 0.773215026265\n",
      "validation bedroc: 0.612508723339\n",
      "\n",
      "test precision: 0.0959068095274\n",
      "test roc: 0.833612646856\n",
      "test bedroc: 0.628970145806\n",
      "\n",
      "ratio: 0.02, EF: 25.0,\tactive: 16.0\n",
      "ratio: 0.01, EF: 43.75,\tactive: 16.0\n",
      "ratio: 0.0015, EF: 208.333333333,\tactive: 16.0\n",
      "ratio: 0.001, EF: 312.5,\tactive: 16.0\n"
     ]
    }
   ],
   "source": [
    "PMTNN_weight_file = '../../output/stage_1/cross_validation_Keck_Pria_AS_Retest/single_classification_22/45540945/{}.weight'.format(running_index)\n",
    "print PMTNN_weight_file\n",
    "single_task.predict_with_existing(X_train, y_train, X_val, y_val, X_test, y_test,\n",
    "                           PMTNN_weight_file=PMTNN_weight_file)"
   ]
  },
  {
   "cell_type": "code",
   "execution_count": 7,
   "metadata": {
    "collapsed": false,
    "deletable": true,
    "editable": true
   },
   "outputs": [],
   "source": [
    "single_model = single_task.setup_model()\n",
    "single_model.load_weights(PMTNN_weight_file)"
   ]
  },
  {
   "cell_type": "markdown",
   "metadata": {
    "deletable": true,
    "editable": true
   },
   "source": [
    "## Show val and test rank on single NN"
   ]
  },
  {
   "cell_type": "code",
   "execution_count": 8,
   "metadata": {
    "collapsed": true,
    "deletable": true,
    "editable": true
   },
   "outputs": [],
   "source": [
    "y_pred_on_val_single_NN = single_model.predict(X_val)\n",
    "y_pred_on_test_single_NN = single_model.predict(X_test)"
   ]
  },
  {
   "cell_type": "code",
   "execution_count": 9,
   "metadata": {
    "collapsed": false,
    "deletable": true,
    "editable": true
   },
   "outputs": [
    {
     "name": "stdout",
     "output_type": "stream",
     "text": [
      "For validation\n",
      "0.999667\t     1/ 14484\t\tRank: 0.000069\n",
      "0.000004\t 13523/ 14484\t\tRank: 0.933651\n",
      "0.007614\t    26/ 14484\t\tRank: 0.001795\n",
      "0.000007\t 11032/ 14484\t\tRank: 0.761668\n",
      "0.003222\t    34/ 14484\t\tRank: 0.002347\n",
      "0.012485\t    23/ 14484\t\tRank: 0.001588\n",
      "0.992665\t     4/ 14484\t\tRank: 0.000276\n",
      "0.000008\t 10578/ 14484\t\tRank: 0.730323\n",
      "0.997849\t     3/ 14484\t\tRank: 0.000207\n",
      "0.000013\t  5067/ 14484\t\tRank: 0.349834\n",
      "0.000012\t  6246/ 14484\t\tRank: 0.431234\n",
      "0.000013\t  5766/ 14484\t\tRank: 0.398094\n",
      "0.164386\t     9/ 14484\t\tRank: 0.000621\n",
      "0.149422\t    10/ 14484\t\tRank: 0.000690\n",
      "0.000069\t   306/ 14484\t\tRank: 0.021127\n",
      "0.809995\t     6/ 14484\t\tRank: 0.000414\n",
      "\n",
      "For test\n",
      "0.000033\t   769/ 14486\t\tRank: 0.053086\n",
      "0.000002\t 14220/ 14486\t\tRank: 0.981637\n",
      "0.000029\t   999/ 14486\t\tRank: 0.068963\n",
      "0.160746\t     9/ 14486\t\tRank: 0.000621\n",
      "0.000026\t  1262/ 14486\t\tRank: 0.087119\n",
      "0.708671\t     6/ 14486\t\tRank: 0.000414\n",
      "0.000322\t    94/ 14486\t\tRank: 0.006489\n",
      "0.000028\t  1089/ 14486\t\tRank: 0.075176\n",
      "0.000078\t   254/ 14486\t\tRank: 0.017534\n",
      "0.000026\t  1308/ 14486\t\tRank: 0.090294\n",
      "0.000009\t  8551/ 14486\t\tRank: 0.590294\n",
      "0.000008\t  9950/ 14486\t\tRank: 0.686870\n",
      "0.920472\t     5/ 14486\t\tRank: 0.000345\n",
      "0.069630\t    11/ 14486\t\tRank: 0.000759\n",
      "0.000193\t   117/ 14486\t\tRank: 0.008077\n",
      "0.040926\t    14/ 14486\t\tRank: 0.000966\n"
     ]
    }
   ],
   "source": [
    "print 'For validation'\n",
    "get_rank(y_val, y_pred_on_val_single_NN)\n",
    "print\n",
    "print 'For test'\n",
    "get_rank(y_test, y_pred_on_test_single_NN)"
   ]
  },
  {
   "cell_type": "markdown",
   "metadata": {
    "deletable": true,
    "editable": true
   },
   "source": [
    "# XGBoost"
   ]
  },
  {
   "cell_type": "code",
   "execution_count": 10,
   "metadata": {
    "collapsed": false,
    "deletable": true,
    "editable": true
   },
   "outputs": [],
   "source": [
    "import xgboost as xgb\n",
    "from xgboost import DMatrix"
   ]
  },
  {
   "cell_type": "code",
   "execution_count": 11,
   "metadata": {
    "collapsed": false,
    "deletable": true,
    "editable": true,
    "scrolled": false
   },
   "outputs": [
    {
     "name": "stderr",
     "output_type": "stream",
     "text": [
      "/home/sliu426/.local/lib/python2.7/site-packages/sklearn/preprocessing/label.py:95: DataConversionWarning: A column-vector y was passed when a 1d array was expected. Please change the shape of y to (n_samples, ), for example using ravel().\n",
      "  y = column_or_1d(y, warn=True)\n",
      "/home/sliu426/.local/lib/python2.7/site-packages/sklearn/preprocessing/label.py:128: DataConversionWarning: A column-vector y was passed when a 1d array was expected. Please change the shape of y to (n_samples, ), for example using ravel().\n",
      "  y = column_or_1d(y, warn=True)\n"
     ]
    },
    {
     "data": {
      "text/plain": [
       "XGBClassifier(base_score=0.5, colsample_bylevel=1, colsample_bytree=1,\n",
       "       gamma=0, learning_rate=0.1, max_delta_step=0, max_depth=10,\n",
       "       min_child_weight=1, missing=None, n_estimators=100, nthread=-1,\n",
       "       objective='binary:logistic', reg_alpha=0, reg_lambda=1,\n",
       "       scale_pos_weight=1, seed=0, silent=True, subsample=1)"
      ]
     },
     "execution_count": 11,
     "metadata": {},
     "output_type": "execute_result"
    }
   ],
   "source": [
    "xgb_clf = xgb.XGBClassifier(max_depth=10, n_estimators=100, silent=True, objective='binary:logistic')\n",
    "xgb_clf.fit(X_train, y_train, eval_set=[(X_train, y_train), (X_val, y_val)], eval_metric='auc', verbose=False)"
   ]
  },
  {
   "cell_type": "code",
   "execution_count": 12,
   "metadata": {
    "collapsed": false,
    "deletable": true,
    "editable": true
   },
   "outputs": [
    {
     "name": "stdout",
     "output_type": "stream",
     "text": [
      "train precision: 0.930939315435\n",
      "train roc: 0.999898288402\n",
      "train bedroc: 0.993722514348\n",
      "\n",
      "validation precision: 0.289237329326\n",
      "validation roc: 0.89217151645\n",
      "validation bedroc: 0.7628689951\n",
      "\n",
      "test precision: 0.149050688356\n",
      "test roc: 0.880422857636\n",
      "test bedroc: 0.78269282675\n",
      "\n",
      "ratio: 0.02, EF: 37.5,\tactive: 16.0\n",
      "ratio: 0.01, EF: 68.75,\tactive: 16.0\n",
      "ratio: 0.0015, EF: 208.333333333,\tactive: 16.0\n",
      "ratio: 0.001, EF: 250.0,\tactive: 16.0\n"
     ]
    }
   ],
   "source": [
    "predict_with_existing(xgb_clf, X_train, y_train, X_val, y_val, X_test, y_test)"
   ]
  },
  {
   "cell_type": "code",
   "execution_count": 13,
   "metadata": {
    "collapsed": false,
    "deletable": true,
    "editable": true
   },
   "outputs": [
    {
     "name": "stdout",
     "output_type": "stream",
     "text": [
      "XGBoost consider 266 features as important\n"
     ]
    }
   ],
   "source": [
    "fscore = xgb_clf.booster().get_fscore()\n",
    "important_feature_number = len(fscore)\n",
    "print 'XGBoost consider {} features as important'.format(important_feature_number)\n",
    "feature_importances_ = np.zeros(1024)\n",
    "for k,v in fscore.iteritems():\n",
    "    feature_importances_[int(k[1:])] = v\n",
    "importance_index = np.argsort(feature_importances_)[::-1]\n",
    "\n",
    "y_pred_on_val_xgboost = reshape_data_into_2_dim(xgb_clf.predict_proba(X_val)[:, 1])\n",
    "y_pred_on_test_xgboost = reshape_data_into_2_dim(xgb_clf.predict_proba(X_test)[:, 1])"
   ]
  },
  {
   "cell_type": "markdown",
   "metadata": {
    "deletable": true,
    "editable": true
   },
   "source": [
    "## Show val and test rank on XGBoost"
   ]
  },
  {
   "cell_type": "code",
   "execution_count": 14,
   "metadata": {
    "collapsed": false,
    "deletable": true,
    "editable": true
   },
   "outputs": [
    {
     "name": "stdout",
     "output_type": "stream",
     "text": [
      "For validation\n",
      "0.255025\t     8/ 14484\t\tRank: 0.000552\n",
      "0.006654\t    98/ 14484\t\tRank: 0.006766\n",
      "0.000973\t   902/ 14484\t\tRank: 0.062276\n",
      "0.004228\t   138/ 14484\t\tRank: 0.009528\n",
      "0.128536\t    13/ 14484\t\tRank: 0.000898\n",
      "0.034595\t    29/ 14484\t\tRank: 0.002002\n",
      "0.482657\t     2/ 14484\t\tRank: 0.000138\n",
      "0.001720\t   450/ 14484\t\tRank: 0.031069\n",
      "0.302829\t     7/ 14484\t\tRank: 0.000483\n",
      "0.000115\t  9162/ 14484\t\tRank: 0.632560\n",
      "0.000396\t  2706/ 14484\t\tRank: 0.186827\n",
      "0.000083\t 11536/ 14484\t\tRank: 0.796465\n",
      "0.303580\t     6/ 14484\t\tRank: 0.000414\n",
      "0.397426\t     4/ 14484\t\tRank: 0.000276\n",
      "0.032834\t    31/ 14484\t\tRank: 0.002140\n",
      "0.315210\t     5/ 14484\t\tRank: 0.000345\n",
      "\n",
      "For test\n",
      "0.011174\t    58/ 14486\t\tRank: 0.004004\n",
      "0.000630\t  1526/ 14486\t\tRank: 0.105343\n",
      "0.004896\t   131/ 14486\t\tRank: 0.009043\n",
      "0.604062\t     2/ 14486\t\tRank: 0.000138\n",
      "0.001474\t   522/ 14486\t\tRank: 0.036035\n",
      "0.188084\t    11/ 14486\t\tRank: 0.000759\n",
      "0.018850\t    44/ 14486\t\tRank: 0.003037\n",
      "0.002573\t   264/ 14486\t\tRank: 0.018224\n",
      "0.004952\t   128/ 14486\t\tRank: 0.008836\n",
      "0.005711\t   115/ 14486\t\tRank: 0.007939\n",
      "0.000092\t 10853/ 14486\t\tRank: 0.749206\n",
      "0.000053\t 14108/ 14486\t\tRank: 0.973906\n",
      "0.393397\t     5/ 14486\t\tRank: 0.000345\n",
      "0.035639\t    28/ 14486\t\tRank: 0.001933\n",
      "0.059066\t    19/ 14486\t\tRank: 0.001312\n",
      "0.298602\t     7/ 14486\t\tRank: 0.000483\n"
     ]
    }
   ],
   "source": [
    "print 'For validation'\n",
    "get_rank(y_val, y_pred_on_val_xgboost)\n",
    "print\n",
    "print 'For test'\n",
    "get_rank(y_test, y_pred_on_test_xgboost)"
   ]
  },
  {
   "cell_type": "markdown",
   "metadata": {
    "deletable": true,
    "editable": true
   },
   "source": [
    "## Compare Rank"
   ]
  },
  {
   "cell_type": "markdown",
   "metadata": {
    "deletable": true,
    "editable": true
   },
   "source": [
    "### Compare Rank on Val\n",
    "<a id=15></a>"
   ]
  },
  {
   "cell_type": "code",
   "execution_count": 15,
   "metadata": {
    "collapsed": false,
    "deletable": true,
    "editable": true
   },
   "outputs": [
    {
     "name": "stdout",
     "output_type": "stream",
     "text": [
      " 14423|\t0.999667\t0\tRank: 0.0001\t|\t0.255025\t7\tRank: 0.0006\n",
      " 14424|\t0.000004\t13522\tRank: 0.9337\t|\t0.006654\t97\tRank: 0.0068\n",
      " 14425|\t0.007614\t25\tRank: 0.0018\t|\t0.000973\t901\tRank: 0.0623\n",
      " 14426|\t0.000007\t11031\tRank: 0.7617\t|\t0.004228\t137\tRank: 0.0095\n",
      " 14427|\t0.003222\t33\tRank: 0.0023\t|\t0.128536\t12\tRank: 0.0009\n",
      " 14428|\t0.012485\t22\tRank: 0.0016\t|\t0.034595\t28\tRank: 0.0020\n",
      " 14429|\t0.992665\t3\tRank: 0.0003\t|\t0.482657\t1\tRank: 0.0001\n",
      " 14430|\t0.000008\t10577\tRank: 0.7303\t|\t0.001720\t449\tRank: 0.0311\n",
      " 14431|\t0.997849\t2\tRank: 0.0002\t|\t0.302829\t6\tRank: 0.0005\n",
      " 14432|\t0.000013\t5066\tRank: 0.3498\t|\t0.000115\t9161\tRank: 0.6326\n",
      " 14433|\t0.000012\t6245\tRank: 0.4312\t|\t0.000396\t2705\tRank: 0.1868\n",
      " 14434|\t0.000013\t5765\tRank: 0.3981\t|\t0.000083\t11535\tRank: 0.7965\n",
      " 14435|\t0.164386\t8\tRank: 0.0006\t|\t0.303580\t5\tRank: 0.0004\n",
      " 14436|\t0.149422\t9\tRank: 0.0007\t|\t0.397426\t3\tRank: 0.0003\n",
      " 14437|\t0.000069\t305\tRank: 0.0211\t|\t0.032834\t30\tRank: 0.0021\n",
      " 14438|\t0.809995\t5\tRank: 0.0004\t|\t0.315210\t4\tRank: 0.0003\n"
     ]
    }
   ],
   "source": [
    "compare_rank(y_val, y_pred_on_val_single_NN, y_pred_on_val_xgboost)"
   ]
  },
  {
   "cell_type": "markdown",
   "metadata": {
    "deletable": true,
    "editable": true
   },
   "source": [
    "#### Bad predicted on NN but Better on XGBoost\n",
    "<a id=16></a>"
   ]
  },
  {
   "cell_type": "code",
   "execution_count": 16,
   "metadata": {
    "collapsed": false,
    "deletable": true,
    "editable": true,
    "scrolled": false
   },
   "outputs": [
    {
     "name": "stdout",
     "output_type": "stream",
     "text": [
      "testing Molecule:  14424\n",
      "  22955 |  sim: 0.745763\tsim(only important): 0.84375\t\ttrue label: 0\n",
      "  40475 |  sim: 0.711864\tsim(only important): 0.852941\t\ttrue label: 0\n",
      "  35534 |  sim: 0.645161\tsim(only important): 0.666667\t\ttrue label: 0\n",
      "  35424 |  sim: 0.622951\tsim(only important): 0.628571\t\ttrue label: 0\n",
      "  32188 |  sim: 0.600000\tsim(only important): 0.714286\t\ttrue label: 0\n",
      "   3226 |  sim: 0.593750\tsim(only important): 0.714286\t\ttrue label: 0\n",
      "  17711 |  sim: 0.593220\tsim(only important): 0.714286\t\ttrue label: 0\n",
      "   3197 |  sim: 0.581818\tsim(only important): 0.71875\t\ttrue label: 0\n",
      "   6299 |  sim: 0.579710\tsim(only important): 0.6\t\ttrue label: 0\n",
      "  32150 |  sim: 0.578125\tsim(only important): 0.714286\t\ttrue label: 0\n",
      "   3255 |  sim: 0.578125\tsim(only important): 0.714286\t\ttrue label: 0\n",
      "   3263 |  sim: 0.564516\tsim(only important): 0.694444\t\ttrue label: 0\n",
      "  32157 |  sim: 0.555556\tsim(only important): 0.675676\t\ttrue label: 0\n",
      "  18263 |  sim: 0.545455\tsim(only important): 0.702703\t\ttrue label: 0\n",
      "   3223 |  sim: 0.531250\tsim(only important): 0.705882\t\ttrue label: 0\n",
      "  17741 |  sim: 0.530303\tsim(only important): 0.657895\t\ttrue label: 0\n",
      "  17759 |  sim: 0.528571\tsim(only important): 0.666667\t\ttrue label: 0\n",
      "  17720 |  sim: 0.523810\tsim(only important): 0.621622\t\ttrue label: 0\n",
      "  32164 |  sim: 0.521127\tsim(only important): 0.65\t\ttrue label: 0\n",
      "   3217 |  sim: 0.514706\tsim(only important): 0.609756\t\ttrue label: 0\n",
      "  32189 |  sim: 0.513514\tsim(only important): 0.613636\t\ttrue label: 0\n",
      "   3202 |  sim: 0.507937\tsim(only important): 0.676471\t\ttrue label: 0\n",
      "   3201 |  sim: 0.506667\tsim(only important): 0.627907\t\ttrue label: 0\n",
      "  17722 |  sim: 0.500000\tsim(only important): 0.685714\t\ttrue label: 0\n",
      "  17757 |  sim: 0.500000\tsim(only important): 0.631579\t\ttrue label: 0\n",
      "  17753 |  sim: 0.493333\tsim(only important): 0.604651\t\ttrue label: 0\n",
      "  17704 |  sim: 0.492754\tsim(only important): 0.638889\t\ttrue label: 0\n",
      "   3257 |  sim: 0.492754\tsim(only important): 0.6\t\ttrue label: 0\n",
      "  17732 |  sim: 0.485294\tsim(only important): 0.638889\t\ttrue label: 0\n",
      "  32724 |  sim: 0.397260\tsim(only important): 0.605263\t\ttrue label: 0\n",
      "\n",
      "testing Molecule:  14426\n",
      "  20089 |  sim: 0.737705\tsim(only important): 0.9\t\ttrue label: 0\n",
      "   8245 |  sim: 0.625000\tsim(only important): 0.694444\t\ttrue label: 0\n",
      "\n",
      "testing Molecule:  14430\n",
      "  30163 |  sim: 0.431373\tsim(only important): 0.62069\t\ttrue label: 0\n",
      "\n",
      "testing Molecule:  14437\n",
      "  27966 |  sim: 0.576923\tsim(only important): 0.69697\t\ttrue label: 0\n",
      "  27967 |  sim: 0.557377\tsim(only important): 0.684211\t\ttrue label: 0\n",
      "  13489 |  sim: 0.508475\tsim(only important): 0.657143\t\ttrue label: 0\n",
      "  13490 |  sim: 0.466667\tsim(only important): 0.615385\t\ttrue label: 0\n",
      "\u001b[31m  43405 |  sim: 0.435484\tsim(only important): 0.605263\t\ttrue label: 1  *\u001b[0m\n",
      "\n"
     ]
    }
   ],
   "source": [
    "test_list = [14424, 14426, 14430, 14437]\n",
    "print_list(test_list, X_val, X_train, y_train, top=30,\n",
    "           importance_index=importance_index, important_fetcher=important_feature_number)"
   ]
  },
  {
   "cell_type": "markdown",
   "metadata": {
    "deletable": true,
    "editable": true
   },
   "source": [
    "#### Good predictions onboth NN and XGBoost\n",
    "<a id=17></a>"
   ]
  },
  {
   "cell_type": "code",
   "execution_count": 17,
   "metadata": {
    "collapsed": false,
    "deletable": true,
    "editable": true,
    "scrolled": false
   },
   "outputs": [
    {
     "name": "stdout",
     "output_type": "stream",
     "text": [
      "testing Molecule:  14423\n",
      "\u001b[31m  14427 |  sim: 0.724138\tsim(only important): 0.756098\t\ttrue label: 1  *\u001b[0m\n",
      "   3286 |  sim: 0.606557\tsim(only important): 0.609756\t\ttrue label: 0\n",
      "  17828 |  sim: 0.578125\tsim(only important): 0.609756\t\ttrue label: 0\n",
      "   3320 |  sim: 0.578125\tsim(only important): 0.604651\t\ttrue label: 0\n",
      "  25942 |  sim: 0.571429\tsim(only important): 0.714286\t\ttrue label: 0\n",
      "\n",
      "testing Molecule:  14429\n",
      "\u001b[31m  28917 |  sim: 0.676471\tsim(only important): 0.863636\t\ttrue label: 1  *\u001b[0m\n",
      "  20334 |  sim: 0.531250\tsim(only important): 0.666667\t\ttrue label: 0\n",
      "\u001b[31m  28908 |  sim: 0.515152\tsim(only important): 0.7\t\ttrue label: 1  *\u001b[0m\n",
      "\u001b[31m  28907 |  sim: 0.515152\tsim(only important): 0.608696\t\ttrue label: 1  *\u001b[0m\n",
      "  27466 |  sim: 0.510204\tsim(only important): 0.642857\t\ttrue label: 0\n",
      "\n",
      "testing Molecule:  14431\n",
      "   3304 |  sim: 0.705882\tsim(only important): 0.657143\t\ttrue label: 0\n",
      "  11556 |  sim: 0.698113\tsim(only important): 0.615385\t\ttrue label: 0\n",
      "\u001b[31m  14427 |  sim: 0.690909\tsim(only important): 0.717949\t\ttrue label: 1  *\u001b[0m\n",
      "  10645 |  sim: 0.666667\tsim(only important): 0.69697\t\ttrue label: 0\n",
      "  36185 |  sim: 0.634615\tsim(only important): 0.571429\t\ttrue label: 0\n",
      "   8483 |  sim: 0.524590\tsim(only important): 0.628571\t\ttrue label: 0\n",
      "  15125 |  sim: 0.500000\tsim(only important): 0.636364\t\ttrue label: 0\n",
      "\n",
      "testing Molecule:  14435\n",
      "  20412 |  sim: 0.714286\tsim(only important): 0.731707\t\ttrue label: 0\n",
      "  38950 |  sim: 0.666667\tsim(only important): 0.761905\t\ttrue label: 0\n",
      "  21229 |  sim: 0.634921\tsim(only important): 0.666667\t\ttrue label: 0\n",
      "\u001b[31m  43396 |  sim: 0.589286\tsim(only important): 0.731707\t\ttrue label: 1  *\u001b[0m\n",
      "  18396 |  sim: 0.571429\tsim(only important): 0.619048\t\ttrue label: 0\n",
      "\u001b[31m  14423 |  sim: 0.568966\tsim(only important): 0.697674\t\ttrue label: 1  *\u001b[0m\n",
      "  20404 |  sim: 0.555556\tsim(only important): 0.727273\t\ttrue label: 0\n",
      "   7167 |  sim: 0.553846\tsim(only important): 0.690476\t\ttrue label: 0\n",
      "\u001b[31m  28919 |  sim: 0.540984\tsim(only important): 0.652174\t\ttrue label: 1  *\u001b[0m\n",
      "  25769 |  sim: 0.532258\tsim(only important): 0.627907\t\ttrue label: 0\n",
      "   5889 |  sim: 0.523077\tsim(only important): 0.659091\t\ttrue label: 0\n",
      "  30363 |  sim: 0.500000\tsim(only important): 0.638298\t\ttrue label: 0\n",
      "  10442 |  sim: 0.500000\tsim(only important): 0.6\t\ttrue label: 0\n",
      "   5900 |  sim: 0.483871\tsim(only important): 0.642857\t\ttrue label: 0\n",
      "  25384 |  sim: 0.478261\tsim(only important): 0.630435\t\ttrue label: 0\n",
      "  36131 |  sim: 0.469697\tsim(only important): 0.613636\t\ttrue label: 0\n",
      "\n",
      "testing Molecule:  14436\n",
      "  41876 |  sim: 0.634146\tsim(only important): 0.666667\t\ttrue label: 0\n",
      "  27469 |  sim: 0.565217\tsim(only important): 0.642857\t\ttrue label: 0\n",
      "\u001b[31m  28917 |  sim: 0.552632\tsim(only important): 0.68\t\ttrue label: 1  *\u001b[0m\n",
      "  24895 |  sim: 0.540541\tsim(only important): 0.6\t\ttrue label: 0\n",
      "  20334 |  sim: 0.500000\tsim(only important): 0.636364\t\ttrue label: 0\n",
      "\u001b[31m  28908 |  sim: 0.485714\tsim(only important): 0.666667\t\ttrue label: 1  *\u001b[0m\n",
      "\n",
      "testing Molecule:  14438\n",
      "\u001b[31m  43405 |  sim: 0.711538\tsim(only important): 0.878788\t\ttrue label: 1  *\u001b[0m\n",
      "  13488 |  sim: 0.603448\tsim(only important): 0.8\t\ttrue label: 0\n",
      "  13490 |  sim: 0.571429\tsim(only important): 0.72973\t\ttrue label: 0\n",
      "  42395 |  sim: 0.535714\tsim(only important): 0.684211\t\ttrue label: 0\n",
      "  42394 |  sim: 0.526316\tsim(only important): 0.65\t\ttrue label: 0\n",
      "  13487 |  sim: 0.525424\tsim(only important): 0.710526\t\ttrue label: 0\n",
      "\u001b[31m  43404 |  sim: 0.517241\tsim(only important): 0.702703\t\ttrue label: 1  *\u001b[0m\n",
      "  14176 |  sim: 0.508197\tsim(only important): 0.6\t\ttrue label: 0\n",
      "  42393 |  sim: 0.500000\tsim(only important): 0.666667\t\ttrue label: 0\n",
      "  27967 |  sim: 0.484375\tsim(only important): 0.666667\t\ttrue label: 0\n",
      "\u001b[31m  14436 |  sim: 0.476190\tsim(only important): 0.634146\t\ttrue label: 1  *\u001b[0m\n",
      "\u001b[31m  14435 |  sim: 0.468750\tsim(only important): 0.634146\t\ttrue label: 1  *\u001b[0m\n",
      "  27966 |  sim: 0.464286\tsim(only important): 0.628571\t\ttrue label: 0\n",
      "\n"
     ]
    }
   ],
   "source": [
    "test_list = [14423, 14429, 14431, 14435, 14436, 14438] # NN is less confident on 14435, 14436\n",
    "print_list(test_list, X_val, X_train, y_train,\n",
    "           importance_index=importance_index, important_fetcher=important_feature_number)"
   ]
  },
  {
   "cell_type": "markdown",
   "metadata": {
    "deletable": true,
    "editable": true
   },
   "source": [
    "### Compare Rank on Test\n",
    "<a id=18></a>"
   ]
  },
  {
   "cell_type": "code",
   "execution_count": 18,
   "metadata": {
    "collapsed": false,
    "deletable": true,
    "editable": true
   },
   "outputs": [
    {
     "name": "stdout",
     "output_type": "stream",
     "text": [
      " 14424|\t0.000033\t768\tRank: 0.0531\t|\t0.011174\t57\tRank: 0.0040\n",
      " 14425|\t0.000002\t14219\tRank: 0.9816\t|\t0.000630\t1525\tRank: 0.1053\n",
      " 14426|\t0.000029\t998\tRank: 0.0690\t|\t0.004896\t130\tRank: 0.0090\n",
      " 14427|\t0.160746\t8\tRank: 0.0006\t|\t0.604062\t1\tRank: 0.0001\n",
      " 14428|\t0.000026\t1261\tRank: 0.0871\t|\t0.001474\t521\tRank: 0.0360\n",
      " 14429|\t0.708671\t5\tRank: 0.0004\t|\t0.188084\t10\tRank: 0.0008\n",
      " 14430|\t0.000322\t93\tRank: 0.0065\t|\t0.018850\t43\tRank: 0.0030\n",
      " 14431|\t0.000028\t1088\tRank: 0.0752\t|\t0.002573\t263\tRank: 0.0182\n",
      " 14432|\t0.000078\t253\tRank: 0.0175\t|\t0.004952\t127\tRank: 0.0088\n",
      " 14433|\t0.000026\t1307\tRank: 0.0903\t|\t0.005711\t114\tRank: 0.0079\n",
      " 14434|\t0.000009\t8550\tRank: 0.5903\t|\t0.000092\t10852\tRank: 0.7492\n",
      " 14435|\t0.000008\t9949\tRank: 0.6869\t|\t0.000053\t14107\tRank: 0.9739\n",
      " 14436|\t0.920472\t4\tRank: 0.0003\t|\t0.393397\t4\tRank: 0.0003\n",
      " 14437|\t0.069630\t10\tRank: 0.0008\t|\t0.035639\t27\tRank: 0.0019\n",
      " 14438|\t0.000193\t116\tRank: 0.0081\t|\t0.059066\t18\tRank: 0.0013\n",
      " 14439|\t0.040926\t13\tRank: 0.0010\t|\t0.298602\t6\tRank: 0.0005\n"
     ]
    }
   ],
   "source": [
    "compare_rank(y_test, y_pred_on_test_single_NN, y_pred_on_test_xgboost)"
   ]
  },
  {
   "cell_type": "markdown",
   "metadata": {
    "deletable": true,
    "editable": true
   },
   "source": [
    "#### Bad predicted on NN but Better on XGBoost\n",
    "<a id=19></a>"
   ]
  },
  {
   "cell_type": "code",
   "execution_count": 19,
   "metadata": {
    "collapsed": false,
    "deletable": true,
    "editable": true,
    "scrolled": false
   },
   "outputs": [
    {
     "name": "stdout",
     "output_type": "stream",
     "text": [
      "testing Molecule:  14425\n",
      "  33815 |  sim: 0.910714\tsim(only important): 0.928571\t\ttrue label: 0\n",
      "  33834 |  sim: 0.786885\tsim(only important): 0.866667\t\ttrue label: 0\n",
      "  33792 |  sim: 0.774194\tsim(only important): 0.774194\t\ttrue label: 0\n",
      "  19401 |  sim: 0.762712\tsim(only important): 0.774194\t\ttrue label: 0\n",
      "    925 |  sim: 0.704918\tsim(only important): 0.741935\t\ttrue label: 0\n",
      "  33820 |  sim: 0.693548\tsim(only important): 0.709677\t\ttrue label: 0\n",
      "  33825 |  sim: 0.683333\tsim(only important): 0.758621\t\ttrue label: 0\n",
      "  19423 |  sim: 0.681818\tsim(only important): 0.75\t\ttrue label: 0\n",
      "  33833 |  sim: 0.681818\tsim(only important): 0.774194\t\ttrue label: 0\n",
      "   4912 |  sim: 0.677419\tsim(only important): 0.709677\t\ttrue label: 0\n",
      "  19388 |  sim: 0.676923\tsim(only important): 0.71875\t\ttrue label: 0\n",
      "  19398 |  sim: 0.672131\tsim(only important): 0.735294\t\ttrue label: 0\n",
      "   4858 |  sim: 0.651515\tsim(only important): 0.657143\t\ttrue label: 0\n",
      "  15347 |  sim: 0.640625\tsim(only important): 0.827586\t\ttrue label: 0\n",
      "   6270 |  sim: 0.637681\tsim(only important): 0.742857\t\ttrue label: 0\n",
      "  15664 |  sim: 0.634921\tsim(only important): 0.677419\t\ttrue label: 0\n",
      "  29836 |  sim: 0.632353\tsim(only important): 0.648649\t\ttrue label: 0\n",
      "    898 |  sim: 0.630769\tsim(only important): 0.827586\t\ttrue label: 0\n",
      "  33817 |  sim: 0.629032\tsim(only important): 0.724138\t\ttrue label: 0\n",
      "    906 |  sim: 0.623188\tsim(only important): 0.648649\t\ttrue label: 0\n",
      "  33850 |  sim: 0.619048\tsim(only important): 0.689655\t\ttrue label: 0\n",
      "  33799 |  sim: 0.617647\tsim(only important): 0.709677\t\ttrue label: 0\n",
      "    933 |  sim: 0.615385\tsim(only important): 0.647059\t\ttrue label: 0\n",
      "    936 |  sim: 0.600000\tsim(only important): 0.628571\t\ttrue label: 0\n",
      "  29875 |  sim: 0.583333\tsim(only important): 0.631579\t\ttrue label: 0\n",
      "  19414 |  sim: 0.582090\tsim(only important): 0.606061\t\ttrue label: 0\n",
      "   4892 |  sim: 0.582090\tsim(only important): 0.65625\t\ttrue label: 0\n",
      "  33849 |  sim: 0.575758\tsim(only important): 0.625\t\ttrue label: 0\n",
      "  19431 |  sim: 0.573529\tsim(only important): 0.645161\t\ttrue label: 0\n",
      "   6314 |  sim: 0.569444\tsim(only important): 0.75\t\ttrue label: 0\n",
      "\n",
      "testing Molecule:  14428\n",
      "   7242 |  sim: 0.561404\tsim(only important): 0.6\t\ttrue label: 0\n",
      "  26569 |  sim: 0.473684\tsim(only important): 0.612903\t\ttrue label: 0\n",
      "\n",
      "testing Molecule:  14431\n",
      "\n",
      "testing Molecule:  14438\n",
      "  40539 |  sim: 0.682540\tsim(only important): 0.666667\t\ttrue label: 0\n",
      "  27937 |  sim: 0.547945\tsim(only important): 0.6\t\ttrue label: 0\n",
      "  20384 |  sim: 0.507042\tsim(only important): 0.630435\t\ttrue label: 0\n",
      "\u001b[31m  14435 |  sim: 0.458333\tsim(only important): 0.604167\t\ttrue label: 1  *\u001b[0m\n",
      "\n"
     ]
    }
   ],
   "source": [
    "test_list = [14425, 14428, 14431, 14438]\n",
    "print_list(test_list, X_test, X_train, y_train, top=30,\n",
    "           importance_index=importance_index, important_fetcher=important_feature_number)"
   ]
  },
  {
   "cell_type": "markdown",
   "metadata": {
    "deletable": true,
    "editable": true
   },
   "source": [
    "#### Good predictions onboth NN and XGBoost\n",
    "<a id=20></a>"
   ]
  },
  {
   "cell_type": "code",
   "execution_count": 20,
   "metadata": {
    "collapsed": false,
    "deletable": true,
    "editable": true,
    "scrolled": false
   },
   "outputs": [
    {
     "name": "stdout",
     "output_type": "stream",
     "text": [
      "testing Molecule:  14427\n",
      "  20334 |  sim: 0.607143\tsim(only important): 0.933333\t\ttrue label: 0\n",
      "\u001b[31m  28908 |  sim: 0.586207\tsim(only important): 1.0\t\ttrue label: 1  *\u001b[0m\n",
      "\u001b[31m  28907 |  sim: 0.586207\tsim(only important): 0.823529\t\ttrue label: 1  *\u001b[0m\n",
      "  34811 |  sim: 0.531250\tsim(only important): 0.736842\t\ttrue label: 0\n",
      "\u001b[31m  28917 |  sim: 0.472222\tsim(only important): 0.666667\t\ttrue label: 1  *\u001b[0m\n",
      "  25495 |  sim: 0.419355\tsim(only important): 0.625\t\ttrue label: 0\n",
      "  37261 |  sim: 0.371429\tsim(only important): 0.647059\t\ttrue label: 0\n",
      "\n",
      "testing Molecule:  14429\n",
      "  11519 |  sim: 0.529412\tsim(only important): 0.6\t\ttrue label: 0\n",
      "  11518 |  sim: 0.523077\tsim(only important): 0.642857\t\ttrue label: 0\n",
      "\n",
      "testing Molecule:  14436\n",
      "   5839 |  sim: 0.727273\tsim(only important): 0.756757\t\ttrue label: 0\n",
      "   9964 |  sim: 0.666667\tsim(only important): 0.628571\t\ttrue label: 0\n",
      "  32816 |  sim: 0.649123\tsim(only important): 0.609756\t\ttrue label: 0\n",
      "   6100 |  sim: 0.637931\tsim(only important): 0.595238\t\ttrue label: 0\n",
      "  32563 |  sim: 0.633333\tsim(only important): 0.619048\t\ttrue label: 0\n",
      "  20403 |  sim: 0.610169\tsim(only important): 0.609756\t\ttrue label: 0\n",
      "  25385 |  sim: 0.600000\tsim(only important): 0.609756\t\ttrue label: 0\n",
      "\u001b[31m  14423 |  sim: 0.542373\tsim(only important): 0.690476\t\ttrue label: 1  *\u001b[0m\n",
      "\u001b[31m  43396 |  sim: 0.508475\tsim(only important): 0.642857\t\ttrue label: 1  *\u001b[0m\n",
      "   5900 |  sim: 0.483871\tsim(only important): 0.675\t\ttrue label: 0\n",
      "  20404 |  sim: 0.462687\tsim(only important): 0.608696\t\ttrue label: 0\n",
      "  38950 |  sim: 0.461538\tsim(only important): 0.6\t\ttrue label: 0\n",
      "\n",
      "testing Molecule:  14437\n",
      "  25963 |  sim: 0.612903\tsim(only important): 0.769231\t\ttrue label: 0\n",
      "  40487 |  sim: 0.609375\tsim(only important): 0.717949\t\ttrue label: 0\n",
      "  40491 |  sim: 0.478261\tsim(only important): 0.604651\t\ttrue label: 0\n",
      "\n",
      "testing Molecule:  14439\n",
      "  41266 |  sim: 0.612903\tsim(only important): 0.682927\t\ttrue label: 0\n",
      "  42395 |  sim: 0.589286\tsim(only important): 0.763158\t\ttrue label: 0\n",
      "  42394 |  sim: 0.551724\tsim(only important): 0.642857\t\ttrue label: 0\n",
      "  43146 |  sim: 0.546875\tsim(only important): 0.644444\t\ttrue label: 0\n",
      "  13490 |  sim: 0.542373\tsim(only important): 0.675\t\ttrue label: 0\n",
      "\u001b[31m  43405 |  sim: 0.533333\tsim(only important): 0.710526\t\ttrue label: 1  *\u001b[0m\n",
      "\u001b[31m  43404 |  sim: 0.516667\tsim(only important): 0.692308\t\ttrue label: 1  *\u001b[0m\n",
      "  42393 |  sim: 0.500000\tsim(only important): 0.658537\t\ttrue label: 0\n",
      "\u001b[31m  14436 |  sim: 0.476923\tsim(only important): 0.627907\t\ttrue label: 1  *\u001b[0m\n",
      "  13487 |  sim: 0.476190\tsim(only important): 0.619048\t\ttrue label: 0\n",
      "\u001b[31m  14435 |  sim: 0.469697\tsim(only important): 0.627907\t\ttrue label: 1  *\u001b[0m\n",
      "  27188 |  sim: 0.466667\tsim(only important): 0.621622\t\ttrue label: 0\n",
      "  27966 |  sim: 0.465517\tsim(only important): 0.621622\t\ttrue label: 0\n",
      "  27967 |  sim: 0.462687\tsim(only important): 0.658537\t\ttrue label: 0\n",
      "  13488 |  sim: 0.454545\tsim(only important): 0.65\t\ttrue label: 0\n",
      "\n"
     ]
    }
   ],
   "source": [
    "test_list = [14427, 14429, 14436, 14437, 14439]\n",
    "print_list(test_list, X_test, X_train, y_train,\n",
    "           importance_index=importance_index, important_fetcher=important_feature_number)"
   ]
  },
  {
   "cell_type": "markdown",
   "metadata": {
    "deletable": true,
    "editable": true
   },
   "source": [
    "# Random Forest"
   ]
  },
  {
   "cell_type": "code",
   "execution_count": 21,
   "metadata": {
    "collapsed": true,
    "deletable": true,
    "editable": true
   },
   "outputs": [],
   "source": [
    "from sklearn.ensemble import RandomForestClassifier"
   ]
  },
  {
   "cell_type": "code",
   "execution_count": 22,
   "metadata": {
    "collapsed": false,
    "deletable": true,
    "editable": true
   },
   "outputs": [
    {
     "name": "stderr",
     "output_type": "stream",
     "text": [
      "/usr/local/anaconda/lib/python2.7/site-packages/ipykernel/__main__.py:10: DataConversionWarning: A column-vector y was passed when a 1d array was expected. Please change the shape of y to (n_samples,), for example using ravel().\n"
     ]
    },
    {
     "data": {
      "text/plain": [
       "RandomForestClassifier(bootstrap=True, class_weight='balanced',\n",
       "            criterion='gini', max_depth=None, max_features='log2',\n",
       "            max_leaf_nodes=None, min_impurity_decrease=0.0,\n",
       "            min_impurity_split=None, min_samples_leaf=1,\n",
       "            min_samples_split=2, min_weight_fraction_leaf=0.0,\n",
       "            n_estimators=4000, n_jobs=3, oob_score=False,\n",
       "            random_state=1337, verbose=0, warm_start=False)"
      ]
     },
     "execution_count": 22,
     "metadata": {},
     "output_type": "execute_result"
    }
   ],
   "source": [
    "rnd_state = 1337\n",
    "rf_clf = RandomForestClassifier(n_estimators=4000,\n",
    "                                max_features='log2',\n",
    "                                min_samples_leaf=1, \n",
    "                                n_jobs=3, \n",
    "                                class_weight='balanced',\n",
    "                                random_state=rnd_state,\n",
    "                                oob_score=False, \n",
    "                                verbose=0)\n",
    "rf_clf.fit(X_train, y_train)"
   ]
  },
  {
   "cell_type": "code",
   "execution_count": 23,
   "metadata": {
    "collapsed": false,
    "deletable": true,
    "editable": true
   },
   "outputs": [
    {
     "name": "stdout",
     "output_type": "stream",
     "text": [
      "train precision: 1.0\n",
      "train roc: 1.0\n",
      "train bedroc: 0.994725515647\n",
      "\n",
      "validation precision: 0.351985010494\n",
      "validation roc: 0.961587641692\n",
      "validation bedroc: 0.829019613984\n",
      "\n",
      "test precision: 0.130721818647\n",
      "test roc: 0.872224861783\n",
      "test bedroc: 0.689646653184\n",
      "\n",
      "ratio: 0.02, EF: 31.25,\tactive: 16.0\n",
      "ratio: 0.01, EF: 62.5,\tactive: 16.0\n",
      "ratio: 0.0015, EF: 208.333333333,\tactive: 16.0\n",
      "ratio: 0.001, EF: 187.5,\tactive: 16.0\n"
     ]
    }
   ],
   "source": [
    "predict_with_existing(rf_clf, X_train, y_train, X_val, y_val, X_test, y_test)"
   ]
  },
  {
   "cell_type": "markdown",
   "metadata": {
    "deletable": true,
    "editable": true
   },
   "source": [
    "## Show val and test rank on RF"
   ]
  },
  {
   "cell_type": "code",
   "execution_count": 24,
   "metadata": {
    "collapsed": false,
    "deletable": true,
    "editable": true
   },
   "outputs": [],
   "source": [
    "importance_index = np.argsort(rf_clf.feature_importances_)[::-1]\n",
    "y_pred_on_val_rf = reshape_data_into_2_dim(rf_clf.predict_proba(X_val)[:, 1])\n",
    "y_pred_on_test_rf = reshape_data_into_2_dim(rf_clf.predict_proba(X_test)[:, 1])"
   ]
  },
  {
   "cell_type": "code",
   "execution_count": 25,
   "metadata": {
    "collapsed": false,
    "deletable": true,
    "editable": true
   },
   "outputs": [
    {
     "name": "stdout",
     "output_type": "stream",
     "text": [
      "For validation\n",
      "0.175000\t     8/ 14484\t\tRank: 0.000552\n",
      "0.010500\t   173/ 14484\t\tRank: 0.011944\n",
      "0.033250\t    46/ 14484\t\tRank: 0.003176\n",
      "0.000500\t  4584/ 14484\t\tRank: 0.316487\n",
      "0.133250\t    15/ 14484\t\tRank: 0.001036\n",
      "0.083750\t    21/ 14484\t\tRank: 0.001450\n",
      "0.307500\t     1/ 14484\t\tRank: 0.000069\n",
      "0.054500\t    30/ 14484\t\tRank: 0.002071\n",
      "0.198250\t     5/ 14484\t\tRank: 0.000345\n",
      "0.001750\t  1086/ 14484\t\tRank: 0.074979\n",
      "0.008500\t   208/ 14484\t\tRank: 0.014361\n",
      "0.000750\t  3469/ 14484\t\tRank: 0.239506\n",
      "0.121250\t    16/ 14484\t\tRank: 0.001105\n",
      "0.170750\t     9/ 14484\t\tRank: 0.000621\n",
      "0.044750\t    38/ 14484\t\tRank: 0.002624\n",
      "0.295500\t     2/ 14484\t\tRank: 0.000138\n",
      "\n",
      "For test\n",
      "0.021250\t    93/ 14486\t\tRank: 0.006420\n",
      "0.000000\t  8667/ 14486\t\tRank: 0.598302\n",
      "0.000750\t  3383/ 14486\t\tRank: 0.233536\n",
      "0.251750\t     2/ 14486\t\tRank: 0.000138\n",
      "0.001500\t  1441/ 14486\t\tRank: 0.099475\n",
      "0.147250\t     8/ 14486\t\tRank: 0.000552\n",
      "0.063000\t    33/ 14486\t\tRank: 0.002278\n",
      "0.004000\t   443/ 14486\t\tRank: 0.030581\n",
      "0.019500\t    97/ 14486\t\tRank: 0.006696\n",
      "0.017750\t   103/ 14486\t\tRank: 0.007110\n",
      "0.000250\t  6975/ 14486\t\tRank: 0.481499\n",
      "0.000250\t  7019/ 14486\t\tRank: 0.484537\n",
      "0.169500\t     6/ 14486\t\tRank: 0.000414\n",
      "0.122250\t    15/ 14486\t\tRank: 0.001035\n",
      "0.089500\t    21/ 14486\t\tRank: 0.001450\n",
      "0.082250\t    26/ 14486\t\tRank: 0.001795\n"
     ]
    }
   ],
   "source": [
    "print 'For validation'\n",
    "get_rank(y_val, y_pred_on_val_rf)\n",
    "print\n",
    "print 'For test'\n",
    "get_rank(y_test, y_pred_on_test_rf)"
   ]
  },
  {
   "cell_type": "markdown",
   "metadata": {
    "deletable": true,
    "editable": true
   },
   "source": [
    "## Compare Rank"
   ]
  },
  {
   "cell_type": "markdown",
   "metadata": {
    "deletable": true,
    "editable": true
   },
   "source": [
    "### Compare Rank on Val\n",
    "<a id=26></a>"
   ]
  },
  {
   "cell_type": "code",
   "execution_count": 26,
   "metadata": {
    "collapsed": false,
    "deletable": true,
    "editable": true
   },
   "outputs": [
    {
     "name": "stdout",
     "output_type": "stream",
     "text": [
      " 14423|\t0.999667\t0\tRank: 0.0001\t|\t0.175000\t7\tRank: 0.0006\n",
      " 14424|\t0.000004\t13522\tRank: 0.9337\t|\t0.010500\t172\tRank: 0.0119\n",
      " 14425|\t0.007614\t25\tRank: 0.0018\t|\t0.033250\t45\tRank: 0.0032\n",
      " 14426|\t0.000007\t11031\tRank: 0.7617\t|\t0.000500\t4583\tRank: 0.3165\n",
      " 14427|\t0.003222\t33\tRank: 0.0023\t|\t0.133250\t14\tRank: 0.0010\n",
      " 14428|\t0.012485\t22\tRank: 0.0016\t|\t0.083750\t20\tRank: 0.0014\n",
      " 14429|\t0.992665\t3\tRank: 0.0003\t|\t0.307500\t0\tRank: 0.0001\n",
      " 14430|\t0.000008\t10577\tRank: 0.7303\t|\t0.054500\t29\tRank: 0.0021\n",
      " 14431|\t0.997849\t2\tRank: 0.0002\t|\t0.198250\t4\tRank: 0.0003\n",
      " 14432|\t0.000013\t5066\tRank: 0.3498\t|\t0.001750\t1085\tRank: 0.0750\n",
      " 14433|\t0.000012\t6245\tRank: 0.4312\t|\t0.008500\t207\tRank: 0.0144\n",
      " 14434|\t0.000013\t5765\tRank: 0.3981\t|\t0.000750\t3468\tRank: 0.2395\n",
      " 14435|\t0.164386\t8\tRank: 0.0006\t|\t0.121250\t15\tRank: 0.0011\n",
      " 14436|\t0.149422\t9\tRank: 0.0007\t|\t0.170750\t8\tRank: 0.0006\n",
      " 14437|\t0.000069\t305\tRank: 0.0211\t|\t0.044750\t37\tRank: 0.0026\n",
      " 14438|\t0.809995\t5\tRank: 0.0004\t|\t0.295500\t1\tRank: 0.0001\n"
     ]
    }
   ],
   "source": [
    "compare_rank(y_val, y_pred_on_val_single_NN, y_pred_on_val_rf)"
   ]
  },
  {
   "cell_type": "markdown",
   "metadata": {
    "deletable": true,
    "editable": true
   },
   "source": [
    "#### Bad predicted on NN but Better on RF\n",
    "<a id=27></a>"
   ]
  },
  {
   "cell_type": "code",
   "execution_count": 27,
   "metadata": {
    "collapsed": false,
    "deletable": true,
    "editable": true,
    "scrolled": false
   },
   "outputs": [
    {
     "name": "stdout",
     "output_type": "stream",
     "text": [
      "testing Molecule:  14424\n",
      "  22955 |  sim: 0.745763\tsim(only important): 0.941176\t\ttrue label: 0\n",
      "  40475 |  sim: 0.711864\tsim(only important): 0.9375\t\ttrue label: 0\n",
      "  35534 |  sim: 0.645161\tsim(only important): 0.875\t\ttrue label: 0\n",
      "  35424 |  sim: 0.622951\tsim(only important): 0.666667\t\ttrue label: 0\n",
      "  32188 |  sim: 0.600000\tsim(only important): 0.823529\t\ttrue label: 0\n",
      "   3226 |  sim: 0.593750\tsim(only important): 0.764706\t\ttrue label: 0\n",
      "  17711 |  sim: 0.593220\tsim(only important): 0.736842\t\ttrue label: 0\n",
      "   3197 |  sim: 0.581818\tsim(only important): 0.75\t\ttrue label: 0\n",
      "  11511 |  sim: 0.580645\tsim(only important): 0.75\t\ttrue label: 0\n",
      "   6299 |  sim: 0.579710\tsim(only important): 0.666667\t\ttrue label: 0\n",
      "  32150 |  sim: 0.578125\tsim(only important): 0.722222\t\ttrue label: 0\n",
      "   3255 |  sim: 0.578125\tsim(only important): 0.722222\t\ttrue label: 0\n",
      "   3263 |  sim: 0.564516\tsim(only important): 0.823529\t\ttrue label: 0\n",
      "  32157 |  sim: 0.555556\tsim(only important): 0.736842\t\ttrue label: 0\n",
      "  18263 |  sim: 0.545455\tsim(only important): 0.736842\t\ttrue label: 0\n",
      "   3223 |  sim: 0.531250\tsim(only important): 0.722222\t\ttrue label: 0\n",
      "  17741 |  sim: 0.530303\tsim(only important): 0.736842\t\ttrue label: 0\n",
      "  32170 |  sim: 0.529412\tsim(only important): 0.636364\t\ttrue label: 0\n",
      "  17759 |  sim: 0.528571\tsim(only important): 0.7\t\ttrue label: 0\n",
      "  17679 |  sim: 0.524590\tsim(only important): 0.647059\t\ttrue label: 0\n",
      "  32164 |  sim: 0.521127\tsim(only important): 0.736842\t\ttrue label: 0\n",
      "   3217 |  sim: 0.514706\tsim(only important): 0.666667\t\ttrue label: 0\n",
      "  32191 |  sim: 0.513889\tsim(only important): 0.823529\t\ttrue label: 0\n",
      "  32189 |  sim: 0.513514\tsim(only important): 0.714286\t\ttrue label: 0\n",
      "   3202 |  sim: 0.507937\tsim(only important): 0.705882\t\ttrue label: 0\n",
      "  17726 |  sim: 0.507463\tsim(only important): 0.666667\t\ttrue label: 0\n",
      "   3246 |  sim: 0.506849\tsim(only important): 0.608696\t\ttrue label: 0\n",
      "   3201 |  sim: 0.506667\tsim(only important): 0.714286\t\ttrue label: 0\n",
      "  32141 |  sim: 0.500000\tsim(only important): 0.736842\t\ttrue label: 0\n",
      "   3262 |  sim: 0.500000\tsim(only important): 0.6\t\ttrue label: 0\n",
      "\n",
      "testing Molecule:  14426\n",
      "  20089 |  sim: 0.737705\tsim(only important): 1.0\t\ttrue label: 0\n",
      "   8245 |  sim: 0.625000\tsim(only important): 0.875\t\ttrue label: 0\n",
      "  22574 |  sim: 0.531250\tsim(only important): 0.611111\t\ttrue label: 0\n",
      "   9797 |  sim: 0.468750\tsim(only important): 0.625\t\ttrue label: 0\n",
      "  20047 |  sim: 0.441176\tsim(only important): 0.666667\t\ttrue label: 0\n",
      "  43003 |  sim: 0.341772\tsim(only important): 0.619048\t\ttrue label: 0\n",
      "  20200 |  sim: 0.329268\tsim(only important): 0.647059\t\ttrue label: 0\n",
      "   9285 |  sim: 0.324324\tsim(only important): 0.647059\t\ttrue label: 0\n",
      "  28362 |  sim: 0.320513\tsim(only important): 0.631579\t\ttrue label: 0\n",
      "  20340 |  sim: 0.311475\tsim(only important): 0.733333\t\ttrue label: 0\n",
      "  23619 |  sim: 0.310811\tsim(only important): 0.666667\t\ttrue label: 0\n",
      "  38065 |  sim: 0.303797\tsim(only important): 0.65\t\ttrue label: 0\n",
      "   8299 |  sim: 0.301370\tsim(only important): 0.666667\t\ttrue label: 0\n",
      "  26337 |  sim: 0.293333\tsim(only important): 0.611111\t\ttrue label: 0\n",
      "   6557 |  sim: 0.280488\tsim(only important): 0.611111\t\ttrue label: 0\n",
      "  37324 |  sim: 0.277108\tsim(only important): 0.6\t\ttrue label: 0\n",
      "  22694 |  sim: 0.271429\tsim(only important): 0.6875\t\ttrue label: 0\n",
      "  10461 |  sim: 0.269841\tsim(only important): 0.6\t\ttrue label: 0\n",
      "  35483 |  sim: 0.267442\tsim(only important): 0.611111\t\ttrue label: 0\n",
      "    456 |  sim: 0.260274\tsim(only important): 0.611111\t\ttrue label: 0\n",
      "  35531 |  sim: 0.259259\tsim(only important): 0.75\t\ttrue label: 0\n",
      "   9162 |  sim: 0.250000\tsim(only important): 0.625\t\ttrue label: 0\n",
      "  11236 |  sim: 0.246914\tsim(only important): 0.666667\t\ttrue label: 0\n",
      "  12013 |  sim: 0.244186\tsim(only important): 0.6\t\ttrue label: 0\n",
      "  10985 |  sim: 0.226190\tsim(only important): 0.611111\t\ttrue label: 0\n",
      "  27552 |  sim: 0.223404\tsim(only important): 0.6\t\ttrue label: 0\n",
      "  16047 |  sim: 0.220930\tsim(only important): 0.6\t\ttrue label: 0\n",
      "  31252 |  sim: 0.216495\tsim(only important): 0.684211\t\ttrue label: 0\n",
      "   2277 |  sim: 0.211111\tsim(only important): 0.6\t\ttrue label: 0\n",
      "  11383 |  sim: 0.206897\tsim(only important): 0.666667\t\ttrue label: 0\n",
      "\n",
      "testing Molecule:  14430\n",
      "  39070 |  sim: 0.545455\tsim(only important): 0.666667\t\ttrue label: 0\n",
      "  27355 |  sim: 0.488372\tsim(only important): 0.611111\t\ttrue label: 0\n",
      "  30163 |  sim: 0.431373\tsim(only important): 0.666667\t\ttrue label: 0\n",
      "  26733 |  sim: 0.428571\tsim(only important): 0.733333\t\ttrue label: 0\n",
      "  26849 |  sim: 0.425532\tsim(only important): 0.647059\t\ttrue label: 0\n",
      "  42353 |  sim: 0.420000\tsim(only important): 0.647059\t\ttrue label: 0\n",
      "  28902 |  sim: 0.420000\tsim(only important): 0.611111\t\ttrue label: 0\n",
      "  27281 |  sim: 0.416667\tsim(only important): 0.625\t\ttrue label: 0\n",
      "  24785 |  sim: 0.408163\tsim(only important): 0.647059\t\ttrue label: 0\n",
      "  12248 |  sim: 0.400000\tsim(only important): 0.666667\t\ttrue label: 0\n",
      "  26851 |  sim: 0.400000\tsim(only important): 0.647059\t\ttrue label: 0\n",
      "  27629 |  sim: 0.400000\tsim(only important): 0.733333\t\ttrue label: 0\n",
      "  32932 |  sim: 0.396226\tsim(only important): 0.666667\t\ttrue label: 0\n",
      "\u001b[31m  43398 |  sim: 0.388889\tsim(only important): 0.611111\t\ttrue label: 1  *\u001b[0m\n",
      "  18844 |  sim: 0.377358\tsim(only important): 0.6875\t\ttrue label: 0\n",
      "  23928 |  sim: 0.375000\tsim(only important): 0.6\t\ttrue label: 0\n",
      "  41169 |  sim: 0.372549\tsim(only important): 0.666667\t\ttrue label: 0\n",
      "  28117 |  sim: 0.370370\tsim(only important): 0.611111\t\ttrue label: 0\n",
      "  21100 |  sim: 0.367347\tsim(only important): 0.6\t\ttrue label: 0\n",
      "  12075 |  sim: 0.366667\tsim(only important): 0.6\t\ttrue label: 0\n",
      "  26756 |  sim: 0.359375\tsim(only important): 0.6\t\ttrue label: 0\n",
      "   6185 |  sim: 0.357143\tsim(only important): 0.611111\t\ttrue label: 0\n",
      "  33321 |  sim: 0.355932\tsim(only important): 0.666667\t\ttrue label: 0\n",
      "   4364 |  sim: 0.355932\tsim(only important): 0.647059\t\ttrue label: 0\n",
      "  20594 |  sim: 0.355932\tsim(only important): 0.6875\t\ttrue label: 0\n",
      "   7791 |  sim: 0.355556\tsim(only important): 0.666667\t\ttrue label: 0\n",
      "   3831 |  sim: 0.350877\tsim(only important): 0.857143\t\ttrue label: 0\n",
      "  33471 |  sim: 0.349206\tsim(only important): 0.666667\t\ttrue label: 0\n",
      "   8401 |  sim: 0.346154\tsim(only important): 0.692308\t\ttrue label: 0\n",
      "  26403 |  sim: 0.344828\tsim(only important): 0.733333\t\ttrue label: 0\n",
      "\n",
      "testing Molecule:  14432\n",
      "  39068 |  sim: 0.320988\tsim(only important): 0.666667\t\ttrue label: 0\n",
      "  29217 |  sim: 0.287879\tsim(only important): 0.666667\t\ttrue label: 0\n",
      "  31771 |  sim: 0.285714\tsim(only important): 0.615385\t\ttrue label: 0\n",
      "  21843 |  sim: 0.265823\tsim(only important): 0.615385\t\ttrue label: 0\n",
      "    249 |  sim: 0.260274\tsim(only important): 0.615385\t\ttrue label: 0\n",
      "  10057 |  sim: 0.256410\tsim(only important): 0.615385\t\ttrue label: 0\n",
      "  16043 |  sim: 0.246753\tsim(only important): 0.666667\t\ttrue label: 0\n",
      "   1653 |  sim: 0.246753\tsim(only important): 0.666667\t\ttrue label: 0\n",
      "   1799 |  sim: 0.243243\tsim(only important): 0.666667\t\ttrue label: 0\n",
      "  23554 |  sim: 0.240000\tsim(only important): 0.615385\t\ttrue label: 0\n",
      "  22964 |  sim: 0.235294\tsim(only important): 0.636364\t\ttrue label: 0\n",
      "  15451 |  sim: 0.234568\tsim(only important): 0.666667\t\ttrue label: 0\n",
      "   5372 |  sim: 0.234375\tsim(only important): 0.6\t\ttrue label: 0\n",
      "  35034 |  sim: 0.232877\tsim(only important): 0.636364\t\ttrue label: 0\n",
      "  24668 |  sim: 0.231884\tsim(only important): 0.6\t\ttrue label: 0\n",
      "  16222 |  sim: 0.230769\tsim(only important): 0.615385\t\ttrue label: 0\n",
      "  21131 |  sim: 0.227848\tsim(only important): 0.636364\t\ttrue label: 0\n",
      "   7684 |  sim: 0.227273\tsim(only important): 0.6\t\ttrue label: 0\n",
      "  24159 |  sim: 0.226667\tsim(only important): 0.636364\t\ttrue label: 0\n",
      "  38729 |  sim: 0.225806\tsim(only important): 0.6\t\ttrue label: 0\n",
      "  36670 |  sim: 0.222222\tsim(only important): 0.7\t\ttrue label: 0\n",
      "  13442 |  sim: 0.222222\tsim(only important): 0.636364\t\ttrue label: 0\n",
      "  14541 |  sim: 0.222222\tsim(only important): 0.666667\t\ttrue label: 0\n",
      "  17113 |  sim: 0.218391\tsim(only important): 0.615385\t\ttrue label: 0\n",
      "  37947 |  sim: 0.217949\tsim(only important): 0.615385\t\ttrue label: 0\n",
      "  36617 |  sim: 0.216216\tsim(only important): 0.6\t\ttrue label: 0\n",
      "   6613 |  sim: 0.215190\tsim(only important): 0.636364\t\ttrue label: 0\n",
      "  31751 |  sim: 0.215190\tsim(only important): 0.615385\t\ttrue label: 0\n",
      "   1565 |  sim: 0.212500\tsim(only important): 0.615385\t\ttrue label: 0\n",
      "   2735 |  sim: 0.211268\tsim(only important): 0.636364\t\ttrue label: 0\n",
      "\n",
      "testing Molecule:  14433\n",
      "  19828 |  sim: 0.500000\tsim(only important): 0.666667\t\ttrue label: 0\n",
      "  19537 |  sim: 0.400000\tsim(only important): 0.6\t\ttrue label: 0\n",
      "  36544 |  sim: 0.380000\tsim(only important): 0.625\t\ttrue label: 0\n",
      "  38868 |  sim: 0.358491\tsim(only important): 0.6\t\ttrue label: 0\n",
      "  24409 |  sim: 0.357143\tsim(only important): 0.714286\t\ttrue label: 0\n",
      "   7566 |  sim: 0.345455\tsim(only important): 0.6\t\ttrue label: 0\n",
      "  20375 |  sim: 0.333333\tsim(only important): 0.714286\t\ttrue label: 0\n",
      "  38240 |  sim: 0.333333\tsim(only important): 0.6\t\ttrue label: 0\n",
      "   5015 |  sim: 0.319149\tsim(only important): 0.75\t\ttrue label: 0\n",
      "  24887 |  sim: 0.312500\tsim(only important): 0.75\t\ttrue label: 0\n",
      "  24022 |  sim: 0.296296\tsim(only important): 0.6\t\ttrue label: 0\n",
      "  39422 |  sim: 0.295455\tsim(only important): 0.833333\t\ttrue label: 0\n",
      "  20323 |  sim: 0.285714\tsim(only important): 0.714286\t\ttrue label: 0\n",
      "  34023 |  sim: 0.282051\tsim(only important): 0.833333\t\ttrue label: 0\n",
      "   9557 |  sim: 0.279070\tsim(only important): 0.625\t\ttrue label: 0\n",
      "  29438 |  sim: 0.272727\tsim(only important): 0.625\t\ttrue label: 0\n",
      "  40192 |  sim: 0.272727\tsim(only important): 0.6\t\ttrue label: 0\n",
      "   5003 |  sim: 0.266667\tsim(only important): 0.6\t\ttrue label: 0\n",
      "  38900 |  sim: 0.255814\tsim(only important): 0.625\t\ttrue label: 0\n",
      "    521 |  sim: 0.255814\tsim(only important): 0.714286\t\ttrue label: 0\n",
      "  38781 |  sim: 0.250000\tsim(only important): 0.714286\t\ttrue label: 0\n",
      "  39421 |  sim: 0.239130\tsim(only important): 0.833333\t\ttrue label: 0\n",
      "   9319 |  sim: 0.238095\tsim(only important): 0.625\t\ttrue label: 0\n",
      "  35385 |  sim: 0.238095\tsim(only important): 0.6\t\ttrue label: 0\n",
      "    550 |  sim: 0.236364\tsim(only important): 0.666667\t\ttrue label: 0\n",
      "   9577 |  sim: 0.233333\tsim(only important): 0.6\t\ttrue label: 0\n",
      "  38257 |  sim: 0.233333\tsim(only important): 0.666667\t\ttrue label: 0\n",
      "  12138 |  sim: 0.229167\tsim(only important): 0.6\t\ttrue label: 0\n",
      "  22555 |  sim: 0.227273\tsim(only important): 0.625\t\ttrue label: 0\n",
      "   9910 |  sim: 0.226415\tsim(only important): 0.666667\t\ttrue label: 0\n",
      "\n",
      "testing Molecule:  14434\n",
      "  25347 |  sim: 0.222222\tsim(only important): 0.666667\t\ttrue label: 0\n",
      "  24754 |  sim: 0.222222\tsim(only important): 0.75\t\ttrue label: 0\n",
      "   1538 |  sim: 0.206349\tsim(only important): 0.777778\t\ttrue label: 0\n",
      "  11122 |  sim: 0.200000\tsim(only important): 0.7\t\ttrue label: 0\n",
      "  24419 |  sim: 0.192308\tsim(only important): 0.75\t\ttrue label: 0\n",
      "   5176 |  sim: 0.191176\tsim(only important): 0.666667\t\ttrue label: 0\n",
      "  31279 |  sim: 0.189189\tsim(only important): 0.7\t\ttrue label: 0\n",
      "   1323 |  sim: 0.187500\tsim(only important): 0.6\t\ttrue label: 0\n",
      "  10259 |  sim: 0.184211\tsim(only important): 0.636364\t\ttrue label: 0\n",
      "   9767 |  sim: 0.183333\tsim(only important): 0.666667\t\ttrue label: 0\n",
      "  10539 |  sim: 0.181818\tsim(only important): 0.75\t\ttrue label: 0\n",
      "  30904 |  sim: 0.175676\tsim(only important): 0.6\t\ttrue label: 0\n",
      "  24323 |  sim: 0.169492\tsim(only important): 0.6\t\ttrue label: 0\n",
      "  39780 |  sim: 0.169014\tsim(only important): 0.636364\t\ttrue label: 0\n",
      "  31424 |  sim: 0.168831\tsim(only important): 0.6\t\ttrue label: 0\n",
      "  34231 |  sim: 0.166667\tsim(only important): 0.6\t\ttrue label: 0\n",
      "  37083 |  sim: 0.166667\tsim(only important): 0.875\t\ttrue label: 0\n",
      "  39253 |  sim: 0.166667\tsim(only important): 0.625\t\ttrue label: 0\n",
      "  31709 |  sim: 0.164557\tsim(only important): 0.6\t\ttrue label: 0\n",
      "  30989 |  sim: 0.163934\tsim(only important): 0.666667\t\ttrue label: 0\n",
      "  39507 |  sim: 0.163934\tsim(only important): 0.6\t\ttrue label: 0\n",
      "  34803 |  sim: 0.163636\tsim(only important): 0.75\t\ttrue label: 0\n",
      "   8063 |  sim: 0.163636\tsim(only important): 0.75\t\ttrue label: 0\n",
      "   5362 |  sim: 0.161765\tsim(only important): 0.666667\t\ttrue label: 0\n",
      "   6491 |  sim: 0.159420\tsim(only important): 0.6\t\ttrue label: 0\n",
      "  29496 |  sim: 0.158730\tsim(only important): 0.777778\t\ttrue label: 0\n",
      "   1904 |  sim: 0.157895\tsim(only important): 0.75\t\ttrue label: 0\n",
      "  30476 |  sim: 0.152542\tsim(only important): 0.777778\t\ttrue label: 0\n",
      "  15055 |  sim: 0.152542\tsim(only important): 0.666667\t\ttrue label: 0\n",
      "    665 |  sim: 0.151515\tsim(only important): 0.6\t\ttrue label: 0\n",
      "\n"
     ]
    }
   ],
   "source": [
    "test_list = [14424, 14426, 14430, 14432, 14433, 14434]\n",
    "print_list(test_list, X_val, X_train, y_train, top=30, importance_index=importance_index)"
   ]
  },
  {
   "cell_type": "markdown",
   "metadata": {
    "deletable": true,
    "editable": true
   },
   "source": [
    "#### Good predictions onboth NN and RF\n",
    "<a id=28></a>"
   ]
  },
  {
   "cell_type": "code",
   "execution_count": 28,
   "metadata": {
    "collapsed": false,
    "deletable": true,
    "editable": true,
    "scrolled": false
   },
   "outputs": [
    {
     "name": "stdout",
     "output_type": "stream",
     "text": [
      "testing Molecule:  14423\n",
      "\u001b[31m  14427 |  sim: 0.724138\tsim(only important): 0.85\t\ttrue label: 1  *\u001b[0m\n",
      "   3286 |  sim: 0.606557\tsim(only important): 0.631579\t\ttrue label: 0\n",
      "   3320 |  sim: 0.578125\tsim(only important): 0.727273\t\ttrue label: 0\n",
      "  25942 |  sim: 0.571429\tsim(only important): 0.904762\t\ttrue label: 0\n",
      "  32200 |  sim: 0.564516\tsim(only important): 0.6\t\ttrue label: 0\n",
      "  17802 |  sim: 0.550725\tsim(only important): 0.636364\t\ttrue label: 0\n",
      "  40715 |  sim: 0.516667\tsim(only important): 0.736842\t\ttrue label: 0\n",
      "  17791 |  sim: 0.500000\tsim(only important): 0.65\t\ttrue label: 0\n",
      "   3347 |  sim: 0.485294\tsim(only important): 0.636364\t\ttrue label: 0\n",
      "  17839 |  sim: 0.484848\tsim(only important): 0.6\t\ttrue label: 0\n",
      "  33775 |  sim: 0.471429\tsim(only important): 0.695652\t\ttrue label: 0\n",
      "  32236 |  sim: 0.464789\tsim(only important): 0.65\t\ttrue label: 0\n",
      "  25264 |  sim: 0.462687\tsim(only important): 0.625\t\ttrue label: 0\n",
      "  37234 |  sim: 0.444444\tsim(only important): 0.666667\t\ttrue label: 0\n",
      "  17811 |  sim: 0.437500\tsim(only important): 0.6\t\ttrue label: 0\n",
      "  13716 |  sim: 0.430556\tsim(only important): 0.625\t\ttrue label: 0\n",
      "  37490 |  sim: 0.414286\tsim(only important): 0.75\t\ttrue label: 0\n",
      "  38065 |  sim: 0.410959\tsim(only important): 0.608696\t\ttrue label: 0\n",
      "  18726 |  sim: 0.400000\tsim(only important): 0.727273\t\ttrue label: 0\n",
      "   3342 |  sim: 0.388889\tsim(only important): 0.6\t\ttrue label: 0\n",
      "\n",
      "testing Molecule:  14429\n",
      "\u001b[31m  28917 |  sim: 0.676471\tsim(only important): 0.9\t\ttrue label: 1  *\u001b[0m\n",
      "  20334 |  sim: 0.531250\tsim(only important): 0.7\t\ttrue label: 0\n",
      "\u001b[31m  28908 |  sim: 0.515152\tsim(only important): 0.7\t\ttrue label: 1  *\u001b[0m\n",
      "\u001b[31m  28907 |  sim: 0.515152\tsim(only important): 0.7\t\ttrue label: 1  *\u001b[0m\n",
      "  12965 |  sim: 0.511111\tsim(only important): 0.615385\t\ttrue label: 0\n",
      "  27466 |  sim: 0.510204\tsim(only important): 0.692308\t\ttrue label: 0\n",
      "  12966 |  sim: 0.415094\tsim(only important): 0.6\t\ttrue label: 0\n",
      "  41876 |  sim: 0.413043\tsim(only important): 0.642857\t\ttrue label: 0\n",
      "  27468 |  sim: 0.403846\tsim(only important): 0.642857\t\ttrue label: 0\n",
      "  41788 |  sim: 0.387755\tsim(only important): 0.6\t\ttrue label: 0\n",
      "  24895 |  sim: 0.375000\tsim(only important): 0.666667\t\ttrue label: 0\n",
      "  27469 |  sim: 0.372549\tsim(only important): 0.6\t\ttrue label: 0\n",
      "  25495 |  sim: 0.371429\tsim(only important): 0.6\t\ttrue label: 0\n",
      "\n",
      "testing Molecule:  14431\n",
      "   3304 |  sim: 0.705882\tsim(only important): 0.5\t\ttrue label: 0\n",
      "  11556 |  sim: 0.698113\tsim(only important): 0.722222\t\ttrue label: 0\n",
      "\u001b[31m  14427 |  sim: 0.690909\tsim(only important): 0.75\t\ttrue label: 1  *\u001b[0m\n",
      "  10645 |  sim: 0.666667\tsim(only important): 0.555556\t\ttrue label: 0\n",
      "  36185 |  sim: 0.634615\tsim(only important): 0.45\t\ttrue label: 0\n",
      "  22747 |  sim: 0.481481\tsim(only important): 0.6\t\ttrue label: 0\n",
      "  25942 |  sim: 0.471429\tsim(only important): 0.652174\t\ttrue label: 0\n",
      "  37490 |  sim: 0.460317\tsim(only important): 0.833333\t\ttrue label: 0\n",
      "  35437 |  sim: 0.440678\tsim(only important): 0.611111\t\ttrue label: 0\n",
      "  28119 |  sim: 0.437500\tsim(only important): 0.7\t\ttrue label: 0\n",
      "  41455 |  sim: 0.409091\tsim(only important): 0.823529\t\ttrue label: 0\n",
      "  41040 |  sim: 0.409091\tsim(only important): 0.65\t\ttrue label: 0\n",
      "  10466 |  sim: 0.387755\tsim(only important): 0.705882\t\ttrue label: 0\n",
      "\u001b[31m  28920 |  sim: 0.378788\tsim(only important): 0.619048\t\ttrue label: 1  *\u001b[0m\n",
      "  40294 |  sim: 0.373134\tsim(only important): 0.722222\t\ttrue label: 0\n",
      "  38950 |  sim: 0.373134\tsim(only important): 0.681818\t\ttrue label: 0\n",
      "  11243 |  sim: 0.363636\tsim(only important): 0.736842\t\ttrue label: 0\n",
      "  25448 |  sim: 0.361111\tsim(only important): 0.666667\t\ttrue label: 0\n",
      "\u001b[31m  14423 |  sim: 0.353846\tsim(only important): 0.636364\t\ttrue label: 1  *\u001b[0m\n",
      "\u001b[31m  43396 |  sim: 0.343750\tsim(only important): 0.684211\t\ttrue label: 1  *\u001b[0m\n",
      "\n",
      "testing Molecule:  14435\n",
      "  20412 |  sim: 0.714286\tsim(only important): 0.666667\t\ttrue label: 0\n",
      "  38950 |  sim: 0.666667\tsim(only important): 0.666667\t\ttrue label: 0\n",
      "  21229 |  sim: 0.634921\tsim(only important): 0.636364\t\ttrue label: 0\n",
      "\u001b[31m  43396 |  sim: 0.589286\tsim(only important): 0.75\t\ttrue label: 1  *\u001b[0m\n",
      "\u001b[31m  14423 |  sim: 0.568966\tsim(only important): 0.625\t\ttrue label: 1  *\u001b[0m\n",
      "  20404 |  sim: 0.555556\tsim(only important): 0.727273\t\ttrue label: 0\n",
      "\u001b[31m  28919 |  sim: 0.540984\tsim(only important): 0.714286\t\ttrue label: 1  *\u001b[0m\n",
      "  25769 |  sim: 0.532258\tsim(only important): 0.695652\t\ttrue label: 0\n",
      "  23394 |  sim: 0.516667\tsim(only important): 0.6\t\ttrue label: 0\n",
      "  10874 |  sim: 0.500000\tsim(only important): 0.826087\t\ttrue label: 0\n",
      "  10442 |  sim: 0.500000\tsim(only important): 0.6\t\ttrue label: 0\n",
      "  30363 |  sim: 0.500000\tsim(only important): 0.869565\t\ttrue label: 0\n",
      "   1396 |  sim: 0.492308\tsim(only important): 0.772727\t\ttrue label: 0\n",
      "  37138 |  sim: 0.484375\tsim(only important): 0.6\t\ttrue label: 0\n",
      "   5900 |  sim: 0.483871\tsim(only important): 0.666667\t\ttrue label: 0\n",
      "  24521 |  sim: 0.476190\tsim(only important): 0.73913\t\ttrue label: 0\n",
      "  25942 |  sim: 0.472222\tsim(only important): 0.782609\t\ttrue label: 0\n",
      "  25790 |  sim: 0.463768\tsim(only important): 0.791667\t\ttrue label: 0\n",
      "   7818 |  sim: 0.451613\tsim(only important): 0.619048\t\ttrue label: 0\n",
      "  16579 |  sim: 0.450704\tsim(only important): 0.608696\t\ttrue label: 0\n",
      "\n",
      "testing Molecule:  14436\n",
      "  41876 |  sim: 0.634146\tsim(only important): 0.714286\t\ttrue label: 0\n",
      "  27469 |  sim: 0.565217\tsim(only important): 0.666667\t\ttrue label: 0\n",
      "\u001b[31m  28917 |  sim: 0.552632\tsim(only important): 0.818182\t\ttrue label: 1  *\u001b[0m\n",
      "  24895 |  sim: 0.540541\tsim(only important): 0.75\t\ttrue label: 0\n",
      "  20334 |  sim: 0.500000\tsim(only important): 0.636364\t\ttrue label: 0\n",
      "\u001b[31m  28908 |  sim: 0.485714\tsim(only important): 0.636364\t\ttrue label: 1  *\u001b[0m\n",
      "\u001b[31m  28907 |  sim: 0.485714\tsim(only important): 0.636364\t\ttrue label: 1  *\u001b[0m\n",
      "  27466 |  sim: 0.357143\tsim(only important): 0.642857\t\ttrue label: 0\n",
      "  27468 |  sim: 0.339286\tsim(only important): 0.6\t\ttrue label: 0\n",
      "  40624 |  sim: 0.288136\tsim(only important): 0.6\t\ttrue label: 0\n",
      "\n",
      "testing Molecule:  14438\n",
      "\u001b[31m  43405 |  sim: 0.711538\tsim(only important): 0.888889\t\ttrue label: 1  *\u001b[0m\n",
      "  13488 |  sim: 0.603448\tsim(only important): 0.888889\t\ttrue label: 0\n",
      "  13490 |  sim: 0.571429\tsim(only important): 0.882353\t\ttrue label: 0\n",
      "  42395 |  sim: 0.535714\tsim(only important): 0.714286\t\ttrue label: 0\n",
      "  42394 |  sim: 0.526316\tsim(only important): 0.789474\t\ttrue label: 0\n",
      "  13487 |  sim: 0.525424\tsim(only important): 0.8\t\ttrue label: 0\n",
      "\u001b[31m  43404 |  sim: 0.517241\tsim(only important): 0.833333\t\ttrue label: 1  *\u001b[0m\n",
      "  42393 |  sim: 0.500000\tsim(only important): 0.681818\t\ttrue label: 0\n",
      "  27967 |  sim: 0.484375\tsim(only important): 0.761905\t\ttrue label: 0\n",
      "\u001b[31m  14436 |  sim: 0.476190\tsim(only important): 0.75\t\ttrue label: 1  *\u001b[0m\n",
      "\u001b[31m  14435 |  sim: 0.468750\tsim(only important): 0.714286\t\ttrue label: 1  *\u001b[0m\n",
      "  27966 |  sim: 0.464286\tsim(only important): 0.75\t\ttrue label: 0\n",
      "  27188 |  sim: 0.416667\tsim(only important): 0.6\t\ttrue label: 0\n",
      "  13489 |  sim: 0.412698\tsim(only important): 0.789474\t\ttrue label: 0\n",
      "  14178 |  sim: 0.409836\tsim(only important): 0.631579\t\ttrue label: 0\n",
      "  40922 |  sim: 0.365079\tsim(only important): 0.631579\t\ttrue label: 0\n",
      "  26807 |  sim: 0.362319\tsim(only important): 0.608696\t\ttrue label: 0\n",
      "  11957 |  sim: 0.359375\tsim(only important): 0.6\t\ttrue label: 0\n",
      "  26808 |  sim: 0.357143\tsim(only important): 0.619048\t\ttrue label: 0\n",
      "  28681 |  sim: 0.347222\tsim(only important): 0.6\t\ttrue label: 0\n",
      "\n"
     ]
    }
   ],
   "source": [
    "test_list = [14423, 14429, 14431, 14435, 14436, 14438] # NN is less confident on 14435, 14436\n",
    "print_list(test_list, X_val, X_train, y_train, importance_index=importance_index)"
   ]
  },
  {
   "cell_type": "markdown",
   "metadata": {
    "deletable": true,
    "editable": true
   },
   "source": [
    "### Compare Rank on Test\n",
    "<a id=29></a>"
   ]
  },
  {
   "cell_type": "code",
   "execution_count": 29,
   "metadata": {
    "collapsed": false,
    "deletable": true,
    "editable": true
   },
   "outputs": [
    {
     "name": "stdout",
     "output_type": "stream",
     "text": [
      " 14424|\t0.000033\t768\tRank: 0.0531\t|\t0.021250\t92\tRank: 0.0064\n",
      " 14425|\t0.000002\t14219\tRank: 0.9816\t|\t0.000000\t8666\tRank: 0.5983\n",
      " 14426|\t0.000029\t998\tRank: 0.0690\t|\t0.000750\t3382\tRank: 0.2335\n",
      " 14427|\t0.160746\t8\tRank: 0.0006\t|\t0.251750\t1\tRank: 0.0001\n",
      " 14428|\t0.000026\t1261\tRank: 0.0871\t|\t0.001500\t1440\tRank: 0.0995\n",
      " 14429|\t0.708671\t5\tRank: 0.0004\t|\t0.147250\t7\tRank: 0.0006\n",
      " 14430|\t0.000322\t93\tRank: 0.0065\t|\t0.063000\t32\tRank: 0.0023\n",
      " 14431|\t0.000028\t1088\tRank: 0.0752\t|\t0.004000\t442\tRank: 0.0306\n",
      " 14432|\t0.000078\t253\tRank: 0.0175\t|\t0.019500\t96\tRank: 0.0067\n",
      " 14433|\t0.000026\t1307\tRank: 0.0903\t|\t0.017750\t102\tRank: 0.0071\n",
      " 14434|\t0.000009\t8550\tRank: 0.5903\t|\t0.000250\t6974\tRank: 0.4815\n",
      " 14435|\t0.000008\t9949\tRank: 0.6869\t|\t0.000250\t7018\tRank: 0.4845\n",
      " 14436|\t0.920472\t4\tRank: 0.0003\t|\t0.169500\t5\tRank: 0.0004\n",
      " 14437|\t0.069630\t10\tRank: 0.0008\t|\t0.122250\t14\tRank: 0.0010\n",
      " 14438|\t0.000193\t116\tRank: 0.0081\t|\t0.089500\t20\tRank: 0.0014\n",
      " 14439|\t0.040926\t13\tRank: 0.0010\t|\t0.082250\t25\tRank: 0.0018\n"
     ]
    }
   ],
   "source": [
    "compare_rank(y_test, y_pred_on_test_single_NN, y_pred_on_test_rf)"
   ]
  },
  {
   "cell_type": "markdown",
   "metadata": {
    "deletable": true,
    "editable": true
   },
   "source": [
    "#### Bad predicted on NN but Better on RF\n",
    "<a id=30></a>"
   ]
  },
  {
   "cell_type": "code",
   "execution_count": 30,
   "metadata": {
    "collapsed": false,
    "deletable": true,
    "editable": true,
    "scrolled": false
   },
   "outputs": [
    {
     "name": "stdout",
     "output_type": "stream",
     "text": [
      "testing Molecule:  14425\n",
      "  33815 |  sim: 0.910714\tsim(only important): 1.0\t\ttrue label: 0\n",
      "  33834 |  sim: 0.786885\tsim(only important): 0.928571\t\ttrue label: 0\n",
      "  33792 |  sim: 0.774194\tsim(only important): 0.928571\t\ttrue label: 0\n",
      "  19401 |  sim: 0.762712\tsim(only important): 0.666667\t\ttrue label: 0\n",
      "    925 |  sim: 0.704918\tsim(only important): 0.733333\t\ttrue label: 0\n",
      "  33820 |  sim: 0.693548\tsim(only important): 0.588235\t\ttrue label: 0\n",
      "  33825 |  sim: 0.683333\tsim(only important): 0.615385\t\ttrue label: 0\n",
      "  33833 |  sim: 0.681818\tsim(only important): 0.714286\t\ttrue label: 0\n",
      "  19423 |  sim: 0.681818\tsim(only important): 0.8\t\ttrue label: 0\n",
      "   4912 |  sim: 0.677419\tsim(only important): 0.666667\t\ttrue label: 0\n",
      "  19388 |  sim: 0.676923\tsim(only important): 0.8\t\ttrue label: 0\n",
      "  19398 |  sim: 0.672131\tsim(only important): 1.0\t\ttrue label: 0\n",
      "   4858 |  sim: 0.651515\tsim(only important): 0.785714\t\ttrue label: 0\n",
      "  15347 |  sim: 0.640625\tsim(only important): 0.769231\t\ttrue label: 0\n",
      "   6270 |  sim: 0.637681\tsim(only important): 1.0\t\ttrue label: 0\n",
      "  15664 |  sim: 0.634921\tsim(only important): 0.857143\t\ttrue label: 0\n",
      "  29836 |  sim: 0.632353\tsim(only important): 0.733333\t\ttrue label: 0\n",
      "    898 |  sim: 0.630769\tsim(only important): 0.769231\t\ttrue label: 0\n",
      "  33817 |  sim: 0.629032\tsim(only important): 0.615385\t\ttrue label: 0\n",
      "    906 |  sim: 0.623188\tsim(only important): 0.733333\t\ttrue label: 0\n",
      "  33850 |  sim: 0.619048\tsim(only important): 0.615385\t\ttrue label: 0\n",
      "  33799 |  sim: 0.617647\tsim(only important): 0.714286\t\ttrue label: 0\n",
      "    933 |  sim: 0.615385\tsim(only important): 0.733333\t\ttrue label: 0\n",
      "    936 |  sim: 0.600000\tsim(only important): 0.5\t\ttrue label: 0\n",
      "  29875 |  sim: 0.583333\tsim(only important): 0.733333\t\ttrue label: 0\n",
      "  19431 |  sim: 0.573529\tsim(only important): 0.666667\t\ttrue label: 0\n",
      "   6314 |  sim: 0.569444\tsim(only important): 0.785714\t\ttrue label: 0\n",
      "  19409 |  sim: 0.562500\tsim(only important): 0.615385\t\ttrue label: 0\n",
      "  29852 |  sim: 0.555556\tsim(only important): 0.785714\t\ttrue label: 0\n",
      "  29860 |  sim: 0.554054\tsim(only important): 0.6875\t\ttrue label: 0\n",
      "\n",
      "testing Molecule:  14428\n",
      "  36084 |  sim: 0.500000\tsim(only important): 0.769231\t\ttrue label: 0\n",
      "  26300 |  sim: 0.465517\tsim(only important): 0.615385\t\ttrue label: 0\n",
      "  12122 |  sim: 0.459016\tsim(only important): 0.6\t\ttrue label: 0\n",
      "  26171 |  sim: 0.454545\tsim(only important): 0.625\t\ttrue label: 0\n",
      "  26152 |  sim: 0.446429\tsim(only important): 0.692308\t\ttrue label: 0\n",
      "  41031 |  sim: 0.441176\tsim(only important): 0.666667\t\ttrue label: 0\n",
      "  34826 |  sim: 0.436620\tsim(only important): 0.714286\t\ttrue label: 0\n",
      "  21206 |  sim: 0.420290\tsim(only important): 0.642857\t\ttrue label: 0\n",
      "  11153 |  sim: 0.390625\tsim(only important): 0.666667\t\ttrue label: 0\n",
      "  39962 |  sim: 0.383562\tsim(only important): 0.615385\t\ttrue label: 0\n",
      "  41235 |  sim: 0.372881\tsim(only important): 0.692308\t\ttrue label: 0\n",
      "   8158 |  sim: 0.367647\tsim(only important): 0.714286\t\ttrue label: 0\n",
      "  13495 |  sim: 0.365079\tsim(only important): 0.692308\t\ttrue label: 0\n",
      "  11165 |  sim: 0.364865\tsim(only important): 0.642857\t\ttrue label: 0\n",
      "  18953 |  sim: 0.360656\tsim(only important): 0.692308\t\ttrue label: 0\n",
      "  26047 |  sim: 0.360656\tsim(only important): 0.642857\t\ttrue label: 0\n",
      "  32733 |  sim: 0.360656\tsim(only important): 0.6\t\ttrue label: 0\n",
      "  26571 |  sim: 0.359375\tsim(only important): 0.6\t\ttrue label: 0\n",
      "  24978 |  sim: 0.359375\tsim(only important): 0.6\t\ttrue label: 0\n",
      "  12328 |  sim: 0.358209\tsim(only important): 0.647059\t\ttrue label: 0\n",
      "  22502 |  sim: 0.352113\tsim(only important): 0.833333\t\ttrue label: 0\n",
      "  39176 |  sim: 0.352113\tsim(only important): 0.6\t\ttrue label: 0\n",
      "  24486 |  sim: 0.352113\tsim(only important): 0.625\t\ttrue label: 0\n",
      "  26389 |  sim: 0.350877\tsim(only important): 0.666667\t\ttrue label: 0\n",
      "  37183 |  sim: 0.347222\tsim(only important): 0.625\t\ttrue label: 0\n",
      "  11620 |  sim: 0.343284\tsim(only important): 0.714286\t\ttrue label: 0\n",
      "  37712 |  sim: 0.338710\tsim(only important): 0.615385\t\ttrue label: 0\n",
      "  23122 |  sim: 0.338462\tsim(only important): 0.615385\t\ttrue label: 0\n",
      "  19060 |  sim: 0.333333\tsim(only important): 0.6\t\ttrue label: 0\n",
      "   4547 |  sim: 0.328571\tsim(only important): 0.6\t\ttrue label: 0\n",
      "\n",
      "testing Molecule:  14431\n",
      "   8299 |  sim: 0.441176\tsim(only important): 0.705882\t\ttrue label: 0\n",
      "   9652 |  sim: 0.397260\tsim(only important): 0.705882\t\ttrue label: 0\n",
      "  36080 |  sim: 0.375000\tsim(only important): 0.666667\t\ttrue label: 0\n",
      "  37509 |  sim: 0.353659\tsim(only important): 0.647059\t\ttrue label: 0\n",
      "  38907 |  sim: 0.345238\tsim(only important): 0.666667\t\ttrue label: 0\n",
      "  30753 |  sim: 0.341772\tsim(only important): 0.6\t\ttrue label: 0\n",
      "  27568 |  sim: 0.333333\tsim(only important): 0.705882\t\ttrue label: 0\n",
      "  25104 |  sim: 0.333333\tsim(only important): 0.631579\t\ttrue label: 0\n",
      "  37324 |  sim: 0.329268\tsim(only important): 0.722222\t\ttrue label: 0\n",
      "   8245 |  sim: 0.320988\tsim(only important): 0.705882\t\ttrue label: 0\n",
      "  31022 |  sim: 0.317647\tsim(only important): 0.6\t\ttrue label: 0\n",
      "  40966 |  sim: 0.317647\tsim(only important): 0.736842\t\ttrue label: 0\n",
      "  28064 |  sim: 0.317073\tsim(only important): 0.619048\t\ttrue label: 0\n",
      "  35133 |  sim: 0.317073\tsim(only important): 0.6\t\ttrue label: 0\n",
      "  20089 |  sim: 0.313253\tsim(only important): 0.705882\t\ttrue label: 0\n",
      "  16137 |  sim: 0.313253\tsim(only important): 0.666667\t\ttrue label: 0\n",
      "  14455 |  sim: 0.309524\tsim(only important): 0.666667\t\ttrue label: 0\n",
      "   9162 |  sim: 0.306667\tsim(only important): 0.785714\t\ttrue label: 0\n",
      "   5116 |  sim: 0.305882\tsim(only important): 0.6\t\ttrue label: 0\n",
      "  26019 |  sim: 0.304878\tsim(only important): 0.6\t\ttrue label: 0\n",
      "   1091 |  sim: 0.303797\tsim(only important): 0.647059\t\ttrue label: 0\n",
      "  26262 |  sim: 0.300000\tsim(only important): 0.6\t\ttrue label: 0\n",
      "  43003 |  sim: 0.297619\tsim(only important): 0.65\t\ttrue label: 0\n",
      "     89 |  sim: 0.294872\tsim(only important): 0.625\t\ttrue label: 0\n",
      "  28773 |  sim: 0.294118\tsim(only important): 0.611111\t\ttrue label: 0\n",
      "  25211 |  sim: 0.291139\tsim(only important): 0.6875\t\ttrue label: 0\n",
      "   1468 |  sim: 0.288889\tsim(only important): 0.684211\t\ttrue label: 0\n",
      "  40798 |  sim: 0.287500\tsim(only important): 0.631579\t\ttrue label: 0\n",
      "  25087 |  sim: 0.287356\tsim(only important): 0.631579\t\ttrue label: 0\n",
      "  28893 |  sim: 0.285714\tsim(only important): 0.6\t\ttrue label: 0\n",
      "\n",
      "testing Molecule:  14438\n",
      "  40539 |  sim: 0.682540\tsim(only important): 0.7\t\ttrue label: 0\n",
      "  20384 |  sim: 0.507042\tsim(only important): 0.652174\t\ttrue label: 0\n",
      "  42395 |  sim: 0.469697\tsim(only important): 0.695652\t\ttrue label: 0\n",
      "  34909 |  sim: 0.466667\tsim(only important): 0.666667\t\ttrue label: 0\n",
      "  42394 |  sim: 0.462687\tsim(only important): 0.681818\t\ttrue label: 0\n",
      "  42393 |  sim: 0.462687\tsim(only important): 0.73913\t\ttrue label: 0\n",
      "\u001b[31m  14435 |  sim: 0.458333\tsim(only important): 0.695652\t\ttrue label: 1  *\u001b[0m\n",
      "  13487 |  sim: 0.442857\tsim(only important): 0.695652\t\ttrue label: 0\n",
      "\u001b[31m  43404 |  sim: 0.434783\tsim(only important): 0.714286\t\ttrue label: 1  *\u001b[0m\n",
      "  13490 |  sim: 0.434783\tsim(only important): 0.75\t\ttrue label: 0\n",
      "\u001b[31m  43405 |  sim: 0.428571\tsim(only important): 0.681818\t\ttrue label: 1  *\u001b[0m\n",
      "\u001b[31m  14436 |  sim: 0.424658\tsim(only important): 0.727273\t\ttrue label: 1  *\u001b[0m\n",
      "  13488 |  sim: 0.424658\tsim(only important): 0.761905\t\ttrue label: 0\n",
      "  41830 |  sim: 0.390244\tsim(only important): 0.6\t\ttrue label: 0\n",
      "  27966 |  sim: 0.388060\tsim(only important): 0.652174\t\ttrue label: 0\n",
      "  18669 |  sim: 0.376812\tsim(only important): 0.619048\t\ttrue label: 0\n",
      "  27967 |  sim: 0.376623\tsim(only important): 0.666667\t\ttrue label: 0\n",
      "  13489 |  sim: 0.369863\tsim(only important): 0.761905\t\ttrue label: 0\n",
      "  14178 |  sim: 0.366197\tsim(only important): 0.619048\t\ttrue label: 0\n",
      "  43149 |  sim: 0.364865\tsim(only important): 0.608696\t\ttrue label: 0\n",
      "  28682 |  sim: 0.360000\tsim(only important): 0.608696\t\ttrue label: 0\n",
      "  11957 |  sim: 0.342466\tsim(only important): 0.666667\t\ttrue label: 0\n",
      "  40922 |  sim: 0.328767\tsim(only important): 0.619048\t\ttrue label: 0\n",
      "  43158 |  sim: 0.324675\tsim(only important): 0.681818\t\ttrue label: 0\n",
      "  26252 |  sim: 0.320513\tsim(only important): 0.608696\t\ttrue label: 0\n",
      "   1024 |  sim: 0.317647\tsim(only important): 0.619048\t\ttrue label: 0\n",
      "  12873 |  sim: 0.312500\tsim(only important): 0.625\t\ttrue label: 0\n",
      "  12871 |  sim: 0.297619\tsim(only important): 0.625\t\ttrue label: 0\n",
      "  26878 |  sim: 0.291139\tsim(only important): 0.619048\t\ttrue label: 0\n",
      "  11758 |  sim: 0.273810\tsim(only important): 0.6\t\ttrue label: 0\n",
      "\n"
     ]
    }
   ],
   "source": [
    "test_list = [14425, 14428, 14431, 14438]\n",
    "print_list(test_list, X_test, X_train, y_train, top=30, importance_index=importance_index)"
   ]
  },
  {
   "cell_type": "markdown",
   "metadata": {
    "deletable": true,
    "editable": true
   },
   "source": [
    "#### Good predictions onboth NN and RF\n",
    "<a id=31></a>"
   ]
  },
  {
   "cell_type": "code",
   "execution_count": 31,
   "metadata": {
    "collapsed": false,
    "deletable": true,
    "editable": true,
    "scrolled": false
   },
   "outputs": [
    {
     "name": "stdout",
     "output_type": "stream",
     "text": [
      "testing Molecule:  14427\n",
      "  20334 |  sim: 0.607143\tsim(only important): 1.0\t\ttrue label: 0\n",
      "\u001b[31m  28908 |  sim: 0.586207\tsim(only important): 1.0\t\ttrue label: 1  *\u001b[0m\n",
      "\u001b[31m  28907 |  sim: 0.586207\tsim(only important): 1.0\t\ttrue label: 1  *\u001b[0m\n",
      "  34811 |  sim: 0.531250\tsim(only important): 0.7\t\ttrue label: 0\n",
      "\u001b[31m  28917 |  sim: 0.472222\tsim(only important): 0.777778\t\ttrue label: 1  *\u001b[0m\n",
      "  10626 |  sim: 0.424242\tsim(only important): 0.6\t\ttrue label: 0\n",
      "  25495 |  sim: 0.419355\tsim(only important): 0.857143\t\ttrue label: 0\n",
      "\u001b[31m  14433 |  sim: 0.375000\tsim(only important): 0.714286\t\ttrue label: 1  *\u001b[0m\n",
      "  28939 |  sim: 0.342105\tsim(only important): 0.625\t\ttrue label: 0\n",
      "  22587 |  sim: 0.272727\tsim(only important): 0.6\t\ttrue label: 0\n",
      "  13834 |  sim: 0.222222\tsim(only important): 0.6\t\ttrue label: 0\n",
      "\n",
      "testing Molecule:  14429\n",
      "\u001b[31m  28915 |  sim: 0.583333\tsim(only important): 0.705882\t\ttrue label: 1  *\u001b[0m\n",
      "  40486 |  sim: 0.540984\tsim(only important): 0.666667\t\ttrue label: 0\n",
      "\u001b[31m  14429 |  sim: 0.530303\tsim(only important): 0.631579\t\ttrue label: 1  *\u001b[0m\n",
      "  11519 |  sim: 0.529412\tsim(only important): 0.684211\t\ttrue label: 0\n",
      "  11518 |  sim: 0.523077\tsim(only important): 0.764706\t\ttrue label: 0\n",
      "  23068 |  sim: 0.508475\tsim(only important): 0.875\t\ttrue label: 0\n",
      "  40488 |  sim: 0.508197\tsim(only important): 0.8125\t\ttrue label: 0\n",
      "\u001b[31m  14430 |  sim: 0.507692\tsim(only important): 0.666667\t\ttrue label: 1  *\u001b[0m\n",
      "  11516 |  sim: 0.453125\tsim(only important): 0.722222\t\ttrue label: 0\n",
      "  40487 |  sim: 0.444444\tsim(only important): 0.65\t\ttrue label: 0\n",
      "  25963 |  sim: 0.442857\tsim(only important): 0.666667\t\ttrue label: 0\n",
      "  37486 |  sim: 0.415385\tsim(only important): 0.666667\t\ttrue label: 0\n",
      "   8493 |  sim: 0.414286\tsim(only important): 0.611111\t\ttrue label: 0\n",
      "  22988 |  sim: 0.393939\tsim(only important): 0.705882\t\ttrue label: 0\n",
      "  37520 |  sim: 0.386667\tsim(only important): 0.7\t\ttrue label: 0\n",
      "   8536 |  sim: 0.384615\tsim(only important): 0.647059\t\ttrue label: 0\n",
      "\u001b[31m  14428 |  sim: 0.369863\tsim(only important): 0.722222\t\ttrue label: 1  *\u001b[0m\n",
      "  16504 |  sim: 0.367089\tsim(only important): 0.65\t\ttrue label: 0\n",
      "   8516 |  sim: 0.362319\tsim(only important): 0.625\t\ttrue label: 0\n",
      "  26120 |  sim: 0.360000\tsim(only important): 0.6\t\ttrue label: 0\n",
      "\n",
      "testing Molecule:  14436\n",
      "   5839 |  sim: 0.727273\tsim(only important): 0.611111\t\ttrue label: 0\n",
      "   9964 |  sim: 0.666667\tsim(only important): 0.705882\t\ttrue label: 0\n",
      "  32816 |  sim: 0.649123\tsim(only important): 0.5\t\ttrue label: 0\n",
      "   6100 |  sim: 0.637931\tsim(only important): 0.5\t\ttrue label: 0\n",
      "  32563 |  sim: 0.633333\tsim(only important): 0.5\t\ttrue label: 0\n",
      "  20403 |  sim: 0.610169\tsim(only important): 0.526316\t\ttrue label: 0\n",
      "  25385 |  sim: 0.600000\tsim(only important): 0.5\t\ttrue label: 0\n",
      "  24008 |  sim: 0.566038\tsim(only important): 0.647059\t\ttrue label: 0\n",
      "\u001b[31m  14423 |  sim: 0.542373\tsim(only important): 0.714286\t\ttrue label: 1  *\u001b[0m\n",
      "\u001b[31m  43396 |  sim: 0.508475\tsim(only important): 0.777778\t\ttrue label: 1  *\u001b[0m\n",
      "   5900 |  sim: 0.483871\tsim(only important): 0.777778\t\ttrue label: 0\n",
      "\u001b[31m  28919 |  sim: 0.468750\tsim(only important): 0.736842\t\ttrue label: 1  *\u001b[0m\n",
      "  20404 |  sim: 0.462687\tsim(only important): 0.75\t\ttrue label: 0\n",
      "  38950 |  sim: 0.461538\tsim(only important): 0.608696\t\ttrue label: 0\n",
      "   4885 |  sim: 0.461538\tsim(only important): 0.789474\t\ttrue label: 0\n",
      "   5747 |  sim: 0.439394\tsim(only important): 0.714286\t\ttrue label: 0\n",
      "  21081 |  sim: 0.430769\tsim(only important): 0.888889\t\ttrue label: 0\n",
      "  25811 |  sim: 0.405405\tsim(only important): 0.631579\t\ttrue label: 0\n",
      "  15684 |  sim: 0.394737\tsim(only important): 0.6\t\ttrue label: 0\n",
      "  38977 |  sim: 0.388889\tsim(only important): 0.652174\t\ttrue label: 0\n",
      "\n",
      "testing Molecule:  14437\n",
      "  25963 |  sim: 0.612903\tsim(only important): 0.777778\t\ttrue label: 0\n",
      "  40487 |  sim: 0.609375\tsim(only important): 0.842105\t\ttrue label: 0\n",
      "  37234 |  sim: 0.561404\tsim(only important): 0.65\t\ttrue label: 0\n",
      "\u001b[31m  14429 |  sim: 0.538462\tsim(only important): 0.833333\t\ttrue label: 1  *\u001b[0m\n",
      "\u001b[31m  28915 |  sim: 0.516129\tsim(only important): 0.722222\t\ttrue label: 1  *\u001b[0m\n",
      "   8527 |  sim: 0.507937\tsim(only important): 0.777778\t\ttrue label: 0\n",
      "\u001b[31m  14434 |  sim: 0.492958\tsim(only important): 0.666667\t\ttrue label: 1  *\u001b[0m\n",
      "  40491 |  sim: 0.478261\tsim(only important): 0.6\t\ttrue label: 0\n",
      "  22808 |  sim: 0.444444\tsim(only important): 0.631579\t\ttrue label: 0\n",
      "  40486 |  sim: 0.430769\tsim(only important): 0.6\t\ttrue label: 0\n",
      "  11519 |  sim: 0.430556\tsim(only important): 0.619048\t\ttrue label: 0\n",
      "\u001b[31m  14430 |  sim: 0.426471\tsim(only important): 0.6\t\ttrue label: 1  *\u001b[0m\n",
      "  23068 |  sim: 0.419355\tsim(only important): 0.6\t\ttrue label: 0\n",
      "  15084 |  sim: 0.403509\tsim(only important): 0.666667\t\ttrue label: 0\n",
      "  11518 |  sim: 0.400000\tsim(only important): 0.6\t\ttrue label: 0\n",
      "  23034 |  sim: 0.391304\tsim(only important): 0.6\t\ttrue label: 0\n",
      "   8721 |  sim: 0.386667\tsim(only important): 0.666667\t\ttrue label: 0\n",
      "  37508 |  sim: 0.385714\tsim(only important): 0.736842\t\ttrue label: 0\n",
      "  22981 |  sim: 0.384615\tsim(only important): 0.611111\t\ttrue label: 0\n",
      "   8528 |  sim: 0.371429\tsim(only important): 0.611111\t\ttrue label: 0\n",
      "\n",
      "testing Molecule:  14439\n",
      "  41266 |  sim: 0.612903\tsim(only important): 0.782609\t\ttrue label: 0\n",
      "  42395 |  sim: 0.589286\tsim(only important): 0.818182\t\ttrue label: 0\n",
      "  42394 |  sim: 0.551724\tsim(only important): 0.727273\t\ttrue label: 0\n",
      "  43146 |  sim: 0.546875\tsim(only important): 0.666667\t\ttrue label: 0\n",
      "  13490 |  sim: 0.542373\tsim(only important): 0.714286\t\ttrue label: 0\n",
      "\u001b[31m  43405 |  sim: 0.533333\tsim(only important): 0.652174\t\ttrue label: 1  *\u001b[0m\n",
      "\u001b[31m  43404 |  sim: 0.516667\tsim(only important): 0.761905\t\ttrue label: 1  *\u001b[0m\n",
      "  42393 |  sim: 0.500000\tsim(only important): 0.64\t\ttrue label: 0\n",
      "  19008 |  sim: 0.492063\tsim(only important): 0.608696\t\ttrue label: 0\n",
      "\u001b[31m  14436 |  sim: 0.476923\tsim(only important): 0.695652\t\ttrue label: 1  *\u001b[0m\n",
      "  13487 |  sim: 0.476190\tsim(only important): 0.6\t\ttrue label: 0\n",
      "\u001b[31m  14435 |  sim: 0.469697\tsim(only important): 0.666667\t\ttrue label: 1  *\u001b[0m\n",
      "  27188 |  sim: 0.466667\tsim(only important): 0.714286\t\ttrue label: 0\n",
      "  27966 |  sim: 0.465517\tsim(only important): 0.695652\t\ttrue label: 0\n",
      "  27967 |  sim: 0.462687\tsim(only important): 0.782609\t\ttrue label: 0\n",
      "  27383 |  sim: 0.455882\tsim(only important): 0.666667\t\ttrue label: 0\n",
      "  13488 |  sim: 0.454545\tsim(only important): 0.652174\t\ttrue label: 0\n",
      "  26806 |  sim: 0.430769\tsim(only important): 0.708333\t\ttrue label: 0\n",
      "  13489 |  sim: 0.415385\tsim(only important): 0.727273\t\ttrue label: 0\n",
      "  27381 |  sim: 0.408451\tsim(only important): 0.708333\t\ttrue label: 0\n",
      "\n"
     ]
    }
   ],
   "source": [
    "test_list = [14427, 14429, 14436, 14437, 14439]\n",
    "print_list(test_list, X_test, X_train, y_train, importance_index=importance_index)"
   ]
  }
 ],
 "metadata": {
  "kernelspec": {
   "display_name": "Python 2",
   "language": "python",
   "name": "python2"
  },
  "language_info": {
   "codemirror_mode": {
    "name": "ipython",
    "version": 2
   },
   "file_extension": ".py",
   "mimetype": "text/x-python",
   "name": "python",
   "nbconvert_exporter": "python",
   "pygments_lexer": "ipython2",
   "version": "2.7.13"
  }
 },
 "nbformat": 4,
 "nbformat_minor": 0
}
